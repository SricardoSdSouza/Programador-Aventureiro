{
 "cells": [
  {
   "cell_type": "code",
   "execution_count": 1,
   "id": "5870a1e1-09ff-437f-a829-977acd6b63fe",
   "metadata": {},
   "outputs": [],
   "source": [
    "# 1 Escreva um programa que pergunte a quantidade de Km percorridos por um carro alugado, a quantidade de dias pelos quais ele\n",
    "# foi alugado e se o cliente faz parte do programa de fidelidade da loja.Calcule o preço a pagar, sabendo que o carro custa \n",
    "# R$60,00 por dia e R$0,15 por km rodado par clientes não participantes do programa de fidelidade e R$ 58,00 a diária mais \n",
    "# R$0,05 por km rodado para clientes participantes do programa de fidelidade."
   ]
  },
  {
   "cell_type": "code",
   "execution_count": 38,
   "id": "07788012-2a29-4d27-8782-f10299159ea2",
   "metadata": {},
   "outputs": [
    {
     "name": "stdout",
     "output_type": "stream",
     "text": [
      "======================= EMPRESA ALUGA CARRO PARA QUALQUER UM LTDA ======================== \n",
      "\n"
     ]
    },
    {
     "name": "stdin",
     "output_type": "stream",
     "text": [
      "Informe com quantos km estava o odometro quando alugou o carro =  12345\n",
      "Informe com quantos km estava o odometro quando entregou o carro =  12925\n",
      "Informe quantos dias alugados:  9\n",
      "Você faz parte do programa de fidelidade? [S/N] S para sim e N para não:  n\n"
     ]
    },
    {
     "name": "stdout",
     "output_type": "stream",
     "text": [
      "Sua conta ficou em R$627.00\n",
      "--------------------------------------------------\n",
      "Obrigado volte sempre, teremos satisfação em tê-lo de volta!!!\n"
     ]
    }
   ],
   "source": [
    "print(' EMPRESA ALUGA CARRO PARA QUALQUER UM LTDA '.center(90,'='),'\\n')\n",
    "\n",
    "km_inicial = float(input('Informe com quantos km estava o odometro quando alugou o carro = '))\n",
    "km_final = float(input('Informe com quantos km estava o odometro quando entregou o carro = '))\n",
    "dias = int(input('Informe quantos dias alugados: '))\n",
    "km_rodado = km_final - km_inicial\n",
    "\n",
    "participante = input('Você faz parte do programa de fidelidade? [S/N] S para sim e N para não: ')\n",
    "\n",
    "if participante.upper().startswith('S') == \"S\":\n",
    "    total_pagar = (km_rodado * 0.05) + (dias * 58)\n",
    "    print(f'Sua conta ficou em R${total_pagar:.2f}')\n",
    "else:\n",
    "    total_pagar = (km_rodado * 0.15) + (dias * 60)\n",
    "    print(f'Sua conta ficou em R${total_pagar:.2f}')\n",
    "\n",
    "print('-'*70)\n",
    "print('Obrigado volte sempre, teremos satisfação em tê-lo de volta!!!')\n",
    "                     "
   ]
  },
  {
   "cell_type": "code",
   "execution_count": null,
   "id": "e53f1602-45eb-4811-8dd5-1bd1754317eb",
   "metadata": {},
   "outputs": [],
   "source": []
  },
  {
   "cell_type": "code",
   "execution_count": 8,
   "id": "235ecaa4-9c29-49d8-a33e-193c9f1457ba",
   "metadata": {},
   "outputs": [],
   "source": [
    "# 2 -Escreva um programa que leia a velocidade de um carro. Se ele ultrapassar 80km/h, mostre uma mensagem dizendo que ele foi\n",
    "# multado. A multa vai custar R$ 7,00 por cada km acima do limite e mais 10% caso a velocidade ultrapasse 120km/h."
   ]
  },
  {
   "cell_type": "code",
   "execution_count": 40,
   "id": "75eb0c28-aec9-41a1-80d7-aea80106c287",
   "metadata": {},
   "outputs": [
    {
     "name": "stdout",
     "output_type": "stream",
     "text": [
      "=================== SISTEMA DE FISCALIZAÇÃO DE VEÍCULOS =================== \n",
      "\n"
     ]
    },
    {
     "name": "stdin",
     "output_type": "stream",
     "text": [
      "Informe a velocidade do veículo em km/h =  121\n"
     ]
    },
    {
     "name": "stdout",
     "output_type": "stream",
     "text": [
      "ATENÇÃO!!! você fou multado em R$315.70 Reais\n"
     ]
    }
   ],
   "source": [
    "print(' SISTEMA DE FISCALIZAÇÃO DE VEÍCULOS '.center(75,'='),'\\n')\n",
    "vel = float(input('Informe a velocidade do veículo em km/h = '))\n",
    "if vel > 120:\n",
    "    print(f'ATENÇÃO!!! você foi multado em R${((vel - 80)* 7)*(1+10/100):.2f} Reais')\n",
    "elif vel >80:\n",
    "    print(f'ATENÇÃO!!! você foi multado em R${((vel - 80)* 7):.2f} Reais')\n",
    "else:\n",
    "    print('Parabéns!!! está respeitando as leis de trânsito boa viágem!!!!')"
   ]
  },
  {
   "cell_type": "code",
   "execution_count": 41,
   "id": "8773f799-90c1-4909-a609-72acb6376dae",
   "metadata": {},
   "outputs": [],
   "source": [
    "# outra forma de fazer o exercício anterior"
   ]
  },
  {
   "cell_type": "code",
   "execution_count": 46,
   "id": "cc202444-12c9-4f8d-a71f-13f342b2b331",
   "metadata": {},
   "outputs": [
    {
     "name": "stdin",
     "output_type": "stream",
     "text": [
      "Informe a velocidade do veículo em km/h =  134\n"
     ]
    },
    {
     "name": "stdout",
     "output_type": "stream",
     "text": [
      "Você foi multado em R$415.80\n"
     ]
    }
   ],
   "source": [
    "velocidade =  float(input('Informe a velocidade do veículo em km/h = '))\n",
    "if velocidade > 80:\n",
    "    multa = 7 * (velocidade - 80)\n",
    "    if velocidade > 120:\n",
    "        multa *= 1.10\n",
    "    print(f'Você foi multado em R${multa:.2f}')\n",
    "else:\n",
    "    print('Parabéns!!! está respeitando as leis de trânsito boa viajem!!!!')"
   ]
  },
  {
   "cell_type": "code",
   "execution_count": 17,
   "id": "5075c98e-3094-442b-ab01-28a8cade4cb4",
   "metadata": {},
   "outputs": [],
   "source": [
    "# 3 - Crie um programa que leia um número inteiro e mostre na tela se ele é PAR ou Ímpar"
   ]
  },
  {
   "cell_type": "code",
   "execution_count": 48,
   "id": "991e701f-354e-4a44-a262-ebc4641d9f70",
   "metadata": {},
   "outputs": [
    {
     "name": "stdout",
     "output_type": "stream",
     "text": [
      "=================Informar se o número é PAR ou Ímpar ================= \n",
      "\n"
     ]
    },
    {
     "name": "stdin",
     "output_type": "stream",
     "text": [
      "Digite um número inteiro :  11\n"
     ]
    },
    {
     "name": "stdout",
     "output_type": "stream",
     "text": [
      "O número 11 é Ímpar\n"
     ]
    }
   ],
   "source": [
    "print('Informar se o número é PAR ou Ímpar '.center(70,'='),'\\n')\n",
    "numero = int(input('Digite um número inteiro : '))\n",
    "if numero % 2 == 0:\n",
    "    print(f'O número {numero} é par')\n",
    "else:\n",
    "    print(f'O número {numero} é Ímpar')"
   ]
  },
  {
   "cell_type": "code",
   "execution_count": 22,
   "id": "6f7d4eb8-4ea4-470d-980d-ebb91b873b0b",
   "metadata": {},
   "outputs": [],
   "source": [
    "# 4 - Desenvolva um programa que pergunte a distância de uma viagem em Km. Calcule o preço da passagem, cobrando R$ 0,50 por\n",
    "# Km para viagens de até 200 km e R$ 0,45 para viagens mais longas."
   ]
  },
  {
   "cell_type": "code",
   "execution_count": 50,
   "id": "f3e986c3-69c5-4654-97b1-1ce099c965b4",
   "metadata": {},
   "outputs": [
    {
     "name": "stdout",
     "output_type": "stream",
     "text": [
      "============================= RODOVIÁRIA ============================= \n",
      "\n"
     ]
    },
    {
     "name": "stdin",
     "output_type": "stream",
     "text": [
      "Informe a distância que irá percorrer em km:  199.99\n"
     ]
    },
    {
     "name": "stdout",
     "output_type": "stream",
     "text": [
      "Sua passagem irá custar R$ 100.00 Reais\n",
      "Tenha um boa viagem!! :)\n"
     ]
    }
   ],
   "source": [
    "print(' RODOVIÁRIA '.center(70,'='),'\\n')\n",
    "distancia = float(input('Informe a distância que irá percorrer em km: '))\n",
    "if distancia <= 200 :\n",
    "    print(f'Sua passagem irá custar R$ {distancia*0.50:.2f} Reais')\n",
    "else:\n",
    "    print(f'Sua passagem irá custar R$ {distancia*0.45:.2f} Reais')\n",
    "\n",
    "print('Tenha um boa viagem!! :)')"
   ]
  },
  {
   "cell_type": "code",
   "execution_count": 5,
   "id": "9b09fda4-e3ef-4859-a9b7-9eca3b727bca",
   "metadata": {},
   "outputs": [],
   "source": [
    "# 5 - Faça um programa que leia um ano qualquer e mostre se ele é bissexto.\n",
    "# -> são bissextos todos os anos múltiplos de 400, p.ex 1600,200,2400,2800\n",
    "# -> são bissextos todos os múltiplos de 4,exceto se for múltiplo de  100 mas não de 400 p.ex 1996,2000,2004,2008,2012,2016...\n",
    "# -> Não são bissextos os demais anos."
   ]
  },
  {
   "cell_type": "code",
   "execution_count": 51,
   "id": "75233297-75b2-40fb-a347-53b7d81538bb",
   "metadata": {},
   "outputs": [
    {
     "name": "stdout",
     "output_type": "stream",
     "text": [
      "=============== QUER SABER SE O ANO É OU FOI BISSEXTO? ===============\n"
     ]
    },
    {
     "name": "stdin",
     "output_type": "stream",
     "text": [
      "Que ano quer analisar? digite zero para o ano atual :  2016\n"
     ]
    },
    {
     "name": "stdout",
     "output_type": "stream",
     "text": [
      "Este ano 2016 é Bissexto\n",
      "Digite outro ano para pesquisar !\n"
     ]
    }
   ],
   "source": [
    "from datetime import date\n",
    "print(' QUER SABER SE O ANO É OU FOI BISSEXTO? '.center(70,('=')))\n",
    "ano = int(input('Que ano quer analisar? digite zero para o ano atual : '))\n",
    "if ano == 0:\n",
    "    ano = date.today().year\n",
    "if ano % 4 == 0 and ano % 100 != 0 or ano % 400 == 0:\n",
    "    print(f'Este ano {ano} é Bissexto')\n",
    "else:\n",
    "    print(f'Este ano {ano} não é Bissexto')\n",
    "print('Digite outro ano para pesquisar !')"
   ]
  },
  {
   "cell_type": "code",
   "execution_count": null,
   "id": "9646b0fa-3c81-49d6-8538-3462f57d87b3",
   "metadata": {},
   "outputs": [],
   "source": [
    "# outra forma de fazer o exercício anterior"
   ]
  },
  {
   "cell_type": "code",
   "execution_count": 54,
   "id": "7a5585a8-84bd-44e9-b807-b88589d586c6",
   "metadata": {},
   "outputs": [
    {
     "name": "stdin",
     "output_type": "stream",
     "text": [
      "Que ano quer analisar? digite zero para o ano atual :  1600\n"
     ]
    },
    {
     "name": "stdout",
     "output_type": "stream",
     "text": [
      "O ano 1600 é bissexto!!\n"
     ]
    }
   ],
   "source": [
    "ano = int(input('Que ano quer analisar? digite zero para o ano atual : '))\n",
    "if ano %400 == 0:\n",
    "    print(f'O ano {ano} é bissexto!!')\n",
    "elif ano % 4 == 0 and ano % 100 != 0:\n",
    "    print(f'O ano {ano} é bissexto!!')\n",
    "else:\n",
    "    print(f'O ano {ano} não é bissexto!!')"
   ]
  },
  {
   "cell_type": "code",
   "execution_count": 28,
   "id": "8a872b9a-09e6-4a26-9e0d-32c1ee720bda",
   "metadata": {},
   "outputs": [],
   "source": [
    "# 6 - Desenvolva um programa que leia o comprimento de três retas e diga ao usuário se elas podem ou não formar um triângulo"
   ]
  },
  {
   "cell_type": "code",
   "execution_count": 56,
   "id": "5806c8df-c7c8-4dc9-930a-fc3d88b6ae11",
   "metadata": {},
   "outputs": [
    {
     "name": "stdout",
     "output_type": "stream",
     "text": [
      "===*======*======*======*======*===\n",
      "=====\u001b[1;34mAnalisador de Triângululos\u001b[m====\n",
      "===*======*======*======*======*===\n"
     ]
    },
    {
     "name": "stdin",
     "output_type": "stream",
     "text": [
      "Primeiro segmento de reta =  10\n",
      "Segundo segmento de reta =  2.5\n",
      "Terceiro segmento de reta =  3\n"
     ]
    },
    {
     "name": "stdout",
     "output_type": "stream",
     "text": [
      "Com os valores de segmento = 10.0, 2.5 e 3.0\u001b[1;36m não formam um triângulo\u001b[31m:(\u001b[m.\n"
     ]
    }
   ],
   "source": [
    "print('===*==='*5)\n",
    "print('\\033[1;34mAnalisador de Triângululos\\033[m'.center(45,'='))\n",
    "print('===*==='*5)\n",
    "reta1 = float(input('Primeiro segmento de reta = '))\n",
    "reta2 = float(input('Segundo segmento de reta = '))\n",
    "reta3 = float(input('Terceiro segmento de reta = '))\n",
    "if reta1 <reta2 + reta3 and reta2 < reta1 + reta3 and reta3 < reta1 + reta2:\n",
    "    print(f'Com os valores de {reta1},{reta2} e {reta3} formam um triângulo')\n",
    "else:\n",
    "    print(f'Com os valores de segmento = {reta1}, {reta2} e {reta3}\\033[1;36m não formam um triângulo\\033[31m:(\\033[m.')"
   ]
  },
  {
   "cell_type": "code",
   "execution_count": 39,
   "id": "214fd287-7752-4392-b0c5-09dc49376300",
   "metadata": {},
   "outputs": [],
   "source": [
    "# 7 - Escreva um programa para aprovar o empréstimo bancário para a compra de uma casa. Pergunte o valor da casa, o salário do\n",
    "#comprador e em quantos anos ele vai pagar.A prestação mensal não pode exceder 30% do salário ou então o empréstimo será negado"
   ]
  },
  {
   "cell_type": "code",
   "execution_count": 60,
   "id": "2a18de33-fbd2-4760-b0a7-68bb07addd0e",
   "metadata": {},
   "outputs": [
    {
     "name": "stdout",
     "output_type": "stream",
     "text": [
      "==*====*====*====*====*====*====*====*====*====*====*====*====*====*====*==\n",
      "PROGRAMA DE EMPRESTIMO FINANCEIRO PARA CASA PRÓPRIA\n",
      "==*====*====*====*====*====*====*====*====*====*====*====*====*====*====*==\n"
     ]
    },
    {
     "name": "stdin",
     "output_type": "stream",
     "text": [
      "Informe o valor da casa: R$  189000\n",
      "Iforme o salário do comprador R$  1700\n",
      "Quantos anos deseja o finaciamento?  30\n"
     ]
    },
    {
     "name": "stdout",
     "output_type": "stream",
     "text": [
      "Para pagar a casa que custa R$189000.0 em 30 anos a prestação será de R$ 525.00\n",
      "\u001b[1;35mPara o valor de 189000.0 o empréstim foi NEGADO :(\u001b[m \n"
     ]
    }
   ],
   "source": [
    "print('==*=='*15)\n",
    "print('PROGRAMA DE EMPRESTIMO FINANCEIRO PARA CASA PRÓPRIA'.center(50,'='))\n",
    "print('==*=='*15)\n",
    "casa = float(input('Informe o valor da casa: R$ '))\n",
    "salario = float(input('Iforme o salário do comprador R$ '))\n",
    "ano_financiamento = int(input('Quantos anos deseja o finaciamento? '))\n",
    "prestacao = casa/(ano_financiamento*12)\n",
    "minimo = salario *(30/100)\n",
    "print(f'Para pagar a casa que custa R${casa} em {ano_financiamento} anos a prestação será de R$ {prestacao:.2F}')\n",
    "if prestacao <= minimo:\n",
    "    print(f'\\033[1;34mO emprestimo para o valor de {casa} pode ser CONCEDIDO :)\\033[m ')\n",
    "else:\n",
    "    print(f'\\033[1;35mPara o valor de {casa} o empréstim foi NEGADO :(\\033[m ')"
   ]
  },
  {
   "cell_type": "code",
   "execution_count": 50,
   "id": "e39a8b22-6a4b-4df7-a576-b7c446965f8d",
   "metadata": {},
   "outputs": [],
   "source": [
    "# 8 - Escreva um programa que leia dois números inteiros e compare-os. mostrando na tela uma mensagem:\n",
    "# - o primeiro valor é maior\n",
    "# - o segundo valor é maior\n",
    "# - Não existe valor maior, os dois são iguais"
   ]
  },
  {
   "cell_type": "code",
   "execution_count": 63,
   "id": "eca882ee-e965-44ca-9616-0d80277eeeca",
   "metadata": {},
   "outputs": [
    {
     "name": "stdout",
     "output_type": "stream",
     "text": [
      "==================VER QUAL NÚMERO É MAIOR===================\n"
     ]
    },
    {
     "name": "stdin",
     "output_type": "stream",
     "text": [
      "Informe o 1º número :  5\n",
      "Informe o 2º número :  5\n"
     ]
    },
    {
     "name": "stdout",
     "output_type": "stream",
     "text": [
      "O primeiro valor foi 5 é o segundo valor foi 5 e são iguais!!!\n",
      "OBRIGADO VOLTE SEMPRE QUE TIVER DÚVIDAS DESTA NATUREZA!!!\n"
     ]
    }
   ],
   "source": [
    "print('VER QUAL NÚMERO É MAIOR'.center(60,'='))\n",
    "n1 = int(input('Informe o 1º número : '))\n",
    "n2 = int(input('Informe o 2º número : '))\n",
    "if n1 > n2:\n",
    "    print(f'O primeiro valor {n1} é maior que o segundo valor {n2}')\n",
    "elif n2 > n1:\n",
    "    print(f'O segundo valor {n2} é maior que o primeiro valor {n1}')\n",
    "else:\n",
    "    print(f'O primeiro valor foi {n1} é o segundo valor foi {n2} são iguais!!!')\n",
    "    \n",
    "print('OBRIGADO VOLTE SEMPRE QUE TIVER DÚVIDAS DESTA NATUREZA!!!')"
   ]
  },
  {
   "cell_type": "code",
   "execution_count": 9,
   "id": "b2a84dd8-ab37-45e2-8acc-b4af0cbec7b3",
   "metadata": {},
   "outputs": [],
   "source": [
    "# 9 - Faça um programa que leia o ano de nascimento de um jovem e informe, de acordo com sua idade, se ele ainda vai se alistar\n",
    "# ao serviço militar, se é a hora exata de se alistar ou se já passou do tempo de alistamento. Seu programa também decerá\n",
    "# mostrar o tempo que falta ou que passou do prazo."
   ]
  },
  {
   "cell_type": "code",
   "execution_count": 67,
   "id": "84532094-9e32-402d-86f1-bfb3c051badc",
   "metadata": {},
   "outputs": [
    {
     "name": "stdout",
     "output_type": "stream",
     "text": [
      "===============SERVIÇO DE ALISTAMENTO MILITAR===============\n",
      "=*==*==*==*==*==*==*==*==*==*==*==*=\n"
     ]
    },
    {
     "name": "stdin",
     "output_type": "stream",
     "text": [
      "Informe seu ano de nascimento:  2003\n"
     ]
    },
    {
     "name": "stdout",
     "output_type": "stream",
     "text": [
      "Você esta com 18 e na hora de se alistar\n",
      "Para saber mais entre em contato com o exército de sua cidade!!!\n"
     ]
    }
   ],
   "source": [
    "from datetime import date\n",
    "print('SERVIÇO DE ALISTAMENTO MILITAR'.center(60,'='))\n",
    "print('=*='*12)\n",
    "nascimento = int(input('Informe seu ano de nascimento: '))\n",
    "data = date.today().year\n",
    "idade = data - nascimento\n",
    "if idade < 18:\n",
    "    print(f'Você esta com {idade} e faltam {18-idade} anos para se alistar')\n",
    "elif idade > 18:\n",
    "    print(f'Você esta com {idade} e passaram {idade-18} anos que deria ter se alistado')\n",
    "else:\n",
    "    print(f'Você esta com {idade} e na hora de se alistar')\n",
    "\n",
    "print('Para saber mais entre em contato com o exército de sua cidade!!!')\n",
    "\n"
   ]
  },
  {
   "cell_type": "code",
   "execution_count": 25,
   "id": "219a031d-aedd-45f0-87b9-ab48c1adeccc",
   "metadata": {},
   "outputs": [],
   "source": [
    "# 10- Refaça o exercíco 6 dos triânguls, acrescentando o recurso de mostrar que tipo de triângulo que será formado a partir dos\n",
    "# segmentos informados pelo usuário:\n",
    "# EQUILÁTERO : totos os lados iguais\n",
    "# ISÓCELES: dois lados iguais, um diferente\n",
    "# ESCALENO : todos os lados diferentes"
   ]
  },
  {
   "cell_type": "code",
   "execution_count": 70,
   "id": "88ac8e0b-9c6e-4ab8-90e0-28593739d927",
   "metadata": {},
   "outputs": [
    {
     "name": "stdout",
     "output_type": "stream",
     "text": [
      "==#====#====#====#====#====#====#====#====#====#====#====#====#====#====#====#==\n",
      "=====IDENTIFICAR O TIPO DE TRIÂNGULO QUE SERA FEITO COM OS SEGMENTOS DADOS======\n",
      "==#====#====#====#====#====#====#====#====#====#====#====#====#====#====#====#==\n"
     ]
    },
    {
     "name": "stdin",
     "output_type": "stream",
     "text": [
      "Informe o 1º seguimento:  2.5\n",
      "Informe o 2º seguimento:  2.5\n",
      "Informe o 3º seguimento:  3\n"
     ]
    },
    {
     "name": "stdout",
     "output_type": "stream",
     "text": [
      "Os segmentos acima podem formar um triângulo!\n",
      "Triângulo Isósceles!\n",
      "Para saber mais vai estudar um pouco mais!! :)\n"
     ]
    }
   ],
   "source": [
    "print('==#=='*16)\n",
    "print('IDENTIFICAR O TIPO DE TRIÂNGULO QUE SERA FEITO COM OS SEGMENTOS DADOS'.center(80,'='))\n",
    "print('==#=='*16)\n",
    "seg1 = float(input('Informe o 1º seguimento: '))\n",
    "seg2 = float(input('Informe o 2º seguimento: '))\n",
    "seg3 = float(input('Informe o 3º seguimento: '))\n",
    "if seg1 < seg2+seg3 and seg2< seg1 + seg3 and seg3 < seg1 + seg2:\n",
    "    print('Os segmentos acima podem formar um triângulo!')\n",
    "    if seg1 == seg2 == seg3:\n",
    "          print('Triângulo Equilátero!!')\n",
    "    elif seg1 != seg2 != seg3 != seg1:\n",
    "          print('Triângulo Escaleno!')\n",
    "    else:\n",
    "          print('Triângulo Isósceles!')\n",
    "else:\n",
    "    print('Estes segmentos dados não formam um triângulo!!!')\n",
    "print('Para saber mais vai estudar um pouco mais!! :)')"
   ]
  },
  {
   "cell_type": "code",
   "execution_count": null,
   "id": "1ee377d4-b63d-4643-8bfd-db9bd7d9bc22",
   "metadata": {},
   "outputs": [],
   "source": []
  }
 ],
 "metadata": {
  "kernelspec": {
   "display_name": "Python 3",
   "language": "python",
   "name": "python3"
  },
  "language_info": {
   "codemirror_mode": {
    "name": "ipython",
    "version": 3
   },
   "file_extension": ".py",
   "mimetype": "text/x-python",
   "name": "python",
   "nbconvert_exporter": "python",
   "pygments_lexer": "ipython3",
   "version": "3.8.8"
  }
 },
 "nbformat": 4,
 "nbformat_minor": 5
}
