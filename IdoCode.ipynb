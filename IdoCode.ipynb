{
 "cells": [
  {
   "cell_type": "code",
   "execution_count": 2,
   "id": "62653236-4878-45bb-90d0-3b373a1a7122",
   "metadata": {},
   "outputs": [
    {
     "name": "stdin",
     "output_type": "stream",
     "text": [
      "Informe seu nome:  Ricardo\n"
     ]
    },
    {
     "name": "stdout",
     "output_type": "stream",
     "text": [
      "Ricardo\n",
      "903\n",
      "5.857142857142857\n"
     ]
    }
   ],
   "source": [
    "# peça seu nome\n",
    "nome = input('Informe seu nome: ')\n",
    "print(nome)\n",
    "# resolva a multiplicação 21*43\n",
    "print(21*43)\n",
    "# resolva a divisão 41 dividido por 7\n",
    "print(41/7)"
   ]
  },
  {
   "cell_type": "code",
   "execution_count": 12,
   "id": "3112aacc-44c9-4b58-8c52-808ea6304fdf",
   "metadata": {},
   "outputs": [
    {
     "name": "stdout",
     "output_type": "stream",
     "text": [
      "O custo da sua viágem ficará em R$ 7900 reais\n",
      "O custo da sua viágem ficará em $ 1522.16 Dolares\n"
     ]
    }
   ],
   "source": [
    "passagem = 1500\n",
    "custo_por_dia = 350\n",
    "dias = 14\n",
    "Dollar = 5.19\n",
    "custo_total = passagem * 2 + custo_por_dia * dias\n",
    "print(f'O custo da sua viágem ficará em R$ {custo_total} reais')\n",
    "print(f'O custo da sua viágem ficará em $ {custo_total/Dollar:.2f} Dolares')"
   ]
  },
  {
   "cell_type": "code",
   "execution_count": null,
   "id": "0ccb99a1-651d-411b-9091-ee5a2d7d6bc9",
   "metadata": {},
   "outputs": [],
   "source": []
  },
  {
   "cell_type": "code",
   "execution_count": null,
   "id": "bf165c94-2414-4a9b-8a6f-4b2414262e6f",
   "metadata": {},
   "outputs": [],
   "source": []
  },
  {
   "cell_type": "code",
   "execution_count": null,
   "id": "b866d847-b0ea-4f1b-9454-feaa9a1bfd48",
   "metadata": {},
   "outputs": [],
   "source": []
  },
  {
   "cell_type": "code",
   "execution_count": null,
   "id": "6746be33-0ce8-4733-873e-a61a74ef0f94",
   "metadata": {},
   "outputs": [],
   "source": []
  }
 ],
 "metadata": {
  "kernelspec": {
   "display_name": "Python 3",
   "language": "python",
   "name": "python3"
  },
  "language_info": {
   "codemirror_mode": {
    "name": "ipython",
    "version": 3
   },
   "file_extension": ".py",
   "mimetype": "text/x-python",
   "name": "python",
   "nbconvert_exporter": "python",
   "pygments_lexer": "ipython3",
   "version": "3.8.8"
  }
 },
 "nbformat": 4,
 "nbformat_minor": 5
}
