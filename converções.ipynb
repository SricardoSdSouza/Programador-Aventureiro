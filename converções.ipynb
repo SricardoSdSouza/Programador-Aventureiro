{
 "cells": [
  {
   "cell_type": "code",
   "execution_count": 1,
   "id": "0acdf471-116c-4a85-ba72-46c8fd8f0af2",
   "metadata": {},
   "outputs": [
    {
     "name": "stdout",
     "output_type": "stream",
     "text": [
      "linha1\\nlimnha2\n"
     ]
    }
   ],
   "source": [
    "print(r'linha1\\nlimnha2')"
   ]
  },
  {
   "cell_type": "code",
   "execution_count": null,
   "id": "52437457-357c-4931-9b97-38768542aaa2",
   "metadata": {},
   "outputs": [],
   "source": [
    "#convertendo valores\n",
    "int()#converte par inteiro"
   ]
  },
  {
   "cell_type": "code",
   "execution_count": 1,
   "id": "592b8651-182f-432d-82ef-1e1610025429",
   "metadata": {},
   "outputs": [],
   "source": [
    "numero = int('123')"
   ]
  },
  {
   "cell_type": "code",
   "execution_count": 2,
   "id": "4a17efe2-bf98-470f-8e67-6874edf72f91",
   "metadata": {},
   "outputs": [
    {
     "name": "stdout",
     "output_type": "stream",
     "text": [
      "123\n"
     ]
    }
   ],
   "source": [
    "print(numero)"
   ]
  },
  {
   "cell_type": "code",
   "execution_count": null,
   "id": "f055a9e2-6244-4c75-9eef-8586605ec93f",
   "metadata": {},
   "outputs": [],
   "source": [
    "#convertendo numeros flutuantes para int ele pega somente a parte inteira"
   ]
  },
  {
   "cell_type": "code",
   "execution_count": 3,
   "id": "74484c6d-f74d-4a3a-86a8-353e45b079d5",
   "metadata": {},
   "outputs": [],
   "source": [
    "num = int(129.8383848484844883)"
   ]
  },
  {
   "cell_type": "code",
   "execution_count": 4,
   "id": "9df3f8e5-9c77-498c-916d-3479eac1110d",
   "metadata": {},
   "outputs": [
    {
     "name": "stdout",
     "output_type": "stream",
     "text": [
      "129\n"
     ]
    }
   ],
   "source": [
    "print(num)"
   ]
  },
  {
   "cell_type": "code",
   "execution_count": 5,
   "id": "bf66031f-1e92-4c37-b3bf-fd0e67120085",
   "metadata": {},
   "outputs": [
    {
     "data": {
      "text/plain": [
       "104"
      ]
     },
     "execution_count": 5,
     "metadata": {},
     "output_type": "execute_result"
    }
   ],
   "source": [
    "int(float('104.87'))"
   ]
  },
  {
   "cell_type": "code",
   "execution_count": 6,
   "id": "10365060-a457-41fb-b9a9-1187db95ac02",
   "metadata": {},
   "outputs": [
    {
     "data": {
      "text/plain": [
       "500.0"
      ]
     },
     "execution_count": 6,
     "metadata": {},
     "output_type": "execute_result"
    }
   ],
   "source": [
    "#usando potencia de 10\n",
    "float(5e2)"
   ]
  },
  {
   "cell_type": "code",
   "execution_count": 7,
   "id": "a76290a1-527d-42d5-a4e4-3a45926c357c",
   "metadata": {},
   "outputs": [
    {
     "data": {
      "text/plain": [
       "10000.0"
      ]
     },
     "execution_count": 7,
     "metadata": {},
     "output_type": "execute_result"
    }
   ],
   "source": [
    "float('1e4')"
   ]
  },
  {
   "cell_type": "code",
   "execution_count": 8,
   "id": "d6c0cee8-3140-48c9-b4ac-76da1549caaf",
   "metadata": {},
   "outputs": [
    {
     "ename": "ValueError",
     "evalue": "invalid literal for int() with base 10: '1E4'",
     "output_type": "error",
     "traceback": [
      "\u001b[1;31m---------------------------------------------------------------------------\u001b[0m",
      "\u001b[1;31mValueError\u001b[0m                                Traceback (most recent call last)",
      "\u001b[1;32m<ipython-input-8-9287dd63ea5f>\u001b[0m in \u001b[0;36m<module>\u001b[1;34m\u001b[0m\n\u001b[1;32m----> 1\u001b[1;33m \u001b[0mint\u001b[0m\u001b[1;33m(\u001b[0m\u001b[1;34m'1E4'\u001b[0m\u001b[1;33m)\u001b[0m\u001b[1;33m\u001b[0m\u001b[1;33m\u001b[0m\u001b[0m\n\u001b[0m",
      "\u001b[1;31mValueError\u001b[0m: invalid literal for int() with base 10: '1E4'"
     ]
    }
   ],
   "source": [
    "int('1E4')"
   ]
  },
  {
   "cell_type": "code",
   "execution_count": 9,
   "id": "43e81f20-b2ac-406e-bf65-e6a728c8a1ac",
   "metadata": {},
   "outputs": [
    {
     "data": {
      "text/plain": [
       "True"
      ]
     },
     "execution_count": 9,
     "metadata": {},
     "output_type": "execute_result"
    }
   ],
   "source": [
    "str(300)==str('300')"
   ]
  },
  {
   "cell_type": "code",
   "execution_count": null,
   "id": "98f8bcf5-aeb0-4d44-b439-05c9a0c7719a",
   "metadata": {},
   "outputs": [],
   "source": []
  }
 ],
 "metadata": {
  "kernelspec": {
   "display_name": "Python 3",
   "language": "python",
   "name": "python3"
  },
  "language_info": {
   "codemirror_mode": {
    "name": "ipython",
    "version": 3
   },
   "file_extension": ".py",
   "mimetype": "text/x-python",
   "name": "python",
   "nbconvert_exporter": "python",
   "pygments_lexer": "ipython3",
   "version": "3.8.8"
  }
 },
 "nbformat": 4,
 "nbformat_minor": 5
}
