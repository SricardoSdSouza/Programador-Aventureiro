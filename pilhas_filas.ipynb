{
 "cells": [
  {
   "cell_type": "code",
   "execution_count": 1,
   "id": "64727b3d-f60e-4db4-8a01-f95fae882e93",
   "metadata": {},
   "outputs": [],
   "source": [
    "conjunto = {\"100\",False, \"1\",\"abcd\",(3+2j)}"
   ]
  },
  {
   "cell_type": "code",
   "execution_count": 2,
   "id": "cf4d0f29-e0c6-4502-9e56-88b7064bdf98",
   "metadata": {},
   "outputs": [],
   "source": [
    "conjunto.add(True)"
   ]
  },
  {
   "cell_type": "code",
   "execution_count": 3,
   "id": "1e5a1f37-7f5a-4800-8a51-db7cd7e69092",
   "metadata": {},
   "outputs": [
    {
     "data": {
      "text/plain": [
       "{(3+2j), '1', '100', False, True, 'abcd'}"
      ]
     },
     "execution_count": 3,
     "metadata": {},
     "output_type": "execute_result"
    }
   ],
   "source": [
    "conjunto"
   ]
  },
  {
   "cell_type": "code",
   "execution_count": 4,
   "id": "f1a014b6-a7cf-488b-a739-5449d3eac35f",
   "metadata": {},
   "outputs": [
    {
     "data": {
      "text/plain": [
       "{1, 2, 3, 4, 5, 6}"
      ]
     },
     "execution_count": 4,
     "metadata": {},
     "output_type": "execute_result"
    }
   ],
   "source": [
    "conj = {1,2,3}\n",
    "conj1 = {4,5,6}\n",
    "conj |conj1 - {\"2\",\"5\"}"
   ]
  },
  {
   "cell_type": "code",
   "execution_count": 5,
   "id": "6302bf47-bda9-401f-9887-09847125145c",
   "metadata": {},
   "outputs": [
    {
     "data": {
      "text/plain": [
       "{1, '1', 2, '2', 'b'}"
      ]
     },
     "execution_count": 5,
     "metadata": {},
     "output_type": "execute_result"
    }
   ],
   "source": [
    "{\"a\",\"b\",\"1\",\"2\"}.symmetric_difference({\"a\",1,2})"
   ]
  },
  {
   "cell_type": "code",
   "execution_count": 6,
   "id": "d75606b6-21d7-492d-bb90-420c638c0041",
   "metadata": {},
   "outputs": [
    {
     "data": {
      "text/plain": [
       "[1, 2, 3, 4]"
      ]
     },
     "execution_count": 6,
     "metadata": {},
     "output_type": "execute_result"
    }
   ],
   "source": [
    "# usa a metodologia LIFO (Last in, First out) para pilhas\n",
    "pilha = [1,2,3,4]\n",
    "pilha"
   ]
  },
  {
   "cell_type": "code",
   "execution_count": 7,
   "id": "e5336830-24b4-4716-bba9-22e11c834092",
   "metadata": {},
   "outputs": [
    {
     "data": {
      "text/plain": [
       "[1, 2, 3, 4, 5]"
      ]
     },
     "execution_count": 7,
     "metadata": {},
     "output_type": "execute_result"
    }
   ],
   "source": [
    "pilha.append(5)\n",
    "pilha"
   ]
  },
  {
   "cell_type": "code",
   "execution_count": 8,
   "id": "a41c304c-4460-482b-bcc2-c7351b444aac",
   "metadata": {},
   "outputs": [
    {
     "data": {
      "text/plain": [
       "[1, 2, 3, 4]"
      ]
     },
     "execution_count": 8,
     "metadata": {},
     "output_type": "execute_result"
    }
   ],
   "source": [
    "pilha.pop()\n",
    "pilha"
   ]
  },
  {
   "cell_type": "code",
   "execution_count": 3,
   "id": "4f913372-dfc6-42ff-be9d-06ae13faaa1b",
   "metadata": {},
   "outputs": [],
   "source": [
    "# para filas a metodologia FILO (First in, Last out)\n",
    "from collections import deque"
   ]
  },
  {
   "cell_type": "code",
   "execution_count": 4,
   "id": "16de7e3f-db24-4af2-9374-41c31891eb2a",
   "metadata": {},
   "outputs": [
    {
     "data": {
      "text/plain": [
       "deque(['curso', 'de'])"
      ]
     },
     "execution_count": 4,
     "metadata": {},
     "output_type": "execute_result"
    }
   ],
   "source": [
    "fila = deque(['curso','de'])\n",
    "fila"
   ]
  },
  {
   "cell_type": "code",
   "execution_count": 5,
   "id": "b0301ad4-0eff-4d68-96c2-fdf3f0b7deb1",
   "metadata": {},
   "outputs": [
    {
     "data": {
      "text/plain": [
       "deque(['curso', 'de', 'python'])"
      ]
     },
     "execution_count": 5,
     "metadata": {},
     "output_type": "execute_result"
    }
   ],
   "source": [
    "fila.append('python')\n",
    "fila"
   ]
  },
  {
   "cell_type": "code",
   "execution_count": 6,
   "id": "cf17b393-2d9e-43d6-874f-59c5515286de",
   "metadata": {},
   "outputs": [
    {
     "data": {
      "text/plain": [
       "deque(['de', 'python'])"
      ]
     },
     "execution_count": 6,
     "metadata": {},
     "output_type": "execute_result"
    }
   ],
   "source": [
    "fila.popleft()\n",
    "fila"
   ]
  },
  {
   "cell_type": "code",
   "execution_count": 7,
   "id": "6a52115b-7dc7-48ee-886d-3fbce3489643",
   "metadata": {},
   "outputs": [
    {
     "data": {
      "text/plain": [
       "deque(['python'])"
      ]
     },
     "execution_count": 7,
     "metadata": {},
     "output_type": "execute_result"
    }
   ],
   "source": [
    "fila.popleft()\n",
    "fila"
   ]
  },
  {
   "cell_type": "code",
   "execution_count": null,
   "id": "47a942e7-1a55-470c-912c-922e36781126",
   "metadata": {},
   "outputs": [],
   "source": []
  }
 ],
 "metadata": {
  "kernelspec": {
   "display_name": "Python 3",
   "language": "python",
   "name": "python3"
  },
  "language_info": {
   "codemirror_mode": {
    "name": "ipython",
    "version": 3
   },
   "file_extension": ".py",
   "mimetype": "text/x-python",
   "name": "python",
   "nbconvert_exporter": "python",
   "pygments_lexer": "ipython3",
   "version": "3.8.8"
  }
 },
 "nbformat": 4,
 "nbformat_minor": 5
}
