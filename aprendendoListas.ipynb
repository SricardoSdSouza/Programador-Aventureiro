{
 "cells": [
  {
   "cell_type": "code",
   "execution_count": 1,
   "id": "6b0138c9-26d6-44d1-b0f0-3eb571b65a39",
   "metadata": {},
   "outputs": [],
   "source": [
    "# manipulando listas"
   ]
  },
  {
   "cell_type": "code",
   "execution_count": 2,
   "id": "de209cec-6f37-4ba8-9209-b847398d35ed",
   "metadata": {},
   "outputs": [
    {
     "name": "stdout",
     "output_type": "stream",
     "text": [
      "[1, 2, 3, 'a', 'b', 'c']\n"
     ]
    }
   ],
   "source": [
    "lista = [1,2,3,'a','b','c']\n",
    "print(lista)"
   ]
  },
  {
   "cell_type": "code",
   "execution_count": 3,
   "id": "aef6255f-e621-4670-8579-c4a189a2b8e1",
   "metadata": {},
   "outputs": [],
   "source": [
    "#adicionando na lista"
   ]
  },
  {
   "cell_type": "code",
   "execution_count": 6,
   "id": "324a1341-e613-4dfd-b1de-e04f875fd2fb",
   "metadata": {},
   "outputs": [
    {
     "name": "stdout",
     "output_type": "stream",
     "text": [
      "[1, 2, 3, 'a', 'b', 'c', 4, 4, 4]\n"
     ]
    }
   ],
   "source": [
    "lista.append(4)\n",
    "print(lista)"
   ]
  },
  {
   "cell_type": "code",
   "execution_count": 7,
   "id": "5ad6d1f8-e598-4814-9e0d-c55d91dd0b91",
   "metadata": {},
   "outputs": [],
   "source": [
    "lista.append('Ricardo')"
   ]
  },
  {
   "cell_type": "code",
   "execution_count": 8,
   "id": "f0a75263-5f99-487c-9529-1cad31aa676e",
   "metadata": {},
   "outputs": [
    {
     "name": "stdout",
     "output_type": "stream",
     "text": [
      "[1, 2, 3, 'a', 'b', 'c', 4, 4, 4, 'Ricardo']\n"
     ]
    }
   ],
   "source": [
    "print(lista)"
   ]
  },
  {
   "cell_type": "code",
   "execution_count": 9,
   "id": "774afadb-e4cc-46c1-9324-82f3cd4adec1",
   "metadata": {},
   "outputs": [],
   "source": [
    "# usando o insert = diferença é que com insert pode ser colocado o valor em um local específico da lista, por exemplo tenho \n",
    "# uma lista com os seguintes dados [1,2,3,'a','b','c'] quer colocar o 4 na posição após o 3"
   ]
  },
  {
   "cell_type": "code",
   "execution_count": 10,
   "id": "9076bff3-78a2-4aba-a819-aa7242bea73f",
   "metadata": {},
   "outputs": [],
   "source": [
    "lista = [1,2,3,'a','b','c']"
   ]
  },
  {
   "cell_type": "code",
   "execution_count": 11,
   "id": "967dfe9e-a18f-4515-b459-c442eedbbb0b",
   "metadata": {},
   "outputs": [
    {
     "name": "stdout",
     "output_type": "stream",
     "text": [
      "[1, 2, 3, 'a', 'b', 'c']\n"
     ]
    }
   ],
   "source": [
    "print(lista)"
   ]
  },
  {
   "cell_type": "code",
   "execution_count": 12,
   "id": "576a828f-894b-4a80-adb2-2d3869fdbb1c",
   "metadata": {},
   "outputs": [],
   "source": [
    "lista.insert(3,4)"
   ]
  },
  {
   "cell_type": "code",
   "execution_count": 13,
   "id": "d35e543c-96c2-4930-aea1-2281885eb95b",
   "metadata": {},
   "outputs": [
    {
     "name": "stdout",
     "output_type": "stream",
     "text": [
      "[1, 2, 3, 4, 'a', 'b', 'c']\n"
     ]
    }
   ],
   "source": [
    "print(lista)"
   ]
  },
  {
   "cell_type": "code",
   "execution_count": 14,
   "id": "a16b0dc5-8eef-4b5a-9699-f986c15884e3",
   "metadata": {},
   "outputs": [],
   "source": [
    "# adicionando lista em uma outra lista"
   ]
  },
  {
   "cell_type": "code",
   "execution_count": 15,
   "id": "a52c3558-d33f-42be-b7d3-f6b97ce55c68",
   "metadata": {},
   "outputs": [
    {
     "data": {
      "text/plain": [
       "[1, 2, 3, 4, 5, 6]"
      ]
     },
     "execution_count": 15,
     "metadata": {},
     "output_type": "execute_result"
    }
   ],
   "source": [
    "lista1 = [1,2,3]\n",
    "lista2 = [4,5,6]\n",
    "lista1 + lista2"
   ]
  },
  {
   "cell_type": "code",
   "execution_count": 16,
   "id": "ee2d9be9-2f01-4dc4-925a-8e121523b622",
   "metadata": {},
   "outputs": [
    {
     "name": "stdout",
     "output_type": "stream",
     "text": [
      "[1, 2, 3]\n",
      "[4, 5, 6]\n"
     ]
    }
   ],
   "source": [
    "print(lista1)\n",
    "print(lista2)"
   ]
  },
  {
   "cell_type": "code",
   "execution_count": 17,
   "id": "c5ff4f28-5991-41f2-9b65-2e506776fd06",
   "metadata": {},
   "outputs": [],
   "source": [
    "# extende tb adiciona a lista"
   ]
  },
  {
   "cell_type": "code",
   "execution_count": 18,
   "id": "d5516a4d-523a-4f02-9e85-681eec307fb1",
   "metadata": {},
   "outputs": [],
   "source": [
    "lista1.extend(lista2)"
   ]
  },
  {
   "cell_type": "code",
   "execution_count": 19,
   "id": "bbd4142e-d689-4ab3-b431-ad940eeebdb8",
   "metadata": {},
   "outputs": [
    {
     "name": "stdout",
     "output_type": "stream",
     "text": [
      "[1, 2, 3, 4, 5, 6]\n"
     ]
    }
   ],
   "source": [
    "print(lista1)"
   ]
  },
  {
   "cell_type": "code",
   "execution_count": null,
   "id": "eb6f01f6-b6f5-433f-afcb-ce0047024ba7",
   "metadata": {},
   "outputs": [],
   "source": [
    "# Removendo em listas"
   ]
  },
  {
   "cell_type": "code",
   "execution_count": 1,
   "metadata": {},
   "outputs": [],
   "source": [
    "lista = [1,2,'a','b','python']"
   ]
  },
  {
   "cell_type": "code",
   "execution_count": 2,
   "metadata": {},
   "outputs": [
    {
     "output_type": "execute_result",
     "data": {
      "text/plain": [
       "1"
      ]
     },
     "metadata": {},
     "execution_count": 2
    }
   ],
   "source": [
    "# para buscar um valor na lista basta colocar o indice por ex o primeiro elemento é posição 0\n",
    "lista[0]"
   ]
  },
  {
   "cell_type": "code",
   "execution_count": 3,
   "metadata": {},
   "outputs": [],
   "source": [
    "# para colocar um outro valor na posição 0 por exemplo\n",
    "lista[0] = 10"
   ]
  },
  {
   "cell_type": "code",
   "execution_count": 4,
   "metadata": {},
   "outputs": [
    {
     "output_type": "execute_result",
     "data": {
      "text/plain": [
       "[10, 2, 'a', 'b', 'python']"
      ]
     },
     "metadata": {},
     "execution_count": 4
    }
   ],
   "source": [
    "lista"
   ]
  },
  {
   "cell_type": "code",
   "execution_count": 5,
   "metadata": {},
   "outputs": [],
   "source": [
    "lista = [1,2,'a','b','python']"
   ]
  },
  {
   "cell_type": "code",
   "execution_count": 6,
   "metadata": {},
   "outputs": [
    {
     "output_type": "execute_result",
     "data": {
      "text/plain": [
       "'python'"
      ]
     },
     "metadata": {},
     "execution_count": 6
    }
   ],
   "source": [
    "# para remover usa o .pop ele remove sempre o último elemento da lista\n",
    "lista.pop()"
   ]
  },
  {
   "cell_type": "code",
   "execution_count": 7,
   "metadata": {},
   "outputs": [
    {
     "output_type": "execute_result",
     "data": {
      "text/plain": [
       "[1, 2, 'a', 'b']"
      ]
     },
     "metadata": {},
     "execution_count": 7
    }
   ],
   "source": [
    "lista"
   ]
  },
  {
   "cell_type": "code",
   "execution_count": 8,
   "metadata": {},
   "outputs": [
    {
     "output_type": "execute_result",
     "data": {
      "text/plain": [
       "2"
      ]
     },
     "metadata": {},
     "execution_count": 8
    }
   ],
   "source": [
    "# para remover usando o .pop() podemos passar o parâmetro a ser removido\n",
    "lista.pop(1)"
   ]
  },
  {
   "cell_type": "code",
   "execution_count": 9,
   "metadata": {},
   "outputs": [
    {
     "output_type": "execute_result",
     "data": {
      "text/plain": [
       "[1, 'a', 'b']"
      ]
     },
     "metadata": {},
     "execution_count": 9
    }
   ],
   "source": [
    "lista"
   ]
  },
  {
   "cell_type": "code",
   "execution_count": 12,
   "metadata": {},
   "outputs": [],
   "source": [
    "lista = [1,2,'a','b','python']"
   ]
  },
  {
   "cell_type": "code",
   "execution_count": 13,
   "metadata": {},
   "outputs": [],
   "source": [
    "# usando o metodo .remove() ele busca o elemento e não a posição\n",
    "lista.remove('b')"
   ]
  },
  {
   "cell_type": "code",
   "execution_count": 14,
   "metadata": {},
   "outputs": [
    {
     "output_type": "execute_result",
     "data": {
      "text/plain": [
       "[1, 2, 'a', 'python']"
      ]
     },
     "metadata": {},
     "execution_count": 14
    }
   ],
   "source": [
    "lista"
   ]
  },
  {
   "cell_type": "code",
   "execution_count": 15,
   "metadata": {},
   "outputs": [
    {
     "output_type": "execute_result",
     "data": {
      "text/plain": [
       "[1, 2, 'a', 'python']"
      ]
     },
     "metadata": {},
     "execution_count": 15
    }
   ],
   "source": [
    "# o metodo clear limpa a lista totalmente\n",
    "lista"
   ]
  },
  {
   "cell_type": "code",
   "execution_count": 16,
   "metadata": {},
   "outputs": [],
   "source": [
    "lista.clear()"
   ]
  },
  {
   "cell_type": "code",
   "execution_count": 17,
   "metadata": {},
   "outputs": [
    {
     "output_type": "execute_result",
     "data": {
      "text/plain": [
       "[]"
      ]
     },
     "metadata": {},
     "execution_count": 17
    }
   ],
   "source": [
    "lista"
   ]
  },
  {
   "cell_type": "code",
   "execution_count": 18,
   "metadata": {},
   "outputs": [],
   "source": [
    "#Ordenando uma lista usando sort()\n",
    "inteiros = ['1','21','4','110','10']"
   ]
  },
  {
   "cell_type": "code",
   "execution_count": 19,
   "metadata": {},
   "outputs": [],
   "source": [
    "inteiros.sort()"
   ]
  },
  {
   "cell_type": "code",
   "execution_count": 20,
   "metadata": {},
   "outputs": [
    {
     "output_type": "execute_result",
     "data": {
      "text/plain": [
       "['1', '10', '110', '21', '4']"
      ]
     },
     "metadata": {},
     "execution_count": 20
    }
   ],
   "source": [
    "inteiros # ordenou em oredem lexografica por serem strings"
   ]
  },
  {
   "cell_type": "code",
   "execution_count": 23,
   "metadata": {},
   "outputs": [
    {
     "output_type": "stream",
     "name": "stdout",
     "text": [
      "['1', '4', '10', '21', '110']\n"
     ]
    }
   ],
   "source": [
    "# podemos passar um parâmetro e ordena-los como inteiros\n",
    "inteiros.sort(key=int)\n",
    "print(inteiros)"
   ]
  },
  {
   "cell_type": "code",
   "execution_count": 26,
   "metadata": {},
   "outputs": [
    {
     "output_type": "stream",
     "name": "stdout",
     "text": [
      "['110', '21', '10', '4', '1']\n"
     ]
    }
   ],
   "source": [
    "# podemos pedir em ordem decrescente\n",
    "inteiros.sort(key=int,reverse=True)\n",
    "print(inteiros)\n"
   ]
  },
  {
   "cell_type": "code",
   "execution_count": 27,
   "metadata": {},
   "outputs": [
    {
     "output_type": "execute_result",
     "data": {
      "text/plain": [
       "1"
      ]
     },
     "metadata": {},
     "execution_count": 27
    }
   ],
   "source": [
    "# contar quantas vezes aparece determinado elemento\n",
    "inteiros.count('10')"
   ]
  },
  {
   "cell_type": "code",
   "execution_count": 28,
   "metadata": {},
   "outputs": [
    {
     "output_type": "execute_result",
     "data": {
      "text/plain": [
       "3"
      ]
     },
     "metadata": {},
     "execution_count": 28
    }
   ],
   "source": [
    "numeros = ['110', '21', '10', '4', '1','110', '21', '10', '4', '1','110', '21', '10', '4', '1',1,1,1,1,2,2,2,2,34,4,4,4]\n",
    "numeros.count('10')"
   ]
  },
  {
   "cell_type": "code",
   "execution_count": 29,
   "metadata": {},
   "outputs": [
    {
     "output_type": "execute_result",
     "data": {
      "text/plain": [
       "4"
      ]
     },
     "metadata": {},
     "execution_count": 29
    }
   ],
   "source": [
    "numeros = ['110', '21', '10', '4', '1','110', '21', '10', '4', '1','110', '21', '10', '4', '1',1,1,1,1,2,2,2,2,34,4,4,4]\n",
    "numeros.count(2)"
   ]
  },
  {
   "cell_type": "code",
   "execution_count": 30,
   "metadata": {},
   "outputs": [],
   "source": [
    "lista = ['programador','aventureiro','curso','de','python',100,10,1,9,141]"
   ]
  },
  {
   "cell_type": "code",
   "execution_count": 31,
   "metadata": {},
   "outputs": [
    {
     "output_type": "execute_result",
     "data": {
      "text/plain": [
       "['programador', 'aventureiro', 'curso', 'de', 'python', 100, 10, 1, 9, 141]"
      ]
     },
     "metadata": {},
     "execution_count": 31
    }
   ],
   "source": [
    "lista"
   ]
  },
  {
   "cell_type": "code",
   "execution_count": 32,
   "metadata": {},
   "outputs": [
    {
     "output_type": "execute_result",
     "data": {
      "text/plain": [
       "2"
      ]
     },
     "metadata": {},
     "execution_count": 32
    }
   ],
   "source": [
    "# usando indice retorna a posição de determinado objeto dentro da lista\n",
    "lista.index('curso')"
   ]
  },
  {
   "cell_type": "code",
   "execution_count": 33,
   "metadata": {},
   "outputs": [
    {
     "output_type": "execute_result",
     "data": {
      "text/plain": [
       "'aventureiro'"
      ]
     },
     "metadata": {},
     "execution_count": 33
    }
   ],
   "source": [
    "# se fornecer o índice, retorna o objeto do índice\n",
    "lista[1]"
   ]
  },
  {
   "cell_type": "code",
   "execution_count": 34,
   "metadata": {},
   "outputs": [
    {
     "output_type": "execute_result",
     "data": {
      "text/plain": [
       "['curso', 'de', 'python']"
      ]
     },
     "metadata": {},
     "execution_count": 34
    }
   ],
   "source": [
    "# pegar mais de um objeto na lista\n",
    "lista[2:5]"
   ]
  },
  {
   "cell_type": "code",
   "execution_count": 35,
   "metadata": {},
   "outputs": [
    {
     "output_type": "execute_result",
     "data": {
      "text/plain": [
       "['curso', 'de', 'python']"
      ]
     },
     "metadata": {},
     "execution_count": 35
    }
   ],
   "source": [
    "# pegando mais de um objeto da lista usando index como parâmetro\n",
    "lista[2:5]"
   ]
  },
  {
   "cell_type": "code",
   "execution_count": 38,
   "metadata": {},
   "outputs": [
    {
     "output_type": "execute_result",
     "data": {
      "text/plain": [
       "['tech', 'curso', 'de']"
      ]
     },
     "metadata": {},
     "execution_count": 38
    }
   ],
   "source": [
    "#mas se for adcionado um objeto antes de curso ai o indice do curos não será mais 2 \n",
    "lista = ['programador', 'aventureiro','tech' , 'curso', 'de', 'python', 100, 10, 1, 9, 141]\n",
    "lista[2:5]\n"
   ]
  },
  {
   "cell_type": "code",
   "execution_count": 42,
   "metadata": {},
   "outputs": [
    {
     "output_type": "execute_result",
     "data": {
      "text/plain": [
       "['curso', 'de', 'python']"
      ]
     },
     "metadata": {},
     "execution_count": 42
    }
   ],
   "source": [
    "# passando index como parâmetro, quero que retorne curso de python\n",
    "lista[lista.index('curso'):lista.index('curso')+3]\n",
    "\n"
   ]
  },
  {
   "cell_type": "code",
   "execution_count": 44,
   "metadata": {},
   "outputs": [
    {
     "output_type": "execute_result",
     "data": {
      "text/plain": [
       "['curso', 'de', 'python']"
      ]
     },
     "metadata": {},
     "execution_count": 44
    }
   ],
   "source": [
    "# se alterar a lista ele continuará encontrando o parâmetro passado\n",
    "lista = ['programador',1,2,3,4,5,6,7,8,89, 'aventureiro','tech' , 'curso', 'de', 'python', 100, 10, 1, 9, 141]\n",
    "#lista[lista.index('curso'):lista.index('curso')+3]\n",
    "lista[lista.index('curso'):lista.index('python')+1]"
   ]
  },
  {
   "cell_type": "code",
   "execution_count": 45,
   "metadata": {},
   "outputs": [
    {
     "output_type": "error",
     "ename": "AttributeError",
     "evalue": "'str' object has no attribute 'insert'",
     "traceback": [
      "\u001b[1;31m---------------------------------------------------------------------------\u001b[0m",
      "\u001b[1;31mAttributeError\u001b[0m                            Traceback (most recent call last)",
      "\u001b[1;32m<ipython-input-45-83ab69ec68db>\u001b[0m in \u001b[0;36m<module>\u001b[1;34m\u001b[0m\n\u001b[0;32m      1\u001b[0m \u001b[0mlista\u001b[0m \u001b[1;33m=\u001b[0m \u001b[1;33m[\u001b[0m\u001b[1;33m(\u001b[0m\u001b[1;36m2\u001b[0m\u001b[1;33m+\u001b[0m\u001b[1;36m5j\u001b[0m\u001b[1;33m)\u001b[0m\u001b[1;33m,\u001b[0m\u001b[1;33m[\u001b[0m\u001b[1;36m1\u001b[0m\u001b[1;33m,\u001b[0m\u001b[1;36m2\u001b[0m\u001b[1;33m,\u001b[0m\u001b[1;36m3\u001b[0m\u001b[1;33m]\u001b[0m\u001b[1;33m,\u001b[0m\u001b[1;34m\"a\"\u001b[0m\u001b[1;33m,\u001b[0m\u001b[1;32mTrue\u001b[0m\u001b[1;33m]\u001b[0m\u001b[1;33m\u001b[0m\u001b[1;33m\u001b[0m\u001b[0m\n\u001b[1;32m----> 2\u001b[1;33m \u001b[0mlista\u001b[0m\u001b[1;33m.\u001b[0m\u001b[0mpop\u001b[0m\u001b[1;33m(\u001b[0m\u001b[1;36m2\u001b[0m\u001b[1;33m)\u001b[0m\u001b[1;33m.\u001b[0m\u001b[0minsert\u001b[0m\u001b[1;33m(\u001b[0m\u001b[1;36m3\u001b[0m\u001b[1;33m,\u001b[0m\u001b[1;36m100\u001b[0m\u001b[1;33m)\u001b[0m\u001b[1;33m\u001b[0m\u001b[1;33m\u001b[0m\u001b[0m\n\u001b[0m\u001b[0;32m      3\u001b[0m \u001b[0mprint\u001b[0m\u001b[1;33m(\u001b[0m\u001b[0mlista\u001b[0m\u001b[1;33m)\u001b[0m\u001b[1;33m\u001b[0m\u001b[1;33m\u001b[0m\u001b[0m\n",
      "\u001b[1;31mAttributeError\u001b[0m: 'str' object has no attribute 'insert'"
     ]
    }
   ],
   "source": [
    "lista = [(2+5j),[1,2,3],\"a\",True]\n",
    "lista.pop(2).insert(3,100)\n",
    "print(lista)"
   ]
  },
  {
   "cell_type": "code",
   "execution_count": null,
   "metadata": {},
   "outputs": [],
   "source": [
    "\n"
   ]
  }
 ],
 "metadata": {
  "kernelspec": {
   "name": "python3",
   "display_name": "Python 3.9.2 32-bit"
  },
  "language_info": {
   "codemirror_mode": {
    "name": "ipython",
    "version": 3
   },
   "file_extension": ".py",
   "mimetype": "text/x-python",
   "name": "python",
   "nbconvert_exporter": "python",
   "pygments_lexer": "ipython3",
   "version": "3.9.2"
  },
  "interpreter": {
   "hash": "da3460cc78f271554f6a3a681ed2a32fa895245a3c5b5da2eea0b0947e805e26"
  }
 },
 "nbformat": 4,
 "nbformat_minor": 5
}