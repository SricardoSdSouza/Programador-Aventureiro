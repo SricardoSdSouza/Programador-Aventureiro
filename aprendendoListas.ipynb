{
 "cells": [
  {
   "cell_type": "code",
   "execution_count": 1,
   "id": "6b0138c9-26d6-44d1-b0f0-3eb571b65a39",
   "metadata": {},
   "outputs": [],
   "source": [
    "# manipulando listas"
   ]
  },
  {
   "cell_type": "code",
   "execution_count": 2,
   "id": "de209cec-6f37-4ba8-9209-b847398d35ed",
   "metadata": {},
   "outputs": [
    {
     "name": "stdout",
     "output_type": "stream",
     "text": [
      "[1, 2, 3, 'a', 'b', 'c']\n"
     ]
    }
   ],
   "source": [
    "lista = [1,2,3,'a','b','c']\n",
    "print(lista)"
   ]
  },
  {
   "cell_type": "code",
   "execution_count": 3,
   "id": "aef6255f-e621-4670-8579-c4a189a2b8e1",
   "metadata": {},
   "outputs": [],
   "source": [
    "#adicionando na lista"
   ]
  },
  {
   "cell_type": "code",
   "execution_count": 6,
   "id": "324a1341-e613-4dfd-b1de-e04f875fd2fb",
   "metadata": {},
   "outputs": [
    {
     "name": "stdout",
     "output_type": "stream",
     "text": [
      "[1, 2, 3, 'a', 'b', 'c', 4, 4, 4]\n"
     ]
    }
   ],
   "source": [
    "lista.append(4)\n",
    "print(lista)"
   ]
  },
  {
   "cell_type": "code",
   "execution_count": 7,
   "id": "5ad6d1f8-e598-4814-9e0d-c55d91dd0b91",
   "metadata": {},
   "outputs": [],
   "source": [
    "lista.append('Ricardo')"
   ]
  },
  {
   "cell_type": "code",
   "execution_count": 8,
   "id": "f0a75263-5f99-487c-9529-1cad31aa676e",
   "metadata": {},
   "outputs": [
    {
     "name": "stdout",
     "output_type": "stream",
     "text": [
      "[1, 2, 3, 'a', 'b', 'c', 4, 4, 4, 'Ricardo']\n"
     ]
    }
   ],
   "source": [
    "print(lista)"
   ]
  },
  {
   "cell_type": "code",
   "execution_count": 9,
   "id": "774afadb-e4cc-46c1-9324-82f3cd4adec1",
   "metadata": {},
   "outputs": [],
   "source": [
    "# usando o insert = diferença é que com insert pode ser colocado o valor em um local específico da lista, por exemplo tenho \n",
    "# uma lista com os seguintes dados [1,2,3,'a','b','c'] quer colocar o 4 na posição após o 3"
   ]
  },
  {
   "cell_type": "code",
   "execution_count": 10,
   "id": "9076bff3-78a2-4aba-a819-aa7242bea73f",
   "metadata": {},
   "outputs": [],
   "source": [
    "lista = [1,2,3,'a','b','c']"
   ]
  },
  {
   "cell_type": "code",
   "execution_count": 11,
   "id": "967dfe9e-a18f-4515-b459-c442eedbbb0b",
   "metadata": {},
   "outputs": [
    {
     "name": "stdout",
     "output_type": "stream",
     "text": [
      "[1, 2, 3, 'a', 'b', 'c']\n"
     ]
    }
   ],
   "source": [
    "print(lista)"
   ]
  },
  {
   "cell_type": "code",
   "execution_count": 12,
   "id": "576a828f-894b-4a80-adb2-2d3869fdbb1c",
   "metadata": {},
   "outputs": [],
   "source": [
    "lista.insert(3,4)"
   ]
  },
  {
   "cell_type": "code",
   "execution_count": 13,
   "id": "d35e543c-96c2-4930-aea1-2281885eb95b",
   "metadata": {},
   "outputs": [
    {
     "name": "stdout",
     "output_type": "stream",
     "text": [
      "[1, 2, 3, 4, 'a', 'b', 'c']\n"
     ]
    }
   ],
   "source": [
    "print(lista)"
   ]
  },
  {
   "cell_type": "code",
   "execution_count": 14,
   "id": "a16b0dc5-8eef-4b5a-9699-f986c15884e3",
   "metadata": {},
   "outputs": [],
   "source": [
    "# adicionando lista em uma outra lista"
   ]
  },
  {
   "cell_type": "code",
   "execution_count": 15,
   "id": "a52c3558-d33f-42be-b7d3-f6b97ce55c68",
   "metadata": {},
   "outputs": [
    {
     "data": {
      "text/plain": [
       "[1, 2, 3, 4, 5, 6]"
      ]
     },
     "execution_count": 15,
     "metadata": {},
     "output_type": "execute_result"
    }
   ],
   "source": [
    "lista1 = [1,2,3]\n",
    "lista2 = [4,5,6]\n",
    "lista1 + lista2"
   ]
  },
  {
   "cell_type": "code",
   "execution_count": 16,
   "id": "ee2d9be9-2f01-4dc4-925a-8e121523b622",
   "metadata": {},
   "outputs": [
    {
     "name": "stdout",
     "output_type": "stream",
     "text": [
      "[1, 2, 3]\n",
      "[4, 5, 6]\n"
     ]
    }
   ],
   "source": [
    "print(lista1)\n",
    "print(lista2)"
   ]
  },
  {
   "cell_type": "code",
   "execution_count": 17,
   "id": "c5ff4f28-5991-41f2-9b65-2e506776fd06",
   "metadata": {},
   "outputs": [],
   "source": [
    "# extende tb adiciona a lista"
   ]
  },
  {
   "cell_type": "code",
   "execution_count": 18,
   "id": "d5516a4d-523a-4f02-9e85-681eec307fb1",
   "metadata": {},
   "outputs": [],
   "source": [
    "lista1.extend(lista2)"
   ]
  },
  {
   "cell_type": "code",
   "execution_count": 19,
   "id": "bbd4142e-d689-4ab3-b431-ad940eeebdb8",
   "metadata": {},
   "outputs": [
    {
     "name": "stdout",
     "output_type": "stream",
     "text": [
      "[1, 2, 3, 4, 5, 6]\n"
     ]
    }
   ],
   "source": [
    "print(lista1)"
   ]
  },
  {
   "cell_type": "code",
   "execution_count": null,
   "id": "eb6f01f6-b6f5-433f-afcb-ce0047024ba7",
   "metadata": {},
   "outputs": [],
   "source": [
    "# Removendo em listas"
   ]
  },
  {
   "cell_type": "code",
   "execution_count": 1,
   "metadata": {},
   "outputs": [],
   "source": [
    "lista = [1,2,'a','b','python']"
   ]
  },
  {
   "cell_type": "code",
   "execution_count": 2,
   "metadata": {},
   "outputs": [
    {
     "output_type": "execute_result",
     "data": {
      "text/plain": [
       "1"
      ]
     },
     "metadata": {},
     "execution_count": 2
    }
   ],
   "source": [
    "# para buscar um valor na lista basta colocar o indice por ex o primeiro elemento é posição 0\n",
    "lista[0]"
   ]
  },
  {
   "cell_type": "code",
   "execution_count": 3,
   "metadata": {},
   "outputs": [],
   "source": [
    "# para colocar um outro valor na posição 0 por exemplo\n",
    "lista[0] = 10"
   ]
  },
  {
   "cell_type": "code",
   "execution_count": 4,
   "metadata": {},
   "outputs": [
    {
     "output_type": "execute_result",
     "data": {
      "text/plain": [
       "[10, 2, 'a', 'b', 'python']"
      ]
     },
     "metadata": {},
     "execution_count": 4
    }
   ],
   "source": [
    "lista"
   ]
  },
  {
   "cell_type": "code",
   "execution_count": 5,
   "metadata": {},
   "outputs": [],
   "source": [
    "lista = [1,2,'a','b','python']"
   ]
  },
  {
   "cell_type": "code",
   "execution_count": 6,
   "metadata": {},
   "outputs": [
    {
     "output_type": "execute_result",
     "data": {
      "text/plain": [
       "'python'"
      ]
     },
     "metadata": {},
     "execution_count": 6
    }
   ],
   "source": [
    "# para remover usa o .pop ele remove sempre o último elemento da lista\n",
    "lista.pop()"
   ]
  },
  {
   "cell_type": "code",
   "execution_count": 7,
   "metadata": {},
   "outputs": [
    {
     "output_type": "execute_result",
     "data": {
      "text/plain": [
       "[1, 2, 'a', 'b']"
      ]
     },
     "metadata": {},
     "execution_count": 7
    }
   ],
   "source": [
    "lista"
   ]
  },
  {
   "cell_type": "code",
   "execution_count": 8,
   "metadata": {},
   "outputs": [
    {
     "output_type": "execute_result",
     "data": {
      "text/plain": [
       "2"
      ]
     },
     "metadata": {},
     "execution_count": 8
    }
   ],
   "source": [
    "# para remover usando o .pop() podemos passar o parâmetro a ser removido\n",
    "lista.pop(1)"
   ]
  },
  {
   "cell_type": "code",
   "execution_count": 9,
   "metadata": {},
   "outputs": [
    {
     "output_type": "execute_result",
     "data": {
      "text/plain": [
       "[1, 'a', 'b']"
      ]
     },
     "metadata": {},
     "execution_count": 9
    }
   ],
   "source": [
    "lista"
   ]
  },
  {
   "cell_type": "code",
   "execution_count": 12,
   "metadata": {},
   "outputs": [],
   "source": [
    "lista = [1,2,'a','b','python']"
   ]
  },
  {
   "cell_type": "code",
   "execution_count": 13,
   "metadata": {},
   "outputs": [],
   "source": [
    "# usando o metodo .remove() ele busca o elemento e não a posição\n",
    "lista.remove('b')"
   ]
  },
  {
   "cell_type": "code",
   "execution_count": 14,
   "metadata": {},
   "outputs": [
    {
     "output_type": "execute_result",
     "data": {
      "text/plain": [
       "[1, 2, 'a', 'python']"
      ]
     },
     "metadata": {},
     "execution_count": 14
    }
   ],
   "source": [
    "lista"
   ]
  },
  {
   "cell_type": "code",
   "execution_count": 15,
   "metadata": {},
   "outputs": [
    {
     "output_type": "execute_result",
     "data": {
      "text/plain": [
       "[1, 2, 'a', 'python']"
      ]
     },
     "metadata": {},
     "execution_count": 15
    }
   ],
   "source": [
    "# o metodo clear limpa a lista totalmente\n",
    "lista"
   ]
  },
  {
   "cell_type": "code",
   "execution_count": 16,
   "metadata": {},
   "outputs": [],
   "source": [
    "lista.clear()"
   ]
  },
  {
   "cell_type": "code",
   "execution_count": 17,
   "metadata": {},
   "outputs": [
    {
     "output_type": "execute_result",
     "data": {
      "text/plain": [
       "[]"
      ]
     },
     "metadata": {},
     "execution_count": 17
    }
   ],
   "source": [
    "lista"
   ]
  },
  {
   "cell_type": "code",
   "execution_count": null,
   "metadata": {},
   "outputs": [],
   "source": []
  }
 ],
 "metadata": {
  "kernelspec": {
   "name": "python3",
   "display_name": "Python 3.9.2 32-bit"
  },
  "language_info": {
   "codemirror_mode": {
    "name": "ipython",
    "version": 3
   },
   "file_extension": ".py",
   "mimetype": "text/x-python",
   "name": "python",
   "nbconvert_exporter": "python",
   "pygments_lexer": "ipython3",
   "version": "3.9.2"
  },
  "interpreter": {
   "hash": "da3460cc78f271554f6a3a681ed2a32fa895245a3c5b5da2eea0b0947e805e26"
  }
 },
 "nbformat": 4,
 "nbformat_minor": 5
}