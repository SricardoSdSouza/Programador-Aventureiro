{
 "cells": [
  {
   "cell_type": "code",
   "execution_count": 2,
   "id": "68563339-e73d-478b-a56a-ba220cbe1cb9",
   "metadata": {},
   "outputs": [
    {
     "name": "stdin",
     "output_type": "stream",
     "text": [
      " teste\n"
     ]
    },
    {
     "data": {
      "text/plain": [
       "'teste'"
      ]
     },
     "execution_count": 2,
     "metadata": {},
     "output_type": "execute_result"
    }
   ],
   "source": [
    "input()"
   ]
  },
  {
   "cell_type": "code",
   "execution_count": 3,
   "id": "a6ab1b56-ec98-46f6-a596-b61ac5882a1d",
   "metadata": {},
   "outputs": [
    {
     "name": "stdin",
     "output_type": "stream",
     "text": [
      "Qual a sua idade =  56\n"
     ]
    },
    {
     "data": {
      "text/plain": [
       "'56'"
      ]
     },
     "execution_count": 3,
     "metadata": {},
     "output_type": "execute_result"
    }
   ],
   "source": [
    "input('Qual a sua idade = ')"
   ]
  },
  {
   "cell_type": "code",
   "execution_count": 42,
   "id": "91f6a6b0-936d-48c7-85b4-bd42d546413a",
   "metadata": {},
   "outputs": [
    {
     "name": "stdin",
     "output_type": "stream",
     "text": [
      "Informar o seu peso em Kg:  99\n"
     ]
    }
   ],
   "source": [
    "peso = float(input('Informar o seu peso em Kg: '))"
   ]
  },
  {
   "cell_type": "code",
   "execution_count": 43,
   "id": "8fcf6b42-a585-4b6d-b144-1ef9efa12221",
   "metadata": {},
   "outputs": [
    {
     "name": "stdin",
     "output_type": "stream",
     "text": [
      "Informe sua altura em metros:  1.77\n"
     ]
    }
   ],
   "source": [
    "altura = float(input('Informe sua altura em metros: '))"
   ]
  },
  {
   "cell_type": "code",
   "execution_count": 44,
   "id": "93f5dea1-f9eb-4d46-b666-df20e094e58f",
   "metadata": {},
   "outputs": [],
   "source": [
    "imc = peso/altura**2"
   ]
  },
  {
   "cell_type": "code",
   "execution_count": 45,
   "id": "73ee5559-a406-46eb-815f-2eb8019908c0",
   "metadata": {},
   "outputs": [
    {
     "name": "stdout",
     "output_type": "stream",
     "text": [
      "Você com este IMC 31.600 está \"Obesidade grau I\"\n"
     ]
    }
   ],
   "source": [
    "if imc <18.5:\n",
    "    print(f'Você com este IMC {imc:.3f} está \"Abaixo do Peso!!\"')\n",
    "elif imc <24.9:\n",
    "    print(f'Você com este IMC {imc:.3f} está \"No Peso Ideal, show!!\"')\n",
    "elif imc < 29.9:\n",
    "    print(f'Você com este IMC {imc:.3f} está \"Levemente acima do Peso!!\"')\n",
    "elif imc < 34.9:\n",
    "    print(f'Você com este IMC {imc:.3f} está \"Obesidade grau I\"')\n",
    "elif imc < 39.9:\n",
    "    print(f'Você com este IMC {imc:.3f} está \"Obesidade grau II(severa)\"')\n",
    "else:\n",
    "    print(f'Você com este IMC {imc:.3f} está \"Obesidade III(mórbida)\"')"
   ]
  },
  {
   "cell_type": "code",
   "execution_count": 14,
   "id": "a47d0536-c836-43dd-804e-e6e7786c1ba5",
   "metadata": {},
   "outputs": [],
   "source": []
  },
  {
   "cell_type": "code",
   "execution_count": null,
   "id": "3fdff338-6b6f-470e-83ab-90d121317f91",
   "metadata": {},
   "outputs": [],
   "source": []
  }
 ],
 "metadata": {
  "kernelspec": {
   "display_name": "Python 3",
   "language": "python",
   "name": "python3"
  },
  "language_info": {
   "codemirror_mode": {
    "name": "ipython",
    "version": 3
   },
   "file_extension": ".py",
   "mimetype": "text/x-python",
   "name": "python",
   "nbconvert_exporter": "python",
   "pygments_lexer": "ipython3",
   "version": "3.8.8"
  }
 },
 "nbformat": 4,
 "nbformat_minor": 5
}
