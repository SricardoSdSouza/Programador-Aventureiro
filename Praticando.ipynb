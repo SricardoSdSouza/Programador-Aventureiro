{
 "cells": [
  {
   "cell_type": "code",
   "execution_count": 1,
   "id": "4c2ea052-81c4-4424-943d-43cb63b4ab0f",
   "metadata": {},
   "outputs": [],
   "source": [
    "# 1- Faça um Programa que mostre a mensagem \"Alo Mundo!\" na tela"
   ]
  },
  {
   "cell_type": "code",
   "execution_count": 2,
   "id": "58f5c3a4-55c4-4987-861f-430f2f97ecbe",
   "metadata": {},
   "outputs": [
    {
     "name": "stdout",
     "output_type": "stream",
     "text": [
      "Ola Mundo!!\n"
     ]
    }
   ],
   "source": [
    "print('Ola Mundo!!')"
   ]
  },
  {
   "cell_type": "code",
   "execution_count": 3,
   "id": "d0b182d1-2042-4342-be62-0e371e909247",
   "metadata": {},
   "outputs": [],
   "source": [
    "# 2 - Faça um Programa que peça um número e então mostre a mensagem O número informado foi [número]"
   ]
  },
  {
   "cell_type": "code",
   "execution_count": 5,
   "id": "8a1b64cd-c955-4f4a-b885-8efe9d7ef627",
   "metadata": {},
   "outputs": [
    {
     "name": "stdin",
     "output_type": "stream",
     "text": [
      "Informe um número por favor =  10.454\n"
     ]
    },
    {
     "name": "stdout",
     "output_type": "stream",
     "text": [
      "O número informado foi o 10.454\n"
     ]
    }
   ],
   "source": [
    "n = float(input('Informe um número por favor = '))\n",
    "print(f'O número informado foi o {n}')"
   ]
  },
  {
   "cell_type": "code",
   "execution_count": 6,
   "id": "d2102939-b780-4a76-bc08-61ca54c09b3e",
   "metadata": {},
   "outputs": [],
   "source": [
    "# 3 - Faça um Programa que peça dois números e imprima a soma."
   ]
  },
  {
   "cell_type": "code",
   "execution_count": 8,
   "id": "c5946d39-a496-4e1d-ada7-96aaeb5f29de",
   "metadata": {},
   "outputs": [
    {
     "name": "stdin",
     "output_type": "stream",
     "text": [
      "Por favor digite o 1º número:  5\n",
      "Por favor digite o 2º número 6\n"
     ]
    },
    {
     "name": "stdout",
     "output_type": "stream",
     "text": [
      "A soma de 5.0 + 6.0 é = 11.0\n"
     ]
    }
   ],
   "source": [
    "n1 = float(input('Por favor digite o 1º número: '))\n",
    "n2 = float(input('Por favor digite o 2º número'))\n",
    "print(f'A soma de {n1} + {n2} é = {n1+n2}')"
   ]
  },
  {
   "cell_type": "code",
   "execution_count": 9,
   "id": "85ea4c48-b75b-4ea9-9651-2630327da1f8",
   "metadata": {},
   "outputs": [],
   "source": [
    "# 4 - Faça um programa que peça as 4 notas bimestrais e mostre a média."
   ]
  },
  {
   "cell_type": "code",
   "execution_count": 16,
   "id": "dde8797b-0d02-4055-9da9-9a13f1c72d33",
   "metadata": {},
   "outputs": [
    {
     "name": "stdin",
     "output_type": "stream",
     "text": [
      "Informe a sua 1º nota do bimestre:  9\n",
      "Informe a sua 2º nota do bimestre:  9\n",
      "Informe a sua 3º nota do bimestre:  9\n",
      "Informe a sua 4º nota do bimestre:  9\n"
     ]
    },
    {
     "name": "stdout",
     "output_type": "stream",
     "text": [
      "A média das notas do bimestre é = 9.0, Parabéns está acima média\n"
     ]
    }
   ],
   "source": [
    "nota_1 = float(input('Informe a sua 1º nota do bimestre: '))\n",
    "nota_2 = float(input('Informe a sua 2º nota do bimestre: '))\n",
    "nota_3 = float(input('Informe a sua 3º nota do bimestre: '))\n",
    "nota_4 = float(input('Informe a sua 4º nota do bimestre: '))\n",
    "media = (nota_1+nota_2+nota_3+nota_4)/4\n",
    "if media < 5:\n",
    "    print(f'A média das notas do bimestre é = {media}, perdeu média')\n",
    "elif media < 7:\n",
    "    print(f'A média das notas do bimestre é = {media}, esta na média')\n",
    "else:\n",
    "    print(f'A média das notas do bimestre é = {media}, Parabéns está acima média')"
   ]
  },
  {
   "cell_type": "code",
   "execution_count": 17,
   "id": "6fa7c5db-9df2-4c7e-b49b-9d099ee86e4b",
   "metadata": {},
   "outputs": [],
   "source": [
    "# 5 - Faça um programa que converta metros em centímetros"
   ]
  },
  {
   "cell_type": "code",
   "execution_count": 21,
   "id": "5bb91d24-5dbf-4900-95ac-1b8d97d7b2ce",
   "metadata": {},
   "outputs": [
    {
     "name": "stdout",
     "output_type": "stream",
     "text": [
      "Vamos fazer convesão de \"m\" em \"cm\"\n"
     ]
    },
    {
     "name": "stdin",
     "output_type": "stream",
     "text": [
      "Informe uma medida em metros =  1.7\n"
     ]
    },
    {
     "name": "stdout",
     "output_type": "stream",
     "text": [
      "A media de 1.7m é igual a 170.0cm\n"
     ]
    }
   ],
   "source": [
    "print('Vamos fazer convesão de \"m\" em \"cm\"')\n",
    "numero = float(input('Informe uma medida em metros = '))\n",
    "print(f'A media de {numero}m é igual a {numero * 100}cm')"
   ]
  },
  {
   "cell_type": "code",
   "execution_count": 22,
   "id": "f6f89450-09d6-4cf4-b92e-212b93f26238",
   "metadata": {},
   "outputs": [],
   "source": [
    "# 6 - Faça um programa que peça o raio de um círculo, calcule e mostre sua área"
   ]
  },
  {
   "cell_type": "code",
   "execution_count": 27,
   "id": "440706a2-ba58-455f-923a-0f79807776ed",
   "metadata": {},
   "outputs": [
    {
     "name": "stdout",
     "output_type": "stream",
     "text": [
      "Vamos calcular a área de um círculo\n"
     ]
    },
    {
     "name": "stdin",
     "output_type": "stream",
     "text": [
      "Digite o raio da circunferência:  6\n"
     ]
    },
    {
     "name": "stdout",
     "output_type": "stream",
     "text": [
      "A área da circunferência de raio 6.0 é = 113.09724\n"
     ]
    }
   ],
   "source": [
    "print('Vamos calcular a área de um círculo')\n",
    "raio = float(input('Digite o raio da circunferência: '))\n",
    "pi = 3.14159\n",
    "print(f'A área da circunferência de raio {raio} é = {pi*(raio**2)}')"
   ]
  },
  {
   "cell_type": "code",
   "execution_count": 28,
   "id": "1bd909e4-18b7-416f-a12b-d91fa61034fe",
   "metadata": {},
   "outputs": [],
   "source": [
    "# 7 - Faça um programa que calcule a área de um quadrado, em seguida mostre o dobro desta área para o usuário"
   ]
  },
  {
   "cell_type": "code",
   "execution_count": 31,
   "id": "b6c337a0-ee61-4be0-830c-745f9b4cf5b9",
   "metadata": {},
   "outputs": [
    {
     "name": "stdout",
     "output_type": "stream",
     "text": [
      "Vamos calcular a área de um quadrado\n"
     ]
    },
    {
     "name": "stdin",
     "output_type": "stream",
     "text": [
      "Digite o valor do lado do quadrado:  8\n"
     ]
    },
    {
     "name": "stdout",
     "output_type": "stream",
     "text": [
      "A área do quadrado de lado 8.0 é 64.0 e seu dobro é = 128.0\n"
     ]
    }
   ],
   "source": [
    "print('Vamos calcular a área de um quadrado')\n",
    "lado = float(input('Digite o valor do lado do quadrado: '))\n",
    "area = lado*lado\n",
    "print(f'A área do quadrado de lado {lado} é {area} e seu dobro é = {area*2}')"
   ]
  },
  {
   "cell_type": "code",
   "execution_count": 32,
   "id": "a26d9825-f6df-412e-ade4-8c39fa0bcb0b",
   "metadata": {},
   "outputs": [],
   "source": [
    "# 8 - Faça um programa que pergunte quanto você ganha por hora e o número de horas trabalhadas no mês. Calcule e mostre o\n",
    "# total do seu salário no referido mês."
   ]
  },
  {
   "cell_type": "code",
   "execution_count": 36,
   "id": "3793956c-acdc-4701-a256-bc7f54fe3009",
   "metadata": {},
   "outputs": [
    {
     "name": "stdout",
     "output_type": "stream",
     "text": [
      "Podemos calcular quando vc ganha por mês - vamos as contas!!\n"
     ]
    },
    {
     "name": "stdin",
     "output_type": "stream",
     "text": [
      "Informe o valor de sua hora trabalhada =  18.75\n",
      "Informe o mês maio\n",
      "Informe quantas horas trabalhou no mê de maio =   160\n"
     ]
    },
    {
     "name": "stdout",
     "output_type": "stream",
     "text": [
      "O salario do mês de maio foi R$3000.0\n"
     ]
    }
   ],
   "source": [
    "print('Podemos calcular quando vc ganha por mês - vamos as contas!!')\n",
    "sal_hora = float(input('Informe o valor de sua hora trabalhada = '))\n",
    "mes = input('Informe o mês')\n",
    "hora_mes = float(input(f'Informe quantas horas trabalhou no mê de {mes}hs =  '))\n",
    "print(f'O salario do mês de {mes} foi R${(sal_hora*hora_mes)}')"
   ]
  },
  {
   "cell_type": "code",
   "execution_count": 37,
   "id": "d322632a-b352-4384-9a41-760d3baab83b",
   "metadata": {},
   "outputs": [],
   "source": [
    "# 9 - Faça um programa que peça a temperatura em graus Fahrenheit, transforme e mostre a temperatura em graus Celsius.\n",
    "# C = 5 * ((F-32)/9)"
   ]
  },
  {
   "cell_type": "code",
   "execution_count": 49,
   "id": "309941cd-df5a-4d83-a62c-3cd44c8cd364",
   "metadata": {},
   "outputs": [
    {
     "name": "stdout",
     "output_type": "stream",
     "text": [
      "Vamos converter a temperatura de Fahrenheit para Cálsius\n"
     ]
    },
    {
     "name": "stdin",
     "output_type": "stream",
     "text": [
      "Informe a temperatura em Fahrenheit a ser convertida =  95\n"
     ]
    },
    {
     "name": "stdout",
     "output_type": "stream",
     "text": [
      "A temperatura 95.0° fahrenheit é 35.00°C\n"
     ]
    }
   ],
   "source": [
    "print('Vamos converter a temperatura de Fahrenheit para Cálsius')\n",
    "temp = float(input('Informe a temperatura em Fahrenheit a ser convertida = '))\n",
    "print(f'A temperatura {temp}° fahrenheit é {5*((temp-32)/9):.2f}°C')"
   ]
  },
  {
   "cell_type": "code",
   "execution_count": 46,
   "id": "d99314f0-a503-4dd8-ba1b-9895fe606711",
   "metadata": {},
   "outputs": [],
   "source": [
    "# 10 - Faça um programa que peça a temperatura em graus Celsius, transforme e mostre em graus Fahrenheit.\n",
    "# (C * 9/5)+32 = F"
   ]
  },
  {
   "cell_type": "code",
   "execution_count": 48,
   "id": "920aab98-dab3-47ef-88e0-82a7de0b3808",
   "metadata": {},
   "outputs": [
    {
     "name": "stdin",
     "output_type": "stream",
     "text": [
      "Informe a temperatura em °C =  35\n"
     ]
    },
    {
     "name": "stdout",
     "output_type": "stream",
     "text": [
      "A temperatura de 35.0° célsius e = 95.0° em Fahenheit\n"
     ]
    }
   ],
   "source": [
    "temp_c = float(input('Informe a temperatura em °C = '))\n",
    "print(f'A temperatura de {temp_c}° célsius e = {(temp_c *9/5)+32}° em Fahenheit')"
   ]
  },
  {
   "cell_type": "code",
   "execution_count": 50,
   "id": "cbf22717-4b52-4fa8-8c9d-5305f58ae3f6",
   "metadata": {},
   "outputs": [],
   "source": [
    "# 11 - Faça um programa que peça 2 numeros inteiros e um número real. Calcule e mostre:\n",
    "# - O produto do dobro do primeiro com a metade do segundo\n",
    "# - A soma do triplo do primeiro com o terceiro\n",
    "# - O terceiro elevado ao cubo."
   ]
  },
  {
   "cell_type": "code",
   "execution_count": 57,
   "id": "6006e397-d38c-4bcc-bb7a-f9f1c58a71ab",
   "metadata": {},
   "outputs": [
    {
     "name": "stdin",
     "output_type": "stream",
     "text": [
      "Informe um número inteiro =  8\n",
      "Informe outro número inteiro =  6\n",
      "Informe um número real =  3.5\n"
     ]
    },
    {
     "name": "stdout",
     "output_type": "stream",
     "text": [
      "O produto do dobro de 8 x a metade de 6 = 48.0\n",
      "A soma do triplo de 8 + 3.5 é igual a = 27.5\n",
      "O cubo de 3.5 é = 10.5\n"
     ]
    }
   ],
   "source": [
    "nun_1 = int(input('Informe um número inteiro = '))\n",
    "nun_2 = int(input('Informe outro número inteiro = '))\n",
    "nun_3 = float(input('Informe um número real = '))\n",
    "print(f'O produto do dobro de {nun_1} x a metade de {nun_2} = {(nun_1*2)*(nun_2/2)}')\n",
    "print(f'A soma do triplo de {nun_1} + {nun_3} é igual a = {(nun_1*3)+nun_3}')\n",
    "print(f'O cubo de {nun_3} é = {nun_3*3}')"
   ]
  },
  {
   "cell_type": "code",
   "execution_count": 58,
   "id": "5020c760-b638-49ce-a5cc-4d27f1eba6b0",
   "metadata": {},
   "outputs": [],
   "source": [
    "# 12 - Tendo como dados de entrada a altura de uma pessoa construa um algoritmo que calcule seu peso ideal, usando a seguinte\n",
    "# fórmula : (72.7*altura)-58"
   ]
  },
  {
   "cell_type": "code",
   "execution_count": 62,
   "id": "b1fca2df-a4f6-4124-81a1-1c4f345f10e0",
   "metadata": {},
   "outputs": [
    {
     "name": "stdin",
     "output_type": "stream",
     "text": [
      " Informe a sua altura em m :  1.78\n"
     ]
    },
    {
     "name": "stdout",
     "output_type": "stream",
     "text": [
      "Para a altura de 1.78 o peso ideal é de = 71.41\n"
     ]
    }
   ],
   "source": [
    "altura = float(input(' Informe a sua altura em m : '))\n",
    "print(f'Para a altura de {altura} o peso ideal é de = {(72.7*altura)-58:.2f}')"
   ]
  },
  {
   "cell_type": "code",
   "execution_count": 63,
   "id": "d3b8baf5-1be9-491d-bff7-16892cead451",
   "metadata": {},
   "outputs": [],
   "source": [
    "# 13 - Tendo como dado de entrada a altura(h) de uma pessoa, construa um algoritmo que calcule seu peso ideal, utilizando\n",
    "# as seguintes fórmulas:\n",
    "# Para homens: (72.7*altura)-58\n",
    "# Para mulheres: (62.1*altura)-44.7"
   ]
  },
  {
   "cell_type": "code",
   "execution_count": 66,
   "id": "c88c8a49-429c-4899-a1d2-72d3a8e47280",
   "metadata": {},
   "outputs": [
    {
     "name": "stdin",
     "output_type": "stream",
     "text": [
      " Informe a sua altura em m :  1.65\n",
      "Informe \"F\" para feminino e \"M\" para masculino:  F\n"
     ]
    },
    {
     "name": "stdout",
     "output_type": "stream",
     "text": [
      "O peso ideal para mulheres com altura 1.65m é igual a 57.765\n"
     ]
    }
   ],
   "source": [
    "h = float(input(' Informe a sua altura em m : '))\n",
    "s = input('Informe \"F\" para feminino e \"M\" para masculino: ')\n",
    "if s.upper() == \"F\":\n",
    "    print(f'O peso ideal para mulheres com altura {h}m é igual a {(62.1*h)-44.7}')\n",
    "elif s.upper() == \"M\":\n",
    "    print(f'O peso ideal para homens com altura {h}m é igual a {(72.7*h)-58}')"
   ]
  },
  {
   "cell_type": "code",
   "execution_count": 67,
   "id": "793b576d-b5bb-4d40-afcf-e9cc8ebd9b63",
   "metadata": {},
   "outputs": [],
   "source": [
    "# 14 - João papo de pescador, homem de bem, comprou um microcomputador para controlar o rendimento diário de seu trabalho.\n",
    "# Toda vez que ele traz um peso de peixes maior que o estabelecido pelo regulamento de pesca do estado de São Paulo (50 quilos)\n",
    "# deve pagar uma multa de R$4,00 por quilo excedente. João precisa que você faça um programa que leia a variável peso (peso de\n",
    "# peixes) e calcule o excesso. Gravar na variável excesso a quantidade de quilos além do limite e na variável multa o valor da\n",
    "# multa que João deverá pagar. Imprima os dados do programa com as mensagens adequadas."
   ]
  },
  {
   "cell_type": "code",
   "execution_count": 76,
   "id": "5c1cabde-ec11-4254-bf1b-0baf1f8919aa",
   "metadata": {},
   "outputs": [
    {
     "name": "stdin",
     "output_type": "stream",
     "text": [
      "Informe o peso do pescado :  65\n"
     ]
    },
    {
     "name": "stdout",
     "output_type": "stream",
     "text": [
      "O peso de 65.0 ultrapassou o estabelecido no regulamento a multa será de R$ 60.00\n"
     ]
    }
   ],
   "source": [
    "peso = float(input('Informe o peso do pescado : '))\n",
    "if peso <= 50:\n",
    "    print(f'O peso de {peso} esta dentro do regulamento não haverá multa!!')\n",
    "elif peso > 50:\n",
    "    excesso = peso -50\n",
    "    print(f'O peso de {peso} ultrapassou o estabelecido no regulamento a multa será de R$ {excesso * 4:.2f}')"
   ]
  },
  {
   "cell_type": "code",
   "execution_count": 77,
   "id": "9cfb10ce-738b-49e9-8cfe-672fed503306",
   "metadata": {},
   "outputs": [],
   "source": [
    "# 15 -Faça um programa que pergunte quanto você ganha por hora e o número de horas trabalhadas no mês. Calcule e mostre o total\n",
    "# do seu salário no referido mês, sabendo-se que são descontados 11% para o imposto de renda, 8% para o INSS e 5% para o sindi_\n",
    "# cato, faça um programa que nos dê:\n",
    "# - Salário bruto\n",
    "# - quanto pagou de INSS\n",
    "# - quando pagou ao sindicato\n",
    "# - o salário líquido"
   ]
  },
  {
   "cell_type": "code",
   "execution_count": 86,
   "id": "3d2d67e1-96a9-4e9d-aa79-50ea385083b4",
   "metadata": {},
   "outputs": [
    {
     "name": "stdin",
     "output_type": "stream",
     "text": [
      "Qual o mês trabalhado? =  junho\n",
      "Quanto é sua hora trabalhada? =  19\n",
      "Quantas horas trabalhadas no mês de junho 168\n"
     ]
    },
    {
     "name": "stdout",
     "output_type": "stream",
     "text": [
      "O seu salario bruto é = R$ 3192.0\n",
      "\n",
      "Descontos : \n",
      "- IR = 351.12\n",
      "- INSS = 255.36\n",
      "- Sindicato = 159.60\n",
      "-----------------------------------------------\n",
      "= Salário Líquido = 2425.92\n",
      "***********************************************\n",
      "\n"
     ]
    }
   ],
   "source": [
    "mes= input('Qual o mês trabalhado? = ')\n",
    "hora_trabalhada = float(input('Quanto é sua hora trabalhada? = '))\n",
    "qtda_horas_trabalhadas = float(input(f'Quantas horas trabalhadas no mês de {mes}'))\n",
    "salario_bruto = hora_trabalhada * qtda_horas_trabalhadas\n",
    "print(f'O seu salario bruto é = R$ {salario_bruto}')\n",
    "print(f'''\n",
    "Descontos : \n",
    "- IR = {salario_bruto*(11/100):.2f}\n",
    "- INSS = {salario_bruto*(8/100):.2f}\n",
    "- Sindicato = {salario_bruto*(5/100):.2f}\n",
    "-----------------------------------------------\n",
    "= Salário Líquido = {salario_bruto -((salario_bruto*(11/100))+(salario_bruto*(8/100))+(salario_bruto*(5/100))):.2f}\n",
    "***********************************************\n",
    "''')\n"
   ]
  },
  {
   "cell_type": "code",
   "execution_count": null,
   "id": "5382496e-0c88-4f0a-a317-f02549d85ac8",
   "metadata": {},
   "outputs": [],
   "source": [
    "# 16 - Faça um programa para uma loja de tintas. O programa deverá pedir o tamanho em metros quadrados da área a ser pintada.\n",
    "# Considere que a cobertura da tinta é de 1 litro para cada 3 metros quadrados e que a tinta é vendida em latas de 18 litros,\n",
    "# que custam R$ 80,00. Informe ao usuário a quantidade de latas de tinta a serem compradas e o preço total."
   ]
  },
  {
   "cell_type": "code",
   "execution_count": 95,
   "id": "06a0aa70-1f5e-4294-84c3-caf5ad97827d",
   "metadata": {},
   "outputs": [
    {
     "name": "stdin",
     "output_type": "stream",
     "text": [
      "Digite a quantidade de metros quadrados a serem pintados:  108\n"
     ]
    },
    {
     "name": "stdout",
     "output_type": "stream",
     "text": [
      "Você usará 2.0 latas de tinta\n",
      "O preço total será de R$ 160.0\n"
     ]
    }
   ],
   "source": [
    "metros = float(input('Digite a quantidade de metros quadrados a serem pintados: '))\n",
    "litros = metros/3\n",
    "preco_lata = 80\n",
    "capacidade_lata = 18\n",
    "latas = litros / capacidade_lata\n",
    "total = latas * preco_lata\n",
    "print(f'Você usará {latas} latas de tinta')\n",
    "print(f'O preço total será de R$ {total}')"
   ]
  },
  {
   "cell_type": "code",
   "execution_count": 87,
   "id": "5965c796-d752-4fe8-87f7-c25c15056dc3",
   "metadata": {},
   "outputs": [],
   "source": [
    "# 17 - Faço um programa para uma loja de tintas. O programa deverá pedir o tamanho em metros quadrados da área a ser pintada. \n",
    "# Considere que a cobertura da tinta é de 1 litro pra cadas 6 metros quadrados e que a tinta é vendida em latas de 18 litros\n",
    "# que custam R$ 25,00.\n",
    "#  - informe ao usuário as quantidades de tinta a serem compradas e os respectivos preços em 3 situações:\n",
    "#  - comprar apenas latas de 18 litros\n",
    "#  - comprar apenas galões de 3,6 litros\n",
    "#  - misturar latas e galões, de forma que o desperdício de tinta seja menor. Acrescente 10% de folga e sempre arredonde os\n",
    "# valores para cima, isto é, considere latas cheias."
   ]
  },
  {
   "cell_type": "code",
   "execution_count": 98,
   "id": "205810bb-cb18-4d40-a61c-b3354347cf98",
   "metadata": {},
   "outputs": [
    {
     "name": "stdin",
     "output_type": "stream",
     "text": [
      "Digite quantos metros quadrados:  54\n"
     ]
    },
    {
     "name": "stdout",
     "output_type": "stream",
     "text": [
      "O preço só com latas é = R$ 80\n",
      "O preço só com galões é = R$ 3\n",
      "O preço com a combinação é = R$ 75.0\n"
     ]
    }
   ],
   "source": [
    "import math\n",
    "medida = float(input('Digite quantos metros quadrados: '))\n",
    "litros = medida/6\n",
    "latas = math.ceil(litros/18)\n",
    "galoes = math.ceil(litros/3.6)\n",
    "preco_latas = latas * 80\n",
    "preco_galoes = galoes * 25\n",
    "combinacao = (litros//18)*80 + (math.ceil(((litros %18)/3.6))*25)\n",
    "print(f'O preço só com latas é = R$ {preco_latas}')\n",
    "print(f'O preço só com galões é = R$ {galoes}')\n",
    "print(f'O preço com a combinação é = R$ {combinacao}')"
   ]
  },
  {
   "cell_type": "code",
   "execution_count": 96,
   "id": "b1d768fa-0cb8-4b99-8bf1-07a57bbdff7c",
   "metadata": {},
   "outputs": [
    {
     "name": "stdin",
     "output_type": "stream",
     "text": [
      "Digite quantos metros quadrados:  54\n"
     ]
    },
    {
     "name": "stdout",
     "output_type": "stream",
     "text": [
      "A quantidade de latas de 18 litros a serem compradas é : 1 preço total é de: 80 reais\n",
      "A quantidade de galões de 3,6 litros a serem compradas é : 3 preço total é de: 75 reais\n"
     ]
    }
   ],
   "source": [
    "import math\n",
    "area = float(input('Digite quantos metros quadrados: '))\n",
    "litro = area/6 # quantidade de litros\n",
    "latas18 = area/(6*18) # quantidade de latas para pintar a área especificada\n",
    "galao = area/ (6*3.6) # quantidade de galao para pintar a área especificada\n",
    "if area > 0: # área tem que ser maior que zero, senão os valores de entrada estaram errados\n",
    "    preco = math.ceil(latas18)*80\n",
    "    print('A quantidade de latas de 18 litros a serem compradas é :',math.ceil(latas18),'preço total é de:',preco,'reais')\n",
    "    preco2 = math.ceil(galao)*25\n",
    "    print('A quantidade de galões de 3,6 litros a serem compradas é :',math.ceil(galao),'preço total é de:',preco2,'reais')\n",
    "else:\n",
    "    print('Dados inváldos!!')"
   ]
  },
  {
   "cell_type": "code",
   "execution_count": 88,
   "id": "7f8fd418-4e77-4ffb-a300-22e0b9eb638f",
   "metadata": {},
   "outputs": [],
   "source": [
    "# 18 - Faça um programa que peça o tamanho de um arquivo para download(em MB) e a velocidade de um link de Internet(em Mbps)\n",
    "# calcule e informe o tempo aproximado de download do arquivo usando este link(em minutos)."
   ]
  },
  {
   "cell_type": "code",
   "execution_count": 91,
   "id": "08cf05d3-c557-42f4-8fcb-8d7fa99adadd",
   "metadata": {},
   "outputs": [
    {
     "name": "stdin",
     "output_type": "stream",
     "text": [
      "Informe o tamanho do arquivo em MegaByte:  100\n",
      "Informe a velocidade do link em Mbps:  2.56\n"
     ]
    },
    {
     "name": "stdout",
     "output_type": "stream",
     "text": [
      "O tempo para fazer o download será de 95.0 minutos\n"
     ]
    }
   ],
   "source": [
    "arquivo = float(input('Informe o tamanho do arquivo em MegaByte: '))\n",
    "link = float(input('Informe a velocidade do link em Mbps: '))\n",
    "tempo =  ((arquivo * 8)/link)/60\n",
    "print(f'O tempo para fazer o download será de {temp} minutos')"
   ]
  },
  {
   "cell_type": "code",
   "execution_count": null,
   "id": "81bff0a3-e652-451f-bf82-03dc5c45bcfb",
   "metadata": {},
   "outputs": [],
   "source": []
  }
 ],
 "metadata": {
  "kernelspec": {
   "display_name": "Python 3",
   "language": "python",
   "name": "python3"
  },
  "language_info": {
   "codemirror_mode": {
    "name": "ipython",
    "version": 3
   },
   "file_extension": ".py",
   "mimetype": "text/x-python",
   "name": "python",
   "nbconvert_exporter": "python",
   "pygments_lexer": "ipython3",
   "version": "3.8.8"
  }
 },
 "nbformat": 4,
 "nbformat_minor": 5
}
