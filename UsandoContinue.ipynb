{
 "cells": [
  {
   "cell_type": "code",
   "execution_count": 1,
   "id": "9177e99c-7fee-4299-8be9-e58b6e61d03e",
   "metadata": {},
   "outputs": [],
   "source": [
    "# usando o comando continue"
   ]
  },
  {
   "cell_type": "code",
   "execution_count": 2,
   "id": "25190e51-d8ec-472d-867c-bbf672f49e22",
   "metadata": {},
   "outputs": [
    {
     "name": "stdout",
     "output_type": "stream",
     "text": [
      "2\n",
      "4\n",
      "6\n",
      "8\n",
      "10\n",
      "Fora do Laço\n"
     ]
    }
   ],
   "source": [
    "x = 0\n",
    "while (x <= 10):\n",
    "    x += 1\n",
    "    if(x%2):\n",
    "        continue\n",
    "    print(x)\n",
    "print('Fora do Laço')"
   ]
  },
  {
   "cell_type": "code",
   "execution_count": 3,
   "id": "0dbfa4b9-5573-4e09-995b-4d03d4a3c94b",
   "metadata": {},
   "outputs": [
    {
     "name": "stdout",
     "output_type": "stream",
     "text": [
      "Fora do Laço\n"
     ]
    }
   ],
   "source": [
    "x = 0\n",
    "while (x <= 10):\n",
    "    x += 1\n",
    "    if(x%2):\n",
    "        break\n",
    "    print(x)\n",
    "print('Fora do Laço')"
   ]
  },
  {
   "cell_type": "code",
   "execution_count": 4,
   "id": "af75553d-3ca2-4eca-ba24-b6d74316dd20",
   "metadata": {},
   "outputs": [
    {
     "name": "stdout",
     "output_type": "stream",
     "text": [
      "0\n",
      "----------\n",
      "2\n",
      "----------\n",
      "4\n",
      "----------\n",
      "6\n",
      "----------\n",
      "8\n",
      "----------\n"
     ]
    }
   ],
   "source": [
    "a = 0\n",
    "while a < 10 :\n",
    "    print(a)\n",
    "    if a == 5:\n",
    "        break\n",
    "    a +=2\n",
    "    print('-'*10)"
   ]
  },
  {
   "cell_type": "code",
   "execution_count": 5,
   "id": "2c943144-03d2-4f14-a30d-2ee898678090",
   "metadata": {},
   "outputs": [
    {
     "name": "stdout",
     "output_type": "stream",
     "text": [
      "0\n",
      "----------\n",
      "1\n",
      "----------\n",
      "2\n",
      "----------\n",
      "3\n",
      "----------\n",
      "4\n",
      "----------\n",
      "5\n"
     ]
    }
   ],
   "source": [
    "a = 0\n",
    "while a < 10 :\n",
    "    print(a)\n",
    "    if a == 5:\n",
    "        break\n",
    "    a +=1\n",
    "    print('-'*10)"
   ]
  },
  {
   "cell_type": "code",
   "execution_count": 6,
   "id": "5c28fbc4-0a7e-4ea4-ba51-dc0853cb45be",
   "metadata": {},
   "outputs": [
    {
     "name": "stdout",
     "output_type": "stream",
     "text": [
      "1\n",
      "2\n",
      "3\n",
      "4\n",
      "5\n",
      "6\n"
     ]
    }
   ],
   "source": [
    "lista = [1,2,3,4,5,6,]\n",
    "for l in lista:\n",
    "    print(l)"
   ]
  },
  {
   "cell_type": "code",
   "execution_count": 7,
   "id": "b52e68f1-02e0-4089-8111-c1b230f10266",
   "metadata": {},
   "outputs": [
    {
     "name": "stdout",
     "output_type": "stream",
     "text": [
      "1\n",
      "===\n",
      "2\n",
      "===\n",
      "3\n",
      "Fim do PRG\n"
     ]
    }
   ],
   "source": [
    "lista = [1,2,3,4,5,6,]\n",
    "for l in lista:\n",
    "    print(l)\n",
    "    if l ==3:\n",
    "        break\n",
    "    print('===')\n",
    "print('Fim do PRG')"
   ]
  },
  {
   "cell_type": "code",
   "execution_count": 8,
   "id": "1a4688ad-71c8-46a1-aa34-229bb8142d11",
   "metadata": {},
   "outputs": [
    {
     "name": "stdout",
     "output_type": "stream",
     "text": [
      "0\n",
      "2\n",
      "4\n",
      "6\n",
      "8\n"
     ]
    }
   ],
   "source": [
    "a = 0\n",
    "while a < 10:\n",
    "    if a % 2 == 1:\n",
    "        a += 1\n",
    "        continue\n",
    "    print(a)\n",
    "    a += 1"
   ]
  },
  {
   "cell_type": "code",
   "execution_count": null,
   "id": "d9e07412-d115-4f7b-b8b0-5e239d28ba6a",
   "metadata": {},
   "outputs": [],
   "source": [
    "lista = [1,2,3,4,5,6,7,8,9,10]\n",
    "for l in lista:\n",
    "    if l % 2 == 1:\n",
    "        continue\n",
    "    print('===')\n",
    "    print(l)\n",
    "print('Fim do PRG')"
   ]
  },
  {
   "cell_type": "code",
   "execution_count": null,
   "id": "37b7bdb2-bf6f-4f97-a802-f779af553895",
   "metadata": {},
   "outputs": [],
   "source": []
  },
  {
   "cell_type": "code",
   "execution_count": null,
   "id": "517bbf9d-7811-462b-a01d-05c499621f70",
   "metadata": {},
   "outputs": [],
   "source": []
  },
  {
   "cell_type": "code",
   "execution_count": null,
   "id": "61cb3476-ee23-491a-ac7a-e918a9db6924",
   "metadata": {},
   "outputs": [],
   "source": []
  }
 ],
 "metadata": {
  "kernelspec": {
   "display_name": "Python 3",
   "language": "python",
   "name": "python3"
  },
  "language_info": {
   "codemirror_mode": {
    "name": "ipython",
    "version": 3
   },
   "file_extension": ".py",
   "mimetype": "text/x-python",
   "name": "python",
   "nbconvert_exporter": "python",
   "pygments_lexer": "ipython3",
   "version": "3.8.8"
  }
 },
 "nbformat": 4,
 "nbformat_minor": 5
}
