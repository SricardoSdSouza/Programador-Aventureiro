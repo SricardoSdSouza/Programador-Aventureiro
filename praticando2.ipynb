{
 "cells": [
  {
   "cell_type": "code",
   "execution_count": 1,
   "id": "0ecd8334-8bd5-4625-8202-04f89cab881f",
   "metadata": {},
   "outputs": [],
   "source": [
    "# 1 - Faça um programa que peça dois números e imprima o maior deles."
   ]
  },
  {
   "cell_type": "code",
   "execution_count": 4,
   "id": "b3e3f9e2-51ce-46e7-a05d-c1a306d8f07d",
   "metadata": {},
   "outputs": [
    {
     "name": "stdout",
     "output_type": "stream",
     "text": [
      "===Imprimir o número Maior====\n"
     ]
    },
    {
     "name": "stdin",
     "output_type": "stream",
     "text": [
      "Forneça um número inteiro qualquer:  8\n",
      "Forneça outro número inteiro qualquer:  76\n"
     ]
    },
    {
     "name": "stdout",
     "output_type": "stream",
     "text": [
      "O número 76 é o maior número\n",
      "Se quiser saber mais volte e digite outros números!!\n"
     ]
    }
   ],
   "source": [
    "print('Imprimir o número Maior'.center(30,'='))\n",
    "numero1 = int(input('Forneça um número inteiro qualquer: '))\n",
    "numero2 = int(input('Forneça outro número inteiro qualquer: '))\n",
    "if numero1>numero2:\n",
    "    print(f'O número {numero1} é o maior número')\n",
    "else:\n",
    "    print(f'O número {numero2} é o maior número')\n",
    "\n",
    "print('Se quiser saber mais volte e digite outros números!!')"
   ]
  },
  {
   "cell_type": "code",
   "execution_count": 5,
   "id": "a013ac34-da90-4d7e-8406-ea1de9e8a9ea",
   "metadata": {},
   "outputs": [],
   "source": [
    "# 2 - Faça um Programa que peça um valor e mostre na tela se o valor é positivo ou negativo."
   ]
  },
  {
   "cell_type": "code",
   "execution_count": 7,
   "id": "bd0ca37a-080e-4747-8196-acb8efc7a873",
   "metadata": {},
   "outputs": [
    {
     "name": "stdout",
     "output_type": "stream",
     "text": [
      "*************** Saber se o número é positivo ou negativo ***************\n"
     ]
    },
    {
     "name": "stdin",
     "output_type": "stream",
     "text": [
      "Forneça um número inteiro qualquer:  -12\n"
     ]
    },
    {
     "name": "stdout",
     "output_type": "stream",
     "text": [
      "O número -12 é um número NEGATIVO\n",
      "Se quiser saber mais volte e digite outros números!!\n"
     ]
    }
   ],
   "source": [
    "print('*************** Saber se o número é positivo ou negativo ***************')\n",
    "numero1 = int(input('Forneça um número inteiro qualquer: '))\n",
    "\n",
    "if numero1>0:\n",
    "    print(f'O número {numero1} é um número POSITIVO')\n",
    "else:\n",
    "    print(f'O número {numero1} é um número NEGATIVO')\n",
    "\n",
    "print('Se quiser saber mais volte e digite outros números!!')"
   ]
  },
  {
   "cell_type": "code",
   "execution_count": 8,
   "id": "ac5d681d-1efb-4bc3-ac52-a7428f0c7f71",
   "metadata": {},
   "outputs": [],
   "source": [
    "# 3 - Faça um programa que verifique se uma letra digitada é \"F\" ou \"M\". Conforme a letra: F - Feminino, M - Masculino, sexo\n",
    "#inválido."
   ]
  },
  {
   "cell_type": "code",
   "execution_count": 12,
   "id": "ad80f8dd-e6c6-4a28-8779-0f3d5e73a649",
   "metadata": {},
   "outputs": [
    {
     "name": "stdout",
     "output_type": "stream",
     "text": [
      "-------verifique se uma letra digitada é \"F\" ou \"M\" -------\n"
     ]
    },
    {
     "name": "stdin",
     "output_type": "stream",
     "text": [
      "Informe o sexo [F/M]: g\n"
     ]
    },
    {
     "name": "stdout",
     "output_type": "stream",
     "text": [
      "Sexo invalido digite [F/M]:\n"
     ]
    }
   ],
   "source": [
    "print('-------verifique se uma letra digitada é \"F\" ou \"M\" -------')\n",
    "sexo = input('Informe o sexo [F/M]:').upper()\n",
    "if sexo == \"F\":\n",
    "    print('Sexo Feminino.!')\n",
    "elif sexo == \"M\":\n",
    "    print('Sexo Masculino.!')\n",
    "else:\n",
    "    print('Sexo invalido digite [F/M]:')"
   ]
  },
  {
   "cell_type": "code",
   "execution_count": 13,
   "id": "4e5deff8-79d9-46c9-a6d3-9589563fb3fa",
   "metadata": {},
   "outputs": [],
   "source": [
    "# 4 - Faça um programa que verifique se uma letra degitada é vogal ou consoante."
   ]
  },
  {
   "cell_type": "code",
   "execution_count": 34,
   "id": "aa9924e4-dbce-4294-aafc-1a15a167baa7",
   "metadata": {},
   "outputs": [
    {
     "name": "stdout",
     "output_type": "stream",
     "text": [
      "=== Identificar Vogal ou Consoante ===\n"
     ]
    },
    {
     "name": "stdin",
     "output_type": "stream",
     "text": [
      "Digite uma letra do alfabeto:  y\n"
     ]
    },
    {
     "name": "stdout",
     "output_type": "stream",
     "text": [
      "A letra Y é uma consoante\n"
     ]
    }
   ],
   "source": [
    "print('=== Identificar Vogal ou Consoante ===')\n",
    "letra = input('Digite uma letra do alfabeto: ').upper().strip()\n",
    "vogais = ['A','E','I','O','U']\n",
    "if letra in vogais:\n",
    "    print(f'A letra {letra} é uma vogal')\n",
    "else:\n",
    "    print(f'A letra {letra} é uma consoante')"
   ]
  },
  {
   "cell_type": "code",
   "execution_count": 35,
   "id": "5289825d-ddc2-42df-b9f3-7d10731e2319",
   "metadata": {},
   "outputs": [],
   "source": [
    "# 5 - Faça um programa para a leitura de duas notas parciais de um aluno. O programa deve calcular a se média alcançada alcan-\n",
    "# çada por aluno e apresentar:\n",
    "# - A mensagem \"Aprovado\", se a média alcançada for maior ou igual a sete;\n",
    "# - A mensagem \"Reprovado\", se a média alcançada for menor do que sete;\n",
    "# - A mensagem \"Aprovado Com Distinção\", se a média alcançada for igual a dez;"
   ]
  },
  {
   "cell_type": "code",
   "execution_count": 4,
   "id": "6bd7f8b9-fcba-4a51-b474-00f95168156c",
   "metadata": {},
   "outputs": [
    {
     "name": "stdout",
     "output_type": "stream",
     "text": [
      "================================\n",
      "------- BOLETIM ESCOLAR -------\n",
      "================================\n"
     ]
    },
    {
     "name": "stdin",
     "output_type": "stream",
     "text": [
      "Informe a 1º nota do aluno:  3\n",
      "Informe a 2º nota do aluno:  4\n"
     ]
    },
    {
     "name": "stdout",
     "output_type": "stream",
     "text": [
      "Sua nota foi 3.5 infelizmente vc foi REPROVADO, ESTUDE MAIS!!\n",
      "Para saber mais entre em contato com a secretaria !!\n"
     ]
    }
   ],
   "source": [
    "print('=='*16)\n",
    "print('------- BOLETIM ESCOLAR -------')\n",
    "print('=='*16)\n",
    "nota1 = float(input('Informe a 1º nota do aluno: '))\n",
    "nota2 = float(input('Informe a 2º nota do aluno: '))\n",
    "media = (nota1+nota2)/2\n",
    "if media == 10:\n",
    "    print(f'Sua nota foi {media} parabéns APROVADO COM DISTINÇÃO!!')\n",
    "elif media >= 7:\n",
    "    print(f'Sua nota foi {media} parabéns APROVADO!!')\n",
    "else:\n",
    "    print(f'Sua nota foi {media} infelizmente vc foi REPROVADO, ESTUDE MAIS!!')\n",
    "\n",
    "print('Para saber mais entre em contato com a secretaria !!')"
   ]
  },
  {
   "cell_type": "code",
   "execution_count": 5,
   "id": "8724d61d-5b5a-4c60-8777-040867c2c4f5",
   "metadata": {},
   "outputs": [],
   "source": [
    "# 6 - Faça um programa que leia três números e mostre o maior e o menor deles."
   ]
  },
  {
   "cell_type": "code",
   "execution_count": 13,
   "id": "9719df31-8796-492a-b3ff-f72a0d001fbf",
   "metadata": {},
   "outputs": [
    {
     "name": "stdout",
     "output_type": "stream",
     "text": [
      "== VERIFICAR O MAIOR E O MENOR NÚMERO ==\n"
     ]
    },
    {
     "name": "stdin",
     "output_type": "stream",
     "text": [
      "Informe um número inteiro qualquer:  3\n",
      "Informe outro número inteiro qualquer:  2\n",
      "Informe mais um número inteiro qualquer:  1\n"
     ]
    },
    {
     "name": "stdout",
     "output_type": "stream",
     "text": [
      "O maior número digitado foi 3\n",
      "O menor número digitado foi 1\n",
      "\n",
      "FIM!!\n"
     ]
    }
   ],
   "source": [
    "print('== VERIFICAR O MAIOR E O MENOR NÚMERO ==')\n",
    "n1 = int(input('Informe um número inteiro qualquer: '))\n",
    "n2 = int(input('Informe outro número inteiro qualquer: '))\n",
    "n3 = int(input('Informe mais um número inteiro qualquer: '))\n",
    "maior = n1\n",
    "menor = n1\n",
    "\n",
    "if n2>n1 and n2>n3:\n",
    "    maior = n2    \n",
    "if n3>n2 and n3>n1:\n",
    "    maior = n3   \n",
    "if n2<n1 and n2<n3:\n",
    "    menor = n2\n",
    "if n3<n2 and n3<n1:\n",
    "    menor = n3\n",
    "print(f'O maior número digitado foi {maior}')\n",
    "print(f'O menor número digitado foi {menor}')\n",
    "print('')\n",
    "print('FIM!!')"
   ]
  },
  {
   "cell_type": "code",
   "execution_count": 14,
   "id": "4fc94d0d-e993-4122-ab70-cc984547ec33",
   "metadata": {},
   "outputs": [],
   "source": [
    "# 8 - Faça um programa que pergunte o preço de três produtos e informe qual produto você deve comprar, sabendo que a decisão é\n",
    "# sempre pelo mais barato."
   ]
  },
  {
   "cell_type": "code",
   "execution_count": 16,
   "id": "70100448-da27-4713-81ef-bce3cc67d321",
   "metadata": {},
   "outputs": [
    {
     "name": "stdout",
     "output_type": "stream",
     "text": [
      "== VERIFICAR O MENOR PREÇO ==\n"
     ]
    },
    {
     "name": "stdin",
     "output_type": "stream",
     "text": [
      "Informe preço do 1º produto :R$  23\n",
      "Informe preço do 2º produto :R$  43\n",
      "Informe preço do 3º produto :R$  12\n"
     ]
    },
    {
     "name": "stdout",
     "output_type": "stream",
     "text": [
      "O produto mais barato custa R$ 12.00\n",
      "\n",
      "FIM!!\n"
     ]
    }
   ],
   "source": [
    "print('== VERIFICAR O MENOR PREÇO ==')\n",
    "n1 = float(input('Informe preço do 1º produto :R$ '))\n",
    "n2 = float(input('Informe preço do 2º produto :R$ '))\n",
    "n3 = float(input('Informe preço do 3º produto :R$ '))\n",
    "menor = n1\n",
    " \n",
    "if n2<n1 and n2<n3:\n",
    "    menor = n2\n",
    "if n3<n2 and n3<n1:\n",
    "    menor = n3\n",
    "    \n",
    "print(f'O produto mais barato custa R$ {menor:.2f}')\n",
    "print('')\n",
    "print('FIM!!')"
   ]
  },
  {
   "cell_type": "code",
   "execution_count": null,
   "id": "2b8904bd-30ca-4513-8328-c6583b5ea0fc",
   "metadata": {},
   "outputs": [],
   "source": [
    "# 9 - Faça um programa que leia três números e mostre-os em ordem decrescente."
   ]
  },
  {
   "cell_type": "code",
   "execution_count": 38,
   "id": "d43186e8-a21a-4631-8606-9b94e79e1d96",
   "metadata": {
    "tags": []
   },
   "outputs": [
    {
     "name": "stdout",
     "output_type": "stream",
     "text": [
      "== ORDEM DECRESCENTE ==\n"
     ]
    },
    {
     "name": "stdin",
     "output_type": "stream",
     "text": [
      "Informe um número inteiro qualquer:  67\n",
      "Informe outro número inteiro qualquer:  87\n",
      "Informe mais um número inteiro qualquer:  23\n"
     ]
    },
    {
     "name": "stdout",
     "output_type": "stream",
     "text": [
      "A ordem decrescente dos números digitados = [87, 67, 23]\n"
     ]
    }
   ],
   "source": [
    "print('== ORDEM DECRESCENTE ==')\n",
    "n1 = int(input('Informe um número inteiro qualquer: '))\n",
    "n2 = int(input('Informe outro número inteiro qualquer: '))\n",
    "n3 = int(input('Informe mais um número inteiro qualquer: '))\n",
    "numeros=[n1,n2,n3]\n",
    "print(f'A ordem decrescente dos números digitados = {sorted(numeros,reverse=True)}')\n"
   ]
  },
  {
   "cell_type": "code",
   "execution_count": 29,
   "id": "55e7e8c4-37ab-4b8a-a78f-08e202bf6cf4",
   "metadata": {},
   "outputs": [],
   "source": [
    "# outra foram de fazer mais longa"
   ]
  },
  {
   "cell_type": "code",
   "execution_count": 32,
   "id": "b8a43a2e-51e8-4e13-8f56-69bdd74b3007",
   "metadata": {},
   "outputs": [
    {
     "name": "stdout",
     "output_type": "stream",
     "text": [
      "== ORDEM DECRESCENTE ==\n"
     ]
    },
    {
     "name": "stdin",
     "output_type": "stream",
     "text": [
      "Informe um número inteiro qualquer:  2\n",
      "Informe outro número inteiro qualquer:  2\n",
      "Informe mais um número inteiro qualquer:  4\n"
     ]
    },
    {
     "name": "stdout",
     "output_type": "stream",
     "text": [
      "Inválido!!!\n"
     ]
    }
   ],
   "source": [
    "print('== ORDEM DECRESCENTE ==')\n",
    "n1 = int(input('Informe um número inteiro qualquer: '))\n",
    "n2 = int(input('Informe outro número inteiro qualquer: '))\n",
    "n3 = int(input('Informe mais um número inteiro qualquer: '))\n",
    "if n1 > n2 > n3:\n",
    "    print(n1,n2,n3)\n",
    "if n1 > n3 > n2:\n",
    "    print(n1,n3,n2)\n",
    "if n2 > n2 > n3:\n",
    "    print(n2,n1,n3)\n",
    "if n2 > n3 > n1:\n",
    "    print(n2,n3,n1)\n",
    "if n3 > n1 > n2:\n",
    "    print(n3,n1,n2)\n",
    "if n3 > n2 > n1:\n",
    "    print(n3,n2,n1)\n",
    "if n1 == n2 or n1 == n3 or n2 == n3:\n",
    "    print('Inválido!!!')\n"
   ]
  },
  {
   "cell_type": "code",
   "execution_count": 39,
   "id": "ea6e4e60-7682-47e5-af96-48c75f815979",
   "metadata": {},
   "outputs": [],
   "source": [
    "# 10 - Faça um programa que pergunte em que turno você estuda. Peça para digitar M-matutino ou V-vespertino ou N-noturno. \n",
    "# Imprima a mensagem \"Bom dia!\", \"Boa terde!\", ou \"Boa noite!\" ou \"Valor Inválido\", conforme o caso."
   ]
  },
  {
   "cell_type": "code",
   "execution_count": 46,
   "id": "0be75e8b-01da-474a-aea0-278116ab9242",
   "metadata": {},
   "outputs": [
    {
     "name": "stdout",
     "output_type": "stream",
     "text": [
      "=== HORARIO DE ESTUDO ===\n"
     ]
    },
    {
     "name": "stdin",
     "output_type": "stream",
     "text": [
      "Qual seu horario de estudo? [M/V/N] Maturino, Vespertino ou noturno:  m\n"
     ]
    },
    {
     "name": "stdout",
     "output_type": "stream",
     "text": [
      "Bom dia!!\n"
     ]
    }
   ],
   "source": [
    "print('=== HORARIO DE ESTUDO ===')\n",
    "horario = input('Qual seu horario de estudo? [M/V/N] Maturino, Vespertino ou noturno: ').strip().upper()\n",
    "if horario == \"M\":\n",
    "    print('Bom dia!!')\n",
    "elif horario == \"V\":\n",
    "    print('Boa tarde!')\n",
    "elif horario == \"N\":\n",
    "    print('Boa noite!')\n",
    "else:\n",
    "    print('Opção Inválida!!! :( ')\n"
   ]
  },
  {
   "cell_type": "code",
   "execution_count": 48,
   "id": "cb22beca-2233-4388-a1ea-13f7f9c6532a",
   "metadata": {},
   "outputs": [],
   "source": [
    "# 11 - As organizações Tabajara resolveram dar um aumento de salário aos seus colaboradores e lhe contrataram para desenvolver\n",
    "# o programa que calculará os reajustes:\n",
    "# -> Faça um programa que recebe o salário de um colaborador e o reajuste segundo o seguinte critério, baseado no salário atual\n",
    "#   -> salários de até R$280,00 (incluindo): aumento de 20%\n",
    "#   -> salários entre R$280,00 e R$ 700,00 : aumento de 15%\n",
    "#   -> salários entre R$0,7000 e R$ 1500,00 : aumento de 10%\n",
    "#   -> salários de R$1500,00 em diante : aumento de 5%\n",
    "#   -> salário antes do reajuste;\n",
    "#   -> o percentural aplicado;\n",
    "#   -> o valor aumento;\n",
    "#   -> o novo salário, após o aumento."
   ]
  },
  {
   "cell_type": "code",
   "execution_count": 59,
   "id": "06dd9c14-ded8-473a-9269-94fcbf1fc1e9",
   "metadata": {},
   "outputs": [
    {
     "name": "stdout",
     "output_type": "stream",
     "text": [
      "=*==*==*==*==*==*==*==*==*==*==*==*==*==*==*==*==*=\n",
      "============= ORGANIZAÇÕES TABAJARA =============\n",
      "=*==*==*==*==*==*==*==*==*==*==*==*==*==*==*==*==*=\n"
     ]
    },
    {
     "name": "stdin",
     "output_type": "stream",
     "text": [
      "Informe seu salário: R$  920\n"
     ]
    },
    {
     "name": "stdout",
     "output_type": "stream",
     "text": [
      "Seu salário era de R$920.00\n",
      "O Reajuste foi de 10%\n",
      "O valor do seu aumento foi de R$92.00\n",
      "Seu salário atual = R$ 1012.00 \n",
      "\n",
      "Fim!!\n"
     ]
    }
   ],
   "source": [
    "print('=*='*17)\n",
    "print('============= ORGANIZAÇÕES TABAJARA =============')\n",
    "print('=*='*17)\n",
    "salario = float(input('Informe seu salário: R$ '))\n",
    "if salario <= 280:\n",
    "    sal = salario + (salario * (20/100))\n",
    "    print(f'Seu salário era de R${salario:.2f}')\n",
    "    print('O Reajuste foi de 20%')\n",
    "    print(f'O valor do seu aumento foi de R${salario * (20/100):.2f}')\n",
    "    print(f'Seu salário atual = R$ {sal:.2f} ')\n",
    "elif salario <= 700:\n",
    "    sal = salario + (salario * (15/100))\n",
    "    print(f'Seu salário era de R${salario:.2f}')\n",
    "    print('O Reajuste foi de 15%')\n",
    "    print(f'O valor do seu aumento foi de R${salario * (15/100):.2f}')\n",
    "    print(f'Seu salário atual = R$ {sal:.2f} ')\n",
    "elif salario <= 1500:\n",
    "    sal = salario + (salario * (10/100))\n",
    "    print(f'Seu salário era de R${salario:.2f}')\n",
    "    print('O Reajuste foi de 10%')\n",
    "    print(f'O valor do seu aumento foi de R${salario * (10/100):.2f}')\n",
    "    print(f'Seu salário atual = R$ {sal:.2f} ')\n",
    "elif salario > 1500:\n",
    "    sal = salario + (salario * (5/100))\n",
    "    print(f'Seu salário era de R${salario:.2f}')\n",
    "    print('O Reajuste foi de 5%')\n",
    "    print(f'O valor do seu aumento foi de R${salario * (5/100):.2f}')\n",
    "    print(f'Seu salário atual = R$ {sal:.2f} ')\n",
    "print('')\n",
    "print('Fim!!')"
   ]
  },
  {
   "cell_type": "code",
   "execution_count": 60,
   "id": "ca1f43a7-2bba-4318-9ce8-8409caab0ae9",
   "metadata": {},
   "outputs": [],
   "source": [
    "# 12 - Faça um programa para o cálculo de uma folha de pagamento, sabendo que os descontos são do Imposto de Renda, que depen-\n",
    "# de do salário bruto (conforme tabela abaixo) e 3% para o sindicato e que o FGTS correspondente a 11% do salário Bruto, mas\n",
    "# não é descontado (é a empresa que deposita). O salário líquido corresponde ao Salário Bruto menos os descontos. O programa\n",
    "# deverá pedir ao usuário o valor da sua hora e a quantidade de horas trabalhadas no mês;\n",
    "#  -> Desconto do IR:\n",
    "#  -> Salário Bruto até 900(inclusive) = isento\n",
    "#  -> Salário Bruto até 1500(inclusive) = desconto de 5%\n",
    "#  -> Salário Bruto até 2500(inclusive) = desconto de 10%\n",
    "#  -> Salário Bruto acima de 2500 - desconto de 20% \n",
    "# imprima na tela as informações, dispostas conforme o exemplo abaixo. (ver no software)"
   ]
  },
  {
   "cell_type": "code",
   "execution_count": 3,
   "id": "32d5c983-bd7c-4353-a6e1-e6f4cbd256c7",
   "metadata": {},
   "outputs": [
    {
     "name": "stdout",
     "output_type": "stream",
     "text": [
      "========== IRPF ==========\n",
      "********************\n"
     ]
    },
    {
     "name": "stdin",
     "output_type": "stream",
     "text": [
      "Informe o valor de sua hora trabalhada: R$  20.45\n",
      "Informe quantas horas trabalhadas :  160\n"
     ]
    },
    {
     "name": "stdout",
     "output_type": "stream",
     "text": [
      "\n",
      "    Salário Bruto (20.45 * 160.0): R$ 3272.0\n",
      "    (-) IR - (20%)      : R$654.4\n",
      "    (-) INSS (10%)     : R$327.20\n",
      "    (-) Sindicato (3%) : R$98.16\n",
      "    FGTS (11%)         : R$359.92\n",
      "    Total de Descontos : R$1079.76\n",
      "    Salário Líquido    : R$2192.24\n",
      "    \n"
     ]
    }
   ],
   "source": [
    "print('========== IRPF ==========')\n",
    "print('**'*10)\n",
    "h_de_trabalha = float(input('Informe o valor de sua hora trabalhada: R$ '))\n",
    "q_h_trabalha = float(input('Informe quantas horas trabalhadas : '))\n",
    "s = str(h_de_trabalha) + ' * ' + (str(q_h_trabalha))\n",
    "salario_b = h_de_trabalha * q_h_trabalha\n",
    "sindicato = salario_b * (3/100)\n",
    "fgts = salario_b * (11/100)\n",
    "inss = salario_b * (10/100)\n",
    "if salario_b <= 900:\n",
    "    print(f'''\n",
    "    Salário Bruto ({s})     : R$ {salario_b}\n",
    "    (-) IR - isento\n",
    "    (-) INSS (10%)     : R${inss:.2f}\n",
    "    (-) Sindicato (3%) : R${sindicato:.2f}\n",
    "    FGTS (11%)         : R${fgts:.2f}\n",
    "    Total de Descontos : R${inss+sindicato:.2f}\n",
    "    Salário Líquido    : R${salario_b - (inss+sindicato):.2f}\n",
    "    ''')\n",
    "elif salario_b <= 1500:\n",
    "    ir = salario_b * 5/100\n",
    "    print(f'''\n",
    "    Salário Bruto ({s}): R$ {salario_b}\n",
    "    (-) IR - (5%)      : R${ir}\n",
    "    (-) INSS (10%)     : R${inss:.2f}\n",
    "    (-) Sindicato (3%) : R${sindicato:.2f}\n",
    "    FGTS (11%)         : R${fgts:.2f}\n",
    "    Total de Descontos : R${ir+inss+sindicato:.2f}\n",
    "    Salário Líquido    : R${salario_b - (ir+inss+sindicato):.2f}\n",
    "    ''')\n",
    "elif salario_b <= 2500:\n",
    "    ir = salario_b * 10/100\n",
    "    print(f'''\n",
    "    Salário Bruto ({s}): R$ {salario_b}\n",
    "    (-) IR - (10%)      : R${ir}\n",
    "    (-) INSS (10%)     : R${inss:.2f}\n",
    "    (-) Sindicato (3%) : R${sindicato:.2f}\n",
    "    FGTS (11%)         : R${fgts:.2f}\n",
    "    Total de Descontos : R${ir+inss+sindicato:.2f}\n",
    "    Salário Líquido    : R${salario_b - (ir+inss+sindicato):.2f}\n",
    "    ''')\n",
    "elif salario_b > 2500:\n",
    "    ir = salario_b * 20/100\n",
    "    print(f'''\n",
    "    Salário Bruto ({s}): R$ {salario_b}\n",
    "    (-) IR - (20%)      : R${ir}\n",
    "    (-) INSS (10%)     : R${inss:.2f}\n",
    "    (-) Sindicato (3%) : R${sindicato:.2f}\n",
    "    FGTS (11%)         : R${fgts:.2f}\n",
    "    Total de Descontos : R${ir+inss+sindicato:.2f}\n",
    "    Salário Líquido    : R${salario_b - (ir+inss+sindicato):.2f}\n",
    "    ''')"
   ]
  },
  {
   "cell_type": "code",
   "execution_count": 4,
   "id": "623ab66c-69bd-46dc-9bb0-fd1a13beca96",
   "metadata": {},
   "outputs": [],
   "source": [
    "# 13 - Faça um programa que leia um número e exiba o dia correspondente da semana. (1-Domingo, 2- Segunda, 3- Terça etc.), se\n",
    "# digitar outro valor deve aparecer inválido."
   ]
  },
  {
   "cell_type": "code",
   "execution_count": 39,
   "id": "9e8e2595-0eaf-46e7-8dea-0adfdc0255c3",
   "metadata": {},
   "outputs": [
    {
     "name": "stdout",
     "output_type": "stream",
     "text": [
      "**************************************\n",
      "  ========== DIAS DA SEMANA ==========  \n",
      "**************************************\n"
     ]
    },
    {
     "name": "stdin",
     "output_type": "stream",
     "text": [
      "Infome um número de 1 a 7 para saber o dia correspondente da semana:  3\n"
     ]
    },
    {
     "name": "stdout",
     "output_type": "stream",
     "text": [
      "O dia da semana correspondente ao número 3 é TERÇA-FEIRA. \n"
     ]
    }
   ],
   "source": [
    "print('**'*19)\n",
    "print('  ========== DIAS DA SEMANA ==========  ')\n",
    "print('**'*19)\n",
    "dias =['','DOMINGO','SEGUNDA-FEIRA','TERÇA-FEIRA','QUARTA-FEIRA','QUINTA-FEIRA','SEXTA-FEIRA','SÁBADO']\n",
    "numero = int(input('Infome um número de 1 a 7 para saber o dia correspondente da semana: '))\n",
    "if numero > 7:\n",
    "    print('Número inválido!!!')\n",
    "elif numero >= 0 or numero <= 7:\n",
    "    print(f'O dia da semana correspondente ao número {numero} é {dias[numero]}. ')"
   ]
  },
  {
   "cell_type": "code",
   "execution_count": 40,
   "id": "5081e166-fa4d-49ff-8df1-b7f0762e3e3c",
   "metadata": {},
   "outputs": [],
   "source": [
    "# 14 - Faça um program que lê as duas notas parciais obtidas por um aluno numa disciplina ao longo de um semestre, e calcule a\n",
    "# sua média. A atribuição de conceitos obedece à tabela abaixo, o algoritmo deve mostrar na tela as notas, a média, o conceito \n",
    "# correspondente e a mensagem \"APROVADO\" se o conceito for A, B ou C e \"REPROVADO\" se o conceito for D ou E.\n",
    "# Média de Aproveitamento  Conceito\n",
    "# entre 9.0 e 10.0            A\n",
    "# entre 7.5 e 9.0             B\n",
    "# entre 6.0 e 7.5             C\n",
    "# entre 4.0 e 6.0             D\n",
    "# entre 0.0 e 4.0             E"
   ]
  },
  {
   "cell_type": "code",
   "execution_count": 16,
   "id": "e3eb6dd8-6014-40b9-9365-0ce919df0acd",
   "metadata": {},
   "outputs": [
    {
     "name": "stdout",
     "output_type": "stream",
     "text": [
      "**************************************\n",
      " ========== BOLETIM ESCOLAR ==========  \n",
      "**************************************\n"
     ]
    },
    {
     "name": "stdin",
     "output_type": "stream",
     "text": [
      "Informe a 1º nota :  0\n",
      "Informe a 2º nota :  0\n"
     ]
    },
    {
     "name": "stdout",
     "output_type": "stream",
     "text": [
      "\n",
      "    As suas notas foram 1º = 0.0 e a 2º = 0.0\n",
      "    Seu conceito foi \"E\"\n",
      "    Por isso você foi REPROVADO!!\n",
      "    \n"
     ]
    }
   ],
   "source": [
    "print('**'*19)\n",
    "print(' ========== BOLETIM ESCOLAR ==========  ')\n",
    "print('**'*19)\n",
    "nota1 = float(input('Informe a 1º nota : '))\n",
    "nota2 = float(input('Informe a 2º nota : '))\n",
    "media = (nota1+nota2)/2\n",
    "if media <= 4 :\n",
    "    print(f'''\n",
    "    As suas notas foram 1º = {nota1} e a 2º = {nota2}\n",
    "    Seu conceito foi \"E\"\n",
    "    Por isso você foi REPROVADO!!\n",
    "    ''')\n",
    "elif media <= 6 :\n",
    "    print(f'''\n",
    "    As suas notas foram 1º = {nota1} e a 2º = {nota2}\n",
    "    Seu conceito foi \"D\"\n",
    "    Por isso você foi REPROVADO!!\n",
    "    ''')\n",
    "elif media < 7.5 :\n",
    "    print(f'''\n",
    "    As suas notas foram 1º = {nota1} e a 2º = {nota2}\n",
    "    Seu conceito foi \"C\"\n",
    "    Por isso você foi APROVADO!!\n",
    "    ''')\n",
    "elif media < 9.0 :\n",
    "    print(f'''\n",
    "    As suas notas foram 1º = {nota1} e a 2º = {nota2}\n",
    "    Seu conceito foi \"B\"\n",
    "    Por isso você foi APROVADO!!\n",
    "    ''')\n",
    "elif media <= 10.0 :\n",
    "    print(f'''\n",
    "    As suas notas foram 1º = {nota1} e a 2º = {nota2}\n",
    "    Seu conceito foi \"A\"\n",
    "    Por isso você foi APROVADO!!\n",
    "    ''')"
   ]
  },
  {
   "cell_type": "code",
   "execution_count": 17,
   "id": "47157b63-6711-472a-ad94-ac2580130495",
   "metadata": {},
   "outputs": [],
   "source": [
    "# 15 - Faça um programa que peça os 3 lados de um triângulo. O programa deverá informar se os valores podem ser um triângulo.\n",
    "# indique, caso os lados formem um triângulo, se o mesmo é:\n",
    "# -> Equilátero três lados iguais\n",
    "# -> Isósceles dois lados iguais\n",
    "# -> Escaleno  três lados diferentes"
   ]
  },
  {
   "cell_type": "code",
   "execution_count": 20,
   "id": "31aa9fa1-5436-4035-9aaa-4feb83599012",
   "metadata": {},
   "outputs": [
    {
     "name": "stdout",
     "output_type": "stream",
     "text": [
      "================================================================================\n",
      "== IDENTIFICAR O TIPO DE TRIÂNGULO QUE SERA FEITO COM OS SEGMENTOS DADOS ==\n",
      "================================================================================\n"
     ]
    },
    {
     "name": "stdin",
     "output_type": "stream",
     "text": [
      "Informe o 1º lado:  4\n",
      "Informe o 2º lado:  8\n",
      "Informe o 3º lado:  1\n"
     ]
    },
    {
     "name": "stdout",
     "output_type": "stream",
     "text": [
      "Estes segmentos dados não formam um triângulo!!!\n",
      "Para saber mais vai estudar um pouco mais!! :)\n"
     ]
    }
   ],
   "source": [
    "print('===='*20)\n",
    "print('== IDENTIFICAR O TIPO DE TRIÂNGULO QUE SERA FEITO COM OS SEGMENTOS DADOS ==')\n",
    "print('===='*20)\n",
    "seg1 = float(input('Informe o 1º lado: '))\n",
    "seg2 = float(input('Informe o 2º lado: '))\n",
    "seg3 = float(input('Informe o 3º lado: '))\n",
    "if seg1 < seg2+seg3 and seg2< seg1 + seg3 and seg3 < seg1 + seg2:\n",
    "    print('Os lados dados podem formar um triângulo!')\n",
    "    if seg1 == seg2 == seg3:\n",
    "          print('Triângulo Equilátero!!')\n",
    "    elif seg1 != seg2 != seg3 != seg1:\n",
    "          print('Triângulo Escaleno!')\n",
    "    else:\n",
    "          print('Triângulo Isósceles!')\n",
    "else:\n",
    "    print('Estes segmentos dados não formam um triângulo!!!')\n",
    "print('Para saber mais vai estudar um pouco mais!! :)')"
   ]
  },
  {
   "cell_type": "code",
   "execution_count": 21,
   "id": "68b9a36d-1676-4070-8455-e6e7c49b3223",
   "metadata": {},
   "outputs": [],
   "source": [
    "# 16 - Faça um programa que calcule as raízes de uma equação do segundo grau, na forma ax2 + bx + c. O programa deverá pedir\n",
    "# os valores de a,b e c e fazer as consistências, informando ao usuário nas seguintes situações:\n",
    "# 1 - se o usuário informar o valor de A igual a zero, a equação não é do segundo grau e o programa não deve pedir os demais \n",
    "# valores, sendo encerrado;\n",
    "# 2 - se o delta calculado for negativo, a equação não possui raizes reais. Informe ao usuário e encerre o programa;\n",
    "# 3 - se o delta calculado for igual a zero a equação possui apenas uma raiz real; informe-a ao usuário;\n",
    "# 4 - se o delta for positivo, a equação possui duas raizes reais, informe-as ao usuário;"
   ]
  },
  {
   "cell_type": "code",
   "execution_count": 2,
   "id": "487d41df-e85d-425b-875c-9cc3674e0f93",
   "metadata": {},
   "outputs": [
    {
     "name": "stdout",
     "output_type": "stream",
     "text": [
      "*************** CALCULANDO RAÍZES DE UMA EQUAÇÃO DE SEGUNDO GRAU ***************\n"
     ]
    },
    {
     "name": "stdin",
     "output_type": "stream",
     "text": [
      "Informe um número inteiro para  a =  2\n",
      "Informe um número inteiro para  b =  7\n",
      "Informe um número inteiro para  c =  5\n"
     ]
    },
    {
     "name": "stdout",
     "output_type": "stream",
     "text": [
      "O resultado final para o valor de x = -1.00 e o valor para y = -2.50\n",
      "Por tanto as raizes são x1= -1.00 e x2= -2.50 !!!\n"
     ]
    }
   ],
   "source": [
    "import math\n",
    "print(' CALCULANDO RAÍZES DE UMA EQUAÇÃO DE SEGUNDO GRAU '.center(80,'*'))\n",
    "a = float(input('Informe um número inteiro para  a = '))\n",
    "b = float(input('Informe um número inteiro para  b = '))\n",
    "c = float(input('Informe um número inteiro para  c = '))\n",
    "#calculando o delta\n",
    "delta = b**2 - 4*a*c\n",
    "if delta < 0:\n",
    "    print('Esta equação não possui números reais.')\n",
    "elif delta == 0:\n",
    "        raiz1 = r1\n",
    "        print(f'Existe somente uma raiz para esta equação que é = x= {raiz1:.2f}')\n",
    "else:\n",
    "    r1 =(-b + math.sqrt(delta))/(2*a)\n",
    "    r2 =(-b - math.sqrt(delta))/(2*a)\n",
    "    raiz1 = r1\n",
    "    raiz2 = r2\n",
    "    print(f'O resultado final para o valor de x = {raiz1:.2f} e o valor para y = {raiz2:.2f}')\n",
    "    print(f'Por tanto as raizes são x1= {raiz1:.2f} e x2= {raiz2:.2f} !!!')\n"
   ]
  },
  {
   "cell_type": "code",
   "execution_count": null,
   "id": "dc4689f1-98fa-45b5-9c45-4b288f17eec5",
   "metadata": {},
   "outputs": [],
   "source": [
    "# 17-Faça um programa que peça um número correspondente a um determinado ano e em seguida informe se este ano é ou não bissexto"
   ]
  },
  {
   "cell_type": "code",
   "execution_count": 60,
   "id": "35ad1f4a-027c-472a-a9fb-8e5ef5e8feca",
   "metadata": {},
   "outputs": [
    {
     "name": "stdout",
     "output_type": "stream",
     "text": [
      "===== QUER SABER SE O ANO É OU FOI BISSEXTO? =======================\n"
     ]
    },
    {
     "name": "stdin",
     "output_type": "stream",
     "text": [
      "Que ano quer analisar? digite zero para o ano atual :  1970\n"
     ]
    },
    {
     "name": "stdout",
     "output_type": "stream",
     "text": [
      "Este ano 1970 não é Bissexto\n",
      "Digite outro ano para pesquisar !\n"
     ]
    }
   ],
   "source": [
    "from datetime import date\n",
    "print('===== QUER SABER SE O ANO É OU FOI BISSEXTO? =======================')\n",
    "ano = int(input('Que ano quer analisar? digite zero para o ano atual : '))\n",
    "if ano == 0:\n",
    "    ano = date.today().year\n",
    "if ano % 4 == 0 and ano % 100 != 0 or ano % 400 == 0:\n",
    "    print(f'Este ano {ano} é Bissexto')\n",
    "else:\n",
    "    print(f'Este ano {ano} não é Bissexto')\n",
    "print('Digite outro ano para pesquisar !')"
   ]
  },
  {
   "cell_type": "code",
   "execution_count": 61,
   "id": "0ea8c1ed-01cf-472d-811f-44cbd763039a",
   "metadata": {},
   "outputs": [],
   "source": [
    "# 18 - Faça um programa que peça uma data no formato dd/mm/aaaa e determine se a mesma é uma data válida."
   ]
  },
  {
   "cell_type": "code",
   "execution_count": 65,
   "id": "af88fb2a-82af-4b92-990f-ee2f56a894f9",
   "metadata": {},
   "outputs": [
    {
     "name": "stdin",
     "output_type": "stream",
     "text": [
      "Informe o Dia(dd):   29\n",
      "Informe o Mês(mm):   02\n",
      "Informe o Ano(aaaa):   1962\n"
     ]
    },
    {
     "name": "stdout",
     "output_type": "stream",
     "text": [
      "A data informada é inválida!!\n"
     ]
    }
   ],
   "source": [
    "import datetime\n",
    "dia = int(input('Informe o Dia(dd):  '))\n",
    "mes = int(input('Informe o Mês(mm):  '))\n",
    "ano = int(input('Informe o Ano(aaaa):  '))\n",
    "\n",
    "valida = False\n",
    "# testando meses com 31 dias\n",
    "if (mes ==1 or mes == 3 or mes == 5 or mes == 7 or mes == 8 or mes == 10 or mes == 12):\n",
    "    if (dia < 31):\n",
    "        valida = True\n",
    "# meses com 30 dias\n",
    "elif ( mes == 4 or mes == 6 or mes == 9 or mes == 11):\n",
    "    if (dia < 30):\n",
    "        valida = True\n",
    "elif mes == 2:\n",
    "    #testa se é bissexto\n",
    "    if(ano%4==0 and ano%100 != 0) or (ano%400 == 0):\n",
    "        if (dia < 29):\n",
    "            valida = True\n",
    "        elif (dia <= 28):\n",
    "            valida = True\n",
    "if valida:\n",
    "    print('A data informada é válida!!')\n",
    "else:\n",
    "    print('A data informada é inválida!!')"
   ]
  },
  {
   "cell_type": "code",
   "execution_count": 66,
   "id": "43d6f324-1c03-46f4-892b-4b003f2ed843",
   "metadata": {},
   "outputs": [],
   "source": [
    "# 19 - Faça um programa que leia um número inteiro menor que 1000 e imprima a quantidade de centenas, dezenas e unidades do \n",
    "# mesmo. Observando os termos no plural a colocação do \"e\", da vírgula entre outros, Exemplo:\n",
    "# -> 326 = 3 centenas, 2 dezenas e 6 unidades\n",
    "# -> 12 = 1 dezena e 2 unidades, testar com 326,300,100,320,310,305,101,311,111,25,20,10,21,11,1,7 e 16"
   ]
  },
  {
   "cell_type": "code",
   "execution_count": 6,
   "id": "8c2793b7-91dc-4b14-9ff7-68cda88a8d7e",
   "metadata": {},
   "outputs": [
    {
     "name": "stdout",
     "output_type": "stream",
     "text": [
      "--*----*----*----*----*----*----*----*----*----*----*----*----*----*----*--\n",
      "---------------------------DECOMPONDO OS NÚMEROS---------------------------\n",
      "--*----*----*----*----*----*----*----*----*----*----*----*----*----*----*--\n"
     ]
    },
    {
     "name": "stdin",
     "output_type": "stream",
     "text": [
      "Informe um número inteiro qualquer:  11\n"
     ]
    },
    {
     "name": "stdout",
     "output_type": "stream",
     "text": [
      "Analisando o Número 11\n",
      "\n",
      "    O número Tem:\n",
      "        1 unidade,\n",
      "        1 dezena,\n",
      "        0 centena,\n",
      "        0 milhar.\n",
      "\n"
     ]
    }
   ],
   "source": [
    "print('--*--'*15)\n",
    "print('DECOMPONDO OS NÚMEROS'.center(75,'-'))\n",
    "print('--*--'*15)\n",
    "numero = int(input('Informe um número inteiro qualquer: '))\n",
    "unidade = numero // 1 % 10\n",
    "dezena = numero // 10 % 10\n",
    "centena = numero // 100 % 10\n",
    "milhar = numero // 1000 % 10\n",
    "\n",
    "print(f'Analisando o Número {numero}')\n",
    "print(f'''\n",
    "    O número Tem:\n",
    "        {unidade} {'unidades' if unidade > 1 else 'unidade'},\n",
    "        {dezena } {'dezenas' if dezena > 1 else 'dezena'},\n",
    "        {centena} {'centenas' if centena > 1 else 'centena'},\n",
    "        {milhar} {'milhares' if milhar > 1 else 'milhar'}.\n",
    "''')"
   ]
  },
  {
   "cell_type": "code",
   "execution_count": null,
   "id": "864711b3-696c-44dd-90e4-facd1ba252dd",
   "metadata": {},
   "outputs": [],
   "source": [
    "# 20 - Faça um programa para leitura de três notas parciais de um aluno. O programa deve calcular a média alcançada por aluno\n",
    "# e apresentar:\n",
    "# -> A mensagem \"APROVADO\", se a média for maior ou igual a 7, com a respectiva média alcançada;\n",
    "# -> A mensagem \"REPROVADO\", se a média for menor do que 7, com a respectiva média alcançada;\n",
    "# -> A mensagem \"APROVADO COM DISTINÇÃO\", se a média for igual a 10."
   ]
  },
  {
   "cell_type": "code",
   "execution_count": 5,
   "metadata": {},
   "outputs": [
    {
     "output_type": "stream",
     "name": "stdout",
     "text": [
      "=================== BOLETIM ESCOLAR - TABAJARA'S SCHOOL ===================\n",
      "\u001b[32mVocê ficou com a média = 10.00, por tanto está \"APROVADO com Distinção!!\"\u001b[m\n"
     ]
    }
   ],
   "source": [
    "print(\" BOLETIM ESCOLAR - TABAJARA'S SCHOOL \".center(75,'='))\n",
    "n1 = float(input('Informe a 1º nota do aluno: '))\n",
    "n2 = float(input('Informe a 2º nota do aluno: '))\n",
    "n3 = float(input('Informe a 3º nota do aluno: '))\n",
    "media = (n1+n2+n3)/3\n",
    "if media < 7:\n",
    "    print(f'\\033[31mVocê ficou com a média = {media:.2f}, por tanto está \"REPROVADO!!\"\\033[m')\n",
    "elif media == 10:\n",
    "    print(f'\\033[32mVocê ficou com a média = {media:.2f}, por tanto está \"APROVADO com Distinção!!\"\\033[m')\n",
    "else:\n",
    "    print(f'\\033[36mVocê ficou com a média = {media:.2f}, por tanto está \"APROVADO\"\\033[m')"
   ]
  },
  {
   "cell_type": "code",
   "execution_count": null,
   "metadata": {},
   "outputs": [],
   "source": [
    "# 21 - Faça um programa para um caixa eletrônico. O programa deverá perguntar ao usuário a valor do saque e depois informar\n",
    "# quantas notas de cada valor serão fornecidas. As notas disponíveis serão de 1,5,10,50,100 reais. O valor mínimo é de 10 reais\n",
    "# O valor máximo de 600 reais. O programa não deve se preocupar com a quantidade de notas existentes na máquina.\n",
    "# Exemplo 1: Para sacar a quantia de 256 reais, o programa fornece duas notas de 100, uma nota de 50, uma nota de 5 e uma nota\n",
    "# de 1\n",
    "# Exemplo 2: para sacar a quantia de 399 reais, o programa fornece três notas de 100,uma de 50, quatro de 10, uma de 5 e quatro\n",
    "# notas de 1."
   ]
  },
  {
   "cell_type": "code",
   "execution_count": 10,
   "metadata": {},
   "outputs": [
    {
     "output_type": "stream",
     "name": "stdout",
     "text": [
      "========================BANCO ELETRONICO MONEY FAST========================\n",
      "Total de 5 cedulas de R$100\n",
      "Total de 4 cedulas de R$10\n",
      "Total de 1 cedulas de R$5\n",
      "Total de 3 cedulas de R$1\n",
      "\u001b[31mVolte sempre ao seu BANCO ELETRONICO MONEY FAST!!!!\u001b[m\n"
     ]
    }
   ],
   "source": [
    "print('BANCO ELETRONICO MONEY FAST'.center(75,'='))\n",
    "valor = int(input('Informe o valor a ser sacado R$ '))\n",
    "total = valor\n",
    "cedula = 100\n",
    "totalcedula = 0\n",
    "if valor > 10 and valor < 600:\n",
    "    while True:\n",
    "        if total >= cedula:\n",
    "            total -= cedula\n",
    "            totalcedula += 1\n",
    "        else:\n",
    "            if totalcedula > 0:\n",
    "                print(f'Total de {totalcedula} cedulas de R${cedula}')\n",
    "            if cedula == 100:\n",
    "                cedula = 50\n",
    "            elif cedula == 50:\n",
    "                cedula = 10\n",
    "            elif cedula == 10:\n",
    "                cedula = 5\n",
    "            elif cedula ==5:\n",
    "                cedula = 1\n",
    "            totalcedula = 0\n",
    "            if total == 0:\n",
    "                break\n",
    "else:\n",
    "    print('Valor solicitado esta fora dos limites de saque.')\n",
    "print('\\033[31mVolte sempre ao seu BANCO ELETRONICO MONEY FAST!!!!\\033[m')"
   ]
  },
  {
   "cell_type": "code",
   "execution_count": null,
   "metadata": {},
   "outputs": [],
   "source": [
    "# 22 - Faça um programa que peça um número inteiro e determine se ele é par ou ímpar. Dica utilize o operador módulo(resto da\n",
    "# divisão %)"
   ]
  },
  {
   "cell_type": "code",
   "execution_count": 11,
   "metadata": {},
   "outputs": [
    {
     "output_type": "stream",
     "name": "stdout",
     "text": [
      "*******************QUE SABER SE O NÚMERO É PÁR OU ÍMPAR?*******************\n",
      "O numero 65789764532 informado é PAR!!!\n"
     ]
    }
   ],
   "source": [
    "print('QUE SABER SE O NÚMERO É PÁR OU ÍMPAR?'.center(75,'*'))\n",
    "numero = int(input('Informe o número inteiro: '))\n",
    "if numero % 2 == 0:\n",
    "    print(f'O numero {numero} informado é PAR!!!')\n",
    "else:\n",
    "    print(f'O numero {numero} informado é ÍMPAR!!!')"
   ]
  },
  {
   "cell_type": "code",
   "execution_count": null,
   "metadata": {},
   "outputs": [],
   "source": [
    "# 23 -Faça um programa que peça um número e informe se o número é inteiro ou decimal. Dica utilize uma função de arredondamento"
   ]
  },
  {
   "cell_type": "code",
   "execution_count": 12,
   "metadata": {},
   "outputs": [
    {
     "output_type": "stream",
     "name": "stdout",
     "text": [
      "===================SABER SE O NÚMERO É INTEIRO OU DECIMAL==================\n",
      "O Número 1.8 é decimal do tipo \"float\"\n",
      "Arredondando para baixo: 1\n",
      "Arredondando para cima 2\n"
     ]
    }
   ],
   "source": [
    "print('SABER SE O NÚMERO É INTEIRO OU DECIMAL'.center(75,'='))\n",
    "num = float(input('Informe o Número: '))\n",
    "if num == round(num):\n",
    "    print(f'O Número {num} é Inteiro do tipo \"interger\"')\n",
    "else:\n",
    "    print(f'O Número {num} é decimal do tipo \"float\"')\n",
    "    print('Arredondando para baixo:',round(num-0.5))\n",
    "    print('Arredondando para cima',round(num+0.5))"
   ]
  },
  {
   "cell_type": "code",
   "execution_count": null,
   "metadata": {},
   "outputs": [],
   "source": [
    "# 24 - Faça um programa que leia 2 números e em seguida pergunte ao usuário qual operação ele deseja realizar. O resultado da\n",
    "# operação deve ser acompanhado de uma frase que diga se o número é:\n",
    "# -> par ou ímpar;\n",
    "# -> positivo ou negativo;\n",
    "# -> inteiro ou decimal."
   ]
  },
  {
   "cell_type": "code",
   "execution_count": 2,
   "metadata": {},
   "outputs": [
    {
     "output_type": "stream",
     "name": "stdout",
     "text": [
      "=============================ESCOLHA A OPERAÇÃO============================\n",
      "\n",
      "    Escolha a opção:\n",
      "    [1] = Soma\n",
      "    [2] = Subtração\n",
      "    [3] = Multiplicação\n",
      "    [4] = Divisão\n",
      "    [0] = digite zero para sair  \n",
      "\n",
      "A divisão dos números 6.0 e 3.0 é = 2.0\n",
      "O número 2.0 é um número PAR\n",
      "O número 2.0 é um número POSITIVO\n",
      "O Número 2.0 é Inteiro do tipo \"interger\"\n",
      "FIM DO PROGRAMA!!!\n"
     ]
    }
   ],
   "source": [
    "print('ESCOLHA A OPERAÇÃO'.center(75,'='))\n",
    "\n",
    "print('''\n",
    "    Escolha a opção:\n",
    "    [1] = Soma\n",
    "    [2] = Subtração\n",
    "    [3] = Multiplicação\n",
    "    [4] = Divisão\n",
    "    [0] = digite zero para sair  \n",
    "''')\n",
    "opcao = int(input('Informe sua Opção: '))\n",
    "if opcao != 0:\n",
    "    n1 = float(input('Informe um 1º Número: '))\n",
    "    n2 = float(input('Informe um 2º Número: '))\n",
    "    if opcao == 1:\n",
    "        soma = n1 + n2\n",
    "        print(f'A soma dos números {n1} e {n2} é = {soma}')\n",
    "        if soma % 2 == 0:\n",
    "            print(f'O número {soma} é um número PAR')\n",
    "        if soma %2 != 0:\n",
    "            print(f'O número {soma} é um número ÍMPAR')    \n",
    "        if soma >= 0:\n",
    "            print(f'O número {soma} é um número POSITIVO') \n",
    "        if soma < 0:\n",
    "             print(f'O número {soma} é um número NEGATIVO')\n",
    "        if soma == round(soma):\n",
    "            print(f'O Número {soma} é Inteiro do tipo \"interger\"')\n",
    "        else:\n",
    "            print(f'O Número {soma} é decimal do tipo \"float\"')\n",
    "    if opcao == 2:\n",
    "        sub = n1 - n2\n",
    "        print(f'A subtração dos números {n1} e {n2} é = {sub}')\n",
    "        if sub % 2 == 0:\n",
    "            print(f'O número {sub} é um número PAR')\n",
    "        if sub %2 != 0:\n",
    "            print(f'O número {sub} é um número ÍMPAR')    \n",
    "        if sub >= 0:\n",
    "            print(f'O número {sub} é um número POSITIVO') \n",
    "        if sub < 0:\n",
    "             print(f'O número {sub} é um número NEGATIVO')\n",
    "        if sub == round(sub):\n",
    "            print(f'O Número {sub} é Inteiro do tipo \"interger\"')\n",
    "        else:\n",
    "            print(f'O Número {sub} é decimal do tipo \"float\"')\n",
    "    if opcao == 3:\n",
    "        mult = n1 * n2\n",
    "        print(f'A multiplicação dos números {n1} e {n2} é = {mult}')\n",
    "        if mult % 2 == 0:\n",
    "            print(f'O número {mult} é um número PAR')\n",
    "        if mult %2 != 0:\n",
    "            print(f'O número {mult} é um número ÍMPAR')    \n",
    "        if mult >= 0:\n",
    "            print(f'O número {mult} é um número POSITIVO') \n",
    "        if mult < 0:\n",
    "             print(f'O número {mult} é um número NEGATIVO')\n",
    "        if mult == round(mult):\n",
    "            print(f'O Número {mult} é Inteiro do tipo \"interger\"')\n",
    "        else:\n",
    "            print(f'O Número {mult} é decimal do tipo \"float\"')\n",
    "    if opcao == 4:\n",
    "        div = n1 / n2\n",
    "        print(f'A divisão dos números {n1} e {n2} é = {div}')\n",
    "        if div % 2 == 0:\n",
    "            print(f'O número {div} é um número PAR')\n",
    "        if div %2 != 0:\n",
    "            print(f'O número {div} é um número ÍMPAR')    \n",
    "        if div >= 0:\n",
    "            print(f'O número {div} é um número POSITIVO') \n",
    "        if div < 0:\n",
    "             print(f'O número {div} é um número NEGATIVO')\n",
    "        if div == round(div):\n",
    "            print(f'O Número {div} é Inteiro do tipo \"interger\"')\n",
    "        else:\n",
    "            print(f'O Número {div} é decimal do tipo \"float\"')\n",
    "else:\n",
    "    print('Obrigado!!!')\n",
    "print('FIM DO PROGRAMA!!!')"
   ]
  },
  {
   "cell_type": "code",
   "execution_count": null,
   "metadata": {},
   "outputs": [],
   "source": [
    "# 25 - Faça um programa que faça 5 perguntas para uma pessoa sobre um crime. As perguntas são:\n",
    "# -> Telefonou para a vítima?\n",
    "# -> Esteve no local do crime?\n",
    "# -> Mora perto da vítima?\n",
    "# -> Devia para a vítima?\n",
    "# -> Já trabalhou com a vítima?\n",
    "# O programa deve no final emitir uma classificação sobre a participação da pessoa no crime. Se a pessoa responder positivamen_\n",
    "# te a 2 questões ele deve ser classificada como \"Suspeita\", entre 3 e 4 como \"Cuúmplice\", e 5 como \"Assassino\". Caso contrário\n",
    "# ele(a) será classificado como \"Inocente\"."
   ]
  },
  {
   "cell_type": "code",
   "execution_count": 4,
   "metadata": {},
   "outputs": [
    {
     "output_type": "stream",
     "name": "stdout",
     "text": [
      "**********************************DETETIVE*********************************\n",
      "Serão feitas 5 perguntas por favor responda SIM ou NÃO apenas\n",
      "Entrevistado é Inocente!!\n"
     ]
    }
   ],
   "source": [
    "print('DETETIVE'.center(75,'*'))\n",
    "print('Serão feitas 5 perguntas por favor responda SIM ou NÃO apenas')\n",
    "p1 = str(input('Telefonou para a vítima?: ')).strip().upper()[0]\n",
    "p2 = str(input('Esteve no local do crime?: ')).strip().upper()[0]\n",
    "p3 = str(input('Mora perto da vítima?: ')).strip().upper()[0]\n",
    "p4 = str(input('Devia para a vítima?: ')).strip().upper()[0]\n",
    "p5 = str(input('Já trabalhou com a vítima?: ')).strip().upper()[0]\n",
    "resp = 0\n",
    "resposta =[p1,p2,p3,p4,p5]\n",
    "for i in range(5):\n",
    "    if resposta[i] == 'S':\n",
    "        resp += 1\n",
    "if resp == 2:\n",
    "    print('Entrevistado é Suspeito!!')\n",
    "elif resp == 3 or resp == 4:\n",
    "    print('Entrevistado é Cúmplice!!')\n",
    "elif resp > 4:\n",
    "    print('Entrevistado é o Assassino!!')\n",
    "else:\n",
    "    print('Entrevistado é Inocente!!')\n"
   ]
  },
  {
   "cell_type": "code",
   "execution_count": null,
   "metadata": {},
   "outputs": [],
   "source": [
    "# 26 - Um posto de gasolina está vendendo combustíveis com a seguinte tabela de descontos:\n",
    "# -> Álcool:\n",
    "#           -> até 20 litros , desconto de 30% por litro\n",
    "#           -> acima de 20 litros, desconto de 5% por litro\n",
    "# -> Gasolina:\n",
    "#           -> até 20 litros, desconto de 4% por litro\n",
    "#           -> acima de 20 litros, desconto de 6% por litro.\n",
    "# Escreva um algoritmo que leia o número de litros vendidos, o tipo de combustível(codificado da seguinte forma : A-álcool,\n",
    "# G-gasolina), calcule e imprima o valor a ser pago pelo cliente sabendo-se que o preço do litro da gasolina é R$ 2,50 e o \n",
    "# preço do litro do álcool é R$ 1,90."
   ]
  },
  {
   "cell_type": "code",
   "execution_count": 5,
   "metadata": {},
   "outputs": [
    {
     "output_type": "stream",
     "name": "stdout",
     "text": [
      "######################\u001b[34m POSTO ABASTEÇA JÁ LTDA\u001b[m #####################\n",
      "\n",
      "    Os preços são:\n",
      "        G - gasolina = R$ 2,50\n",
      "        A - álcool   = R$ 1,90\n",
      "        D - diesel   = R# 2,10\n",
      "\n",
      "O valor a pagar pelo Diesel é de : R$39.90!\n"
     ]
    }
   ],
   "source": [
    "print('\\033[34m POSTO ABASTEÇA JÁ LTDA\\033[m '.center(75,'#'))\n",
    "print('''\n",
    "    Os preços são:\n",
    "        G - gasolina = R$ 2,50\n",
    "        A - álcool   = R$ 1,90\n",
    "        D - diesel   = R# 2,10\n",
    "''')\n",
    "# Definindo o preço dos combustíveis\n",
    "pre_g = 2.5\n",
    "pre_a = 1.90\n",
    "tipo = str(input('Informe o tipo de Combustível G-gasolina e A-álcool [G/A]')).strip().upper()[0]\n",
    "qtda = float(input('Informe a quantidade de litros abastecida: '))\n",
    "if tipo == 'A' or tipo == 'G' or tipo == 'D':\n",
    "    if tipo == 'A':\n",
    "        if qtda <=20 :\n",
    "            tot = qtda * (1.9 - (1.9 * 30/100))#como foi feito o desconto percentual\n",
    "            print(f'O valor a pagar pelo Álcool é de : R${tot:.2f}!')\n",
    "        else:\n",
    "            tot = qtda * (1.9 - (1.9 * 5/100)) #como foi feito o desconto percentual\n",
    "            print(f'O valor a pagar pelo Álcool é de : R${tot:.2f}!!')\n",
    "    if tipo == 'G':\n",
    "        if qtda <=20 :\n",
    "            tot = qtda * (2.5 - (2.5 * 4/100))#como foi feito o desconto percentual\n",
    "            print(f'O valor a pagar pela Gasolina é de : R${tot:.2f}!')\n",
    "        else:\n",
    "            tot = qtda * (2.5 - (2.5 * 6/100))#como foi feito o desconto percentual\n",
    "            print(f'O valor a pagar pela Gasolina é de : R${tot:.2f}!')\n",
    "    if tipo == 'D':\n",
    "        if qtda <=20 :\n",
    "            tot = qtda * (2.1 - (2.1 * 5/100))#como foi feito o desconto percentual\n",
    "            print(f'O valor a pagar pelo Diesel é de : R${tot:.2f}!')\n",
    "        else:\n",
    "            tot = qtda * (2.1 - (2.1 * 8/100))#como foi feito o desconto percentual\n",
    "            print(f'O valor a pagar pelo Diesel é de : R${tot:.2f}!')\n",
    "else:\n",
    "    print('Combustível escolhido não existe, tente novamente !!')"
   ]
  },
  {
   "cell_type": "code",
   "execution_count": null,
   "metadata": {},
   "outputs": [],
   "source": []
  }
 ],
 "metadata": {
  "kernelspec": {
   "name": "python3",
   "display_name": "Python 3.9.2 32-bit"
  },
  "language_info": {
   "codemirror_mode": {
    "name": "ipython",
    "version": 3
   },
   "file_extension": ".py",
   "mimetype": "text/x-python",
   "name": "python",
   "nbconvert_exporter": "python",
   "pygments_lexer": "ipython3",
   "version": "3.9.2"
  },
  "interpreter": {
   "hash": "da3460cc78f271554f6a3a681ed2a32fa895245a3c5b5da2eea0b0947e805e26"
  }
 },
 "nbformat": 4,
 "nbformat_minor": 5
}