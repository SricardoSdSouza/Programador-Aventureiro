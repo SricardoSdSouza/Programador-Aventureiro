{
 "cells": [
  {
   "cell_type": "code",
   "execution_count": 1,
   "id": "e238c148-1b84-47a6-a87a-588835bc54f0",
   "metadata": {},
   "outputs": [
    {
     "name": "stdout",
     "output_type": "stream",
     "text": [
      "True\n"
     ]
    }
   ],
   "source": [
    "a = 0\n",
    "b = 15\n",
    "print((a+10)==(b-5))"
   ]
  },
  {
   "cell_type": "code",
   "execution_count": 2,
   "id": "3bd70f53-f634-40fe-8b08-d0174a4644a4",
   "metadata": {},
   "outputs": [
    {
     "data": {
      "text/plain": [
       "False"
      ]
     },
     "execution_count": 2,
     "metadata": {},
     "output_type": "execute_result"
    }
   ],
   "source": [
    "3**2 == \"9\""
   ]
  },
  {
   "cell_type": "code",
   "execution_count": 3,
   "id": "7ad8537b-b870-435e-8206-59e83099525c",
   "metadata": {},
   "outputs": [
    {
     "data": {
      "text/plain": [
       "False"
      ]
     },
     "execution_count": 3,
     "metadata": {},
     "output_type": "execute_result"
    }
   ],
   "source": [
    "not((128/16 == 8)or(2*3 == \"6\"))"
   ]
  },
  {
   "cell_type": "code",
   "execution_count": 4,
   "id": "f83ff126-5048-4dea-ba28-e09b35470341",
   "metadata": {},
   "outputs": [
    {
     "data": {
      "text/plain": [
       "True"
      ]
     },
     "execution_count": 4,
     "metadata": {},
     "output_type": "execute_result"
    }
   ],
   "source": [
    "# o operador \"is\" verifica se dusas veriáveis apontam para o mesmo objeto o operador \"==\" verifica se as variáveis são iguais\n",
    "a = [1,2,3]\n",
    "b = a\n",
    "b is a"
   ]
  },
  {
   "cell_type": "code",
   "execution_count": 5,
   "id": "d7f8c928-ba4e-484c-bf9f-fdab688efdf0",
   "metadata": {},
   "outputs": [
    {
     "data": {
      "text/plain": [
       "True"
      ]
     },
     "execution_count": 5,
     "metadata": {},
     "output_type": "execute_result"
    }
   ],
   "source": [
    "b==a"
   ]
  },
  {
   "cell_type": "code",
   "execution_count": null,
   "id": "4e9071dd-65b8-4f5c-b042-d4eb05deb00f",
   "metadata": {},
   "outputs": [],
   "source": [
    "# usando o fatiamento a variável aponta para outra posição"
   ]
  },
  {
   "cell_type": "code",
   "execution_count": 6,
   "id": "599ff892-eb9a-4c8e-af8c-5b5eb3bb88eb",
   "metadata": {},
   "outputs": [],
   "source": [
    "b = a[:]"
   ]
  },
  {
   "cell_type": "code",
   "execution_count": 7,
   "id": "0991731e-04c3-4bcc-9a53-75655761031e",
   "metadata": {},
   "outputs": [
    {
     "data": {
      "text/plain": [
       "[1, 2, 3]"
      ]
     },
     "execution_count": 7,
     "metadata": {},
     "output_type": "execute_result"
    }
   ],
   "source": [
    "b"
   ]
  },
  {
   "cell_type": "code",
   "execution_count": 8,
   "id": "03f7863f-6ccf-4745-be6a-4e4513d52aad",
   "metadata": {},
   "outputs": [
    {
     "data": {
      "text/plain": [
       "False"
      ]
     },
     "execution_count": 8,
     "metadata": {},
     "output_type": "execute_result"
    }
   ],
   "source": [
    "b is a"
   ]
  },
  {
   "cell_type": "code",
   "execution_count": 9,
   "id": "9cfc1872-a8eb-4ee3-a25b-4d29b5dc43e2",
   "metadata": {},
   "outputs": [
    {
     "data": {
      "text/plain": [
       "True"
      ]
     },
     "execution_count": 9,
     "metadata": {},
     "output_type": "execute_result"
    }
   ],
   "source": [
    "b==a"
   ]
  },
  {
   "cell_type": "code",
   "execution_count": 10,
   "id": "462553db-1e19-4468-9230-d2819d4d0267",
   "metadata": {},
   "outputs": [
    {
     "name": "stderr",
     "output_type": "stream",
     "text": [
      "<>:1: SyntaxWarning: \"is\" with a literal. Did you mean \"==\"?\n",
      "<>:1: SyntaxWarning: \"is\" with a literal. Did you mean \"==\"?\n",
      "<ipython-input-10-d1e85a00d4b6>:1: SyntaxWarning: \"is\" with a literal. Did you mean \"==\"?\n",
      "  1000 is 10**3\n"
     ]
    },
    {
     "data": {
      "text/plain": [
       "True"
      ]
     },
     "execution_count": 10,
     "metadata": {},
     "output_type": "execute_result"
    }
   ],
   "source": [
    "1000 is 10**3"
   ]
  },
  {
   "cell_type": "code",
   "execution_count": 12,
   "id": "45a3bc81-fa6e-432e-900d-0fb89626b426",
   "metadata": {},
   "outputs": [],
   "source": [
    "# com strings tambem podemos usar os operadores"
   ]
  },
  {
   "cell_type": "code",
   "execution_count": 13,
   "id": "f475d455-5a67-4819-88ab-1120ab495978",
   "metadata": {},
   "outputs": [
    {
     "name": "stderr",
     "output_type": "stream",
     "text": [
      "<>:1: SyntaxWarning: \"is\" with a literal. Did you mean \"==\"?\n",
      "<>:1: SyntaxWarning: \"is\" with a literal. Did you mean \"==\"?\n",
      "<ipython-input-13-df006e5ab09a>:1: SyntaxWarning: \"is\" with a literal. Did you mean \"==\"?\n",
      "  \"a\" is \"a\"\n"
     ]
    },
    {
     "data": {
      "text/plain": [
       "True"
      ]
     },
     "execution_count": 13,
     "metadata": {},
     "output_type": "execute_result"
    }
   ],
   "source": [
    "\"a\" is \"a\""
   ]
  },
  {
   "cell_type": "code",
   "execution_count": 14,
   "id": "50f3e32a-fcde-4fcc-a886-77ede1f82f92",
   "metadata": {},
   "outputs": [
    {
     "name": "stderr",
     "output_type": "stream",
     "text": [
      "<>:1: SyntaxWarning: \"is\" with a literal. Did you mean \"==\"?\n",
      "<>:1: SyntaxWarning: \"is\" with a literal. Did you mean \"==\"?\n",
      "<ipython-input-14-6f45c7741906>:1: SyntaxWarning: \"is\" with a literal. Did you mean \"==\"?\n",
      "  \"aa\" is \"a\"*2\n"
     ]
    },
    {
     "data": {
      "text/plain": [
       "True"
      ]
     },
     "execution_count": 14,
     "metadata": {},
     "output_type": "execute_result"
    }
   ],
   "source": [
    "\"aa\" is \"a\"*2"
   ]
  },
  {
   "cell_type": "code",
   "execution_count": 15,
   "id": "998f9dec-b7e4-474f-9822-5fe0d65b4397",
   "metadata": {},
   "outputs": [],
   "source": [
    "x = \"a\""
   ]
  },
  {
   "cell_type": "code",
   "execution_count": 16,
   "id": "15988e3e-efda-4616-b28f-9c4366b18ba8",
   "metadata": {},
   "outputs": [
    {
     "name": "stderr",
     "output_type": "stream",
     "text": [
      "<>:1: SyntaxWarning: \"is\" with a literal. Did you mean \"==\"?\n",
      "<>:1: SyntaxWarning: \"is\" with a literal. Did you mean \"==\"?\n",
      "<ipython-input-16-8fdee8150228>:1: SyntaxWarning: \"is\" with a literal. Did you mean \"==\"?\n",
      "  \"aa\" is x*2\n"
     ]
    },
    {
     "data": {
      "text/plain": [
       "False"
      ]
     },
     "execution_count": 16,
     "metadata": {},
     "output_type": "execute_result"
    }
   ],
   "source": [
    "\"aa\" is x*2"
   ]
  },
  {
   "cell_type": "code",
   "execution_count": 17,
   "id": "9d0b2f8a-9c05-48be-9a67-22d66fdf2fdd",
   "metadata": {},
   "outputs": [],
   "source": [
    "# usando condicionais aninhados"
   ]
  },
  {
   "cell_type": "code",
   "execution_count": 23,
   "id": "4444636c-c243-476e-a253-ee251f776e68",
   "metadata": {},
   "outputs": [
    {
     "name": "stdout",
     "output_type": "stream",
     "text": [
      "11 é maior do que 10\n"
     ]
    }
   ],
   "source": [
    "x = 11\n",
    "y = 10\n",
    "if x < y:\n",
    "    print(f'{x} é menor do que {y}')\n",
    "else:\n",
    "    if x > y:\n",
    "        print(f'{x} é maior do que {y}')\n",
    "    else:\n",
    "        print(f'Portanto {x} é = a  {y} .')"
   ]
  },
  {
   "cell_type": "code",
   "execution_count": 24,
   "id": "62fa63bb-eda7-4080-9a3b-1c16699e61ce",
   "metadata": {},
   "outputs": [
    {
     "name": "stdout",
     "output_type": "stream",
     "text": [
      "11 é maior do que 10\n"
     ]
    }
   ],
   "source": [
    "if x < y:\n",
    "    print(f'{x} é menor do que {y}')\n",
    "elif x > y:\n",
    "    print(f'{x} é maior do que {y}')\n",
    "else:\n",
    "    print(f'Portanto {x} é = a  {y} .')"
   ]
  },
  {
   "cell_type": "code",
   "execution_count": null,
   "id": "b7a758e4-2634-4e52-a8a4-daddb038c421",
   "metadata": {},
   "outputs": [],
   "source": []
  }
 ],
 "metadata": {
  "kernelspec": {
   "display_name": "Python 3",
   "language": "python",
   "name": "python3"
  },
  "language_info": {
   "codemirror_mode": {
    "name": "ipython",
    "version": 3
   },
   "file_extension": ".py",
   "mimetype": "text/x-python",
   "name": "python",
   "nbconvert_exporter": "python",
   "pygments_lexer": "ipython3",
   "version": "3.8.8"
  }
 },
 "nbformat": 4,
 "nbformat_minor": 5
}
