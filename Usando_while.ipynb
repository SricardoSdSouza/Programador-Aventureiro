{
 "cells": [
  {
   "cell_type": "code",
   "execution_count": 1,
   "id": "1c983041-4fa4-43ea-a5ad-150257d2fa06",
   "metadata": {},
   "outputs": [],
   "source": [
    "#usando o laço com while"
   ]
  },
  {
   "cell_type": "code",
   "execution_count": 7,
   "id": "9bfa6c27-f0bc-4c73-8107-534bf9717c12",
   "metadata": {},
   "outputs": [
    {
     "name": "stdout",
     "output_type": "stream",
     "text": [
      "0  1  2  "
     ]
    }
   ],
   "source": [
    "a = 0\n",
    "while a < 3:\n",
    "    print(a,' ', end=\"\")\n",
    "    #print(a)\n",
    "    a +=1"
   ]
  },
  {
   "cell_type": "code",
   "execution_count": 8,
   "id": "170950cd-73df-45cc-a341-4b45886bc052",
   "metadata": {},
   "outputs": [
    {
     "name": "stdout",
     "output_type": "stream",
     "text": [
      "O valor de a é:  10\n",
      "O valor de a é:  0\n",
      "----------\n",
      "O valor de a é:  9\n",
      "O valor de a é:  0\n",
      "----------\n",
      "O valor de a é:  8\n",
      "O valor de a é:  0\n",
      "----------\n",
      "O valor de a é:  7\n",
      "O valor de a é:  0\n",
      "----------\n",
      "O valor de a é:  6\n",
      "O valor de a é:  0\n",
      "----------\n",
      "O valor de a é:  5\n",
      "O valor de a é:  0\n",
      "----------\n",
      "O valor de a é:  4\n",
      "O valor de a é:  0\n",
      "----------\n",
      "O valor de a é:  3\n",
      "O valor de a é:  0\n",
      "----------\n",
      "O valor de a é:  2\n",
      "O valor de a é:  0\n",
      "----------\n",
      "O valor de a é:  1\n",
      "O valor de a é:  0\n",
      "----------\n"
     ]
    }
   ],
   "source": [
    "a = 10\n",
    "b = 0\n",
    "while a != b:\n",
    "    print('O valor de a é: ', a)\n",
    "    print('O valor de a é: ', b)\n",
    "    print('-'*10)\n",
    "    a -= 1"
   ]
  },
  {
   "cell_type": "code",
   "execution_count": 9,
   "id": "3beddd74-0e17-435a-b4e6-928512966fa9",
   "metadata": {},
   "outputs": [
    {
     "name": "stdout",
     "output_type": "stream",
     "text": [
      "O valor de a é:  10\n",
      "O valor de a é:  0\n",
      "----------\n",
      "O valor de a é:  9\n",
      "O valor de a é:  1\n",
      "----------\n",
      "O valor de a é:  8\n",
      "O valor de a é:  2\n",
      "----------\n",
      "O valor de a é:  7\n",
      "O valor de a é:  3\n",
      "----------\n",
      "O valor de a é:  6\n",
      "O valor de a é:  4\n",
      "----------\n"
     ]
    }
   ],
   "source": [
    "a = 10\n",
    "b = 0\n",
    "while a != b:\n",
    "    print('O valor de a é: ', a)\n",
    "    print('O valor de a é: ', b)\n",
    "    print('-'*10)\n",
    "    a -= 1\n",
    "    b += 1"
   ]
  },
  {
   "cell_type": "code",
   "execution_count": 10,
   "id": "c1024ab3-b4e1-4be4-9e01-d0c30142a63c",
   "metadata": {},
   "outputs": [
    {
     "name": "stdout",
     "output_type": "stream",
     "text": [
      "c = 10, d = 15, e = 200\n",
      "c = 20, d = 45, e = 100.0\n",
      "c = 40, d = 75, e = 50.0\n",
      "c = 80, d = 105, e = 25.0\n",
      "fim do while!!\n"
     ]
    }
   ],
   "source": [
    "c = 10\n",
    "d = 15\n",
    "e = 200\n",
    "while c < e or d > c:\n",
    "    print(f'c = {c}, d = {d}, e = {e}')\n",
    "    c *= 2\n",
    "    d += 30\n",
    "    e /= 2\n",
    "print('fim do while!!')"
   ]
  },
  {
   "cell_type": "code",
   "execution_count": 11,
   "id": "95536baa-23a2-4798-ae99-9730dce46e03",
   "metadata": {},
   "outputs": [
    {
     "name": "stdout",
     "output_type": "stream",
     "text": [
      "c = 160, d = 135, e = 12.5\n"
     ]
    }
   ],
   "source": [
    "print(f'c = {c}, d = {d}, e = {e}')"
   ]
  },
  {
   "cell_type": "code",
   "execution_count": 12,
   "id": "d927c8ed-d56d-483c-ba87-d512550ec6b3",
   "metadata": {},
   "outputs": [
    {
     "name": "stdout",
     "output_type": "stream",
     "text": [
      "curso de python\n",
      "curso de pytho\n",
      "curso de pyth\n",
      "curso de pyt\n",
      "curso de py\n",
      "curso de p\n",
      "curso de \n"
     ]
    }
   ],
   "source": [
    "f = 'curso de python'\n",
    "g = len(f)\n",
    "while f [:g].startswith('curso de '):\n",
    "    print(f[:g])\n",
    "    g -= 1"
   ]
  },
  {
   "cell_type": "code",
   "execution_count": 13,
   "id": "76a9362a-5cbf-497b-b050-2b6bf0ea4fae",
   "metadata": {},
   "outputs": [
    {
     "name": "stdout",
     "output_type": "stream",
     "text": [
      "curso de python\n",
      "curso de pytho\n",
      "curso de pyth\n",
      "curso de pyt\n",
      "curso de py\n",
      "curso de p\n",
      "curso de \n",
      "curso deDjango\n"
     ]
    }
   ],
   "source": [
    "f = 'curso de python'\n",
    "g = len(f)\n",
    "while f [:g].startswith('curso de '):\n",
    "    print(f[:g])\n",
    "    g -= 1\n",
    "else:\n",
    "    print(f[:g] + 'Django')"
   ]
  },
  {
   "cell_type": "code",
   "execution_count": null,
   "id": "4e61ab34-9f2c-4cbb-8965-619f95db8b2c",
   "metadata": {},
   "outputs": [],
   "source": []
  }
 ],
 "metadata": {
  "kernelspec": {
   "display_name": "Python 3",
   "language": "python",
   "name": "python3"
  },
  "language_info": {
   "codemirror_mode": {
    "name": "ipython",
    "version": 3
   },
   "file_extension": ".py",
   "mimetype": "text/x-python",
   "name": "python",
   "nbconvert_exporter": "python",
   "pygments_lexer": "ipython3",
   "version": "3.8.8"
  }
 },
 "nbformat": 4,
 "nbformat_minor": 5
}
