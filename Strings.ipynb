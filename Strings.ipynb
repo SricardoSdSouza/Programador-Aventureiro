{
 "cells": [
  {
   "cell_type": "code",
   "execution_count": 1,
   "id": "c6d5137e-a480-4363-80b6-270233cc65a4",
   "metadata": {},
   "outputs": [],
   "source": [
    "Nome = 'Ricardo'"
   ]
  },
  {
   "cell_type": "code",
   "execution_count": 2,
   "id": "208cec12-ba4a-4cca-9990-56363f46ce1e",
   "metadata": {},
   "outputs": [],
   "source": [
    "Sobrenome = 'Souza'"
   ]
  },
  {
   "cell_type": "code",
   "execution_count": 5,
   "id": "fb5f154b-ee7a-40a6-942f-9eb3d7536886",
   "metadata": {},
   "outputs": [
    {
     "data": {
      "text/plain": [
       "'Nome: Ricardo | Sobrenome: Souza'"
      ]
     },
     "execution_count": 5,
     "metadata": {},
     "output_type": "execute_result"
    }
   ],
   "source": [
    "f'Nome: {Nome:0<4} | Sobrenome: {Sobrenome:->4}'"
   ]
  },
  {
   "cell_type": "code",
   "execution_count": 6,
   "id": "0547a24f-8bea-4f32-9dcc-4faa77ccc7be",
   "metadata": {},
   "outputs": [
    {
     "data": {
      "text/plain": [
       "'00000001234'"
      ]
     },
     "execution_count": 6,
     "metadata": {},
     "output_type": "execute_result"
    }
   ],
   "source": [
    "'1234'.zfill(11)"
   ]
  },
  {
   "cell_type": "code",
   "execution_count": 7,
   "id": "0491645d-070f-4e1d-b893-dc5f4b6fcc58",
   "metadata": {},
   "outputs": [
    {
     "data": {
      "text/plain": [
       "'00000123456'"
      ]
     },
     "execution_count": 7,
     "metadata": {},
     "output_type": "execute_result"
    }
   ],
   "source": [
    "'123456'.zfill(11)"
   ]
  },
  {
   "cell_type": "code",
   "execution_count": 8,
   "id": "e3b91f1c-9a05-42b0-848d-441aa501506a",
   "metadata": {},
   "outputs": [
    {
     "data": {
      "text/plain": [
       "'00012345678'"
      ]
     },
     "execution_count": 8,
     "metadata": {},
     "output_type": "execute_result"
    }
   ],
   "source": [
    "'12345678'.zfill(11)"
   ]
  },
  {
   "cell_type": "code",
   "execution_count": 9,
   "id": "2918e556-c751-4652-aba5-68ece89470b1",
   "metadata": {},
   "outputs": [
    {
     "data": {
      "text/plain": [
       "'1234567890'"
      ]
     },
     "execution_count": 9,
     "metadata": {},
     "output_type": "execute_result"
    }
   ],
   "source": [
    "'1234567890'"
   ]
  },
  {
   "cell_type": "code",
   "execution_count": 10,
   "id": "2385cdcc-9e28-453d-be60-8c630ed392f2",
   "metadata": {},
   "outputs": [
    {
     "data": {
      "text/plain": [
       "'43282040687'"
      ]
     },
     "execution_count": 10,
     "metadata": {},
     "output_type": "execute_result"
    }
   ],
   "source": [
    "'43282040687'"
   ]
  },
  {
   "cell_type": "code",
   "execution_count": 11,
   "id": "73f7b353-e8ce-4cd9-a05a-f8bbb8243163",
   "metadata": {},
   "outputs": [
    {
     "data": {
      "text/plain": [
       "'04328204068'"
      ]
     },
     "execution_count": 11,
     "metadata": {},
     "output_type": "execute_result"
    }
   ],
   "source": [
    "'4328204068'.zfill(11)"
   ]
  },
  {
   "cell_type": "code",
   "execution_count": null,
   "id": "2f3d85b6-3ec5-4231-aaa1-8b07b9440e25",
   "metadata": {},
   "outputs": [],
   "source": [
    "#exibir percentual"
   ]
  },
  {
   "cell_type": "code",
   "execution_count": 14,
   "id": "038db3d7-df83-4405-aa63-96ba1ef9afb3",
   "metadata": {},
   "outputs": [
    {
     "data": {
      "text/plain": [
       "'taxa:33.33%'"
      ]
     },
     "execution_count": 14,
     "metadata": {},
     "output_type": "execute_result"
    }
   ],
   "source": [
    "f'taxa:{1/3 :.2%}'"
   ]
  },
  {
   "cell_type": "code",
   "execution_count": 15,
   "id": "f7808ff6-70a0-457a-a7d1-aa67d1f66de7",
   "metadata": {},
   "outputs": [
    {
     "data": {
      "text/plain": [
       "'taxa:50.00%'"
      ]
     },
     "execution_count": 15,
     "metadata": {},
     "output_type": "execute_result"
    }
   ],
   "source": [
    "f'taxa:{1/2 :.2%}'"
   ]
  },
  {
   "cell_type": "code",
   "execution_count": 16,
   "id": "60f2f798-2f66-4b8c-a43a-22b7161f1ae8",
   "metadata": {},
   "outputs": [
    {
     "data": {
      "text/plain": [
       "'taxa:50%'"
      ]
     },
     "execution_count": 16,
     "metadata": {},
     "output_type": "execute_result"
    }
   ],
   "source": [
    "f'taxa:{1/2 :.0%}'"
   ]
  },
  {
   "cell_type": "code",
   "execution_count": 17,
   "id": "5e27b0b2-dee5-477d-b076-42b58dd6a316",
   "metadata": {},
   "outputs": [],
   "source": [
    "valor = 5.5/40.0"
   ]
  },
  {
   "cell_type": "code",
   "execution_count": 18,
   "id": "5170f46c-808e-47b1-8c27-1011a11c9c7f",
   "metadata": {},
   "outputs": [
    {
     "name": "stdout",
     "output_type": "stream",
     "text": [
      "Resultado original:0.1375\n",
      "Resultado formatado: 13.8%\n"
     ]
    }
   ],
   "source": [
    "print(f'Resultado original:{valor}\\n' f'Resultado formatado: {valor:.1%}')"
   ]
  },
  {
   "cell_type": "code",
   "execution_count": 19,
   "id": "04a09e9e-7658-439a-b429-f24944f5c575",
   "metadata": {},
   "outputs": [],
   "source": [
    "valor = 255 #valor maluco"
   ]
  },
  {
   "cell_type": "code",
   "execution_count": 20,
   "id": "71335cfb-5624-46ad-9890-a2da248a800c",
   "metadata": {},
   "outputs": [
    {
     "name": "stdout",
     "output_type": "stream",
     "text": [
      "'----ff----'\n"
     ]
    }
   ],
   "source": [
    "print(f\"'{valor:-^10x}'\")"
   ]
  },
  {
   "cell_type": "code",
   "execution_count": 21,
   "id": "b5a70963-05bf-4327-84c7-4548a33d9982",
   "metadata": {},
   "outputs": [],
   "source": [
    "idade = 18"
   ]
  },
  {
   "cell_type": "code",
   "execution_count": 22,
   "id": "c0b40cf0-eea3-4cd7-a8da-ef5aa832f94c",
   "metadata": {},
   "outputs": [
    {
     "name": "stdout",
     "output_type": "stream",
     "text": [
      "Maria tem 18 anos\n"
     ]
    }
   ],
   "source": [
    "print(f\"Maria tem {idade} anos\")"
   ]
  },
  {
   "cell_type": "code",
   "execution_count": 23,
   "id": "6bfc7f09-9e97-4d30-bb97-ff67eda9a0d8",
   "metadata": {},
   "outputs": [],
   "source": [
    "pi = 3.14156"
   ]
  },
  {
   "cell_type": "code",
   "execution_count": 26,
   "id": "e1bc86a1-50e8-428c-b65f-09634ef48886",
   "metadata": {},
   "outputs": [
    {
     "data": {
      "text/plain": [
       "'O valor de pi é aproximadamente 3.1416'"
      ]
     },
     "execution_count": 26,
     "metadata": {},
     "output_type": "execute_result"
    }
   ],
   "source": [
    "f'O valor de pi é aproximadamente {pi:.4f}'"
   ]
  },
  {
   "cell_type": "code",
   "execution_count": 27,
   "id": "233891dd-030d-47ca-9eb3-f8df73f3ec70",
   "metadata": {},
   "outputs": [
    {
     "name": "stdout",
     "output_type": "stream",
     "text": [
      "ID:///1234///\n"
     ]
    }
   ],
   "source": [
    "print(f'ID:{1234:/^10}')"
   ]
  },
  {
   "cell_type": "code",
   "execution_count": 28,
   "id": "359d602c-6f5d-40e5-8d68-16c843b81529",
   "metadata": {},
   "outputs": [
    {
     "data": {
      "text/plain": [
       "'00000'"
      ]
     },
     "execution_count": 28,
     "metadata": {},
     "output_type": "execute_result"
    }
   ],
   "source": [
    "'0'.zfill(5)"
   ]
  },
  {
   "cell_type": "code",
   "execution_count": null,
   "id": "09fd9ea5-933f-4459-b3bf-5da82514dcd8",
   "metadata": {},
   "outputs": [],
   "source": [
    "#aprendendo a fatiar uma string, ex S T R I N G (S=0,T=1,R=2,I=3,N=4,G=5) ordem inversa = (S=-6,T=-5,R=-4,I=-3,N=-2,G=-1)"
   ]
  },
  {
   "cell_type": "code",
   "execution_count": 2,
   "id": "7ab94c25-c648-42ff-9919-19b3f8b3d95c",
   "metadata": {},
   "outputs": [],
   "source": [
    "#Exdemplificando\n",
    "palavra = 'string'"
   ]
  },
  {
   "cell_type": "code",
   "execution_count": 4,
   "id": "9fd02494-8ce0-485c-92a7-ad68b65710fd",
   "metadata": {},
   "outputs": [
    {
     "data": {
      "text/plain": [
       "'g'"
      ]
     },
     "execution_count": 4,
     "metadata": {},
     "output_type": "execute_result"
    }
   ],
   "source": [
    "palavra[5] #pegando o primerio caracter da palavra"
   ]
  },
  {
   "cell_type": "code",
   "execution_count": 5,
   "id": "c9b707c6-5f54-4d89-8604-f4fc3284b40b",
   "metadata": {},
   "outputs": [
    {
     "data": {
      "text/plain": [
       "'st'"
      ]
     },
     "execution_count": 5,
     "metadata": {},
     "output_type": "execute_result"
    }
   ],
   "source": [
    "palavra[0:2]"
   ]
  },
  {
   "cell_type": "code",
   "execution_count": 6,
   "id": "d30e7a25-e084-45c2-a5c3-3100f64aabb2",
   "metadata": {},
   "outputs": [
    {
     "data": {
      "text/plain": [
       "'srn'"
      ]
     },
     "execution_count": 6,
     "metadata": {},
     "output_type": "execute_result"
    }
   ],
   "source": [
    "palavra[::2] # o dois seria o passo"
   ]
  },
  {
   "cell_type": "code",
   "execution_count": 10,
   "id": "e5022476-d112-4440-92c4-d6515bd3fcaf",
   "metadata": {},
   "outputs": [
    {
     "data": {
      "text/plain": [
       "'string'"
      ]
     },
     "execution_count": 10,
     "metadata": {},
     "output_type": "execute_result"
    }
   ],
   "source": [
    "palavra[0:2] + palavra[2:6]"
   ]
  },
  {
   "cell_type": "code",
   "execution_count": 11,
   "id": "e081b70d-5909-4125-bd4d-bb797fe2baf5",
   "metadata": {},
   "outputs": [
    {
     "data": {
      "text/plain": [
       "'string'"
      ]
     },
     "execution_count": 11,
     "metadata": {},
     "output_type": "execute_result"
    }
   ],
   "source": [
    "palavra[0:2] + palavra[2:] #omitindo a última posição"
   ]
  },
  {
   "cell_type": "code",
   "execution_count": 12,
   "id": "7b6f3d38-c261-4ef1-b835-1b71b497b385",
   "metadata": {},
   "outputs": [
    {
     "data": {
      "text/plain": [
       "'string'"
      ]
     },
     "execution_count": 12,
     "metadata": {},
     "output_type": "execute_result"
    }
   ],
   "source": [
    "palavra[:2] + palavra[2:] #omitindo a primneira e a última posição"
   ]
  },
  {
   "cell_type": "code",
   "execution_count": 13,
   "id": "a296a62a-aaed-4cdb-8ea8-7ff574db0f53",
   "metadata": {},
   "outputs": [
    {
     "data": {
      "text/plain": [
       "'string'"
      ]
     },
     "execution_count": 13,
     "metadata": {},
     "output_type": "execute_result"
    }
   ],
   "source": [
    "palavra[:]"
   ]
  },
  {
   "cell_type": "code",
   "execution_count": 14,
   "id": "4f0130bc-ead2-4ecb-be44-162a7110bd4d",
   "metadata": {},
   "outputs": [
    {
     "data": {
      "text/plain": [
       "'ing'"
      ]
     },
     "execution_count": 14,
     "metadata": {},
     "output_type": "execute_result"
    }
   ],
   "source": [
    "palavra[-3:]"
   ]
  },
  {
   "cell_type": "code",
   "execution_count": 15,
   "id": "94fbc5c1-b2b9-40b6-a923-749916761d88",
   "metadata": {},
   "outputs": [
    {
     "data": {
      "text/plain": [
       "'tri'"
      ]
     },
     "execution_count": 15,
     "metadata": {},
     "output_type": "execute_result"
    }
   ],
   "source": [
    "palavra[-5:-2]"
   ]
  },
  {
   "cell_type": "code",
   "execution_count": 17,
   "id": "06232a21-cc51-4057-95c6-758d7e9846f6",
   "metadata": {},
   "outputs": [
    {
     "data": {
      "text/plain": [
       "'Programador aventureiro - as melhores aventuras do mundo tech!'"
      ]
     },
     "execution_count": 17,
     "metadata": {},
     "output_type": "execute_result"
    }
   ],
   "source": [
    "texto.capitalize()"
   ]
  },
  {
   "cell_type": "code",
   "execution_count": 18,
   "id": "1330fe74-d073-4ff5-a7d4-2065cda17f15",
   "metadata": {},
   "outputs": [
    {
     "data": {
      "text/plain": [
       "'Programador Aventureiro - As Melhores Aventuras Do Mundo Tech!'"
      ]
     },
     "execution_count": 18,
     "metadata": {},
     "output_type": "execute_result"
    }
   ],
   "source": [
    "texto.title()"
   ]
  },
  {
   "cell_type": "code",
   "execution_count": 20,
   "id": "d59f0b31-dffe-452e-b803-1c493bc6d9bc",
   "metadata": {},
   "outputs": [],
   "source": [
    "#para que as alterações se concretizem precisamos atribuir a variável"
   ]
  },
  {
   "cell_type": "code",
   "execution_count": 24,
   "id": "2f103ee0-9a18-44b6-817c-3d692382547e",
   "metadata": {},
   "outputs": [],
   "source": [
    "texto = texto.title()"
   ]
  },
  {
   "cell_type": "code",
   "execution_count": 23,
   "id": "3278f3fb-cb09-43cb-b2f5-8c5044b9af3b",
   "metadata": {},
   "outputs": [
    {
     "data": {
      "text/plain": [
       "'Programador Aventureiro - As Melhores Aventuras Do Mundo Tech!'"
      ]
     },
     "execution_count": 23,
     "metadata": {},
     "output_type": "execute_result"
    }
   ],
   "source": [
    "texto"
   ]
  },
  {
   "cell_type": "code",
   "execution_count": 25,
   "id": "1baade3e-1867-4c62-ae39-2f942fda1547",
   "metadata": {},
   "outputs": [],
   "source": [
    "texto_1 = texto.upper()"
   ]
  },
  {
   "cell_type": "code",
   "execution_count": 26,
   "id": "97538dd7-4df8-42ca-8835-c158373c116d",
   "metadata": {},
   "outputs": [
    {
     "data": {
      "text/plain": [
       "'PROGRAMADOR AVENTUREIRO - AS MELHORES AVENTURAS DO MUNDO TECH!'"
      ]
     },
     "execution_count": 26,
     "metadata": {},
     "output_type": "execute_result"
    }
   ],
   "source": [
    "texto_1"
   ]
  },
  {
   "cell_type": "code",
   "execution_count": 28,
   "id": "bedfa099-01ab-4cf1-8008-51a0f45486ec",
   "metadata": {},
   "outputs": [
    {
     "data": {
      "text/plain": [
       "'programador aventureiro - as melhores aventuras do mundo tech!'"
      ]
     },
     "execution_count": 28,
     "metadata": {},
     "output_type": "execute_result"
    }
   ],
   "source": [
    "texto_1.lower()"
   ]
  },
  {
   "cell_type": "code",
   "execution_count": null,
   "id": "68363446-53b5-497a-929a-40f69c3be864",
   "metadata": {},
   "outputs": [],
   "source": [
    "# pode ser útil para comparar as strings"
   ]
  },
  {
   "cell_type": "code",
   "execution_count": 29,
   "id": "f7ba7951-696b-4db0-8052-12609710eb48",
   "metadata": {},
   "outputs": [
    {
     "name": "stdin",
     "output_type": "stream",
     "text": [
      "Qual o seu nome?: Ricardo\n"
     ]
    }
   ],
   "source": [
    "nome = input('Qual o seu nome?:')"
   ]
  },
  {
   "cell_type": "code",
   "execution_count": 30,
   "id": "3348ad65-984e-4ac0-8f10-588cd3a491dd",
   "metadata": {},
   "outputs": [],
   "source": [
    "Usuario = 'RICARDO'"
   ]
  },
  {
   "cell_type": "code",
   "execution_count": 33,
   "id": "ea8a4b95-18ba-46ba-bc4e-30ba78d7a6eb",
   "metadata": {},
   "outputs": [
    {
     "data": {
      "text/plain": [
       "'RICARDO'"
      ]
     },
     "execution_count": 33,
     "metadata": {},
     "output_type": "execute_result"
    }
   ],
   "source": [
    "Usuario"
   ]
  },
  {
   "cell_type": "code",
   "execution_count": 31,
   "id": "679e278c-95b6-464d-88e7-ceb62d7a52fe",
   "metadata": {},
   "outputs": [
    {
     "data": {
      "text/plain": [
       "False"
      ]
     },
     "execution_count": 31,
     "metadata": {},
     "output_type": "execute_result"
    }
   ],
   "source": [
    "nome == Usuario"
   ]
  },
  {
   "cell_type": "code",
   "execution_count": 32,
   "id": "b1b2117e-538d-4558-806c-6e0addf70f67",
   "metadata": {},
   "outputs": [
    {
     "data": {
      "text/plain": [
       "True"
      ]
     },
     "execution_count": 32,
     "metadata": {},
     "output_type": "execute_result"
    }
   ],
   "source": [
    "nome.upper()==Usuario.upper()"
   ]
  },
  {
   "cell_type": "code",
   "execution_count": 34,
   "id": "19420a6a-ad89-4716-8442-8f58bbd2fe4e",
   "metadata": {},
   "outputs": [
    {
     "data": {
      "text/plain": [
       "True"
      ]
     },
     "execution_count": 34,
     "metadata": {},
     "output_type": "execute_result"
    }
   ],
   "source": [
    "nome.lower()==Usuario.lower()"
   ]
  },
  {
   "cell_type": "code",
   "execution_count": 35,
   "id": "2da88f4c-88e6-41f0-8b09-4c763204575b",
   "metadata": {},
   "outputs": [
    {
     "data": {
      "text/plain": [
       "'                   Programador Aventureiro - As Melhores Aventuras Do Mundo Tech!                   '"
      ]
     },
     "execution_count": 35,
     "metadata": {},
     "output_type": "execute_result"
    }
   ],
   "source": [
    "texto.center(100)"
   ]
  },
  {
   "cell_type": "code",
   "execution_count": 39,
   "id": "a0b768f3-4365-4192-acd2-ba6e6a057ff1",
   "metadata": {},
   "outputs": [
    {
     "data": {
      "text/plain": [
       "'===================Programador Aventureiro - As Melhores Aventuras Do Mundo Tech!==================='"
      ]
     },
     "execution_count": 39,
     "metadata": {},
     "output_type": "execute_result"
    }
   ],
   "source": [
    "texto.center(100,'=')"
   ]
  },
  {
   "cell_type": "code",
   "execution_count": 40,
   "id": "f8b4d2fd-d0ba-4bd0-a8e9-b382ff0e3e42",
   "metadata": {},
   "outputs": [],
   "source": [
    "texto = 'Programador Aventureiro - As melhores aventuras do mundo TECH!'"
   ]
  },
  {
   "cell_type": "code",
   "execution_count": null,
   "id": "b842a287-8cbd-46c6-9f0c-e73e2aee8df1",
   "metadata": {},
   "outputs": [],
   "source": [
    "# contar as letras a que existem na string"
   ]
  },
  {
   "cell_type": "code",
   "execution_count": 41,
   "id": "7def56b7-51a7-4ff7-9dce-4d34c6ff6910",
   "metadata": {},
   "outputs": [
    {
     "data": {
      "text/plain": [
       "4"
      ]
     },
     "execution_count": 41,
     "metadata": {},
     "output_type": "execute_result"
    }
   ],
   "source": [
    "texto.count('a')"
   ]
  },
  {
   "cell_type": "code",
   "execution_count": 42,
   "id": "efc77e46-b5a2-453b-ab8f-fd024b7100dc",
   "metadata": {},
   "outputs": [
    {
     "data": {
      "text/plain": [
       "2"
      ]
     },
     "execution_count": 42,
     "metadata": {},
     "output_type": "execute_result"
    }
   ],
   "source": [
    "texto.count('A')"
   ]
  },
  {
   "cell_type": "code",
   "execution_count": 44,
   "id": "5a81a32a-88b7-4557-82a9-e28fd28cb4e4",
   "metadata": {},
   "outputs": [
    {
     "data": {
      "text/plain": [
       "2"
      ]
     },
     "execution_count": 44,
     "metadata": {},
     "output_type": "execute_result"
    }
   ],
   "source": [
    "texto.count('ra')"
   ]
  },
  {
   "cell_type": "code",
   "execution_count": 45,
   "id": "bf95a1dc-c88d-47c3-a092-81e6f67efe58",
   "metadata": {},
   "outputs": [
    {
     "data": {
      "text/plain": [
       "6"
      ]
     },
     "execution_count": 45,
     "metadata": {},
     "output_type": "execute_result"
    }
   ],
   "source": [
    "texto.upper().count('A')"
   ]
  },
  {
   "cell_type": "code",
   "execution_count": 46,
   "id": "61b80943-ca58-48d6-8da4-395cf77d94a8",
   "metadata": {},
   "outputs": [
    {
     "data": {
      "text/plain": [
       "6"
      ]
     },
     "execution_count": 46,
     "metadata": {},
     "output_type": "execute_result"
    }
   ],
   "source": [
    "texto.lower().count('a')"
   ]
  },
  {
   "cell_type": "code",
   "execution_count": 47,
   "id": "1d98af19-254c-4708-870c-f9e067fa7633",
   "metadata": {},
   "outputs": [
    {
     "data": {
      "text/plain": [
       "4"
      ]
     },
     "execution_count": 47,
     "metadata": {},
     "output_type": "execute_result"
    }
   ],
   "source": [
    "texto.lower().count('a',11)"
   ]
  },
  {
   "cell_type": "code",
   "execution_count": 49,
   "id": "206eb1ea-fd51-4b35-b118-d437d38c347d",
   "metadata": {},
   "outputs": [
    {
     "data": {
      "text/plain": [
       "1"
      ]
     },
     "execution_count": 49,
     "metadata": {},
     "output_type": "execute_result"
    }
   ],
   "source": [
    "texto.lower().count('a',11,23)"
   ]
  },
  {
   "cell_type": "code",
   "execution_count": 50,
   "id": "2d81a38e-0b6b-4fe9-b51d-c308942ba571",
   "metadata": {},
   "outputs": [],
   "source": [
    "# se eu quiser saber com que palavra ou caractere que inicia"
   ]
  },
  {
   "cell_type": "code",
   "execution_count": 53,
   "id": "28c21948-46f4-4342-adf2-261e0d173a77",
   "metadata": {},
   "outputs": [
    {
     "data": {
      "text/plain": [
       "False"
      ]
     },
     "execution_count": 53,
     "metadata": {},
     "output_type": "execute_result"
    }
   ],
   "source": [
    "texto.startswith('Aventureiro')"
   ]
  },
  {
   "cell_type": "code",
   "execution_count": 54,
   "id": "0e1d0695-2702-4c05-aa0d-c101a8a0f756",
   "metadata": {},
   "outputs": [
    {
     "data": {
      "text/plain": [
       "True"
      ]
     },
     "execution_count": 54,
     "metadata": {},
     "output_type": "execute_result"
    }
   ],
   "source": [
    "texto.startswith('Programador')"
   ]
  },
  {
   "cell_type": "code",
   "execution_count": 55,
   "id": "7a1146c2-fbc1-415b-997f-51be7a740084",
   "metadata": {},
   "outputs": [
    {
     "data": {
      "text/plain": [
       "False"
      ]
     },
     "execution_count": 55,
     "metadata": {},
     "output_type": "execute_result"
    }
   ],
   "source": [
    "texto.startswith('programador')"
   ]
  },
  {
   "cell_type": "code",
   "execution_count": 56,
   "id": "15a66909-4998-40e9-a0b7-309c80f8cb9a",
   "metadata": {},
   "outputs": [],
   "source": [
    "# podemos saber se termina com algum caractere"
   ]
  },
  {
   "cell_type": "code",
   "execution_count": 57,
   "id": "27c6d1f8-7333-4a0d-84e8-5b379002c07c",
   "metadata": {},
   "outputs": [
    {
     "data": {
      "text/plain": [
       "True"
      ]
     },
     "execution_count": 57,
     "metadata": {},
     "output_type": "execute_result"
    }
   ],
   "source": [
    "texto.endswith('!')"
   ]
  },
  {
   "cell_type": "code",
   "execution_count": 58,
   "id": "c9333b06-244d-4a45-81eb-2c1eced1b8ab",
   "metadata": {},
   "outputs": [
    {
     "data": {
      "text/plain": [
       "False"
      ]
     },
     "execution_count": 58,
     "metadata": {},
     "output_type": "execute_result"
    }
   ],
   "source": [
    "texto.endswith('TECH')"
   ]
  },
  {
   "cell_type": "code",
   "execution_count": 59,
   "id": "61a4f818-bc49-40ca-94f5-0470d8cddf8b",
   "metadata": {},
   "outputs": [],
   "source": [
    "# saber a posição da um caracter"
   ]
  },
  {
   "cell_type": "code",
   "execution_count": 60,
   "id": "52216393-5ced-446c-886e-11284aa0ea94",
   "metadata": {},
   "outputs": [
    {
     "data": {
      "text/plain": [
       "6"
      ]
     },
     "execution_count": 60,
     "metadata": {},
     "output_type": "execute_result"
    }
   ],
   "source": [
    "texto.find('m')"
   ]
  },
  {
   "cell_type": "code",
   "execution_count": 61,
   "id": "abf21f56-5f57-4937-b833-6abe907dcac5",
   "metadata": {},
   "outputs": [
    {
     "data": {
      "text/plain": [
       "5"
      ]
     },
     "execution_count": 61,
     "metadata": {},
     "output_type": "execute_result"
    }
   ],
   "source": [
    "texto.find('amador')"
   ]
  },
  {
   "cell_type": "code",
   "execution_count": 62,
   "id": "3be68664-63b8-456d-81af-8e7bc9e41db3",
   "metadata": {},
   "outputs": [
    {
     "data": {
      "text/plain": [
       "18"
      ]
     },
     "execution_count": 62,
     "metadata": {},
     "output_type": "execute_result"
    }
   ],
   "source": [
    "texto.find('reiro')"
   ]
  },
  {
   "cell_type": "code",
   "execution_count": 65,
   "id": "59b5f50b-cf71-4796-bc89-e77625ac41c2",
   "metadata": {},
   "outputs": [
    {
     "data": {
      "text/plain": [
       "6"
      ]
     },
     "execution_count": 65,
     "metadata": {},
     "output_type": "execute_result"
    }
   ],
   "source": [
    "texto.find('m') # se não encontrar a função retorna -1"
   ]
  },
  {
   "cell_type": "code",
   "execution_count": 64,
   "id": "6cc7b3d8-70d0-4637-95f7-964c9918cf24",
   "metadata": {},
   "outputs": [
    {
     "data": {
      "text/plain": [
       "6"
      ]
     },
     "execution_count": 64,
     "metadata": {},
     "output_type": "execute_result"
    }
   ],
   "source": [
    "texto.index('m') #se não encontrar esta função da erro"
   ]
  },
  {
   "cell_type": "code",
   "execution_count": 66,
   "id": "f19d0426-1377-4abe-9f24-c7be0318fb70",
   "metadata": {},
   "outputs": [],
   "source": [
    "# usando substituição de caracteres"
   ]
  },
  {
   "cell_type": "code",
   "execution_count": 67,
   "id": "5fac0a6c-4221-4333-b525-259d3396c8d6",
   "metadata": {},
   "outputs": [],
   "source": [
    "texto = 'Nova maneira de fazer as substituições nas frases'"
   ]
  },
  {
   "cell_type": "code",
   "execution_count": 68,
   "id": "bd9346e0-792a-4e2c-b22f-8c6e252784f2",
   "metadata": {},
   "outputs": [
    {
     "data": {
      "text/plain": [
       "'Nov@ m@neir@ de f@zer @s substituições n@s fr@ses'"
      ]
     },
     "execution_count": 68,
     "metadata": {},
     "output_type": "execute_result"
    }
   ],
   "source": [
    "texto.replace('a','@')"
   ]
  },
  {
   "cell_type": "code",
   "execution_count": 71,
   "id": "6b63b4ae-17bf-4647-89b1-c1f0334d5c66",
   "metadata": {},
   "outputs": [],
   "source": [
    "texto = 'Nova maneira de fazer as substituições nas frases'"
   ]
  },
  {
   "cell_type": "code",
   "execution_count": 73,
   "id": "af0bb116-1298-48e7-89aa-59f79d7cd15f",
   "metadata": {},
   "outputs": [
    {
     "data": {
      "text/plain": [
       "'NOV@ M@NEIR@ DE F@ZER @S SUBSTITUIÇÕES N@S FR@SES'"
      ]
     },
     "execution_count": 73,
     "metadata": {},
     "output_type": "execute_result"
    }
   ],
   "source": [
    "texto.upper().replace('A','@')"
   ]
  },
  {
   "cell_type": "code",
   "execution_count": 74,
   "id": "ccd75deb-20e0-406b-a47c-1503995ce6e3",
   "metadata": {},
   "outputs": [
    {
     "data": {
      "text/plain": [
       "'nov@ m@neir@ de f@zer @s substituições n@s fr@ses'"
      ]
     },
     "execution_count": 74,
     "metadata": {},
     "output_type": "execute_result"
    }
   ],
   "source": [
    "texto.lower().replace('a','@')"
   ]
  },
  {
   "cell_type": "code",
   "execution_count": 75,
   "id": "5843bbff-810e-4200-93c2-6ad03246715a",
   "metadata": {},
   "outputs": [
    {
     "data": {
      "text/plain": [
       "'Nova the best de fazer as substituições nas frases'"
      ]
     },
     "execution_count": 75,
     "metadata": {},
     "output_type": "execute_result"
    }
   ],
   "source": [
    "texto.replace('maneira','the best')"
   ]
  },
  {
   "cell_type": "code",
   "execution_count": 76,
   "id": "6837bb5e-9998-47f8-b566-51a61d728866",
   "metadata": {},
   "outputs": [
    {
     "data": {
      "text/plain": [
       "'Nova the best de fazer AS substituições nAS frASes'"
      ]
     },
     "execution_count": 76,
     "metadata": {},
     "output_type": "execute_result"
    }
   ],
   "source": [
    "texto.replace('maneira','the best').replace('as','AS')"
   ]
  },
  {
   "cell_type": "code",
   "execution_count": 77,
   "id": "59a6c571-092b-45cc-9a64-62dcda272298",
   "metadata": {},
   "outputs": [],
   "source": [
    "# verificar se os carecteres são alpha são do alfabeto"
   ]
  },
  {
   "cell_type": "code",
   "execution_count": 78,
   "id": "066a32c4-7ffd-4127-91bd-cff4ddfa2f75",
   "metadata": {},
   "outputs": [
    {
     "data": {
      "text/plain": [
       "True"
      ]
     },
     "execution_count": 78,
     "metadata": {},
     "output_type": "execute_result"
    }
   ],
   "source": [
    "'abc'.isalpha()"
   ]
  },
  {
   "cell_type": "code",
   "execution_count": 79,
   "id": "31215d32-eec0-4f7b-a9b6-a7265fbfd051",
   "metadata": {},
   "outputs": [
    {
     "data": {
      "text/plain": [
       "False"
      ]
     },
     "execution_count": 79,
     "metadata": {},
     "output_type": "execute_result"
    }
   ],
   "source": [
    "'abc2'.isalpha()"
   ]
  },
  {
   "cell_type": "code",
   "execution_count": 80,
   "id": "233c268f-d399-4a4d-876e-f243882c3665",
   "metadata": {},
   "outputs": [
    {
     "data": {
      "text/plain": [
       "True"
      ]
     },
     "execution_count": 80,
     "metadata": {},
     "output_type": "execute_result"
    }
   ],
   "source": [
    "'12345'.isalnum()"
   ]
  },
  {
   "cell_type": "code",
   "execution_count": null,
   "id": "384b081d-f545-4acc-a8e9-53abac9aba7f",
   "metadata": {},
   "outputs": [],
   "source": [
    "'1234d'.isalmun"
   ]
  },
  {
   "cell_type": "code",
   "execution_count": 1,
   "id": "af9975d7-4c90-46ca-b680-fb7d4e540da5",
   "metadata": {},
   "outputs": [],
   "source": [
    "# separar sempre que encontar um caracter comum"
   ]
  },
  {
   "cell_type": "code",
   "execution_count": 2,
   "id": "25f7d281-e86c-4cf7-b4e9-19a3ae4a5eb1",
   "metadata": {},
   "outputs": [],
   "source": [
    "var = '_'.join(['1','2','3','4'])"
   ]
  },
  {
   "cell_type": "code",
   "execution_count": 3,
   "id": "2a3f4756-f32e-4c0e-942f-167eb57bafe7",
   "metadata": {},
   "outputs": [
    {
     "data": {
      "text/plain": [
       "'1_2_3_4'"
      ]
     },
     "execution_count": 3,
     "metadata": {},
     "output_type": "execute_result"
    }
   ],
   "source": [
    "var"
   ]
  },
  {
   "cell_type": "code",
   "execution_count": 4,
   "id": "70d28b9d-098c-4193-bad2-4505de8823b7",
   "metadata": {},
   "outputs": [
    {
     "data": {
      "text/plain": [
       "['1', '2', '3', '4']"
      ]
     },
     "execution_count": 4,
     "metadata": {},
     "output_type": "execute_result"
    }
   ],
   "source": [
    "var.split('_')"
   ]
  },
  {
   "cell_type": "code",
   "execution_count": 5,
   "id": "bdabaabd-3993-4d15-a254-9eac2fa817bf",
   "metadata": {},
   "outputs": [
    {
     "data": {
      "text/plain": [
       "['1_2_3_4']"
      ]
     },
     "execution_count": 5,
     "metadata": {},
     "output_type": "execute_result"
    }
   ],
   "source": [
    "var.split('-') # se não existe o separador ele cria uma posição dentro de uma lista"
   ]
  },
  {
   "cell_type": "code",
   "execution_count": 7,
   "id": "7a7355a9-4d3a-45f9-b2fa-0aca87e708ee",
   "metadata": {},
   "outputs": [
    {
     "data": {
      "text/plain": [
       "['1_', '_3_4']"
      ]
     },
     "execution_count": 7,
     "metadata": {},
     "output_type": "execute_result"
    }
   ],
   "source": [
    "var.split('2') # ele elimina entendendo que o 2 é um separador"
   ]
  },
  {
   "cell_type": "code",
   "execution_count": 9,
   "id": "7bdb9e66-485c-401e-983a-8018fecc8bf6",
   "metadata": {},
   "outputs": [],
   "source": [
    "texto = 'Programador aventureiro - as melhores aventuras do mundo tech!'"
   ]
  },
  {
   "cell_type": "code",
   "execution_count": 10,
   "id": "aa9f4c0d-f462-4d8d-8cd4-f5693962c9d0",
   "metadata": {},
   "outputs": [
    {
     "data": {
      "text/plain": [
       "'                   Programador aventureiro - as melhores aventuras do mundo tech!                   '"
      ]
     },
     "execution_count": 10,
     "metadata": {},
     "output_type": "execute_result"
    }
   ],
   "source": [
    "texto.center(100)"
   ]
  },
  {
   "cell_type": "code",
   "execution_count": 11,
   "id": "e70db14e-11c3-4fb5-8084-c221eb906d55",
   "metadata": {},
   "outputs": [
    {
     "data": {
      "text/plain": [
       "'Programador aventureiro - as melhores aventuras do mundo tech!'"
      ]
     },
     "execution_count": 11,
     "metadata": {},
     "output_type": "execute_result"
    }
   ],
   "source": [
    "texto.strip()# remove os espaços anteriores e posteriores."
   ]
  },
  {
   "cell_type": "code",
   "execution_count": 12,
   "id": "61ae7b3d-a280-4e90-81ec-b4375f7d8844",
   "metadata": {},
   "outputs": [
    {
     "data": {
      "text/plain": [
       "'-------------------Programador aventureiro - as melhores aventuras do mundo tech!-------------------'"
      ]
     },
     "execution_count": 12,
     "metadata": {},
     "output_type": "execute_result"
    }
   ],
   "source": [
    "texto.center(100,'-')"
   ]
  },
  {
   "cell_type": "code",
   "execution_count": 13,
   "id": "c693f25c-b27d-4883-b894-bf940ffcf989",
   "metadata": {},
   "outputs": [
    {
     "data": {
      "text/plain": [
       "'Programador aventureiro - as melhores aventuras do mundo tech!'"
      ]
     },
     "execution_count": 13,
     "metadata": {},
     "output_type": "execute_result"
    }
   ],
   "source": [
    "texto.strip('-') # fornecendo o caracter a ser removido"
   ]
  },
  {
   "cell_type": "code",
   "execution_count": null,
   "id": "8b7ec11f-fb8a-4195-aedc-b357c0c57c98",
   "metadata": {},
   "outputs": [],
   "source": []
  }
 ],
 "metadata": {
  "kernelspec": {
   "display_name": "Python 3",
   "language": "python",
   "name": "python3"
  },
  "language_info": {
   "codemirror_mode": {
    "name": "ipython",
    "version": 3
   },
   "file_extension": ".py",
   "mimetype": "text/x-python",
   "name": "python",
   "nbconvert_exporter": "python",
   "pygments_lexer": "ipython3",
   "version": "3.8.8"
  }
 },
 "nbformat": 4,
 "nbformat_minor": 5
}
