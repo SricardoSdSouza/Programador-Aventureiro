{
 "cells": [
  {
   "cell_type": "code",
   "execution_count": 4,
   "id": "e8502427-0aa4-4482-b5f4-d9a69936ea08",
   "metadata": {},
   "outputs": [],
   "source": [
    "Primeiro = \"Olá Mundo!!\""
   ]
  },
  {
   "cell_type": "code",
   "execution_count": 5,
   "id": "3e55c96c-92a8-4ab2-83a8-0b32d98aa25f",
   "metadata": {},
   "outputs": [
    {
     "data": {
      "text/plain": [
       "'Olá Mundo!!'"
      ]
     },
     "execution_count": 5,
     "metadata": {},
     "output_type": "execute_result"
    }
   ],
   "source": [
    "Primeiro"
   ]
  },
  {
   "cell_type": "code",
   "execution_count": 6,
   "id": "2af0892e-08dd-4f8c-b2d7-3f19dd1bd11e",
   "metadata": {},
   "outputs": [
    {
     "name": "stdout",
     "output_type": "stream",
     "text": [
      "Ola Mundo\n"
     ]
    }
   ],
   "source": [
    "print(\"Ola Mundo\")"
   ]
  }
 ],
 "metadata": {
  "kernelspec": {
   "display_name": "Python 3",
   "language": "python",
   "name": "python3"
  },
  "language_info": {
   "codemirror_mode": {
    "name": "ipython",
    "version": 3
   },
   "file_extension": ".py",
   "mimetype": "text/x-python",
   "name": "python",
   "nbconvert_exporter": "python",
   "pygments_lexer": "ipython3",
   "version": "3.8.8"
  }
 },
 "nbformat": 4,
 "nbformat_minor": 5
}
