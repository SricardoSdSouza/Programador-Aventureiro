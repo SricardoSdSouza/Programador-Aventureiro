{
 "cells": [
  {
   "cell_type": "code",
   "execution_count": 1,
   "id": "c6b514a8-5ebb-45f6-99b4-3692d9f3278c",
   "metadata": {},
   "outputs": [],
   "source": [
    "# Faça uma sequência decrescente de 100 a 0 de 2 em dois"
   ]
  },
  {
   "cell_type": "code",
   "execution_count": 3,
   "id": "67728805-9b01-438a-92d5-b4980898adb5",
   "metadata": {},
   "outputs": [
    {
     "name": "stdout",
     "output_type": "stream",
     "text": [
      "10\n",
      "8\n",
      "6\n",
      "4\n",
      "2\n"
     ]
    }
   ],
   "source": [
    "for i in range(10, 0, -2):\n",
    "    print(i)"
   ]
  },
  {
   "cell_type": "code",
   "execution_count": 6,
   "id": "9b6385bc-48b1-48fe-8d00-44e18fa79a7e",
   "metadata": {},
   "outputs": [
    {
     "name": "stdout",
     "output_type": "stream",
     "text": [
      "2\n",
      "6\n",
      "s\n",
      "w\n",
      "1\n",
      "a\n"
     ]
    },
    {
     "data": {
      "text/plain": [
       "'for i in y:\\n    print(i)'"
      ]
     },
     "execution_count": 6,
     "metadata": {},
     "output_type": "execute_result"
    }
   ],
   "source": [
    "x = [2, 6,'s','w',1, 'a']\n",
    "y = \"Ricardo Santos\"\n",
    "for i in x:\n",
    "    print(i)\n",
    "for i in y:\n",
    "    print(i)"
   ]
  },
  {
   "cell_type": "code",
   "execution_count": 7,
   "id": "b9f744b3-bf25-4934-9eec-19017e3ee2b7",
   "metadata": {},
   "outputs": [],
   "source": [
    "# complexidade de algoritmo"
   ]
  },
  {
   "cell_type": "code",
   "execution_count": 8,
   "id": "77a61cf5-89f1-4f18-8233-fcf46a64008d",
   "metadata": {},
   "outputs": [
    {
     "name": "stdout",
     "output_type": "stream",
     "text": [
      "i = 0 e o j = 0\n",
      "i = 0 e o j = 1\n",
      "i = 0 e o j = 2\n",
      "i = 1 e o j = 0\n",
      "i = 1 e o j = 1\n",
      "i = 1 e o j = 2\n",
      "i = 2 e o j = 0\n",
      "i = 2 e o j = 1\n",
      "i = 2 e o j = 2\n"
     ]
    }
   ],
   "source": [
    "for i in range(0,3):\n",
    "    for j in range(0,3):\n",
    "        print(f'i = {i} e o j = {j}')"
   ]
  },
  {
   "cell_type": "code",
   "execution_count": 9,
   "id": "3bfcf636-b602-44ef-948d-6eae71d61733",
   "metadata": {},
   "outputs": [],
   "source": [
    "# Fazendo tabuada"
   ]
  },
  {
   "cell_type": "code",
   "execution_count": 11,
   "id": "783bf73a-786b-4353-8c4f-7a145399887e",
   "metadata": {},
   "outputs": [
    {
     "name": "stdout",
     "output_type": "stream",
     "text": [
      "=========Tabuada de 1=========\n",
      "1 x 1 == 1\n",
      "1 x 2 == 2\n",
      "1 x 3 == 3\n",
      "1 x 4 == 4\n",
      "1 x 5 == 5\n",
      "1 x 6 == 6\n",
      "1 x 7 == 7\n",
      "1 x 8 == 8\n",
      "1 x 9 == 9\n",
      "1 x 10 == 10\n",
      "=========Tabuada de 2=========\n",
      "2 x 1 == 2\n",
      "2 x 2 == 4\n",
      "2 x 3 == 6\n",
      "2 x 4 == 8\n",
      "2 x 5 == 10\n",
      "2 x 6 == 12\n",
      "2 x 7 == 14\n",
      "2 x 8 == 16\n",
      "2 x 9 == 18\n",
      "2 x 10 == 20\n",
      "=========Tabuada de 3=========\n",
      "3 x 1 == 3\n",
      "3 x 2 == 6\n",
      "3 x 3 == 9\n",
      "3 x 4 == 12\n",
      "3 x 5 == 15\n",
      "3 x 6 == 18\n",
      "3 x 7 == 21\n",
      "3 x 8 == 24\n",
      "3 x 9 == 27\n",
      "3 x 10 == 30\n",
      "=========Tabuada de 4=========\n",
      "4 x 1 == 4\n",
      "4 x 2 == 8\n",
      "4 x 3 == 12\n",
      "4 x 4 == 16\n",
      "4 x 5 == 20\n",
      "4 x 6 == 24\n",
      "4 x 7 == 28\n",
      "4 x 8 == 32\n",
      "4 x 9 == 36\n",
      "4 x 10 == 40\n",
      "=========Tabuada de 5=========\n",
      "5 x 1 == 5\n",
      "5 x 2 == 10\n",
      "5 x 3 == 15\n",
      "5 x 4 == 20\n",
      "5 x 5 == 25\n",
      "5 x 6 == 30\n",
      "5 x 7 == 35\n",
      "5 x 8 == 40\n",
      "5 x 9 == 45\n",
      "5 x 10 == 50\n",
      "=========Tabuada de 6=========\n",
      "6 x 1 == 6\n",
      "6 x 2 == 12\n",
      "6 x 3 == 18\n",
      "6 x 4 == 24\n",
      "6 x 5 == 30\n",
      "6 x 6 == 36\n",
      "6 x 7 == 42\n",
      "6 x 8 == 48\n",
      "6 x 9 == 54\n",
      "6 x 10 == 60\n",
      "=========Tabuada de 7=========\n",
      "7 x 1 == 7\n",
      "7 x 2 == 14\n",
      "7 x 3 == 21\n",
      "7 x 4 == 28\n",
      "7 x 5 == 35\n",
      "7 x 6 == 42\n",
      "7 x 7 == 49\n",
      "7 x 8 == 56\n",
      "7 x 9 == 63\n",
      "7 x 10 == 70\n",
      "=========Tabuada de 8=========\n",
      "8 x 1 == 8\n",
      "8 x 2 == 16\n",
      "8 x 3 == 24\n",
      "8 x 4 == 32\n",
      "8 x 5 == 40\n",
      "8 x 6 == 48\n",
      "8 x 7 == 56\n",
      "8 x 8 == 64\n",
      "8 x 9 == 72\n",
      "8 x 10 == 80\n",
      "=========Tabuada de 9=========\n",
      "9 x 1 == 9\n",
      "9 x 2 == 18\n",
      "9 x 3 == 27\n",
      "9 x 4 == 36\n",
      "9 x 5 == 45\n",
      "9 x 6 == 54\n",
      "9 x 7 == 63\n",
      "9 x 8 == 72\n",
      "9 x 9 == 81\n",
      "9 x 10 == 90\n",
      "=========Tabuada de 10=========\n",
      "10 x 1 == 10\n",
      "10 x 2 == 20\n",
      "10 x 3 == 30\n",
      "10 x 4 == 40\n",
      "10 x 5 == 50\n",
      "10 x 6 == 60\n",
      "10 x 7 == 70\n",
      "10 x 8 == 80\n",
      "10 x 9 == 90\n",
      "10 x 10 == 100\n"
     ]
    }
   ],
   "source": [
    "for i in range(1,11):\n",
    "    print(f'=========Tabuada de {i}=========')\n",
    "    for j in range(1,11):\n",
    "        print(f'{i} x {j} == {i*j}')"
   ]
  },
  {
   "cell_type": "code",
   "execution_count": 12,
   "id": "752cd173-cc1f-4092-b085-cad952f0def8",
   "metadata": {},
   "outputs": [
    {
     "name": "stdin",
     "output_type": "stream",
     "text": [
      "Digite o numero para saber sua tabuada  5\n"
     ]
    },
    {
     "name": "stdout",
     "output_type": "stream",
     "text": [
      "5 x 1 = 5\n",
      "5 x 2 = 10\n",
      "5 x 3 = 15\n",
      "5 x 4 = 20\n",
      "5 x 5 = 25\n",
      "5 x 6 = 30\n",
      "5 x 7 = 35\n",
      "5 x 8 = 40\n",
      "5 x 9 = 45\n",
      "5 x 10 = 50\n"
     ]
    }
   ],
   "source": [
    "numero = int(input('Digite o numero para saber sua tabuada '))\n",
    "\n",
    "for i in range(1,11):\n",
    "    print(f'{numero} x {i} = {numero*i}')"
   ]
  },
  {
   "cell_type": "code",
   "execution_count": 13,
   "id": "24199559-eb05-4297-bdb2-0f660149396a",
   "metadata": {},
   "outputs": [],
   "source": [
    "# Fazendo adção em uma lista"
   ]
  },
  {
   "cell_type": "code",
   "execution_count": 3,
   "id": "f89bd10a-50e7-4ea8-a2e9-f912b345941d",
   "metadata": {},
   "outputs": [
    {
     "name": "stdin",
     "output_type": "stream",
     "text": [
      "Digite (-1) para sair ou cadastre um nome =  Ricardo\n",
      "Digite (-1) para sair ou cadastre um nome =  Luis Ricardo\n",
      "Digite (-1) para sair ou cadastre um nome =  Ramom\n",
      "Digite (-1) para sair ou cadastre um nome =  Moacir\n",
      "Digite (-1) para sair ou cadastre um nome =  Zila\n",
      "Digite (-1) para sair ou cadastre um nome =  Eduardo\n",
      "Digite (-1) para sair ou cadastre um nome =  Maria\n",
      "Digite (-1) para sair ou cadastre um nome =  -1\n"
     ]
    },
    {
     "name": "stdout",
     "output_type": "stream",
     "text": [
      "['Ricardo', 'Luis Ricardo', 'Ramom', 'Moacir', 'Zila', 'Eduardo', 'Maria']\n"
     ]
    }
   ],
   "source": [
    "nomes = []\n",
    "while True:\n",
    "    nome = input('Digite (-1) para sair ou cadastre um nome = ')\n",
    "    if nome == '-1':\n",
    "        break\n",
    "    nomes.append(nome)\n",
    "print(nomes)"
   ]
  },
  {
   "cell_type": "code",
   "execution_count": 4,
   "id": "9a59328e-da0a-4f6a-9405-818528c2dd20",
   "metadata": {},
   "outputs": [],
   "source": [
    "# Inserindo na lista em qualquer posição"
   ]
  },
  {
   "cell_type": "code",
   "execution_count": 5,
   "id": "b6dd6f4d-ce46-413a-8b5c-472beba2d611",
   "metadata": {},
   "outputs": [
    {
     "name": "stdout",
     "output_type": "stream",
     "text": [
      "['Ricardo', 'Luis Ricardo', 'Pedro', 'Ramom', 'Moacir', 'Zila', 'Eduardo', 'Maria']\n"
     ]
    }
   ],
   "source": [
    "nomes= ['Ricardo', 'Luis Ricardo', 'Ramom', 'Moacir', 'Zila', 'Eduardo', 'Maria']\n",
    "nomes.insert(2,'Pedro')\n",
    "print(nomes)"
   ]
  },
  {
   "cell_type": "code",
   "execution_count": 6,
   "id": "e8a9f71f-801e-4095-886a-5541cef67334",
   "metadata": {},
   "outputs": [],
   "source": [
    "# Removendo pelo ultimo indice ou passando o índice"
   ]
  },
  {
   "cell_type": "code",
   "execution_count": 7,
   "id": "24123170-7726-4d55-8a26-9562eaf68d3a",
   "metadata": {},
   "outputs": [
    {
     "name": "stdout",
     "output_type": "stream",
     "text": [
      "['Ricardo', 'Luis Ricardo', 'Ramom', 'Moacir', 'Zila', 'Eduardo']\n"
     ]
    }
   ],
   "source": [
    "nomes= ['Ricardo', 'Luis Ricardo', 'Ramom', 'Moacir', 'Zila', 'Eduardo', 'Maria']\n",
    "nomes.pop()\n",
    "print(nomes)"
   ]
  },
  {
   "cell_type": "code",
   "execution_count": 8,
   "id": "7fce916e-cf08-4aa6-9d66-f63de9a853ce",
   "metadata": {},
   "outputs": [
    {
     "name": "stdout",
     "output_type": "stream",
     "text": [
      "['Ricardo', 'Luis Ricardo', 'Ramom', 'Moacir', 'Zila', 'Maria']\n"
     ]
    }
   ],
   "source": [
    "nomes= ['Ricardo', 'Luis Ricardo', 'Ramom', 'Moacir', 'Zila', 'Eduardo', 'Maria']\n",
    "nomes.pop(5)\n",
    "print(nomes)"
   ]
  },
  {
   "cell_type": "code",
   "execution_count": null,
   "id": "a4151b1f-e6f7-4ad2-9704-7d329652990e",
   "metadata": {},
   "outputs": [],
   "source": [
    "#Usando o remove"
   ]
  },
  {
   "cell_type": "code",
   "execution_count": 11,
   "id": "ee6a74e2-e3bc-45a6-9192-81de5de9120f",
   "metadata": {},
   "outputs": [
    {
     "name": "stdout",
     "output_type": "stream",
     "text": [
      "['Luis Ricardo', 'Ramom', 'Moacir', 'Zila', 'Eduardo']\n"
     ]
    }
   ],
   "source": [
    "nomes= ['Ricardo', 'Luis Ricardo', 'Ramom', 'Moacir', 'Zila', 'Eduardo', 'Maria']\n",
    "nomes.remove('Ricardo')\n",
    "nomes.remove('Maria')\n",
    "print(nomes)"
   ]
  },
  {
   "cell_type": "code",
   "execution_count": 12,
   "id": "29b58012-67b1-4c9c-aa32-fbfcb7f25e32",
   "metadata": {},
   "outputs": [],
   "source": [
    "# Encontrando um index na lista"
   ]
  },
  {
   "cell_type": "code",
   "execution_count": 14,
   "id": "e1fef45b-4c9a-40af-8410-90d9d71c8ca2",
   "metadata": {
    "tags": []
   },
   "outputs": [
    {
     "name": "stdout",
     "output_type": "stream",
     "text": [
      "3\n",
      "['Ricardo', 'Luis Ricardo', 'Ramom', 'Zila', 'Eduardo', 'Maria']\n"
     ]
    }
   ],
   "source": [
    "nomes= ['Ricardo', 'Luis Ricardo', 'Ramom', 'Moacir', 'Zila', 'Eduardo', 'Maria']\n",
    "print(nomes.index('Moacir'))\n",
    "nomes.pop(nomes.index('Moacir'))\n",
    "print(nomes)"
   ]
  },
  {
   "cell_type": "code",
   "execution_count": 1,
   "id": "eafff6ff-7166-4d6f-8aa7-11a172005858",
   "metadata": {},
   "outputs": [],
   "source": [
    "# Ordenando listas com sort e sorted, tambem em ordem inversa"
   ]
  },
  {
   "cell_type": "code",
   "execution_count": 2,
   "id": "4cd5367a-77e5-473f-9ed4-61a05e7f4b8f",
   "metadata": {},
   "outputs": [
    {
     "name": "stdout",
     "output_type": "stream",
     "text": [
      "['Eduardo', 'Luis Ricardo', 'Maria', 'Moacir', 'Ramom', 'Ricardo', 'Zila']\n",
      "---------------\n",
      "[1, 2, 4, 5, 6, 21, 23, 32, 45, 59, 67, 89, 234]\n"
     ]
    }
   ],
   "source": [
    "nomes= ['Ricardo', 'Luis Ricardo', 'Ramom', 'Moacir', 'Zila', 'Eduardo', 'Maria']\n",
    "numeros = [23, 4,45, 1,67,2,59,32,21,5,234,89,6]\n",
    "\n",
    "nomes.sort()\n",
    "numeros.sort()\n",
    "print(nomes)\n",
    "print('-'*15)\n",
    "print(numeros)"
   ]
  },
  {
   "cell_type": "code",
   "execution_count": 4,
   "id": "86eec29b-825a-4eb4-a6ee-537fc31975ac",
   "metadata": {},
   "outputs": [
    {
     "name": "stdout",
     "output_type": "stream",
     "text": [
      "['Zila', 'Ricardo', 'Ramom', 'Moacir', 'Maria', 'Luis Ricardo', 'Eduardo']\n",
      "---------------\n",
      "[234, 89, 67, 59, 45, 32, 23, 21, 6, 5, 4, 2, 1]\n"
     ]
    }
   ],
   "source": [
    "nomes= ['Ricardo', 'Luis Ricardo', 'Ramom', 'Moacir', 'Zila', 'Eduardo', 'Maria']\n",
    "numeros = [23, 4,45, 1,67,2,59,32,21,5,234,89,6]\n",
    "\n",
    "nomes.sort(reverse=True)\n",
    "numeros.sort(reverse=True)\n",
    "print(nomes)\n",
    "print('-'*15)\n",
    "print(numeros)"
   ]
  },
  {
   "cell_type": "code",
   "execution_count": 5,
   "id": "597ed253-3009-4381-8588-dda8fc67396a",
   "metadata": {},
   "outputs": [
    {
     "name": "stdout",
     "output_type": "stream",
     "text": [
      "['Ricardo', 'Luis Ricardo', 'Ramom', 'Moacir', 'Zila', 'Eduardo', 'Maria']\n",
      "['Eduardo', 'Luis Ricardo', 'Maria', 'Moacir', 'Ramom', 'Ricardo', 'Zila']\n",
      "---------------\n",
      "[23, 4, 45, 1, 67, 2, 59, 32, 21, 5, 234, 89, 6]\n",
      "[1, 2, 4, 5, 6, 21, 23, 32, 45, 59, 67, 89, 234]\n"
     ]
    }
   ],
   "source": [
    "nomes= ['Ricardo', 'Luis Ricardo', 'Ramom', 'Moacir', 'Zila', 'Eduardo', 'Maria']\n",
    "numeros = [23, 4,45, 1,67,2,59,32,21,5,234,89,6]\n",
    "\n",
    "non = sorted(nomes)\n",
    "num =sorted(numeros)\n",
    "print(nomes)\n",
    "print(non)\n",
    "print('-'*15)\n",
    "print(numeros)\n",
    "print(num)"
   ]
  },
  {
   "cell_type": "code",
   "execution_count": 6,
   "id": "d39ce408-62ad-4e1f-8c7a-23ab61ee1aad",
   "metadata": {},
   "outputs": [
    {
     "name": "stdout",
     "output_type": "stream",
     "text": [
      "['Ricardo', 'Luis Ricardo', 'Ramom', 'Moacir', 'Zila', 'Eduardo', 'Maria']\n",
      "['Zila', 'Ricardo', 'Ramom', 'Moacir', 'Maria', 'Luis Ricardo', 'Eduardo']\n",
      "---------------\n",
      "[23, 4, 45, 1, 67, 2, 59, 32, 21, 5, 234, 89, 6]\n",
      "[234, 89, 67, 59, 45, 32, 23, 21, 6, 5, 4, 2, 1]\n"
     ]
    }
   ],
   "source": [
    "nomes= ['Ricardo', 'Luis Ricardo', 'Ramom', 'Moacir', 'Zila', 'Eduardo', 'Maria']\n",
    "numeros = [23, 4,45, 1,67,2,59,32,21,5,234,89,6]\n",
    "\n",
    "non = sorted(nomes,reverse=True)\n",
    "num =sorted(numeros,reverse=True)\n",
    "print(nomes)\n",
    "print(non)\n",
    "print('-'*15)\n",
    "print(numeros)\n",
    "print(num)"
   ]
  },
  {
   "cell_type": "code",
   "execution_count": 7,
   "id": "1972c0c8-017c-4602-af19-b6e8856a90b1",
   "metadata": {},
   "outputs": [],
   "source": [
    "#Iterando em uma lista"
   ]
  },
  {
   "cell_type": "code",
   "execution_count": 10,
   "id": "4fa07e39-74a3-41dd-9716-a368a33da0b7",
   "metadata": {},
   "outputs": [
    {
     "name": "stdout",
     "output_type": "stream",
     "text": [
      "0 1 2 3 4 5 6 7 8 9 10 11 12 "
     ]
    }
   ],
   "source": [
    "idades = [23, 4,45, 1,67,2,59,32,21,5,86,89,6]\n",
    "#passar por cada um deles\n",
    "for i in range(0, len(idades)):\n",
    "    #vai imprimir os ídices ou posições\n",
    "    print(i,end=' ')"
   ]
  },
  {
   "cell_type": "code",
   "execution_count": 11,
   "id": "77d7354a-8d7a-42d0-b6ee-48156eb3a825",
   "metadata": {},
   "outputs": [
    {
     "name": "stdout",
     "output_type": "stream",
     "text": [
      "23 4 45 1 67 2 59 32 21 5 86 89 6 "
     ]
    }
   ],
   "source": [
    "idades = [23, 4,45, 1,67,2,59,32,21,5,86,89,6]\n",
    "#passar por cada um deles\n",
    "for i in range(0, len(idades)):\n",
    "    #vai imprimir os valores que estão nas posições\n",
    "    print(idades[i],end=' ')"
   ]
  },
  {
   "cell_type": "code",
   "execution_count": 14,
   "id": "668f3630-b271-45c0-80d4-b251c6f03577",
   "metadata": {},
   "outputs": [
    {
     "name": "stdout",
     "output_type": "stream",
     "text": [
      "23 = 0\n",
      "4 = 1\n",
      "45 = 2\n",
      "1 = 3\n",
      "67 = 4\n",
      "2 = 5\n",
      "59 = 6\n",
      "32 = 7\n",
      "21 = 8\n",
      "5 = 9\n",
      "86 = 10\n",
      "89 = 11\n",
      "6 = 12\n"
     ]
    }
   ],
   "source": [
    "idades = [23, 4,45, 1,67,2,59,32,21,5,86,89,6]\n",
    "#passar por cada um deles\n",
    "for i in range(0, len(idades)):\n",
    "    #vai imprimir os valorese as  posições\n",
    "    print(idades[i],'=',i)"
   ]
  },
  {
   "cell_type": "code",
   "execution_count": 15,
   "id": "b0d230fe-e899-47ae-b2b2-f047da132183",
   "metadata": {},
   "outputs": [],
   "source": [
    "# Existe uma forma mais profissional no python para iterar os elementos de um lista"
   ]
  },
  {
   "cell_type": "code",
   "execution_count": 16,
   "id": "aba5c44f-950c-4c42-8405-174c68a6c23d",
   "metadata": {},
   "outputs": [
    {
     "name": "stdout",
     "output_type": "stream",
     "text": [
      "23 - 4 - 45 - 1 - 67 - 2 - 59 - 32 - 21 - 5 - 86 - 89 - 6 - "
     ]
    }
   ],
   "source": [
    "idades = [23, 4,45, 1,67,2,59,32,21,5,86,89,6]\n",
    "# o problema é que não conseguimos acessar as posições\n",
    "for i in idades:\n",
    "    print(i,end=' - ')"
   ]
  },
  {
   "cell_type": "code",
   "execution_count": 18,
   "id": "b4770b50-4de0-48ce-8c72-ca1aede3fb0b",
   "metadata": {},
   "outputs": [
    {
     "name": "stdout",
     "output_type": "stream",
     "text": [
      "[(0, 23), (1, 4), (2, 45), (3, 1), (4, 67), (5, 2), (6, 59), (7, 32), (8, 21), (9, 5), (10, 86), (11, 89), (12, 6)]\n"
     ]
    }
   ],
   "source": [
    "idades = [23, 4,45, 1,67,2,59,32,21,5,86,89,6]\n",
    "x = list(enumerate(idades))\n",
    "print(x)"
   ]
  },
  {
   "cell_type": "code",
   "execution_count": 21,
   "id": "7212882f-337a-4d92-b61c-8139436456c6",
   "metadata": {},
   "outputs": [
    {
     "name": "stdout",
     "output_type": "stream",
     "text": [
      "(0, 23) (1, 4) (2, 45) (3, 1) (4, 67) (5, 2) (6, 59) (7, 32) (8, 21) (9, 5) (10, 86) (11, 89) (12, 6) "
     ]
    }
   ],
   "source": [
    "idades = [23, 4,45, 1,67,2,59,32,21,5,86,89,6]\n",
    "# podemos fazer um for\n",
    "for i in enumerate(idades):\n",
    "    print(i, end=' ')"
   ]
  },
  {
   "cell_type": "code",
   "execution_count": 23,
   "id": "702cb6ed-29fb-494a-8f6b-9acdc4f6b16b",
   "metadata": {},
   "outputs": [
    {
     "name": "stdout",
     "output_type": "stream",
     "text": [
      "i = 0 e j = 23\n",
      "i = 1 e j = 4\n",
      "i = 2 e j = 45\n",
      "i = 3 e j = 1\n",
      "i = 4 e j = 67\n",
      "i = 5 e j = 2\n",
      "i = 6 e j = 59\n",
      "i = 7 e j = 32\n",
      "i = 8 e j = 21\n",
      "i = 9 e j = 5\n",
      "i = 10 e j = 86\n",
      "i = 11 e j = 89\n",
      "i = 12 e j = 6\n"
     ]
    }
   ],
   "source": [
    "idades = [23, 4,45, 1,67,2,59,32,21,5,86,89,6]\n",
    "# podemos fazer um for aninhado\n",
    "for i,j in enumerate(idades):\n",
    "    print(f'i = {i} e j = {j}')"
   ]
  },
  {
   "cell_type": "code",
   "execution_count": 27,
   "id": "c5618c14-7da2-4748-9ee9-ce43182823e6",
   "metadata": {},
   "outputs": [
    {
     "name": "stdout",
     "output_type": "stream",
     "text": [
      "[2, 4, 6, 32, 86]\n",
      "A quantidade de pares = 5\n"
     ]
    }
   ],
   "source": [
    "idades = [23, 4,45, 1,67,2,59,32,21,5,86,89,6]\n",
    "# criando nova lista de idades pares\n",
    "idades_pares = []\n",
    "for i in idades:\n",
    "    if i % 2 == 0:\n",
    "        idades_pares.append(i)\n",
    "idades_pares.sort()\n",
    "print(idades_pares)\n",
    "print('A quantidade de pares =', len(idades_pares))"
   ]
  },
  {
   "cell_type": "code",
   "execution_count": 28,
   "id": "0ae6871e-b359-4e9f-90eb-20837aecdcb9",
   "metadata": {},
   "outputs": [],
   "source": [
    "# entendendo e trabalhando com matrizes"
   ]
  },
  {
   "cell_type": "code",
   "execution_count": 29,
   "id": "6c65b507-b5bd-43ba-af46-bc0ca59ac6b9",
   "metadata": {},
   "outputs": [
    {
     "name": "stdout",
     "output_type": "stream",
     "text": [
      "14\n"
     ]
    }
   ],
   "source": [
    "idades= [[1, 2, 3, 4, 5],\n",
    "         [6, 7, 8, 9, 10],\n",
    "         [11, 12, 13, 14, 15]]\n",
    "# Se eu quiser acessar o número 14 = linha 2 e coluna 3\n",
    "print(idades[2][3])"
   ]
  },
  {
   "cell_type": "code",
   "execution_count": 31,
   "id": "713046b1-1b63-4e27-8b66-45d23686363e",
   "metadata": {},
   "outputs": [
    {
     "name": "stdout",
     "output_type": "stream",
     "text": [
      "[1, 2, 3, 4, 5]\n",
      "------------------------\n",
      "[6, 7, 8, 9, 10]\n",
      "------------------------\n",
      "[11, 12, 13, 14, 15]\n"
     ]
    }
   ],
   "source": [
    "idades= [[1, 2, 3, 4, 5],\n",
    "         [6, 7, 8, 9, 10],\n",
    "         [11, 12, 13, 14, 15]]\n",
    "# Acessar idades na posição 0\n",
    "print(idades[0])\n",
    "print('------------------------')\n",
    "print(idades[1])\n",
    "print('------------------------')\n",
    "print(idades[2])"
   ]
  },
  {
   "cell_type": "code",
   "execution_count": 34,
   "id": "2a327d1f-83be-44b8-bc5a-301b5e04166f",
   "metadata": {},
   "outputs": [
    {
     "name": "stdout",
     "output_type": "stream",
     "text": [
      "1 = 2 = 3 = 4 = 5 = 6 = 7 = 8 = 9 = 10 = 11 = 12 = 13 = 14 = 15 = "
     ]
    }
   ],
   "source": [
    "idades= [[1, 2, 3, 4, 5],\n",
    "         [6, 7, 8, 9, 10],\n",
    "         [11, 12, 13, 14, 15]]\n",
    "for i in range(0, len(idades)):\n",
    "    for j in range(0, len(idades[i])):\n",
    "        print(idades[i][j],end=' = ')\n",
    "    "
   ]
  },
  {
   "cell_type": "code",
   "execution_count": null,
   "id": "0d82c6cd-69b4-43ec-aa84-baab6540b639",
   "metadata": {},
   "outputs": [],
   "source": [
    "# Exercício utilizando listas receber 10 nomes e exibir a soma de todos eles"
   ]
  },
  {
   "cell_type": "code",
   "execution_count": 35,
   "id": "c18e274d-7d68-4e11-b3d3-373826ce8ce2",
   "metadata": {},
   "outputs": [
    {
     "name": "stdin",
     "output_type": "stream",
     "text": [
      " 3\n",
      " 4\n",
      " 7\n",
      " 6\n",
      " 5\n",
      " 12\n",
      " 13\n",
      " 15\n",
      " 21\n",
      " 34\n"
     ]
    },
    {
     "name": "stdout",
     "output_type": "stream",
     "text": [
      "120\n"
     ]
    }
   ],
   "source": [
    "numeros = [int(input()) for i in range(0,10)]\n",
    "\n",
    "print(sum(numeros))"
   ]
  },
  {
   "cell_type": "code",
   "execution_count": 36,
   "id": "f3b77356-e0bc-4d4b-b750-e66fc8edca81",
   "metadata": {},
   "outputs": [
    {
     "name": "stdin",
     "output_type": "stream",
     "text": [
      " 1\n",
      " 2\n",
      " 3\n",
      " 4\n",
      " 5\n",
      " 6\n",
      " 7\n",
      " 8\n",
      " 9\n",
      " 11\n"
     ]
    },
    {
     "name": "stdout",
     "output_type": "stream",
     "text": [
      "56\n"
     ]
    }
   ],
   "source": [
    "numeros = [int(input()) for i in range(0,10)]\n",
    "soma = 0\n",
    "for i in numeros:\n",
    "    soma += i\n",
    "print(soma)"
   ]
  },
  {
   "cell_type": "code",
   "execution_count": 37,
   "id": "082cf23c-8ced-4ff9-a533-f85508946b6c",
   "metadata": {},
   "outputs": [],
   "source": [
    "# programação funcional listcomprehension"
   ]
  },
  {
   "cell_type": "code",
   "execution_count": 42,
   "id": "7569ac29-9bf0-4978-9003-a6633f9ada30",
   "metadata": {},
   "outputs": [
    {
     "name": "stdout",
     "output_type": "stream",
     "text": [
      "[0, 1, 2, 3, 4, 5, 6, 7, 8, 9]\n",
      "[0, 1, 2, 3, 4, 5, 6, 7, 8, 9]\n",
      "[10, 10, 10, 10, 10, 10, 10, 10, 10, 10]\n",
      "[0, 2, 4, 6, 8, 10, 12, 14, 16, 18]\n"
     ]
    }
   ],
   "source": [
    "# usando listcomprehension\n",
    "x = [i for i in range(0,10)]\n",
    "z = [10 for i in range(0,10)]\n",
    "mult = [i*2 for i in range(0,10)]\n",
    "# usando a forma tradicional\n",
    "y = []\n",
    "for i in range(0,10):\n",
    "    y.append(i)\n",
    "    \n",
    "print(x)\n",
    "print(y)\n",
    "print(z)\n",
    "print(mult)"
   ]
  },
  {
   "cell_type": "code",
   "execution_count": 43,
   "id": "094bf38b-0b0a-41ca-98d5-1142f83d59c3",
   "metadata": {},
   "outputs": [
    {
     "name": "stdout",
     "output_type": "stream",
     "text": [
      "[20, 40, 60, 80, 100]\n"
     ]
    }
   ],
   "source": [
    "numeros = [10,20,30,40, 50]\n",
    "x =[i*2 for i in numeros]\n",
    "print(x)"
   ]
  },
  {
   "cell_type": "code",
   "execution_count": 44,
   "id": "c07eb932-cd8a-4bfb-b1ce-248fbffe0e95",
   "metadata": {},
   "outputs": [
    {
     "name": "stdin",
     "output_type": "stream",
     "text": [
      "Digite um nome:  Ricardo\n",
      "Digite um nome:  Zila\n",
      "Digite um nome:  Moacir\n"
     ]
    },
    {
     "name": "stdout",
     "output_type": "stream",
     "text": [
      "['Ricardo', 'Zila', 'Moacir']\n"
     ]
    }
   ],
   "source": [
    "nomes = [input('Digite um nome: ') for i in range(0,3)]\n",
    "print(nomes)"
   ]
  },
  {
   "cell_type": "code",
   "execution_count": 46,
   "id": "5f8bd75e-e0ca-4376-bb9d-7f82200c8491",
   "metadata": {},
   "outputs": [],
   "source": [
    "# Criando uma matriz"
   ]
  },
  {
   "cell_type": "code",
   "execution_count": 49,
   "id": "500fedae-66b1-453d-9bec-1802fee8aa67",
   "metadata": {},
   "outputs": [
    {
     "name": "stdout",
     "output_type": "stream",
     "text": [
      "[[4, 5, 6, 7], [4, 5, 6, 7], [4, 5, 6, 7]]\n",
      "[[4, 5, 6, 7], [4, 5, 6, 7], [4, 5, 6, 7]]\n"
     ]
    }
   ],
   "source": [
    "x = [[j for j in range(4,8)] for i in range(0,3)]\n",
    "# É o mesmo que usando uma lista colocada a mão acima o sistema gera a lista automaticament\n",
    "z = [[4,5,6,7] for i in range(0,3)]\n",
    "print(x)\n",
    "print(z)"
   ]
  },
  {
   "cell_type": "code",
   "execution_count": 50,
   "id": "8d16dc9c-74ec-4e57-a605-de171c818524",
   "metadata": {},
   "outputs": [
    {
     "name": "stdin",
     "output_type": "stream",
     "text": [
      " 5\n",
      " 6\n",
      " 7\n",
      " 1\n",
      " 2\n",
      " 3\n",
      " 8\n",
      " 9\n",
      " 10\n",
      " 1\n",
      " 2\n",
      " 3\n"
     ]
    },
    {
     "name": "stdout",
     "output_type": "stream",
     "text": [
      "[['5', '6', '7', '1'], ['2', '3', '8', '9'], ['10', '1', '2', '3']]\n"
     ]
    }
   ],
   "source": [
    "x = [[input() for j in range(4,8)] for i in range(0,3)]\n",
    "print(x)\n"
   ]
  },
  {
   "cell_type": "code",
   "execution_count": 52,
   "id": "03585513-a727-4156-8ec8-c08c3cff6b0d",
   "metadata": {},
   "outputs": [
    {
     "name": "stdin",
     "output_type": "stream",
     "text": [
      " 10\n",
      " 20\n",
      " 44\n",
      " 55\n",
      " 66\n",
      " 77\n",
      " 88\n",
      " 99\n"
     ]
    },
    {
     "name": "stdout",
     "output_type": "stream",
     "text": [
      "[[['10', '20'], ['44', '55']], [['66', '77'], ['88', '99']]]\n"
     ]
    }
   ],
   "source": [
    "# criando uma lista tri dimencional\n",
    "x = [[[input() for h in range(0,2)] for j in range(0,2)] for i in range(0,2)]\n",
    "print(x)"
   ]
  },
  {
   "cell_type": "code",
   "execution_count": 53,
   "id": "ed11761f-1da1-4595-a303-8385adeb5fb0",
   "metadata": {},
   "outputs": [
    {
     "name": "stdout",
     "output_type": "stream",
     "text": [
      "[5, 6, 7, 8, 9]\n",
      "[5, 6, 7, 8, 9]\n"
     ]
    }
   ],
   "source": [
    "# usando condicionais\n",
    "x =[i for i in range(0,10) if i > 4]\n",
    "print(x)\n",
    "# a mesma coisa convensionalmente seria assim\n",
    "y = []\n",
    "for i in range(0,10):\n",
    "    if i > 4:\n",
    "        y.append(i)\n",
    "print(y)"
   ]
  },
  {
   "cell_type": "code",
   "execution_count": null,
   "id": "cdb1ccb9-df11-4d4d-b39d-c4ab8577e75e",
   "metadata": {},
   "outputs": [],
   "source": []
  }
 ],
 "metadata": {
  "kernelspec": {
   "display_name": "Python 3",
   "language": "python",
   "name": "python3"
  },
  "language_info": {
   "codemirror_mode": {
    "name": "ipython",
    "version": 3
   },
   "file_extension": ".py",
   "mimetype": "text/x-python",
   "name": "python",
   "nbconvert_exporter": "python",
   "pygments_lexer": "ipython3",
   "version": "3.8.8"
  }
 },
 "nbformat": 4,
 "nbformat_minor": 5
}
