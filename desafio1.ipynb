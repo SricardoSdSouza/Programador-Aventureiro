{
 "cells": [
  {
   "cell_type": "code",
   "execution_count": 1,
   "id": "5e3f2e8d-f058-4491-95e2-fcab134781ea",
   "metadata": {},
   "outputs": [],
   "source": [
    "# Escreva um programa que leia o nome do usuário e retorne uma mensagem de boas vindas!!"
   ]
  },
  {
   "cell_type": "code",
   "execution_count": 5,
   "id": "7779d932-9ee9-4703-aa26-4bf5ef1178d4",
   "metadata": {},
   "outputs": [
    {
     "name": "stdin",
     "output_type": "stream",
     "text": [
      "Digite seu nome: Antoim\n"
     ]
    },
    {
     "name": "stdout",
     "output_type": "stream",
     "text": [
      "Seja bem vindo Antoim ao primeiro desafio!!\n"
     ]
    }
   ],
   "source": [
    "nome = input('Digite seu nome:')\n",
    "print(f'Seja bem vindo {nome} ao primeiro desafio!!')"
   ]
  },
  {
   "cell_type": "code",
   "execution_count": 6,
   "id": "32ec3975-d873-4380-b1a2-b92bde1acd3f",
   "metadata": {},
   "outputs": [],
   "source": [
    "#Escreva um programa que leia o ano de nascimento do usuário e retorne quantos anos ele fará em 2035"
   ]
  },
  {
   "cell_type": "code",
   "execution_count": 8,
   "id": "7f52ef37-94ee-4f80-82e1-c39cb0057dc6",
   "metadata": {},
   "outputs": [
    {
     "name": "stdin",
     "output_type": "stream",
     "text": [
      "Qual o seu ano de nascimento?:  2015\n"
     ]
    },
    {
     "name": "stdout",
     "output_type": "stream",
     "text": [
      "Você fará 20 anos em 2035!\n"
     ]
    }
   ],
   "source": [
    "ano = int(input('Qual o seu ano de nascimento?: '))\n",
    "idade = 2035 - ano\n",
    "print(f'Você fará {idade} anos em 2035!')"
   ]
  },
  {
   "cell_type": "code",
   "execution_count": 9,
   "id": "fcbee2de-24bb-452b-b9a0-92f618ae7e66",
   "metadata": {},
   "outputs": [],
   "source": [
    "#Escreva um programa que peça dois valores para o usuário e retorne a soma entre eles."
   ]
  },
  {
   "cell_type": "code",
   "execution_count": 14,
   "id": "d414c111-2575-420d-b9ef-e9752f949d95",
   "metadata": {},
   "outputs": [
    {
     "name": "stdout",
     "output_type": "stream",
     "text": [
      "Vamos fazer uma soma de dois números, por favor escolha os números:\n"
     ]
    },
    {
     "name": "stdin",
     "output_type": "stream",
     "text": [
      "Digite o primeiro número =  23\n",
      "Digite o segundo número =  32\n"
     ]
    },
    {
     "name": "stdout",
     "output_type": "stream",
     "text": [
      "A soma de 23 + 32 = 55\n"
     ]
    }
   ],
   "source": [
    "print('Vamos fazer uma soma de dois números, por favor escolha os números:')\n",
    "n1=int(input('Digite o primeiro número = '))\n",
    "n2 =int(input('Digite o segundo número = '))\n",
    "print(f'A soma de {n1} + {n2} = {n1+n2}')"
   ]
  },
  {
   "cell_type": "code",
   "execution_count": 15,
   "id": "009fe735-1e8c-4860-8c10-45523eacfe3c",
   "metadata": {},
   "outputs": [],
   "source": [
    "#Escreva um programa que peça dois valores para o usuário e retorne a multiplicação entre eles."
   ]
  },
  {
   "cell_type": "code",
   "execution_count": 18,
   "id": "b71462b1-4d09-40c4-8aa4-9d898c66f42e",
   "metadata": {},
   "outputs": [
    {
     "name": "stdout",
     "output_type": "stream",
     "text": [
      "Vamos fazer uma multiplicação de dois números, por favor escolha os números:\n"
     ]
    },
    {
     "name": "stdin",
     "output_type": "stream",
     "text": [
      "Digite o primeiro número =  2\n",
      "Digite o segundo número =  6\n"
     ]
    },
    {
     "name": "stdout",
     "output_type": "stream",
     "text": [
      "O produto de 2 x 6 = 12\n"
     ]
    }
   ],
   "source": [
    "print('Vamos fazer uma multiplicação de dois números, por favor escolha os números:')\n",
    "n1=int(input('Digite o primeiro número = '))\n",
    "n2 =int(input('Digite o segundo número = '))\n",
    "print(f'O produto de {n1} x {n2} = {n1*n2}')"
   ]
  },
  {
   "cell_type": "code",
   "execution_count": 19,
   "id": "22d9b85c-8adf-4a4a-b7a3-6a5d169d2a47",
   "metadata": {},
   "outputs": [],
   "source": [
    "# escreva um programa que leia o nome completo do usuário e retorne ele em maiúsculas, minúsculas, capitalizado\n",
    "#e em formatação de título."
   ]
  },
  {
   "cell_type": "code",
   "execution_count": 21,
   "id": "93be56d2-c443-46b3-8f6d-5a3b481e98fd",
   "metadata": {},
   "outputs": [
    {
     "name": "stdin",
     "output_type": "stream",
     "text": [
      "Favor informar seu nome completo=  Ricardo Santos de Souza\n"
     ]
    },
    {
     "name": "stdout",
     "output_type": "stream",
     "text": [
      "RICARDO SANTOS DE SOUZA\n",
      "ricardo santos de souza\n",
      "Ricardo santos de souza\n",
      "Ricardo Santos De Souza\n"
     ]
    }
   ],
   "source": [
    "nome = input('Favor informar seu nome completo= ')\n",
    "print(nome.upper()) #maiúsculas\n",
    "print(nome.lower()) #minúsculas\n",
    "print(nome.capitalize()) #capitalizado\n",
    "print(nome.title()) # forma de titulo"
   ]
  },
  {
   "cell_type": "code",
   "execution_count": 22,
   "id": "5b48b932-3a74-4a06-a0fe-b0c5f868d114",
   "metadata": {},
   "outputs": [],
   "source": [
    "#Escreva um programa que leia um número digitado pelo usuário e retorne o seu antecessor e o seu sucessor. Vamos considerar\n",
    "# como antecessor o número inteiro imediatamente inferior ao número digitado e como sucessor o intiro imediatamente superior\n",
    "# ao número digitado"
   ]
  },
  {
   "cell_type": "code",
   "execution_count": 25,
   "id": "5d877f3b-dd1e-46a7-b3f3-460e9cd45ff1",
   "metadata": {},
   "outputs": [
    {
     "name": "stdout",
     "output_type": "stream",
     "text": [
      "Vamos encontrar o sucesso e o antecessor do número digitado\n"
     ]
    },
    {
     "name": "stdin",
     "output_type": "stream",
     "text": [
      "digite um número:  7\n"
     ]
    },
    {
     "name": "stdout",
     "output_type": "stream",
     "text": [
      "O antecessor do número 7 é = 6\n",
      "O sucessor do número 7 é = 8\n"
     ]
    }
   ],
   "source": [
    "print('Vamos encontrar o sucesso e o antecessor do número digitado')\n",
    "n=int(input('digite um número: '))\n",
    "print(f'O antecessor do número {n} é = {n-1}')\n",
    "print(f'O sucessor do número {n} é = {n+1}')"
   ]
  },
  {
   "cell_type": "code",
   "execution_count": 35,
   "id": "b2b56d9a-c214-4251-9df8-75faebc3fef4",
   "metadata": {},
   "outputs": [],
   "source": [
    "import math"
   ]
  },
  {
   "cell_type": "code",
   "execution_count": 26,
   "id": "7cbcd9cc-006d-4799-a3dd-7367e72d7a88",
   "metadata": {},
   "outputs": [],
   "source": [
    "# Escreva um programa que leia um número e diga qual o seu dobro, triplo, quadrado, cubo e raiz quadrada"
   ]
  },
  {
   "cell_type": "code",
   "execution_count": 37,
   "id": "2725f340-fc95-4f1e-ba25-c99461443acb",
   "metadata": {},
   "outputs": [
    {
     "name": "stdin",
     "output_type": "stream",
     "text": [
      "Informe um número:  81\n"
     ]
    },
    {
     "name": "stdout",
     "output_type": "stream",
     "text": [
      "O dobro de 81 é = 162\n",
      "O triplo de 81 é = 243\n",
      "O quadrado de 81 é = 6561\n",
      "O cubo de 81 é = 531441\n",
      "A raiz quadrada de 81 é = 9.0\n",
      "A raiz quadrada de 81 é = 9.0\n"
     ]
    }
   ],
   "source": [
    "num = int(input('Informe um número: '))\n",
    "print(f'O dobro de {num} é = {num*2}')\n",
    "print(f'O triplo de {num} é = {num*3}')\n",
    "print(f'O quadrado de {num} é = {num**2}')\n",
    "print(f'O cubo de {num} é = {num**3}')\n",
    "print(f'A raiz quadrada de {num} é = {math.sqrt(num)}')\n",
    "print(f'A raiz quadrada de {num} é = {num**0.5}')\n"
   ]
  },
  {
   "cell_type": "code",
   "execution_count": 33,
   "id": "240006a3-3a24-490b-81f7-e06292cfecf6",
   "metadata": {},
   "outputs": [],
   "source": [
    "#Escreva um programa que leia três notas de um aluno digitados pelo usuário e retorne a média dele."
   ]
  },
  {
   "cell_type": "code",
   "execution_count": 34,
   "id": "999fea46-3d64-4e97-a02f-09363f13a112",
   "metadata": {},
   "outputs": [
    {
     "name": "stdout",
     "output_type": "stream",
     "text": [
      "Vamos conhecer a média das notas de um aluno\n"
     ]
    },
    {
     "name": "stdin",
     "output_type": "stream",
     "text": [
      "Informe a primeira nota:  6\n",
      "Informe a segunda nota:  7\n",
      "Informe a terceira nota:  8\n"
     ]
    },
    {
     "name": "stdout",
     "output_type": "stream",
     "text": [
      "A media das notas é 7.0\n"
     ]
    }
   ],
   "source": [
    "print('Vamos conhecer a média das notas de um aluno')\n",
    "nota1=int(input('Informe a primeira nota: '))\n",
    "nota2=int(input('Informe a segunda nota: '))\n",
    "nota3=int(input('Informe a terceira nota: '))\n",
    "print(f'A media das notas é {(nota1+nota2+nota3)/3}')"
   ]
  },
  {
   "cell_type": "code",
   "execution_count": 38,
   "id": "8c87ac2d-43de-4f9d-98d2-8b5137d97923",
   "metadata": {},
   "outputs": [],
   "source": [
    "# Escreva um programa que leia um número inteiro digitado pelo usuário e retorne a sua tabuada"
   ]
  },
  {
   "cell_type": "code",
   "execution_count": 41,
   "id": "b2b596e6-f49b-42e1-9c66-de2a46eee4ce",
   "metadata": {},
   "outputs": [
    {
     "name": "stdin",
     "output_type": "stream",
     "text": [
      "Informe um número inteiro 2\n"
     ]
    },
    {
     "name": "stdout",
     "output_type": "stream",
     "text": [
      "\n",
      "1 x 2 = 2\n",
      "2 x 2 = 4\n",
      "3 x 2 = 6\n",
      "4 x 2 = 8\n",
      "5 x 2 = 10\n",
      "6 x 2 = 12\n",
      "7 x 2 = 14\n",
      "8 x 2 = 16\n",
      "9 x 2 = 18\n",
      "10 x 2 = 20\n",
      "\n"
     ]
    }
   ],
   "source": [
    "numero = int(input('Informe um número inteiro'))\n",
    "print(f'''\n",
    "1 x {numero} = {numero * 1}\n",
    "2 x {numero} = {numero * 2}\n",
    "3 x {numero} = {numero * 3}\n",
    "4 x {numero} = {numero * 4}\n",
    "5 x {numero} = {numero * 5}\n",
    "6 x {numero} = {numero * 6}\n",
    "7 x {numero} = {numero * 7}\n",
    "8 x {numero} = {numero * 8}\n",
    "9 x {numero} = {numero * 9}\n",
    "10 x {numero} = {numero * 10}\n",
    "''')"
   ]
  },
  {
   "cell_type": "code",
   "execution_count": 42,
   "id": "308e1e34-b596-4ef7-ba40-cfcc65ebb9b6",
   "metadata": {},
   "outputs": [],
   "source": [
    "# Faça um programa que leia a largura e a altura de uma parede em metros, calcule a sua área e a quantidade de tinta necessária\n",
    "# para pintá-la, sabendo que cada litro de tinta pinta uma área de 2 metros quadrados."
   ]
  },
  {
   "cell_type": "code",
   "execution_count": 45,
   "id": "4a9a4303-6d8c-45d0-b187-5ef54d6e6665",
   "metadata": {},
   "outputs": [
    {
     "name": "stdin",
     "output_type": "stream",
     "text": [
      "Informe a largura da parede em metros 3.2\n",
      "Informe a altura da parede em metros 1.97\n"
     ]
    },
    {
     "name": "stdout",
     "output_type": "stream",
     "text": [
      "Para pintar uma parede de 3.2 de largura e 1.97 de altura serão precisos 3.152 litros de tinta. :)\n"
     ]
    }
   ],
   "source": [
    "largura = float(input('Informe a largura da parede em metros'))\n",
    "altura = float(input('Informe a altura da parede em metros'))\n",
    "area = largura * altura\n",
    "tinta = area/2\n",
    "print(f'Para pintar uma parede de {largura} de largura e {altura} de altura serão precisos {tinta} litros de tinta. :)')"
   ]
  },
  {
   "cell_type": "code",
   "execution_count": null,
   "id": "167702f2-30c2-42af-8e52-8af4fe6619ed",
   "metadata": {},
   "outputs": [],
   "source": []
  }
 ],
 "metadata": {
  "kernelspec": {
   "display_name": "Python 3",
   "language": "python",
   "name": "python3"
  },
  "language_info": {
   "codemirror_mode": {
    "name": "ipython",
    "version": 3
   },
   "file_extension": ".py",
   "mimetype": "text/x-python",
   "name": "python",
   "nbconvert_exporter": "python",
   "pygments_lexer": "ipython3",
   "version": "3.8.8"
  }
 },
 "nbformat": 4,
 "nbformat_minor": 5
}
