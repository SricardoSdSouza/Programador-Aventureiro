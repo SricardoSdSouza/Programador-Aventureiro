{
 "cells": [
  {
   "cell_type": "code",
   "execution_count": 1,
   "id": "cb68083b-0576-48b9-8c6a-391f64cef66e",
   "metadata": {},
   "outputs": [],
   "source": [
    "# 1 - Faça um programa que mostre na tela uma contagem regressiva, indo de 10 até 0"
   ]
  },
  {
   "cell_type": "code",
   "execution_count": 4,
   "id": "7ddae61e-0fab-4168-a2a3-3a9332e6cabd",
   "metadata": {},
   "outputs": [
    {
     "name": "stdout",
     "output_type": "stream",
     "text": [
      "10-9-8-7-6-5-4-3-2-1-0-"
     ]
    }
   ],
   "source": [
    "for num in range(10,-1,-1):\n",
    "    print(num,end='-')"
   ]
  },
  {
   "cell_type": "code",
   "execution_count": 5,
   "id": "60676dad-d02d-45ee-bdcb-590d15e10566",
   "metadata": {},
   "outputs": [],
   "source": [
    "#2 - crie um programa que conte quantos números pares que estão no intervalo entre 1 e 200 e armazene-os em uma\n",
    "# lista"
   ]
  },
  {
   "cell_type": "code",
   "execution_count": 54,
   "id": "aa6aaaa1-d15d-4e08-a573-56517b8555a7",
   "metadata": {},
   "outputs": [
    {
     "name": "stdout",
     "output_type": "stream",
     "text": [
      "A quantidade de pares é = \u001b[1;34m100\u001b[m números\n",
      "Os números pares são = \u001b[1;31m[2, 4, 6, 8, 10, 12, 14, 16, 18, 20, 22, 24, 26, 28, 30, 32, 34, 36, 38, 40, 42, 44, 46, 48, 50, 52, 54, 56, 58, 60, 62, 64, 66, 68, 70, 72, 74, 76, 78, 80, 82, 84, 86, 88, 90, 92, 94, 96, 98, 100, 102, 104, 106, 108, 110, 112, 114, 116, 118, 120, 122, 124, 126, 128, 130, 132, 134, 136, 138, 140, 142, 144, 146, 148, 150, 152, 154, 156, 158, 160, 162, 164, 166, 168, 170, 172, 174, 176, 178, 180, 182, 184, 186, 188, 190, 192, 194, 196, 198, 200]\u001b[m\n"
     ]
    }
   ],
   "source": [
    "par = 0\n",
    "lista=[]\n",
    "for num in range(1,201):# criando o range(200) da no mesmo\n",
    "    if num % 2 == 0:\n",
    "        par += 1\n",
    "        lista.append(num)\n",
    "print(f'A quantidade de pares é = \\033[1;34m{par}\\033[m números')\n",
    "print(f'Os números pares são = \\033[1;31m{lista}\\033[m')"
   ]
  },
  {
   "cell_type": "code",
   "execution_count": 58,
   "id": "2607d4ab-77b7-45ef-a98f-9335ec329a22",
   "metadata": {},
   "outputs": [
    {
     "name": "stdout",
     "output_type": "stream",
     "text": [
      "A quantidade de pares entre 1 e 200 é = 100\n"
     ]
    }
   ],
   "source": [
    "# resolução do Dalton\n",
    "lista=[]\n",
    "for num in range(1,201):# criando o range(200) da no mesmo\n",
    "    if num % 2 == 0:\n",
    "        lista.append(num)\n",
    "print(f'A quantidade de pares entre 1 e 200 é = {len(lista)}')"
   ]
  },
  {
   "cell_type": "code",
   "execution_count": 34,
   "id": "112b12fd-1fa9-4644-bac7-e53366d464f9",
   "metadata": {},
   "outputs": [],
   "source": [
    "# 3 - Faça um programa que calcule a soma entre todos os números que são múltiplos de três e que se encontram \n",
    "# no intervalo de 1 a 500."
   ]
  },
  {
   "cell_type": "code",
   "execution_count": 59,
   "id": "2728ef5d-0bfe-4bcb-a353-41381275409d",
   "metadata": {},
   "outputs": [
    {
     "name": "stdout",
     "output_type": "stream",
     "text": [
      "A quantidade de múltiplos é = \u001b[1;34m166\u001b[m números\n",
      "Os números pares são = \u001b[1;31m[3, 6, 9, 12, 15, 18, 21, 24, 27, 30, 33, 36, 39, 42, 45, 48, 51, 54, 57, 60, 63, 66, 69, 72, 75, 78, 81, 84, 87, 90, 93, 96, 99, 102, 105, 108, 111, 114, 117, 120, 123, 126, 129, 132, 135, 138, 141, 144, 147, 150, 153, 156, 159, 162, 165, 168, 171, 174, 177, 180, 183, 186, 189, 192, 195, 198, 201, 204, 207, 210, 213, 216, 219, 222, 225, 228, 231, 234, 237, 240, 243, 246, 249, 252, 255, 258, 261, 264, 267, 270, 273, 276, 279, 282, 285, 288, 291, 294, 297, 300, 303, 306, 309, 312, 315, 318, 321, 324, 327, 330, 333, 336, 339, 342, 345, 348, 351, 354, 357, 360, 363, 366, 369, 372, 375, 378, 381, 384, 387, 390, 393, 396, 399, 402, 405, 408, 411, 414, 417, 420, 423, 426, 429, 432, 435, 438, 441, 444, 447, 450, 453, 456, 459, 462, 465, 468, 471, 474, 477, 480, 483, 486, 489, 492, 495, 498]\u001b[m\n",
      "A soma destes multiplos é = \u001b[1;31m41583\u001b[m\n"
     ]
    }
   ],
   "source": [
    "mult = 0\n",
    "lista=[]\n",
    "for num in range(1,501):\n",
    "    if num % 3 == 0:\n",
    "        mult += 1\n",
    "        lista.append(num)\n",
    "print(f'A quantidade de múltiplos é = \\033[1;34m{mult}\\033[m números')\n",
    "print(f'Os números multiplos de 3 são = \\033[1;31m{lista}\\033[m')\n",
    "print(f'A soma destes multiplos é = \\033[1;31m{sum(lista)}\\033[m')"
   ]
  },
  {
   "cell_type": "code",
   "execution_count": 60,
   "id": "b92ac607-d639-499d-9426-cd546d9907a3",
   "metadata": {},
   "outputs": [
    {
     "name": "stdout",
     "output_type": "stream",
     "text": [
      "A quantidade de múltiplos é = \u001b[1;34m166\u001b[m números\n",
      "Os números multiplos de 3 são = \u001b[1;31m[3, 6, 9, 12, 15, 18, 21, 24, 27, 30, 33, 36, 39, 42, 45, 48, 51, 54, 57, 60, 63, 66, 69, 72, 75, 78, 81, 84, 87, 90, 93, 96, 99, 102, 105, 108, 111, 114, 117, 120, 123, 126, 129, 132, 135, 138, 141, 144, 147, 150, 153, 156, 159, 162, 165, 168, 171, 174, 177, 180, 183, 186, 189, 192, 195, 198, 201, 204, 207, 210, 213, 216, 219, 222, 225, 228, 231, 234, 237, 240, 243, 246, 249, 252, 255, 258, 261, 264, 267, 270, 273, 276, 279, 282, 285, 288, 291, 294, 297, 300, 303, 306, 309, 312, 315, 318, 321, 324, 327, 330, 333, 336, 339, 342, 345, 348, 351, 354, 357, 360, 363, 366, 369, 372, 375, 378, 381, 384, 387, 390, 393, 396, 399, 402, 405, 408, 411, 414, 417, 420, 423, 426, 429, 432, 435, 438, 441, 444, 447, 450, 453, 456, 459, 462, 465, 468, 471, 474, 477, 480, 483, 486, 489, 492, 495, 498]\u001b[m\n",
      "A soma destes multiplos é = \u001b[1;31m41583\u001b[m\n"
     ]
    }
   ],
   "source": [
    "# usando uma variável ao invés da função sum()\n",
    "lista=[]\n",
    "soma = 0\n",
    "for num in range(1,501):\n",
    "    if num % 3 == 0:\n",
    "        soma += num\n",
    "        lista.append(num)\n",
    "print(f'A quantidade de múltiplos é = \\033[1;34m{len(lista)}\\033[m números')\n",
    "print(f'Os números multiplos de 3 são = \\033[1;31m{lista}\\033[m')\n",
    "print(f'A soma destes multiplos é = \\033[1;31m{soma}\\033[m')"
   ]
  },
  {
   "cell_type": "code",
   "execution_count": null,
   "id": "529942fe-a0c8-4cef-8e88-66ac689206a6",
   "metadata": {
    "tags": []
   },
   "outputs": [],
   "source": [
    "# 4 - mostre a tabuada de um número digitado pelo susuário"
   ]
  },
  {
   "cell_type": "code",
   "execution_count": 52,
   "id": "5e052f1a-41cd-4956-9d8f-298cc1669d41",
   "metadata": {},
   "outputs": [
    {
     "name": "stdin",
     "output_type": "stream",
     "text": [
      "Forneça um número para a tabuada:  8\n"
     ]
    },
    {
     "name": "stdout",
     "output_type": "stream",
     "text": [
      "8 x 0 = \u001b[1;31m0\u001b[m\n",
      "8 x 1 = \u001b[1;31m8\u001b[m\n",
      "8 x 2 = \u001b[1;31m16\u001b[m\n",
      "8 x 3 = \u001b[1;31m24\u001b[m\n",
      "8 x 4 = \u001b[1;31m32\u001b[m\n",
      "8 x 5 = \u001b[1;31m40\u001b[m\n",
      "8 x 6 = \u001b[1;31m48\u001b[m\n",
      "8 x 7 = \u001b[1;31m56\u001b[m\n",
      "8 x 8 = \u001b[1;31m64\u001b[m\n",
      "8 x 9 = \u001b[1;31m72\u001b[m\n",
      "8 x 10 = \u001b[1;31m80\u001b[m\n"
     ]
    }
   ],
   "source": [
    "num = int(input('Forneça um número para a tabuada: '))\n",
    "for i in range(0,11):\n",
    "    mult = num * i\n",
    "    print(f'{num} x {i} = \\033[1;31m{mult}\\033[m')\n",
    "   "
   ]
  },
  {
   "cell_type": "code",
   "execution_count": 61,
   "id": "87f1560f-0171-491e-8f29-53b9e07ca842",
   "metadata": {},
   "outputs": [
    {
     "name": "stdin",
     "output_type": "stream",
     "text": [
      "Digite um número inteiro:  5\n"
     ]
    },
    {
     "name": "stdout",
     "output_type": "stream",
     "text": [
      "0 x 5 = 0\n",
      "1 x 5 = 5\n",
      "2 x 5 = 10\n",
      "3 x 5 = 15\n",
      "4 x 5 = 20\n",
      "5 x 5 = 25\n",
      "6 x 5 = 30\n",
      "7 x 5 = 35\n",
      "8 x 5 = 40\n",
      "9 x 5 = 45\n",
      "10 x 5 = 50\n"
     ]
    }
   ],
   "source": [
    "#resolução do Dalton\n",
    "numero = int(input('Digite um número inteiro: '))\n",
    "for elem in range(0,11):\n",
    "    print(f'{elem} x {numero} = {elem*numero}')\n"
   ]
  },
  {
   "cell_type": "code",
   "execution_count": 62,
   "id": "b3ea4c06-f667-4267-8551-b9f1e50d1b93",
   "metadata": {},
   "outputs": [
    {
     "name": "stdout",
     "output_type": "stream",
     "text": [
      "1 x 1 = 1\n",
      "2 x 2 = 4\n",
      "3 x 3 = 9\n",
      "4 x 4 = 16\n",
      "5 x 5 = 25\n",
      "6 x 6 = 36\n",
      "7 x 7 = 49\n",
      "8 x 8 = 64\n",
      "9 x 9 = 81\n",
      "10 x 10 = 100\n"
     ]
    }
   ],
   "source": [
    "# Usando enumerate resolução do Dalton\n",
    "for indice, num in enumerate(range(1,11),1):\n",
    "    print(f'{indice} x {num} = {indice*num}')"
   ]
  },
  {
   "cell_type": "code",
   "execution_count": 53,
   "id": "a80b74ff-b6c7-40b6-b713-474b14270042",
   "metadata": {},
   "outputs": [],
   "source": [
    "# 5 - Crie um programa que leia uma frase qualquer e diga se ela é um palíndromo, desconsiderando os espaços.\n",
    "# Palíndromos são frases ou palavras que podem ser lidas, indiferentemente, da esquerda para a direita, confor_\n",
    "# me o sentido habitual da leitura, ou da direita para a esquerda, sem que haja mudança da sua sifgnificação.\n",
    "# São também chamados de anacíclicos."
   ]
  },
  {
   "cell_type": "code",
   "execution_count": 84,
   "id": "d2918c1b-51d0-472a-8291-644abe044fa7",
   "metadata": {},
   "outputs": [
    {
     "name": "stdin",
     "output_type": "stream",
     "text": [
      "Digite a palavra ou frase:  aNa\n"
     ]
    },
    {
     "name": "stdout",
     "output_type": "stream",
     "text": [
      "A frase/palavra ANA é um palindromo !!!\n"
     ]
    }
   ],
   "source": [
    "# exemplos de palíndromos (apos a sopa, a sacada da casa, ame o poema, arara, reviver, luz azul)\n",
    "# aqui passamos tudo para maiúscula com upper, retiramos os epaços do inicio e fim strip,retiramos os espaços\n",
    "# do meio das palavras;\n",
    "frase = input('Digite a palavra ou frase: ').upper().strip().replace(' ','')\n",
    "inverso = ''\n",
    "for num, letra in enumerate(frase):\n",
    "    inverso += frase[-(num + 1)]\n",
    "if frase == inverso:\n",
    "    print(f'A frase/palavra {frase} é um palindromo !!!')\n",
    "else:\n",
    "    print(f'\\033[7;30mA frase/palavra {frase} não é um palindromo !!!\\033[m')"
   ]
  },
  {
   "cell_type": "code",
   "execution_count": 83,
   "id": "ce2d8f4c-bd48-4f24-a865-65960e7fc11c",
   "metadata": {
    "tags": []
   },
   "outputs": [],
   "source": [
    "# 6 - Crie um programa que leia o ano de nascimento de sete pessoas. No final, mostre quantas pessoas ainda não\n",
    "# atingiram a maioridade e quantas já são maiores."
   ]
  },
  {
   "cell_type": "code",
   "execution_count": 2,
   "id": "ab995f58-f6d9-466c-a36d-b2bdd3bb207d",
   "metadata": {},
   "outputs": [
    {
     "name": "stdin",
     "output_type": "stream",
     "text": [
      "Informe o ano de nascimento da 1º pessoa:  2000\n",
      "Informe o ano de nascimento da 2º pessoa:  2001\n",
      "Informe o ano de nascimento da 3º pessoa:  2002\n",
      "Informe o ano de nascimento da 4º pessoa:  2003\n",
      "Informe o ano de nascimento da 5º pessoa:  2004\n",
      "Informe o ano de nascimento da 6º pessoa:  2005\n",
      "Informe o ano de nascimento da 7º pessoa:  2006\n"
     ]
    },
    {
     "name": "stdout",
     "output_type": "stream",
     "text": [
      "Foram \u001b[4;34m4\u001b[m maiores de idade e \u001b[4;31m3\u001b[m menores de idade\n"
     ]
    }
   ],
   "source": [
    "from datetime import date\n",
    "maior = 0\n",
    "menor = 0\n",
    "for i in range(1,8):\n",
    "    data = int(input(f'Informe o ano de nascimento da {i}º pessoa: '))\n",
    "    teste = (date.today().year) - data\n",
    "    if teste >= 18 :\n",
    "        maior += 1\n",
    "    else:\n",
    "        menor += 1\n",
    "print(f'Foram \\033[4;34m{maior}\\033[m maiores de idade e \\033[4;31m{menor}\\033[m menores de idade')"
   ]
  },
  {
   "cell_type": "code",
   "execution_count": null,
   "id": "e13c464c-fa7f-424d-9782-70715353a0af",
   "metadata": {},
   "outputs": [],
   "source": [
    "# 7 - Faça um programa que leia o peso de cinco pessoas. No final,mostre qual foi o maior e o menor peso lidos."
   ]
  },
  {
   "cell_type": "code",
   "execution_count": 16,
   "id": "a1d12ed1-1c2e-47fe-971f-7aba5c813f35",
   "metadata": {},
   "outputs": [
    {
     "name": "stdin",
     "output_type": "stream",
     "text": [
      "Informe o peso da 1º pessoa:  33\n",
      "Informe o peso da 2º pessoa:  78\n",
      "Informe o peso da 3º pessoa:  45\n",
      "Informe o peso da 4º pessoa:  32\n",
      "Informe o peso da 5º pessoa:  79\n"
     ]
    },
    {
     "name": "stdout",
     "output_type": "stream",
     "text": [
      "O maior peso é \u001b[1;34m79.0 kg\u001b[m e o menor peso é \u001b[1;31m32.0kg\u001b[m \n"
     ]
    }
   ],
   "source": [
    "for i in range(1,6):\n",
    "    peso = float(input(f'Informe o peso da {i}º pessoa: '))\n",
    "    if i == 1:\n",
    "        maior = peso\n",
    "        menor = peso\n",
    "        \n",
    "    if peso > maior:\n",
    "        maior = peso\n",
    "    elif peso < menor:\n",
    "        menor = peso\n",
    "\n",
    "print(f'O maior peso é \\033[1;34m{maior} kg\\033[m e o menor peso é \\033[1;31m{menor} kg\\033[m ')\n",
    "\n"
   ]
  },
  {
   "cell_type": "code",
   "execution_count": null,
   "id": "15fb37a6-fa9d-42f4-b5b4-5b80b2a00879",
   "metadata": {
    "tags": []
   },
   "outputs": [],
   "source": [
    "# 8 - Faça um programa que leia o sexo de uma pessoa, mas só aceite os valores 'M' ou 'F'. Caso esteja errado\n",
    "# peça a digitação novamente até ter o valor correto."
   ]
  },
  {
   "cell_type": "code",
   "execution_count": 24,
   "id": "7884206e-aeb1-4dbf-8fda-767c096296b5",
   "metadata": {},
   "outputs": [
    {
     "name": "stdin",
     "output_type": "stream",
     "text": [
      "Inform o sexo [M/F]:  t\n"
     ]
    },
    {
     "name": "stdout",
     "output_type": "stream",
     "text": [
      "Informe somente como foi solicitado !!!\n"
     ]
    },
    {
     "name": "stdin",
     "output_type": "stream",
     "text": [
      "Inform o sexo [M/F]:  m\n"
     ]
    },
    {
     "name": "stdout",
     "output_type": "stream",
     "text": [
      "O Sexo digitador foi M\n"
     ]
    }
   ],
   "source": [
    "sexo = input('Inform o sexo [M/F]: ').upper().strip()\n",
    "if sexo != 'M' or sexo != 'F':\n",
    "    #print('Informe somente como foi solicitado !!!')\n",
    "    while sexo not in ['M','F']:# posso colocar in 'MnFf' da no mesmo\n",
    "        print('Informe somente como foi solicitado !!!')\n",
    "        sexo = input('Inform o sexo [M/F]: ').upper().strip()\n",
    "\n",
    "print(f'O Sexo digitador foi {sexo}')\n",
    "    "
   ]
  },
  {
   "cell_type": "code",
   "execution_count": 26,
   "id": "ff34c173-2c81-4525-a916-22a5e0ae3a53",
   "metadata": {},
   "outputs": [
    {
     "name": "stdin",
     "output_type": "stream",
     "text": [
      "Inform o sexo [M/F]:  t\n"
     ]
    },
    {
     "name": "stdout",
     "output_type": "stream",
     "text": [
      "Informe somente como foi solicitado !!!\n"
     ]
    },
    {
     "name": "stdin",
     "output_type": "stream",
     "text": [
      "Inform o sexo [M/F]:  r\n"
     ]
    },
    {
     "name": "stdout",
     "output_type": "stream",
     "text": [
      "Informe somente como foi solicitado !!!\n"
     ]
    },
    {
     "name": "stdin",
     "output_type": "stream",
     "text": [
      "Inform o sexo [M/F]:  f\n"
     ]
    },
    {
     "name": "stdout",
     "output_type": "stream",
     "text": [
      "O Sexo digitador foi F\n"
     ]
    }
   ],
   "source": [
    "sexo = input('Inform o sexo [M/F]: ').upper().strip()\n",
    "while sexo not in 'MmFf':\n",
    "    print('Informe somente como foi solicitado !!!')\n",
    "    sexo = input('Inform o sexo [M/F]: ').upper().strip()\n",
    "\n",
    "print(f'O Sexo digitador foi {sexo}')"
   ]
  },
  {
   "cell_type": "code",
   "execution_count": null,
   "id": "76dc4b9f-2918-4639-be97-a75cb79dc215",
   "metadata": {
    "tags": []
   },
   "outputs": [],
   "source": [
    "# 9 - Crie um programa que leia dois valores e mostre um menu na tela:\n",
    "# * [1] somar\n",
    "# * [2] multiplicar\n",
    "# * [3] maior\n",
    "# * [4] novos números\n",
    "# * [5] sair"
   ]
  },
  {
   "cell_type": "code",
   "execution_count": 1,
   "id": "119ed6fb-1733-43cf-88ef-51e0ede96419",
   "metadata": {},
   "outputs": [
    {
     "name": "stdin",
     "output_type": "stream",
     "text": [
      "Informe o primerio número:  4\n",
      "Informe o segundo número:  6\n"
     ]
    },
    {
     "name": "stdout",
     "output_type": "stream",
     "text": [
      "\n",
      "    Escolha uma opção:\n",
      "    [1] - Soma\n",
      "    [2] - Multiplicação\n",
      "    [3] - Maior \n",
      "    [4] - Novos Números\n",
      "    [5] - Sair\n",
      "\n"
     ]
    },
    {
     "name": "stdin",
     "output_type": "stream",
     "text": [
      "Informe sua opção:  1\n"
     ]
    },
    {
     "name": "stdout",
     "output_type": "stream",
     "text": [
      "A soma solicitada dos números 4.0 e 6.0 é = 10.0\n"
     ]
    },
    {
     "name": "stdin",
     "output_type": "stream",
     "text": [
      "Informe sua opção:  2\n"
     ]
    },
    {
     "name": "stdout",
     "output_type": "stream",
     "text": [
      "A multiplicação solicitada dos números 4.0 e 6.0 é = 24.0\n"
     ]
    },
    {
     "name": "stdin",
     "output_type": "stream",
     "text": [
      "Informe sua opção:  3\n"
     ]
    },
    {
     "name": "stdout",
     "output_type": "stream",
     "text": [
      "O número 6.0 é o maior número\n"
     ]
    },
    {
     "name": "stdin",
     "output_type": "stream",
     "text": [
      "Informe sua opção:  4\n",
      "Informe o primerio número:  7\n",
      "Informe o segundo número:  3\n",
      "Informe sua opção:  1\n"
     ]
    },
    {
     "name": "stdout",
     "output_type": "stream",
     "text": [
      "A soma solicitada dos números 7.0 e 3.0 é = 10.0\n"
     ]
    },
    {
     "name": "stdin",
     "output_type": "stream",
     "text": [
      "Informe sua opção:  2\n"
     ]
    },
    {
     "name": "stdout",
     "output_type": "stream",
     "text": [
      "A multiplicação solicitada dos números 7.0 e 3.0 é = 21.0\n"
     ]
    },
    {
     "name": "stdin",
     "output_type": "stream",
     "text": [
      "Informe sua opção:  3\n"
     ]
    },
    {
     "name": "stdout",
     "output_type": "stream",
     "text": [
      "O número 7.0 é o maior número\n"
     ]
    },
    {
     "name": "stdin",
     "output_type": "stream",
     "text": [
      "Informe sua opção:  5\n"
     ]
    }
   ],
   "source": [
    "n1 = float(input('Informe o primerio número: '))\n",
    "n2 = float(input('Informe o segundo número: '))\n",
    "escolha = 0\n",
    "print('''\n",
    "    Escolha uma opção:\n",
    "    [1] - Soma\n",
    "    [2] - Multiplicação\n",
    "    [3] - Maior \n",
    "    [4] - Novos Números\n",
    "    [5] - Sair\n",
    "''')\n",
    "while escolha != 5:\n",
    "    escolha = int(input('Informe sua opção: '))\n",
    "    if escolha == 1:\n",
    "        soma = n1 + n2\n",
    "        print(f'A soma solicitada dos números {n1} e {n2} é = {soma}')\n",
    "    elif escolha == 2:\n",
    "        mult = n1 * n2\n",
    "        print(f'A multiplicação solicitada dos números {n1} e {n2} é = {mult}')\n",
    "    elif escolha == 3:\n",
    "        if n1 > n2:\n",
    "            print(f'O número {n1} é o maior número')\n",
    "        elif n1 < n2:\n",
    "            print(f'O número {n2} é o maior número')\n",
    "        else:\n",
    "            print(f'O número {n2} é o número {n1} são iguais')\n",
    "    elif escolha == 4:\n",
    "        n1 = float(input('Informe o primerio número: '))\n",
    "        n2 = float(input('Informe o segundo número: '))"
   ]
  },
  {
   "cell_type": "code",
   "execution_count": null,
   "id": "2527d848-4e46-426f-9f69-54a2ecdda0ab",
   "metadata": {},
   "outputs": [],
   "source": []
  }
 ],
 "metadata": {
  "kernelspec": {
   "display_name": "Python 3",
   "language": "python",
   "name": "python3"
  },
  "language_info": {
   "codemirror_mode": {
    "name": "ipython",
    "version": 3
   },
   "file_extension": ".py",
   "mimetype": "text/x-python",
   "name": "python",
   "nbconvert_exporter": "python",
   "pygments_lexer": "ipython3",
   "version": "3.8.8"
  }
 },
 "nbformat": 4,
 "nbformat_minor": 5
}
