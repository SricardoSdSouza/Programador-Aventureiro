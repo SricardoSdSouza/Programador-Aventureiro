{
 "cells": [
  {
   "cell_type": "code",
   "execution_count": 10,
   "id": "affca05f-243b-4973-83c2-044461bae199",
   "metadata": {},
   "outputs": [],
   "source": [
    "#importando o modulo tkinter\n",
    "import tkinter as tk\n",
    "from tkinter import Button, Frame, Label, Entry\n",
    "def calcula_imc():\n",
    "    imc = float(peso.get()) / float(altura.get()) **2\n",
    "    resultado['text'] = f'O seu IMC é = {imc:.2f}'\n",
    "\n",
    "janela = tk.Tk()\n",
    "\n",
    "frame = Frame(janela, padx=40, pady=40).grid(column=1, row=1)\n",
    "\n",
    "Label(frame, text='Para saber o seu IMC digite os valores solicitados', pady=40).grid(column=1, row=1, columnspan=2)\n",
    "\n",
    "Label(frame, text='Qual o seu peso(Kg)?: ').grid(column=1, row=2)\n",
    "peso = Entry(frame)\n",
    "peso.grid(column=2, row=2)\n",
    "\n",
    "Label(frame, text='Qual a sua altura(m)?: ').grid(column=1, row=3)\n",
    "altura = Entry(frame)\n",
    "altura.grid(column=2, row=3)\n",
    "\n",
    "Button(frame, text='Calcular', command=calcula_imc).grid(column=2, row=4)\n",
    "resultado = Label(frame)\n",
    "resultado.grid(column=1, row=5, columnspan=2)\n",
    "\n",
    "janela.title('Calculadora de IMC')\n",
    "\n",
    "janela.mainloop()\n"
   ]
  },
  {
   "cell_type": "code",
   "execution_count": null,
   "id": "2e0451c8-12ec-419e-9769-607e5cc55cb8",
   "metadata": {},
   "outputs": [],
   "source": []
  }
 ],
 "metadata": {
  "kernelspec": {
   "display_name": "Python 3",
   "language": "python",
   "name": "python3"
  },
  "language_info": {
   "codemirror_mode": {
    "name": "ipython",
    "version": 3
   },
   "file_extension": ".py",
   "mimetype": "text/x-python",
   "name": "python",
   "nbconvert_exporter": "python",
   "pygments_lexer": "ipython3",
   "version": "3.8.8"
  }
 },
 "nbformat": 4,
 "nbformat_minor": 5
}
