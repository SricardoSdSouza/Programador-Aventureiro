{
 "cells": [
  {
   "cell_type": "code",
   "execution_count": null,
   "id": "71db2e3d-c266-484c-ad72-5ceb85ce10f7",
   "metadata": {},
   "outputs": [],
   "source": [
    "# testando as condições de identificação"
   ]
  },
  {
   "cell_type": "code",
   "execution_count": 5,
   "id": "44bdbe52-703f-4d5b-98cd-870cb47dfad2",
   "metadata": {},
   "outputs": [
    {
     "name": "stdin",
     "output_type": "stream",
     "text": [
      "Digite qualquer coisa:  Ricardo\n"
     ]
    },
    {
     "name": "stdout",
     "output_type": "stream",
     "text": [
      "O tipo primitivo deste valor é ;<class 'str'>\n",
      "Só espaços? False\n",
      "É número? False\n",
      "É alfabético? True\n",
      "É alfanumérico? True\n",
      "Está em maiúscula? False\n",
      "Esta em minúscula? False\n",
      "Está capitalizada? True\n"
     ]
    }
   ],
   "source": [
    "a = input('Digite qualquer coisa: ')\n",
    "print(f'O tipo primitivo deste valor é ;{type(a)}')\n",
    "print(f'Só espaços? {a.isspace()}')\n",
    "print(f'É número? {a.isnumeric()}')\n",
    "print(f'É alfabético? {a.isalpha()}')\n",
    "print(f'É alfanumérico? {a.isalnum()}')\n",
    "print(f'Está em maiúscula? {a.isupper()}')\n",
    "print(f'Esta em minúscula? {a.islower()}')\n",
    "print(f'Está capitalizada? {a.istitle()}')"
   ]
  },
  {
   "cell_type": "code",
   "execution_count": 1,
   "id": "b98f1d8f-db8a-49ff-b695-53f44d636e8f",
   "metadata": {},
   "outputs": [],
   "source": [
    "# 1 - faça um programa que peça uma nota, entre zero e dez. Mostre uma mensagem caso o valor seja invá\n",
    "# lido e continue pedindo até que o usuário informe um vaçor válido."
   ]
  },
  {
   "cell_type": "code",
   "execution_count": 4,
   "id": "d8af57f4-aa2d-4df6-95cb-3d5972a59b62",
   "metadata": {},
   "outputs": [
    {
     "name": "stdout",
     "output_type": "stream",
     "text": [
      " Informe uma nota de zero a dez, somente números\n"
     ]
    },
    {
     "name": "stdin",
     "output_type": "stream",
     "text": [
      " Digite o número:  23\n"
     ]
    },
    {
     "name": "stdout",
     "output_type": "stream",
     "text": [
      "*********************************************\n",
      "Inválido, por favor somente números entre zero e dez\n"
     ]
    },
    {
     "name": "stdin",
     "output_type": "stream",
     "text": [
      " Digite o número:  21\n"
     ]
    },
    {
     "name": "stdout",
     "output_type": "stream",
     "text": [
      "*********************************************\n",
      "Inválido, por favor somente números entre zero e dez\n"
     ]
    },
    {
     "name": "stdin",
     "output_type": "stream",
     "text": [
      " Digite o número:  2\n"
     ]
    },
    {
     "name": "stdout",
     "output_type": "stream",
     "text": [
      "*********************************************\n",
      "Opção válida o número digitado foi 2\n"
     ]
    }
   ],
   "source": [
    "print(' Informe uma nota de zero a dez, somente números')\n",
    "num = int(input(' Digite o número: '))\n",
    "print('*'*45)\n",
    "while num not in (0,1,2,3,4,5,6,7,8,9,10):\n",
    "    print('Inválido!!, por favor somente números entre zero e dez')\n",
    "    num = int(input(' Digite o número: '))\n",
    "    print('*'*45)\n",
    "print(f'Opção válida o número digitado foi {num}')"
   ]
  },
  {
   "cell_type": "code",
   "execution_count": null,
   "id": "69b8e20b-99b9-4cbc-8cc4-4d9911abad91",
   "metadata": {},
   "outputs": [],
   "source": [
    "# 2 - faça um programa que leia um nome de usuário e a sua senha e não aceite a senha igual ao nome do usuário, mostran-\n",
    "# do uma mensagem de erro e voltando a pedir as informações."
   ]
  },
  {
   "cell_type": "code",
   "execution_count": 11,
   "id": "5e18f3cf-6f6f-4fb8-944d-434b97bff92d",
   "metadata": {},
   "outputs": [
    {
     "name": "stdout",
     "output_type": "stream",
     "text": [
      "Informe seu nome e senha\n"
     ]
    },
    {
     "name": "stdin",
     "output_type": "stream",
     "text": [
      "Informe seu Nome:  ricARDO\n",
      "Informe a senha:  RICardo\n"
     ]
    },
    {
     "name": "stdout",
     "output_type": "stream",
     "text": [
      "Senha inválida tente outra\n"
     ]
    },
    {
     "name": "stdin",
     "output_type": "stream",
     "text": [
      "Informe seu Nome:  ricarDO\n",
      "Informe a senha:  RIcardo\n"
     ]
    },
    {
     "name": "stdout",
     "output_type": "stream",
     "text": [
      "Senha inválida tente outra\n"
     ]
    },
    {
     "name": "stdin",
     "output_type": "stream",
     "text": [
      "Informe seu Nome:  ricardo\n",
      "Informe a senha:  RICARDO\n"
     ]
    },
    {
     "name": "stdout",
     "output_type": "stream",
     "text": [
      "Senha inválida tente outra\n"
     ]
    },
    {
     "name": "stdin",
     "output_type": "stream",
     "text": [
      "Informe seu Nome:  Ricardo\n",
      "Informe a senha:  12Ricardo\n"
     ]
    },
    {
     "name": "stdout",
     "output_type": "stream",
     "text": [
      "Seu Nome é RICARDO e sua senha é 12RICARDO\n"
     ]
    }
   ],
   "source": [
    "print('Informe seu nome e senha')\n",
    "nome = input('Informe seu Nome: ').upper().strip()\n",
    "senha = input('Informe a senha: ').upper().strip()\n",
    "\n",
    "while senha == nome :\n",
    "    print('Senha inválida tente outra')\n",
    "    nome = input('Informe seu Nome: ').upper().strip()\n",
    "    senha = input('Informe a senha: ').upper().strip()\n",
    "    \n",
    "print(f'Seu Nome é {nome} e sua senha é {senha}')"
   ]
  },
  {
   "cell_type": "code",
   "execution_count": 7,
   "id": "a800d747-5f5a-47bb-a5aa-33b1e414d680",
   "metadata": {
    "tags": []
   },
   "outputs": [],
   "source": [
    "# 3 - Faça um programa que leia e valide as seguintes informações:\n",
    "#   1. Nome: maior que 3 caracteres;\n",
    "#   2. Idade : entre 0 e 150;\n",
    "#   3. Salário : maior que zero;\n",
    "#   4. Sexo :'f' ou 'm'\n",
    "#   5. Estado Civil : 's','c','v','d';"
   ]
  },
  {
   "cell_type": "code",
   "execution_count": 19,
   "id": "6e5205c5-0a62-4095-95ec-4faf452e852b",
   "metadata": {},
   "outputs": [
    {
     "name": "stdout",
     "output_type": "stream",
     "text": [
      "\n",
      "    Informe:\n",
      "    Nome =\n",
      "    Idade =\n",
      "    Salário =\n",
      "    Sexo [f/m] =\n",
      "    Estado Civil ['s', 'c', 'v', 'd']\n",
      "    \n"
     ]
    },
    {
     "name": "stdin",
     "output_type": "stream",
     "text": [
      "Nome =  TEO\n",
      "Idade =  60\n",
      "Salário =  4392.00\n",
      "Sexo [f/m] =  F\n",
      "Estado Civil =  S\n"
     ]
    },
    {
     "name": "stdout",
     "output_type": "stream",
     "text": [
      "\n",
      "    Os seus dados são:\n",
      "    nome = TEO, Idade =60, Salário R$4392.00, Sexo = f e Estado civil = S\n",
      "\n"
     ]
    }
   ],
   "source": [
    "print('''\n",
    "    Informe:\n",
    "    Nome =\n",
    "    Idade =\n",
    "    Salário =\n",
    "    Sexo [f/m] =\n",
    "    Estado Civil ['s', 'c', 'v', 'd']\n",
    "    ''')\n",
    "nome = input('Nome = ')\n",
    "idade = int(input('Idade = '))\n",
    "salario = float(input('Salário = '))\n",
    "sexo = input('Sexo [f/m] = ').lower().strip()\n",
    "estado_civil = input('Estado Civil = ')\n",
    "while len(nome) > 3:\n",
    "    print('Nome somente com 3 caracteres.')\n",
    "    nome = input('Nome = ')\n",
    "while idade < 0 or idade > 150:\n",
    "    print('Informe idade dentro de 0 a 150 anos')\n",
    "    idade = int(input('Idade = '))\n",
    "while salario <= 0:\n",
    "    print('Informe o sálario maior que zero')\n",
    "    salario = float(input('Salário = '))\n",
    "while sexo.lower() not in ('f','m'):\n",
    "    print('Informe seu sexo')\n",
    "    sexo = input('Sexo [f/m] = ')  \n",
    "while estado_civil.lower() not in ('s','c','v','d'):\n",
    "    print('Informe seu estado civil')\n",
    "    estado_civil = input('Estado Civil = ')\n",
    "if estado_civil == 'c':\n",
    "    estado_civil = 'Casado'\n",
    "if estado_civil == 's':\n",
    "    estado_civil = 'Solteiro'\n",
    "if estado_civil == 'v':\n",
    "    estado_civil = 'Viúvo'\n",
    "if estado_civil == 'd':\n",
    "    estado_civil = 'Divorciado'\n",
    "\n",
    "print(f'''\n",
    "    Os seus dados são:\n",
    "    nome = {nome}, Idade ={idade} anos, Salário R${salario:.2f}, Sexo = {sexo} e Estado civil = {estado_civil}\n",
    "''')\n",
    "    "
   ]
  },
  {
   "cell_type": "code",
   "execution_count": 20,
   "id": "22db1e6a-8cb3-4873-b68c-195a6b19972d",
   "metadata": {},
   "outputs": [],
   "source": [
    "# 4 -  Supondo que a população de um país A seja da ordem de 80000 habitantes com uma taxa anual de crescimento de \n",
    "# 3% e que a população de B seja 200000 habitantes com uma taxa de crescimento de 1.5%. Faça um programa que calcu_\n",
    "# le e escreva o número de anos necessários para que a população do país A ultrapasse ou iguale a população do país\n",
    "# B,mantidas as taxas de crescimento."
   ]
  },
  {
   "cell_type": "code",
   "execution_count": 3,
   "id": "88d6ffa7-7eae-4ee0-9c97-50d36d553716",
   "metadata": {},
   "outputs": [
    {
     "name": "stdout",
     "output_type": "stream",
     "text": [
      "Serão necessários 63 anos, para que a população do País A ultrapasse ou iguale a população do País B\n",
      "O país A ficou com 515033.103 habitantes\n",
      "O país B ficou com 510964.417 habitantes\n"
     ]
    }
   ],
   "source": [
    "paisA = 80000\n",
    "paisB = 200000\n",
    "taxaA = 0.03\n",
    "taxaB = 0.015\n",
    "\n",
    "anos = 0\n",
    "while paisA < paisB:\n",
    "    paisA = paisA + (paisA * taxaA)\n",
    "    paisB = paisB + (paisB * taxaB)\n",
    "    anos += 1\n",
    "print(f'Serão necessários {anos} anos, para que a população do País A ultrapasse ou iguale a população do País B')\n",
    "print(f'O país A ficou com {paisA:.3f} habitantes')\n",
    "print(f'O país B ficou com {paisB:.3f} habitantes')"
   ]
  },
  {
   "cell_type": "code",
   "execution_count": 1,
   "id": "ca12a91c-732b-42be-8040-b06b819547a1",
   "metadata": {},
   "outputs": [
    {
     "name": "stdout",
     "output_type": "stream",
     "text": [
      "Após 63 anos o país A ultrapassou o país B em números de habitantes.\n",
      "País A: 515033\n",
      "País B: 510964\n"
     ]
    }
   ],
   "source": [
    "popA,popB,anos = 80000, 200000, 0\n",
    "cresA, cresB = 0.03, 0.015 # crescimento de 3% e 1,5% ao ano\n",
    "while popA < popB:\n",
    "    anos += 1\n",
    "    popA = popA + (popA * cresA)\n",
    "    popB = popB + (popB * cresB)\n",
    "print('Após %i anos o país A ultrapassou o país B em números de habitantes.'% anos)\n",
    "print('País A: %.0f' % popA)\n",
    "print('País B: %.0f' % popB)"
   ]
  },
  {
   "cell_type": "code",
   "execution_count": 4,
   "id": "b00b8cde-47e1-4ab3-8c64-d48e24a63f52",
   "metadata": {},
   "outputs": [],
   "source": [
    "# 5 - altere o programa anterior permitindo ao usuário informar as populações e as taxas de crescimento iniciais. Valide a en_\n",
    "# trada e permita repetir a operação."
   ]
  },
  {
   "cell_type": "code",
   "execution_count": 15,
   "id": "e73d3472-450c-4402-b411-6fead8b9ceb7",
   "metadata": {},
   "outputs": [
    {
     "name": "stdin",
     "output_type": "stream",
     "text": [
      "Informe a população do 1º país:  100000\n",
      "Informe a população do 2º país:  200000\n",
      "Informe a taxa % de crescimento do 1º país:  3\n",
      "Informe a taxa % de crescimento do 2º país:  2\n"
     ]
    },
    {
     "name": "stdout",
     "output_type": "stream",
     "text": [
      "\u001b[1;34mSerão necessários 72 anos, para que a população do 1º País ultrapasse ou iguale a população do 2º País\u001b[m\n",
      "O 1º país A ficou com 840001.727 habitantes\n",
      "O 2º país B ficou com 832228.075 habitantes\n"
     ]
    },
    {
     "name": "stdin",
     "output_type": "stream",
     "text": [
      "Digite zero para parar ou 1 para continuar :  0\n"
     ]
    }
   ],
   "source": [
    "alternativa = 1\n",
    "while alternativa != 0:\n",
    "    paisA = int(input('Informe a população do 1º país: '))\n",
    "    paisB = int(input('Informe a população do 2º país: '))\n",
    "    taxA = float(input('Informe a taxa % de crescimento do 1º país: '))\n",
    "    taxB = float(input('Informe a taxa % de crescimento do 2º país: '))\n",
    "    taxaA = taxA/100\n",
    "    taxaB = taxB/100\n",
    "    anos = 0\n",
    "    while paisA < paisB:\n",
    "        paisA = paisA + (paisA * taxaA)\n",
    "        paisB = paisB + (paisB * taxaB)\n",
    "        anos += 1\n",
    "    print(f'\\033[1;34mSerão necessários {anos} anos, para que a população do 1º País ultrapasse ou iguale a população do 2º País\\033[m')\n",
    "    print(f'O 1º país A ficou com {paisA:.3f} habitantes')\n",
    "    print(f'O 2º país B ficou com {paisB:.3f} habitantes')\n",
    "    alternativa = int(input('Digite zero para parar ou 1 para continuar : '))\n",
    "    while alternativa not in (0,1):\n",
    "        print('Digite zero ou 1')\n",
    "        alternativa = int(input('Digite zero para parar ou 1 para continuar : '))\n",
    "        "
   ]
  },
  {
   "cell_type": "code",
   "execution_count": null,
   "id": "c714142b-9ee9-450e-bbd8-413cf23ed945",
   "metadata": {},
   "outputs": [],
   "source": []
  }
 ],
 "metadata": {
  "kernelspec": {
   "display_name": "Python 3",
   "language": "python",
   "name": "python3"
  },
  "language_info": {
   "codemirror_mode": {
    "name": "ipython",
    "version": 3
   },
   "file_extension": ".py",
   "mimetype": "text/x-python",
   "name": "python",
   "nbconvert_exporter": "python",
   "pygments_lexer": "ipython3",
   "version": "3.8.8"
  }
 },
 "nbformat": 4,
 "nbformat_minor": 5
}
