{
 "cells": [
  {
   "cell_type": "code",
   "execution_count": null,
   "id": "71db2e3d-c266-484c-ad72-5ceb85ce10f7",
   "metadata": {},
   "outputs": [],
   "source": [
    "# testando as condições de identificação"
   ]
  },
  {
   "cell_type": "code",
   "execution_count": 5,
   "id": "44bdbe52-703f-4d5b-98cd-870cb47dfad2",
   "metadata": {},
   "outputs": [
    {
     "name": "stdin",
     "output_type": "stream",
     "text": [
      "Digite qualquer coisa:  Ricardo\n"
     ]
    },
    {
     "name": "stdout",
     "output_type": "stream",
     "text": [
      "O tipo primitivo deste valor é ;<class 'str'>\n",
      "Só espaços? False\n",
      "É número? False\n",
      "É alfabético? True\n",
      "É alfanumérico? True\n",
      "Está em maiúscula? False\n",
      "Esta em minúscula? False\n",
      "Está capitalizada? True\n"
     ]
    }
   ],
   "source": [
    "a = input('Digite qualquer coisa: ')\n",
    "print(f'O tipo primitivo deste valor é ;{type(a)}')\n",
    "print(f'Só espaços? {a.isspace()}')\n",
    "print(f'É número? {a.isnumeric()}')\n",
    "print(f'É alfabético? {a.isalpha()}')\n",
    "print(f'É alfanumérico? {a.isalnum()}')\n",
    "print(f'Está em maiúscula? {a.isupper()}')\n",
    "print(f'Esta em minúscula? {a.islower()}')\n",
    "print(f'Está capitalizada? {a.istitle()}')"
   ]
  },
  {
   "cell_type": "code",
   "execution_count": 1,
   "id": "b98f1d8f-db8a-49ff-b695-53f44d636e8f",
   "metadata": {},
   "outputs": [],
   "source": [
    "# 1 - faça um programa que peça uma nota, entre zero e dez. Mostre uma mensagem caso o valor seja invá\n",
    "# lido e continue pedindo até que o usuário informe um vaçor válido."
   ]
  },
  {
   "cell_type": "code",
   "execution_count": 4,
   "id": "d8af57f4-aa2d-4df6-95cb-3d5972a59b62",
   "metadata": {},
   "outputs": [
    {
     "name": "stdout",
     "output_type": "stream",
     "text": [
      " Informe uma nota de zero a dez, somente números\n"
     ]
    },
    {
     "name": "stdin",
     "output_type": "stream",
     "text": [
      " Digite o número:  23\n"
     ]
    },
    {
     "name": "stdout",
     "output_type": "stream",
     "text": [
      "*********************************************\n",
      "Inválido, por favor somente números entre zero e dez\n"
     ]
    },
    {
     "name": "stdin",
     "output_type": "stream",
     "text": [
      " Digite o número:  21\n"
     ]
    },
    {
     "name": "stdout",
     "output_type": "stream",
     "text": [
      "*********************************************\n",
      "Inválido, por favor somente números entre zero e dez\n"
     ]
    },
    {
     "name": "stdin",
     "output_type": "stream",
     "text": [
      " Digite o número:  2\n"
     ]
    },
    {
     "name": "stdout",
     "output_type": "stream",
     "text": [
      "*********************************************\n",
      "Opção válida o número digitado foi 2\n"
     ]
    }
   ],
   "source": [
    "print(' Informe uma nota de zero a dez, somente números')\n",
    "num = int(input(' Digite o número: '))\n",
    "print('*'*45)\n",
    "while num not in (0,1,2,3,4,5,6,7,8,9,10):\n",
    "    print('Inválido!!, por favor somente números entre zero e dez')\n",
    "    num = int(input(' Digite o número: '))\n",
    "    print('*'*45)\n",
    "print(f'Opção válida o número digitado foi {num}')"
   ]
  },
  {
   "cell_type": "code",
   "execution_count": null,
   "id": "69b8e20b-99b9-4cbc-8cc4-4d9911abad91",
   "metadata": {},
   "outputs": [],
   "source": [
    "# 2 - faça um programa que leia um nome de usuário e a sua senha e não aceite a senha igual ao nome do usuário, mostran-\n",
    "# do uma mensagem de erro e voltando a pedir as informações."
   ]
  },
  {
   "cell_type": "code",
   "execution_count": 11,
   "id": "5e18f3cf-6f6f-4fb8-944d-434b97bff92d",
   "metadata": {},
   "outputs": [
    {
     "name": "stdout",
     "output_type": "stream",
     "text": [
      "Informe seu nome e senha\n"
     ]
    },
    {
     "name": "stdin",
     "output_type": "stream",
     "text": [
      "Informe seu Nome:  ricARDO\n",
      "Informe a senha:  RICardo\n"
     ]
    },
    {
     "name": "stdout",
     "output_type": "stream",
     "text": [
      "Senha inválida tente outra\n"
     ]
    },
    {
     "name": "stdin",
     "output_type": "stream",
     "text": [
      "Informe seu Nome:  ricarDO\n",
      "Informe a senha:  RIcardo\n"
     ]
    },
    {
     "name": "stdout",
     "output_type": "stream",
     "text": [
      "Senha inválida tente outra\n"
     ]
    },
    {
     "name": "stdin",
     "output_type": "stream",
     "text": [
      "Informe seu Nome:  ricardo\n",
      "Informe a senha:  RICARDO\n"
     ]
    },
    {
     "name": "stdout",
     "output_type": "stream",
     "text": [
      "Senha inválida tente outra\n"
     ]
    },
    {
     "name": "stdin",
     "output_type": "stream",
     "text": [
      "Informe seu Nome:  Ricardo\n",
      "Informe a senha:  12Ricardo\n"
     ]
    },
    {
     "name": "stdout",
     "output_type": "stream",
     "text": [
      "Seu Nome é RICARDO e sua senha é 12RICARDO\n"
     ]
    }
   ],
   "source": [
    "print('Informe seu nome e senha')\n",
    "nome = input('Informe seu Nome: ').upper().strip()\n",
    "senha = input('Informe a senha: ').upper().strip()\n",
    "\n",
    "while senha == nome :\n",
    "    print('Senha inválida tente outra')\n",
    "    nome = input('Informe seu Nome: ').upper().strip()\n",
    "    senha = input('Informe a senha: ').upper().strip()\n",
    "    \n",
    "print(f'Seu Nome é {nome} e sua senha é {senha}')"
   ]
  },
  {
   "cell_type": "code",
   "execution_count": 7,
   "id": "a800d747-5f5a-47bb-a5aa-33b1e414d680",
   "metadata": {
    "tags": []
   },
   "outputs": [],
   "source": [
    "# 3 - Faça um programa que leia e valide as seguintes informações:\n",
    "#   1. Nome: maior que 3 caracteres;\n",
    "#   2. Idade : entre 0 e 150;\n",
    "#   3. Salário : maior que zero;\n",
    "#   4. Sexo :'f' ou 'm'\n",
    "#   5. Estado Civil : 's','c','v','d';"
   ]
  },
  {
   "cell_type": "code",
   "execution_count": 19,
   "id": "6e5205c5-0a62-4095-95ec-4faf452e852b",
   "metadata": {},
   "outputs": [
    {
     "name": "stdout",
     "output_type": "stream",
     "text": [
      "\n",
      "    Informe:\n",
      "    Nome =\n",
      "    Idade =\n",
      "    Salário =\n",
      "    Sexo [f/m] =\n",
      "    Estado Civil ['s', 'c', 'v', 'd']\n",
      "    \n"
     ]
    },
    {
     "name": "stdin",
     "output_type": "stream",
     "text": [
      "Nome =  TEO\n",
      "Idade =  60\n",
      "Salário =  4392.00\n",
      "Sexo [f/m] =  F\n",
      "Estado Civil =  S\n"
     ]
    },
    {
     "name": "stdout",
     "output_type": "stream",
     "text": [
      "\n",
      "    Os seus dados são:\n",
      "    nome = TEO, Idade =60, Salário R$4392.00, Sexo = f e Estado civil = S\n",
      "\n"
     ]
    }
   ],
   "source": [
    "print('''\n",
    "    Informe:\n",
    "    Nome =\n",
    "    Idade =\n",
    "    Salário =\n",
    "    Sexo [f/m] =\n",
    "    Estado Civil ['s', 'c', 'v', 'd']\n",
    "    ''')\n",
    "nome = input('Nome = ')\n",
    "idade = int(input('Idade = '))\n",
    "salario = float(input('Salário = '))\n",
    "sexo = input('Sexo [f/m] = ').lower().strip()\n",
    "estado_civil = input('Estado Civil = ')\n",
    "while len(nome) > 3:\n",
    "    print('Nome somente com 3 caracteres.')\n",
    "    nome = input('Nome = ')\n",
    "while idade < 0 or idade > 150:\n",
    "    print('Informe idade dentro de 0 a 150 anos')\n",
    "    idade = int(input('Idade = '))\n",
    "while salario <= 0:\n",
    "    print('Informe o sálario maior que zero')\n",
    "    salario = float(input('Salário = '))\n",
    "while sexo.lower() not in ('f','m'):\n",
    "    print('Informe seu sexo')\n",
    "    sexo = input('Sexo [f/m] = ')  \n",
    "while estado_civil.lower() not in ('s','c','v','d'):\n",
    "    print('Informe seu estado civil')\n",
    "    estado_civil = input('Estado Civil = ')\n",
    "if estado_civil == 'c':\n",
    "    estado_civil = 'Casado'\n",
    "if estado_civil == 's':\n",
    "    estado_civil = 'Solteiro'\n",
    "if estado_civil == 'v':\n",
    "    estado_civil = 'Viúvo'\n",
    "if estado_civil == 'd':\n",
    "    estado_civil = 'Divorciado'\n",
    "\n",
    "print(f'''\n",
    "    Os seus dados são:\n",
    "    nome = {nome}, Idade ={idade} anos, Salário R${salario:.2f}, Sexo = {sexo} e Estado civil = {estado_civil}\n",
    "''')\n",
    "    "
   ]
  },
  {
   "cell_type": "code",
   "execution_count": 20,
   "id": "22db1e6a-8cb3-4873-b68c-195a6b19972d",
   "metadata": {},
   "outputs": [],
   "source": [
    "# 4 -  Supondo que a população de um país A seja da ordem de 80000 habitantes com uma taxa anual de crescimento de \n",
    "# 3% e que a população de B seja 200000 habitantes com uma taxa de crescimento de 1.5%. Faça um programa que calcu_\n",
    "# le e escreva o número de anos necessários para que a população do país A ultrapasse ou iguale a população do país\n",
    "# B,mantidas as taxas de crescimento."
   ]
  },
  {
   "cell_type": "code",
   "execution_count": 3,
   "id": "88d6ffa7-7eae-4ee0-9c97-50d36d553716",
   "metadata": {},
   "outputs": [
    {
     "name": "stdout",
     "output_type": "stream",
     "text": [
      "Serão necessários 63 anos, para que a população do País A ultrapasse ou iguale a população do País B\n",
      "O país A ficou com 515033.103 habitantes\n",
      "O país B ficou com 510964.417 habitantes\n"
     ]
    }
   ],
   "source": [
    "paisA = 80000\n",
    "paisB = 200000\n",
    "taxaA = 0.03\n",
    "taxaB = 0.015\n",
    "\n",
    "anos = 0\n",
    "while paisA < paisB:\n",
    "    paisA = paisA + (paisA * taxaA)\n",
    "    paisB = paisB + (paisB * taxaB)\n",
    "    anos += 1\n",
    "print(f'Serão necessários {anos} anos, para que a população do País A ultrapasse ou iguale a população do País B')\n",
    "print(f'O país A ficou com {paisA:.3f} habitantes')\n",
    "print(f'O país B ficou com {paisB:.3f} habitantes')"
   ]
  },
  {
   "cell_type": "code",
   "execution_count": 1,
   "id": "ca12a91c-732b-42be-8040-b06b819547a1",
   "metadata": {},
   "outputs": [
    {
     "name": "stdout",
     "output_type": "stream",
     "text": [
      "Após 63 anos o país A ultrapassou o país B em números de habitantes.\n",
      "País A: 515033\n",
      "País B: 510964\n"
     ]
    }
   ],
   "source": [
    "popA,popB,anos = 80000, 200000, 0\n",
    "cresA, cresB = 0.03, 0.015 # crescimento de 3% e 1,5% ao ano\n",
    "while popA < popB:\n",
    "    anos += 1\n",
    "    popA = popA + (popA * cresA)\n",
    "    popB = popB + (popB * cresB)\n",
    "print('Após %i anos o país A ultrapassou o país B em números de habitantes.'% anos)\n",
    "print('País A: %.0f' % popA)\n",
    "print('País B: %.0f' % popB)"
   ]
  },
  {
   "cell_type": "code",
   "execution_count": 4,
   "id": "b00b8cde-47e1-4ab3-8c64-d48e24a63f52",
   "metadata": {},
   "outputs": [],
   "source": [
    "# 5 - altere o programa anterior permitindo ao usuário informar as populações e as taxas de crescimento iniciais. Valide a en_\n",
    "# trada e permita repetir a operação."
   ]
  },
  {
   "cell_type": "code",
   "execution_count": 15,
   "id": "e73d3472-450c-4402-b411-6fead8b9ceb7",
   "metadata": {},
   "outputs": [
    {
     "name": "stdin",
     "output_type": "stream",
     "text": [
      "Informe a população do 1º país:  100000\n",
      "Informe a população do 2º país:  200000\n",
      "Informe a taxa % de crescimento do 1º país:  3\n",
      "Informe a taxa % de crescimento do 2º país:  2\n"
     ]
    },
    {
     "name": "stdout",
     "output_type": "stream",
     "text": [
      "\u001b[1;34mSerão necessários 72 anos, para que a população do 1º País ultrapasse ou iguale a população do 2º País\u001b[m\n",
      "O 1º país A ficou com 840001.727 habitantes\n",
      "O 2º país B ficou com 832228.075 habitantes\n"
     ]
    },
    {
     "name": "stdin",
     "output_type": "stream",
     "text": [
      "Digite zero para parar ou 1 para continuar :  0\n"
     ]
    }
   ],
   "source": [
    "alternativa = 1\n",
    "while alternativa != 0:\n",
    "    paisA = int(input('Informe a população do 1º país: '))\n",
    "    paisB = int(input('Informe a população do 2º país: '))\n",
    "    taxA = float(input('Informe a taxa % de crescimento do 1º país: '))\n",
    "    taxB = float(input('Informe a taxa % de crescimento do 2º país: '))\n",
    "    taxaA = taxA/100\n",
    "    taxaB = taxB/100\n",
    "    anos = 0\n",
    "    while paisA < paisB:\n",
    "        paisA = paisA + (paisA * taxaA)\n",
    "        paisB = paisB + (paisB * taxaB)\n",
    "        anos += 1\n",
    "    print(f'\\033[1;34mSerão necessários {anos} anos, para que a população do 1º País ultrapasse ou iguale a população do 2º País\\033[m')\n",
    "    print(f'O 1º país A ficou com {paisA:.3f} habitantes')\n",
    "    print(f'O 2º país B ficou com {paisB:.3f} habitantes')\n",
    "    alternativa = int(input('Digite zero para parar ou 1 para continuar : '))\n",
    "    while alternativa not in (0,1):\n",
    "        print('Digite zero ou 1')\n",
    "        alternativa = int(input('Digite zero para parar ou 1 para continuar : '))\n",
    "        "
   ]
  },
  {
   "cell_type": "code",
   "execution_count": 1,
   "id": "c714142b-9ee9-450e-bbd8-413cf23ed945",
   "metadata": {},
   "outputs": [],
   "source": [
    "# 6 - Faça um programa que imprima na tela os números de 1 a 20, um abaixo do outro. Depois modifique o programa para que ele \n",
    "# mostre os números um ao lado do outro."
   ]
  },
  {
   "cell_type": "code",
   "execution_count": 14,
   "id": "0462606e-074e-4bca-b1f9-f59fbbf04e3a",
   "metadata": {},
   "outputs": [
    {
     "name": "stdout",
     "output_type": "stream",
     "text": [
      "1\n",
      "2\n",
      "3\n",
      "4\n",
      "5\n",
      "6\n",
      "7\n",
      "1-2-3-4-5-6-7-"
     ]
    }
   ],
   "source": [
    "for i in range(1,21):\n",
    "    print(i)\n",
    "for i in range(1,21):\n",
    "    print(i,end='-')"
   ]
  },
  {
   "cell_type": "code",
   "execution_count": null,
   "id": "79a86579-7350-4b2e-a04e-9e9628f4d13c",
   "metadata": {},
   "outputs": [],
   "source": [
    "# 7 - Faça um programa que leia 5 números e informe o maior número"
   ]
  },
  {
   "cell_type": "code",
   "execution_count": 4,
   "id": "526aa40e-b9e9-4ff8-9a1c-780069efb32d",
   "metadata": {
    "tags": []
   },
   "outputs": [
    {
     "name": "stdin",
     "output_type": "stream",
     "text": [
      "informe o 1º:  67\n",
      "informe o 2º:  54\n",
      "informe o 3º:  3\n",
      "informe o 4º:  25\n",
      "informe o 5º:  7\n"
     ]
    },
    {
     "name": "stdout",
     "output_type": "stream",
     "text": [
      "\u001b[1;33m*\u001b[m\u001b[1;33m*\u001b[m\u001b[1;33m*\u001b[m\u001b[1;33m*\u001b[m\u001b[1;33m*\u001b[m\u001b[1;33m*\u001b[m\u001b[1;33m*\u001b[m\u001b[1;33m*\u001b[m\u001b[1;33m*\u001b[m\u001b[1;33m*\u001b[m\u001b[1;33m*\u001b[m\u001b[1;33m*\u001b[m\u001b[1;33m*\u001b[m\u001b[1;33m*\u001b[m\u001b[1;33m*\u001b[m\u001b[1;33m*\u001b[m\u001b[1;33m*\u001b[m\u001b[1;33m*\u001b[m\u001b[1;33m*\u001b[m\u001b[1;33m*\u001b[m\u001b[1;33m*\u001b[m\u001b[1;33m*\u001b[m\u001b[1;33m*\u001b[m\u001b[1;33m*\u001b[m\u001b[1;33m*\u001b[m\u001b[1;33m*\u001b[m\u001b[1;33m*\u001b[m\u001b[1;33m*\u001b[m\u001b[1;33m*\u001b[m\u001b[1;33m*\u001b[m\u001b[1;33m*\u001b[m\u001b[1;33m*\u001b[m\u001b[1;33m*\u001b[m\u001b[1;33m*\u001b[m\u001b[1;33m*\u001b[m\u001b[1;33m*\u001b[m\u001b[1;33m*\u001b[m\u001b[1;33m*\u001b[m\u001b[1;33m*\u001b[m\u001b[1;33m*\u001b[m\u001b[1;33m*\u001b[m\u001b[1;33m*\u001b[m\u001b[1;33m*\u001b[m\u001b[1;33m*\u001b[m\u001b[1;33m*\u001b[m\u001b[1;33m*\u001b[m\u001b[1;33m*\u001b[m\u001b[1;33m*\u001b[m\u001b[1;33m*\u001b[m\u001b[1;33m*\u001b[m\n",
      "O número maior foi \u001b[1;31m67\u001b[m e o número menor foi \u001b[1;34m3\u001b[m\n",
      "\u001b[1;33m*\u001b[m\u001b[1;33m*\u001b[m\u001b[1;33m*\u001b[m\u001b[1;33m*\u001b[m\u001b[1;33m*\u001b[m\u001b[1;33m*\u001b[m\u001b[1;33m*\u001b[m\u001b[1;33m*\u001b[m\u001b[1;33m*\u001b[m\u001b[1;33m*\u001b[m\u001b[1;33m*\u001b[m\u001b[1;33m*\u001b[m\u001b[1;33m*\u001b[m\u001b[1;33m*\u001b[m\u001b[1;33m*\u001b[m\u001b[1;33m*\u001b[m\u001b[1;33m*\u001b[m\u001b[1;33m*\u001b[m\u001b[1;33m*\u001b[m\u001b[1;33m*\u001b[m\u001b[1;33m*\u001b[m\u001b[1;33m*\u001b[m\u001b[1;33m*\u001b[m\u001b[1;33m*\u001b[m\u001b[1;33m*\u001b[m\u001b[1;33m*\u001b[m\u001b[1;33m*\u001b[m\u001b[1;33m*\u001b[m\u001b[1;33m*\u001b[m\u001b[1;33m*\u001b[m\u001b[1;33m*\u001b[m\u001b[1;33m*\u001b[m\u001b[1;33m*\u001b[m\u001b[1;33m*\u001b[m\u001b[1;33m*\u001b[m\u001b[1;33m*\u001b[m\u001b[1;33m*\u001b[m\u001b[1;33m*\u001b[m\u001b[1;33m*\u001b[m\u001b[1;33m*\u001b[m\u001b[1;33m*\u001b[m\u001b[1;33m*\u001b[m\u001b[1;33m*\u001b[m\u001b[1;33m*\u001b[m\u001b[1;33m*\u001b[m\u001b[1;33m*\u001b[m\u001b[1;33m*\u001b[m\u001b[1;33m*\u001b[m\u001b[1;33m*\u001b[m\u001b[1;33m*\u001b[m\n"
     ]
    }
   ],
   "source": [
    "for i in range(1,6):\n",
    "    numero = int(input(f'informe o {i}º: '))\n",
    "    if i == 1:\n",
    "        maior = numero\n",
    "        menor = numero\n",
    "    if numero > maior:\n",
    "        maior = numero\n",
    "    elif numero < menor:\n",
    "        menor = numero\n",
    "        \n",
    "print('\\033[1;33m*\\033[m'*50)\n",
    "print(f'O número maior foi \\033[1;31m{maior}\\033[m e o número menor foi \\033[1;34m{menor}\\033[m')\n",
    "print('\\033[1;33m*\\033[m'*50)\n"
   ]
  },
  {
   "cell_type": "code",
   "execution_count": null,
   "id": "7b1264bc-d02c-43f7-b2f0-fcaa44a3ed52",
   "metadata": {},
   "outputs": [],
   "source": [
    "# 8 - Faça um programa que leia 5 números e informe a soma e a média dos números."
   ]
  },
  {
   "cell_type": "code",
   "execution_count": 10,
   "id": "13232eeb-3676-48c0-8e9e-dbd72eb23f5b",
   "metadata": {},
   "outputs": [
    {
     "name": "stdin",
     "output_type": "stream",
     "text": [
      "informe o 1º:  4\n",
      "informe o 2º:  5\n",
      "informe o 3º:  6\n",
      "informe o 4º:  7\n",
      "informe o 5º:  8\n"
     ]
    },
    {
     "name": "stdout",
     "output_type": "stream",
     "text": [
      "\u001b[1;33m*\u001b[m\u001b[1;33m*\u001b[m\u001b[1;33m*\u001b[m\u001b[1;33m*\u001b[m\u001b[1;33m*\u001b[m\u001b[1;33m*\u001b[m\u001b[1;33m*\u001b[m\u001b[1;33m*\u001b[m\u001b[1;33m*\u001b[m\u001b[1;33m*\u001b[m\u001b[1;33m*\u001b[m\u001b[1;33m*\u001b[m\u001b[1;33m*\u001b[m\u001b[1;33m*\u001b[m\u001b[1;33m*\u001b[m\u001b[1;33m*\u001b[m\u001b[1;33m*\u001b[m\u001b[1;33m*\u001b[m\u001b[1;33m*\u001b[m\u001b[1;33m*\u001b[m\u001b[1;33m*\u001b[m\u001b[1;33m*\u001b[m\u001b[1;33m*\u001b[m\u001b[1;33m*\u001b[m\u001b[1;33m*\u001b[m\u001b[1;33m*\u001b[m\u001b[1;33m*\u001b[m\u001b[1;33m*\u001b[m\u001b[1;33m*\u001b[m\u001b[1;33m*\u001b[m\u001b[1;33m*\u001b[m\u001b[1;33m*\u001b[m\u001b[1;33m*\u001b[m\u001b[1;33m*\u001b[m\u001b[1;33m*\u001b[m\u001b[1;33m*\u001b[m\u001b[1;33m*\u001b[m\u001b[1;33m*\u001b[m\u001b[1;33m*\u001b[m\u001b[1;33m*\u001b[m\u001b[1;33m*\u001b[m\u001b[1;33m*\u001b[m\u001b[1;33m*\u001b[m\u001b[1;33m*\u001b[m\u001b[1;33m*\u001b[m\u001b[1;33m*\u001b[m\u001b[1;33m*\u001b[m\u001b[1;33m*\u001b[m\u001b[1;33m*\u001b[m\u001b[1;33m*\u001b[m\n",
      "A soma dos números é = 30\n",
      "\u001b[1;33m-\u001b[m\u001b[1;33m-\u001b[m\u001b[1;33m-\u001b[m\u001b[1;33m-\u001b[m\u001b[1;33m-\u001b[m\u001b[1;33m-\u001b[m\u001b[1;33m-\u001b[m\u001b[1;33m-\u001b[m\u001b[1;33m-\u001b[m\u001b[1;33m-\u001b[m\u001b[1;33m-\u001b[m\u001b[1;33m-\u001b[m\u001b[1;33m-\u001b[m\u001b[1;33m-\u001b[m\u001b[1;33m-\u001b[m\u001b[1;33m-\u001b[m\u001b[1;33m-\u001b[m\u001b[1;33m-\u001b[m\u001b[1;33m-\u001b[m\u001b[1;33m-\u001b[m\u001b[1;33m-\u001b[m\u001b[1;33m-\u001b[m\u001b[1;33m-\u001b[m\u001b[1;33m-\u001b[m\u001b[1;33m-\u001b[m\u001b[1;33m-\u001b[m\u001b[1;33m-\u001b[m\u001b[1;33m-\u001b[m\u001b[1;33m-\u001b[m\u001b[1;33m-\u001b[m\u001b[1;33m-\u001b[m\u001b[1;33m-\u001b[m\u001b[1;33m-\u001b[m\u001b[1;33m-\u001b[m\u001b[1;33m-\u001b[m\u001b[1;33m-\u001b[m\u001b[1;33m-\u001b[m\u001b[1;33m-\u001b[m\u001b[1;33m-\u001b[m\u001b[1;33m-\u001b[m\u001b[1;33m-\u001b[m\u001b[1;33m-\u001b[m\u001b[1;33m-\u001b[m\u001b[1;33m-\u001b[m\u001b[1;33m-\u001b[m\u001b[1;33m-\u001b[m\u001b[1;33m-\u001b[m\u001b[1;33m-\u001b[m\u001b[1;33m-\u001b[m\u001b[1;33m-\u001b[m\n",
      "A média é = 6.0\n",
      "\u001b[1;33m*\u001b[m\u001b[1;33m*\u001b[m\u001b[1;33m*\u001b[m\u001b[1;33m*\u001b[m\u001b[1;33m*\u001b[m\u001b[1;33m*\u001b[m\u001b[1;33m*\u001b[m\u001b[1;33m*\u001b[m\u001b[1;33m*\u001b[m\u001b[1;33m*\u001b[m\u001b[1;33m*\u001b[m\u001b[1;33m*\u001b[m\u001b[1;33m*\u001b[m\u001b[1;33m*\u001b[m\u001b[1;33m*\u001b[m\u001b[1;33m*\u001b[m\u001b[1;33m*\u001b[m\u001b[1;33m*\u001b[m\u001b[1;33m*\u001b[m\u001b[1;33m*\u001b[m\u001b[1;33m*\u001b[m\u001b[1;33m*\u001b[m\u001b[1;33m*\u001b[m\u001b[1;33m*\u001b[m\u001b[1;33m*\u001b[m\u001b[1;33m*\u001b[m\u001b[1;33m*\u001b[m\u001b[1;33m*\u001b[m\u001b[1;33m*\u001b[m\u001b[1;33m*\u001b[m\u001b[1;33m*\u001b[m\u001b[1;33m*\u001b[m\u001b[1;33m*\u001b[m\u001b[1;33m*\u001b[m\u001b[1;33m*\u001b[m\u001b[1;33m*\u001b[m\u001b[1;33m*\u001b[m\u001b[1;33m*\u001b[m\u001b[1;33m*\u001b[m\u001b[1;33m*\u001b[m\u001b[1;33m*\u001b[m\u001b[1;33m*\u001b[m\u001b[1;33m*\u001b[m\u001b[1;33m*\u001b[m\u001b[1;33m*\u001b[m\u001b[1;33m*\u001b[m\u001b[1;33m*\u001b[m\u001b[1;33m*\u001b[m\u001b[1;33m*\u001b[m\u001b[1;33m*\u001b[m\n"
     ]
    }
   ],
   "source": [
    "soma = 0\n",
    "contador = 0\n",
    "for i in range(1,6):\n",
    "    numero = int(input(f'informe o {i}º: '))\n",
    "    contador += 1\n",
    "    soma += numero \n",
    "\n",
    "print('\\033[1;33m*\\033[m'*50)    \n",
    "print(f'A soma dos números é = {soma}')\n",
    "print('\\033[1;33m-\\033[m'*50)\n",
    "print(f'A média é = {soma/contador}')\n",
    "print('\\033[1;33m*\\033[m'*50)"
   ]
  },
  {
   "cell_type": "code",
   "execution_count": 11,
   "id": "caadbedf-3779-4f08-b955-85a98b6d70f9",
   "metadata": {},
   "outputs": [],
   "source": [
    "# 9 - Faça um programa que imprima na tela apenas os números ímpares entre 1 a 50."
   ]
  },
  {
   "cell_type": "code",
   "execution_count": 17,
   "id": "406eb144-dedc-41e0-ac25-dcc2a7c0831f",
   "metadata": {},
   "outputs": [
    {
     "name": "stdout",
     "output_type": "stream",
     "text": [
      "1,3,5,7,9,11,13,15,17,19,21,23,25,27,29,31,33,35,37,39,41,43,45,47,49,"
     ]
    }
   ],
   "source": [
    "for i in range (1, 51,2):\n",
    "    print(i,end=\",\")"
   ]
  },
  {
   "cell_type": "code",
   "execution_count": 18,
   "id": "01d593a2-91e3-49e9-aa39-e83a8af1aec9",
   "metadata": {},
   "outputs": [],
   "source": [
    "# 10 - faça um programa que receba dois números inteiros e gere os números inteiros que estão no intervalo compreendido entre\n",
    "# eles."
   ]
  },
  {
   "cell_type": "code",
   "execution_count": 4,
   "id": "58ba1217-aa40-4f9b-8851-6556ecb94d17",
   "metadata": {},
   "outputs": [
    {
     "name": "stdin",
     "output_type": "stream",
     "text": [
      "Informe um número de início do intervalo:  5\n",
      "Informe um número de fim do intervalo:  20\n"
     ]
    },
    {
     "name": "stdout",
     "output_type": "stream",
     "text": [
      "Os números para este intervalo são: [5, 6, 7, 8, 9, 10, 11, 12, 13, 14, 15, 16, 17, 18, 19]\n"
     ]
    }
   ],
   "source": [
    "num1 = int(input('Informe um número de início do intervalo: '))\n",
    "num2 = int(input('Informe um número de fim do intervalo: '))\n",
    "list = []\n",
    "for i in range(num1,num2):\n",
    "    list.append(i)\n",
    "print(f'Os números para este intervalo são: {list}')\n"
   ]
  },
  {
   "cell_type": "code",
   "execution_count": 1,
   "id": "bae540f4-80d4-4c33-8ead-f0363621312d",
   "metadata": {},
   "outputs": [],
   "source": [
    "# 11 - Altere o programa anterior para mostrar no final a soma dos números"
   ]
  },
  {
   "cell_type": "code",
   "execution_count": 2,
   "id": "0cd9b77e-15d7-486b-93ec-84ba854723b2",
   "metadata": {},
   "outputs": [
    {
     "name": "stdin",
     "output_type": "stream",
     "text": [
      "Informe um número de início do intervalo:  1\n",
      "Informe um número de fim do intervalo:  4\n"
     ]
    },
    {
     "name": "stdout",
     "output_type": "stream",
     "text": [
      "Os números para este intervalo são: 6\n"
     ]
    }
   ],
   "source": [
    "num1 = int(input('Informe um número de início do intervalo: '))\n",
    "num2 = int(input('Informe um número de fim do intervalo: '))\n",
    "list = []\n",
    "for i in range(num1,num2):\n",
    "    list.append(i)\n",
    "print(f'Os números para este intervalo são: {sum(list)}')"
   ]
  },
  {
   "cell_type": "code",
   "execution_count": 3,
   "id": "459d38ab-b448-40b6-b6ed-a7f21c583f51",
   "metadata": {},
   "outputs": [],
   "source": [
    "# 12 - Desenvolva um gerador de tabuada, capaz de gerar a tabuada de qualquer número inteiro entre 1 a 10. O usuário deve in-\n",
    "# formar de qual número ele deseja ver a tabuada. A saída deve ser conforme o exemplo abaixo:\n",
    "#  Tabuada de 5:\n",
    "#  5 x 1 = 5\n",
    "#  5 x 2 = 10\n",
    "#  ...\n",
    "#  5 x 10 = 50"
   ]
  },
  {
   "cell_type": "code",
   "execution_count": 13,
   "id": "d54d53aa-3f5c-443e-a3fd-3830bb918896",
   "metadata": {},
   "outputs": [
    {
     "name": "stdout",
     "output_type": "stream",
     "text": [
      "=================================Forneça um número para a tabuada: =================================\n"
     ]
    },
    {
     "name": "stdin",
     "output_type": "stream",
     "text": [
      "Informe o número:  6\n"
     ]
    },
    {
     "name": "stdout",
     "output_type": "stream",
     "text": [
      "    \u001b[1;34mA Tabuada para o número 6 é:\u001b[m\n",
      "\n",
      "****************************************************************************************************\n",
      "6 x 0 = \u001b[1;31m0\u001b[m\n",
      "6 x 1 = \u001b[1;31m6\u001b[m\n",
      "6 x 2 = \u001b[1;31m12\u001b[m\n",
      "6 x 3 = \u001b[1;31m18\u001b[m\n",
      "6 x 4 = \u001b[1;31m24\u001b[m\n",
      "6 x 5 = \u001b[1;31m30\u001b[m\n",
      "6 x 6 = \u001b[1;31m36\u001b[m\n",
      "6 x 7 = \u001b[1;31m42\u001b[m\n",
      "6 x 8 = \u001b[1;31m48\u001b[m\n",
      "6 x 9 = \u001b[1;31m54\u001b[m\n",
      "6 x 10 = \u001b[1;31m60\u001b[m\n"
     ]
    }
   ],
   "source": [
    "print('Forneça um número para a tabuada: '.center(100,'='))\n",
    "num = int(input('Informe o número: '))\n",
    "print(f'\\033[1;34mA Tabuada para o número {num} é:\\033[m\\n')\n",
    "print('*'*100)\n",
    "for i in range(0,11):\n",
    "    mult = num * i\n",
    "    print(f'{num} x {i} = \\033[1;31m{mult}\\033[m')"
   ]
  },
  {
   "cell_type": "code",
   "execution_count": 15,
   "id": "2ee331fe-1a64-41bd-acb7-b33ffa6e5073",
   "metadata": {
    "tags": []
   },
   "outputs": [],
   "source": [
    "# 13 - Faça um programa que peça dois números, base e expoente, calcule e mostre o primeiro número elevado ao segundo número.\n",
    "# Não utilize a função de potência da linguagem."
   ]
  },
  {
   "cell_type": "code",
   "execution_count": 25,
   "id": "52c1fe3c-ea09-4e91-85f3-463fa4b4c2b3",
   "metadata": {},
   "outputs": [
    {
     "name": "stdin",
     "output_type": "stream",
     "text": [
      "Informe o número inteiro que será a base:  5\n",
      "Informe o número inteiro que será o expoente:  3\n"
     ]
    },
    {
     "name": "stdout",
     "output_type": "stream",
     "text": [
      "O número 5 elevado ao 3 é igual a = \u001b[1;34m125\u001b[m\n"
     ]
    }
   ],
   "source": [
    "num1 = int(input('Informe o número inteiro que será a base: '))\n",
    "num2 = int(input('Informe o número inteiro que será o expoente: '))\n",
    "print(f'O número {num1} elevado ao {num2} é igual a = \\033[1;34m{num1**num2}\\033[m')"
   ]
  },
  {
   "cell_type": "code",
   "execution_count": 18,
   "id": "d03e6023-3599-44d4-af21-aba0b0c28dfc",
   "metadata": {},
   "outputs": [],
   "source": [
    "# 14 - Faça um programa que peça 10 números inteiros, calcule e mostre a quantidade de números pares e a quantidade de números \n",
    "#      ímpares."
   ]
  },
  {
   "cell_type": "code",
   "execution_count": 29,
   "id": "8e712bda-987c-4fc0-9697-879ec3ec52c3",
   "metadata": {},
   "outputs": [
    {
     "name": "stdin",
     "output_type": "stream",
     "text": [
      "Informe o º 1 número :  1\n",
      "Informe o º 2 número :  2\n",
      "Informe o º 3 número :  3\n",
      "Informe o º 4 número :  4\n",
      "Informe o º 5 número :  5\n",
      "Informe o º 6 número :  6\n",
      "Informe o º 7 número :  7\n",
      "Informe o º 8 número :  8\n",
      "Informe o º 9 número :  9\n",
      "Informe o º 10 número :  10\n"
     ]
    },
    {
     "name": "stdout",
     "output_type": "stream",
     "text": [
      "A quantidade de números Pares informados foi \u001b[4;31m5\u001b[m, e a quantidade de Ímpares informados foi \u001b[4;34m5\u001b[m\n"
     ]
    }
   ],
   "source": [
    "pares = 0\n",
    "impares = 0\n",
    "for i in range(0,10):\n",
    "    numeros = int(input(f'Informe o º {i+1} número : '))\n",
    "    if numeros % 2 == 0:\n",
    "        pares += 1\n",
    "    else:\n",
    "        impares += 1\n",
    "print(f'A quantidade de números Pares informados foi \\033[4;31m{pares}\\033[m, e a quantidade de Ímpares informados foi \\033[4;34m{impares}\\033[m')"
   ]
  },
  {
   "cell_type": "code",
   "execution_count": 31,
   "id": "d7b9346a-90d9-4dcf-ac23-e82a7cbaa2ea",
   "metadata": {},
   "outputs": [],
   "source": [
    "# 15 - A série de Fibonacci é formada pela sequência 1,1,2,3,5,8,13,21,34,55... Faça um programa capaz de gerar a série até o\n",
    "# n-ésimo termo."
   ]
  },
  {
   "cell_type": "code",
   "execution_count": 35,
   "id": "e6f67032-4601-4105-bf6a-f6a43273c180",
   "metadata": {},
   "outputs": [
    {
     "name": "stdin",
     "output_type": "stream",
     "text": [
      "Que termo deseja encontrar:  10\n"
     ]
    },
    {
     "name": "stdout",
     "output_type": "stream",
     "text": [
      "55\n"
     ]
    }
   ],
   "source": [
    "n = int(input(\"Que termo deseja encontrar: \"))\n",
    "ultimo=1\n",
    "penultimo=1\n",
    "\n",
    "\n",
    "if (n==1) or (n==2):\n",
    "    print(\"1\")\n",
    "else:\n",
    "    count=3\n",
    "    while count <= n:\n",
    "        termo = ultimo + penultimo\n",
    "        penultimo = ultimo\n",
    "        ultimo = termo\n",
    "        count += 1\n",
    "    print(termo)"
   ]
  },
  {
   "cell_type": "code",
   "execution_count": 43,
   "id": "72886aed-4153-491d-91d1-b0a902c1bc0f",
   "metadata": {},
   "outputs": [
    {
     "name": "stdin",
     "output_type": "stream",
     "text": [
      "Que termo deseja encontrar:  500\n"
     ]
    },
    {
     "name": "stdout",
     "output_type": "stream",
     "text": [
      "139423224561697880139724382870407283950070256587697307264108962948325571622863290691557658876222521294125\n"
     ]
    }
   ],
   "source": [
    "n = int(input(\"Que termo deseja encontrar: \"))\n",
    "ultimo=1\n",
    "penultimo=1\n",
    "\n",
    "if (n==1) or (n==2):\n",
    "    print(\"1\")\n",
    "else:\n",
    "    for count in range(2,n):\n",
    "        termo = ultimo + penultimo\n",
    "        penultimo = ultimo\n",
    "        ultimo = termo\n",
    "        count += 1\n",
    "    print(termo)"
   ]
  },
  {
   "cell_type": "code",
   "execution_count": 44,
   "id": "756d94d2-4892-40e1-adbf-bc6269b0c9ef",
   "metadata": {},
   "outputs": [
    {
     "name": "stdin",
     "output_type": "stream",
     "text": [
      "Informe a sequencia desejada:  10\n"
     ]
    },
    {
     "name": "stdout",
     "output_type": "stream",
     "text": [
      "0-1-1-2-3-5-8-13-21-34-55-"
     ]
    }
   ],
   "source": [
    "from typing import Generator\n",
    "\n",
    "def fib6(n: int) -> Generator[int, None, None]:\n",
    "    yield 0 # caso especial\n",
    "    if n > 0 : yield 1 # caso especial\n",
    "    last: int = 0 # inicialmente definido para fib(0)\n",
    "    next : int = 1 # inicialmente definido para fib(1)\n",
    "    for _ in range(1,n):\n",
    "        last, next = next, last + next\n",
    "        yield next # passo principal da geração\n",
    "\n",
    "if __name__ == \"__main__\":\n",
    "    num = int(input('Informe a sequencia desejada: '))\n",
    "    for i in fib6(num):\n",
    "        print(i,end=\"-\")"
   ]
  },
  {
   "cell_type": "code",
   "execution_count": 45,
   "id": "ba605e55-3b46-4b41-9354-3f18485175ca",
   "metadata": {},
   "outputs": [],
   "source": [
    "# 16 - A série de Fibonacci é formada pela sequência 0,1,1,2,3,5,8,13,21,34,55,... Faça um programa que gere a série \n",
    "# até que o valor seja maior que 500."
   ]
  },
  {
   "cell_type": "code",
   "execution_count": null,
   "id": "656777b4-020d-47ae-8ca4-da9f8fa1e786",
   "metadata": {},
   "outputs": [
    {
     "name": "stdout",
     "output_type": "stream",
     "text": [
      "0/1/1/2/3/5/8/13/21/34/55/89/144/233/377/610/987/1597/2584/4181/6765/10946/17711/28657/46368/75025/121393/196418/317811/514229/832040/1346269/2178309/3524578/5702887/9227465/14930352/24157817/39088169/63245986/102334155/165580141/267914296/433494437/701408733/1134903170/"
     ]
    }
   ],
   "source": [
    "def rec_fib(n):\n",
    "    if n > 1:\n",
    "        return rec_fib(n-1) + rec_fib(n-2)\n",
    "    return n\n",
    "for i in range(10):\n",
    "    print(rec_fib(i),end=\"/\")"
   ]
  },
  {
   "cell_type": "code",
   "execution_count": 3,
   "id": "745b4a01-fb91-4403-93f1-8c214ec867b5",
   "metadata": {
    "tags": []
   },
   "outputs": [
    {
     "name": "stdout",
     "output_type": "stream",
     "text": [
      "0-1-1-2-3-5-8-13-21-34-55-89-144-233-377-610-987-1597-2584-4181-6765-10946-17711-28657-46368-75025-121393-196418-317811-514229-832040-1346269-2178309-3524578-5702887-9227465-14930352-24157817-39088169-63245986-102334155-165580141-267914296-433494437-701408733-1134903170-1836311903-2971215073-4807526976-7778742049-"
     ]
    }
   ],
   "source": [
    "def fibonacci_iter(n):\n",
    "    a=1\n",
    "    b=1\n",
    "    if n==1:\n",
    "        print('0')\n",
    "    elif n==2:\n",
    "        print('0','1')\n",
    "    else:\n",
    "        print('0',end=\"-\")\n",
    "        print(a,end=\"-\")\n",
    "        print(b,end=\"-\")\n",
    "        for i in range(n-3):\n",
    "            total = a + b\n",
    "            b=a\n",
    "            a= total\n",
    "            print(total,end=\"-\")\n",
    "         \n",
    "fibonacci_iter(50)"
   ]
  },
  {
   "cell_type": "code",
   "execution_count": 2,
   "id": "1d7dd5f0-f6a7-4df3-b572-5ec82353faf7",
   "metadata": {},
   "outputs": [
    {
     "name": "stdout",
     "output_type": "stream",
     "text": [
      "0//1//1//2//3//5//8//13//21//34//"
     ]
    }
   ],
   "source": [
    "def rec_fib(n):\n",
    "    if n > 1:\n",
    "        return rec_fib(n-1) + rec_fib(n-2)\n",
    "    return n\n",
    "n = 0\n",
    "while rec_fib(n) < 500:\n",
    "    print(rec_fib(n), end=\"//\")\n",
    "    n += 1"
   ]
  },
  {
   "cell_type": "code",
   "execution_count": 1,
   "id": "7d1ea675-d43b-47ec-bd47-6fb8a806fd25",
   "metadata": {},
   "outputs": [
    {
     "name": "stdout",
     "output_type": "stream",
     "text": [
      "[0, 1, 1, 2, 3, 5, 8, 13, 21, 34, 55]\n"
     ]
    }
   ],
   "source": [
    "fibonacci = [0,1]\n",
    "prox_valor = 0\n",
    "while prox_valor < 500:\n",
    "    prox_valor = fibonacci[-1] + fibonacci[-2]\n",
    "    fibonacci.append(prox_valor)\n",
    "print(fibonacci)"
   ]
  },
  {
   "cell_type": "code",
   "execution_count": 10,
   "id": "e46530eb-e1ad-4b2e-a13d-45bbda9e6199",
   "metadata": {},
   "outputs": [],
   "source": [
    "# 17 - Faça um programa que calcule o fatorial de um número inteiro fornecido pelo usuário. EX 5! = 5x4x3x2x1 = 120"
   ]
  },
  {
   "cell_type": "code",
   "execution_count": null,
   "id": "7c6ba4f3-ef5e-421f-8b93-ed742308e89e",
   "metadata": {},
   "outputs": [],
   "source": [
    "n = int(input('Informe o número que deseja seu fatorial: '))\n",
    "c = n\n",
    "f = 1\n",
    "print(f'Calculando do fatorial de {n}!= ',end='')\n",
    "while c > 0:\n",
    "    print(f'{c}',end=\"\")\n",
    "    print('x' if c > 1 else '= ',end=\"\")\n",
    "    f = f * c\n",
    "    c -= 1\n",
    "print(f'{f}')"
   ]
  },
  {
   "cell_type": "code",
   "execution_count": 4,
   "id": "3d4c017f-3151-41ba-9a4b-32a87e1e551d",
   "metadata": {
    "tags": []
   },
   "outputs": [],
   "source": [
    "# 18 - Faça um programa que, dado um conjunto de N números, determine o menor valor, o maior valor e a soma dos valores."
   ]
  },
  {
   "cell_type": "code",
   "execution_count": null,
   "id": "341fe3aa-b569-4282-bd98-d8aaaa808a7a",
   "metadata": {},
   "outputs": [],
   "source": [
    "list = []\n",
    "for i in range(1,5):\n",
    "    numero = float(input(f'Informe o {i}º número: '))\n",
    "    list.append(numero)\n",
    "    if i == 1:\n",
    "        maior = numero\n",
    "        menor = numero\n",
    "    if numero > maior:\n",
    "        maior = numero\n",
    "    if numero < menor:\n",
    "        menor = numero                       \n",
    "n = list\n",
    "print(f'O maior valor é {maior} o  menor valor é {menor} e a soma é {sum(n)}')"
   ]
  },
  {
   "cell_type": "code",
   "execution_count": 34,
   "id": "386d378f-7605-478a-87a0-a79bcabfde8b",
   "metadata": {},
   "outputs": [
    {
     "name": "stdout",
     "output_type": "stream",
     "text": [
      "[51, 19, 64, 54, 28, 64, 33, 7, 5]\n",
      "O maior valor é 64 o  menor valor é 5 e a soma é 325\n"
     ]
    }
   ],
   "source": [
    "import random\n",
    "list = []\n",
    "for i in range(1,10):\n",
    "    numero = random.randint(1,90)\n",
    "    list.append(numero)\n",
    "    if i == 1:\n",
    "        maior = numero\n",
    "        menor = numero\n",
    "    if numero > maior:\n",
    "        maior = numero\n",
    "    if numero < menor:\n",
    "        menor = numero                       \n",
    "n = list\n",
    "print(list)\n",
    "print(f'O maior valor é {maior} o  menor valor é {menor} e a soma é {sum(n)}')"
   ]
  },
  {
   "cell_type": "code",
   "execution_count": 9,
   "id": "1ab7a2b8-c264-4906-bf9a-378c463e1cf2",
   "metadata": {
    "tags": []
   },
   "outputs": [
    {
     "name": "stdout",
     "output_type": "stream",
     "text": [
      "[11, 9, 7, 37, 27, 24, 21, 22, 39, 46, 49, 38, 10, 19, 29, 44, 51, 48, 6, 26, 50, 4, 30, 36, 25, 45, 33, 17, 32, 2, 5, 16, 43, 15, 12, 23, 34, 28, 3, 8, 42, 14, 20, 13, 1, 31, 47, 35, 18, 40, 41]\n",
      "O maior valor é 51 o  menor valor é 1 e a soma é 1326\n"
     ]
    }
   ],
   "source": [
    "import random\n",
    "list = []\n",
    "# criar uma lista com números entre 1 e 52\n",
    "for i in range(1,52): \n",
    "    if i == 1:\n",
    "        maior = i\n",
    "        menor = i\n",
    "    if i > maior:\n",
    "        maior = i\n",
    "    if i < menor:\n",
    "        menor = i\n",
    "    list.append(i)\n",
    "    cartas = list\n",
    "\n",
    "# embaralha a lista de números\n",
    "random.shuffle(cartas)\n",
    "\n",
    "print(cartas)\n",
    "print(f'O maior valor é {maior} o  menor valor é {menor} e a soma é {sum(cartas)}')"
   ]
  },
  {
   "cell_type": "code",
   "execution_count": null,
   "id": "a12ea748-8fcc-4031-9651-f32a7cdb1c46",
   "metadata": {},
   "outputs": [],
   "source": [
    "import random\n",
    "# criar uma lista com números entre 1 e 52\n",
    "for i in range(1,53):\n",
    "    list.append(i)\n",
    "    cartas = list\n",
    "print(cartas)\n",
    "# embaralha a lista de números\n",
    "random.shuffle(cartas)\n",
    "print(cartas)"
   ]
  },
  {
   "cell_type": "code",
   "execution_count": 45,
   "id": "8e93cac8-8d57-48d7-a771-66403c626287",
   "metadata": {},
   "outputs": [
    {
     "name": "stdout",
     "output_type": "stream",
     "text": [
      "[44, 43, 12, 8, 32, 35, 3, 19, 18, 11, 44, 37, 40, 33, 51, 8, 43, 40, 35, 13, 22, 4, 10, 45, 4, 24, 26, 32, 42, 13, 38, 28, 17, 22, 33, 34, 31, 25, 50, 45, 30, 2, 38, 37, 35, 38, 6, 1, 42, 25, 14, 40, 2, 46, 16, 12, 30, 29, 33, 45, 23, 28, 43, 36, 28, 46, 25, 8, 35, 22, 50, 5, 17, 9, 1, 3, 49, 15, 7, 48, 5, 2, 8, 41, 14, 52, 3, 39, 32, 23, 41, 24, 36, 2, 5, 37, 47, 13, 3, 16, 38, 18, 8, 49, 44, 27, 15, 20, 51, 46, 21, 2, 1, 47, 6, 1, 34, 47, 40, 7, 44, 3, 15, 4, 1, 7, 28, 43, 28, 27, 18, 51, 16, 50, 17, 18, 32, 52, 21, 40, 37, 4, 33, 9, 32, 16, 31, 6, 44, 49, 21, 46, 43, 9, 11, 22, 47, 35, 41, 33, 19, 45, 10, 39, 5, 15, 48, 50, 34, 41, 30, 19, 27, 23, 12, 29, 20, 9, 37, 27, 30, 19, 11, 16, 49, 49, 6, 27, 20, 52, 6, 26, 36, 42, 41, 9, 26, 50, 29, 10, 14, 5, 19, 10, 51, 22, 39, 7, 46, 47, 17, 48, 13, 17, 52, 11, 42, 31, 24, 29, 21, 18, 26, 36, 34, 42, 14, 7, 51, 14, 20, 39, 21, 36, 52, 38, 31, 10, 11, 20, 12, 23, 26, 15, 24, 24, 48, 13, 39, 34, 48, 25, 23, 30, 25, 45, 4, 12, 29, 31, 1, 2, 3, 4, 5, 6, 7, 8, 9, 10, 11, 12, 13, 14, 15, 16, 17, 18, 19, 20, 21, 22, 23, 24, 25, 26, 27, 28, 29, 30, 31, 32, 33, 34, 35, 36, 37, 38, 39, 40, 41, 42, 43, 44, 45, 46, 47, 48, 49, 50, 51, 52]\n",
      "************************************************************************************************************************\n",
      "[27, 27, 10, 7, 51, 50, 4, 21, 8, 40, 29, 8, 2, 22, 49, 39, 52, 27, 14, 47, 9, 30, 19, 37, 52, 26, 52, 38, 18, 28, 17, 28, 35, 46, 22, 16, 40, 41, 9, 45, 13, 14, 52, 44, 19, 40, 4, 43, 7, 7, 44, 26, 25, 45, 36, 27, 16, 39, 25, 4, 8, 48, 20, 31, 16, 32, 22, 1, 45, 37, 29, 49, 42, 5, 52, 14, 4, 46, 49, 23, 11, 1, 7, 20, 15, 51, 3, 44, 43, 23, 1, 18, 12, 14, 51, 34, 32, 46, 5, 29, 2, 29, 41, 24, 8, 13, 41, 23, 12, 31, 6, 47, 39, 18, 7, 49, 11, 11, 17, 35, 8, 32, 22, 50, 6, 26, 42, 33, 33, 16, 20, 51, 11, 50, 42, 39, 21, 18, 1, 10, 51, 13, 19, 28, 20, 15, 5, 25, 10, 1, 36, 25, 30, 12, 7, 28, 2, 43, 46, 48, 3, 24, 41, 6, 24, 6, 34, 20, 9, 50, 38, 40, 36, 5, 1, 44, 45, 36, 48, 16, 47, 22, 39, 51, 41, 43, 26, 8, 27, 43, 29, 13, 25, 25, 14, 9, 44, 17, 46, 10, 37, 23, 46, 32, 16, 38, 3, 10, 34, 42, 35, 52, 15, 2, 32, 28, 2, 35, 12, 23, 11, 42, 35, 34, 31, 34, 31, 12, 30, 6, 26, 37, 43, 9, 44, 21, 33, 37, 13, 50, 19, 50, 15, 48, 22, 48, 48, 10, 30, 18, 47, 38, 39, 35, 3, 5, 6, 49, 40, 21, 24, 38, 20, 21, 23, 3, 15, 12, 36, 4, 47, 18, 37, 38, 36, 19, 33, 26, 2, 42, 9, 15, 19, 41, 17, 3, 34, 31, 33, 21, 27, 14, 17, 33, 29, 49, 13, 47, 45, 17, 24, 11, 40, 31, 30, 24, 28, 4, 5, 45, 30, 32]\n"
     ]
    }
   ],
   "source": [
    "import random\n",
    "def embaralha():\n",
    "    return random.random()\n",
    "\n",
    "# criar uma lista com números entre 1 e 52\n",
    "for i in range(1,53):\n",
    "    list.append(i)\n",
    "    cartas = list   \n",
    "print(cartas)\n",
    "print('*'*120)\n",
    "\n",
    "# embaralha a lista de números\n",
    "random.shuffle(cartas,embaralha)\n",
    "print(cartas)\n"
   ]
  },
  {
   "cell_type": "code",
   "execution_count": 1,
   "id": "70160d24-0058-4562-822b-c6e702eaf58b",
   "metadata": {},
   "outputs": [],
   "source": [
    "# 19 - Altere o programa anterior para que ele aceite apenas números entre 0 e 1000."
   ]
  },
  {
   "cell_type": "code",
   "execution_count": 14,
   "id": "10325fb9-18e9-46fd-8e20-d60fed1a8eaf",
   "metadata": {},
   "outputs": [
    {
     "name": "stdout",
     "output_type": "stream",
     "text": [
      "[839, 250, 499, 256, 941, 360, 941, 514, 976, 742, 562, 432, 310, 702, 394, 264, 435, 132, 664, 808, 895, 681, 288, 936, 326, 479, 250, 690, 796, 169, 822, 996, 743, 724, 765, 962, 582, 669, 661, 783, 166, 854, 449, 274, 776, 537, 631, 671, 483, 763, 758, 996, 853, 926, 992, 913, 763, 65, 302, 59, 97, 119, 135, 890, 506, 685, 664, 221, 454, 315, 299, 826, 872, 927, 304, 165, 530, 311, 75, 1, 928, 32, 148, 948, 271, 728, 408, 943, 874, 169, 750, 474, 791, 453, 675, 134, 593, 247, 994, 443, 816, 935, 574, 861, 334, 348, 1, 963, 454, 477, 243, 159, 615, 558, 412, 238, 882, 777, 25, 127, 818, 760, 578, 100, 426, 180, 141, 94, 25, 658, 279, 80, 517, 330, 632, 853, 260, 208, 596, 792, 472, 70, 723, 37, 798, 280, 494, 952, 693, 918, 990, 89, 687, 568, 32, 547, 600, 198, 858, 680, 570, 605, 213, 545, 990, 341, 199, 229, 660, 65, 761, 554, 481, 818, 398, 995, 983, 49, 601, 357, 657, 722, 592, 417, 278, 372, 66, 594, 635, 102, 595, 161, 103, 82, 623, 961, 714, 890, 275, 755, 295, 978, 280, 807, 535, 444, 24, 710, 565, 138, 220, 326, 362, 93, 926, 259, 436, 901, 544, 164, 967, 451, 327, 27, 415, 282, 812, 559, 162, 687, 955, 595, 43, 355, 715, 660, 330, 911, 775, 365, 146, 920, 397, 901, 579, 755, 712, 988, 98, 501, 248, 803, 4, 431, 229, 761, 729, 95, 702, 63, 256, 218, 213, 988, 764, 185, 251, 43, 385, 329, 322, 724, 926, 296, 223, 88, 744, 677, 508, 579, 528, 767, 522, 131, 377, 751, 391, 584, 220, 499, 688, 12, 441, 398, 833, 47, 753, 895, 996, 174, 768, 241, 512, 194, 93, 459, 74, 922, 719, 719, 44, 134, 309, 93, 84, 400, 336, 503, 124, 662, 36, 478, 145, 660, 937, 696, 66, 476, 185, 35, 634, 47, 66, 498, 248, 505, 919, 54, 895, 186, 375, 278, 594, 313, 80, 278, 822, 276, 437, 508, 922, 304, 871, 267, 184, 973, 115, 158, 707, 792, 605, 428, 512, 344, 792, 156, 960, 859, 624, 391, 544, 175, 298, 737, 421, 242, 148, 905, 510, 690, 613, 54, 335, 702, 44, 638, 279, 697, 307, 420, 602, 956, 888, 61, 563, 748, 411, 991, 985, 876, 834, 707, 848, 434, 97, 883, 66, 434, 859, 308, 866, 358, 779, 38, 836, 796, 592, 919, 922, 708, 222, 215, 352, 623, 756, 161, 385, 827, 842, 394, 579, 36, 313, 181, 452, 151, 973, 588, 988, 364, 814, 247, 607, 269, 152, 454, 144, 482, 322, 497, 246, 471, 816, 989, 457, 854, 276, 754, 689, 19, 661, 356, 640, 201, 502, 561, 653, 942, 493, 648, 694, 332, 700, 451, 260, 849, 644, 244, 44, 367, 721, 594, 746, 960, 862, 813, 64, 175, 279, 46, 950, 454, 414, 615, 648, 454, 971, 800, 898, 34, 214, 695, 647, 477, 654, 811, 679, 281, 523, 534, 546, 662, 528, 257, 266, 281, 62, 99, 582, 358, 206, 367, 773, 779, 542, 331, 289, 679, 4, 811, 159, 419, 794, 754, 118, 38, 835, 14, 357, 62, 137, 828, 392, 794, 176, 364, 341, 884, 781, 199, 60, 581, 572, 90, 137, 617, 722, 92, 726, 716, 835, 712, 669, 344, 20, 490, 420, 333, 926, 17, 774, 261, 568, 596, 799, 766, 393, 819, 426, 913, 42, 426, 917, 864, 321, 995, 52, 814, 308, 613, 835, 397, 924, 186, 533, 813, 872, 28, 675, 837, 392, 640, 847, 646, 434, 628, 161, 942, 495, 258, 883, 678, 790, 146, 991, 156, 554, 131, 4, 471, 107, 974, 301, 482, 476, 387, 901, 652, 678, 990, 439, 200, 824, 227, 446, 453, 675, 376, 165, 652, 977, 810, 245, 44, 164, 718, 904, 782, 627, 385, 472, 939, 270, 273, 43, 525, 889, 282, 199, 169, 520, 404, 941, 292, 29, 816, 166, 226, 646, 288, 63, 387, 813, 145, 895, 610, 966, 418, 18, 337, 670, 571, 862, 422, 393, 236, 716, 45, 355, 181, 99, 347, 162, 522, 108, 418, 143, 52, 898, 795, 875, 723, 325, 609, 237, 963, 439, 444, 684, 862, 644, 693, 186, 90, 710, 799, 397, 485, 816, 816, 977, 843, 848, 704, 802, 863, 27, 165, 426, 270, 587, 182, 868, 147, 564, 327, 390, 545, 935, 283, 427, 306, 35, 616, 842, 3, 667, 936, 761, 715, 820, 948, 774, 253, 863, 54, 664, 601, 141, 963, 935, 81, 474, 589, 175, 880, 520, 261, 941, 719, 70, 867, 162, 92, 176, 869, 392, 968, 326, 786, 328, 2, 496, 516, 762, 895, 626, 799, 566, 96, 818, 202, 745, 963, 316, 281, 79, 326, 306, 4, 554, 902, 592, 118, 628, 506, 622, 88, 76, 636, 938, 160, 933, 506, 728, 759, 331, 217, 363, 295, 564, 640, 267, 802, 513, 690, 565, 308, 542, 296, 65, 97, 490, 785, 497, 665, 560, 336, 447, 927, 228, 69, 502, 725, 291, 943, 358, 586, 607, 586, 581, 635, 461, 556, 86, 822, 238, 166, 405, 1, 525, 552, 199, 658, 276, 462, 520, 888, 205, 984, 807, 949, 271, 345, 446, 39, 517, 284, 68, 304, 316, 743, 65, 402, 24, 597, 887, 111, 286, 284, 410, 915, 510, 85, 571, 345, 693, 428, 619, 602, 781, 548, 13, 612, 159, 984, 583, 954, 323, 216, 6, 722, 122, 76, 914, 1, 862, 690, 657, 512, 53, 528, 495, 334, 907, 878, 27, 951, 717, 502, 829, 701, 303, 63, 983, 879, 784, 702, 17, 16, 991, 546, 276, 537, 121, 414, 811, 402, 64, 765, 175, 375, 984, 466, 405, 191, 229, 229, 672, 822, 772, 798, 914, 253, 530, 718, 642, 410, 92, 651, 491, 262, 452, 386, 575, 591, 963, 192, 806, 154, 19, 910, 964, 774, 172]\n",
      "O maior valor é 996 o  menor valor é 1 e a soma é 492119\n"
     ]
    }
   ],
   "source": [
    "import random\n",
    "list = []\n",
    "for i in range(1,1200):\n",
    "    numero = random.randint(0,1200)\n",
    "    if numero > 0 and numero < 1000:\n",
    "        list.append(numero)\n",
    "        if i == 1:\n",
    "            maior = numero\n",
    "            menor = numero\n",
    "        if numero > maior:\n",
    "            maior = numero\n",
    "        if numero < menor:\n",
    "            menor = numero                       \n",
    "n = list\n",
    "print(list)\n",
    "print(f'O maior valor é {maior} o  menor valor é {menor} e a soma é {sum(n)}')"
   ]
  },
  {
   "cell_type": "code",
   "execution_count": 15,
   "id": "6a0e62a5-5280-44d8-af17-bf795e08c215",
   "metadata": {},
   "outputs": [],
   "source": [
    "# 20 - Altere o programa de cálculo de fatorial, permitindo ao usuário calcular o fatorial várias vezes e limitando o fatorial\n",
    "# a números inteiros positivos e menores que 16."
   ]
  },
  {
   "cell_type": "code",
   "execution_count": 28,
   "id": "bfa9dac8-a120-4dbd-8b83-b549011b0998",
   "metadata": {},
   "outputs": [
    {
     "name": "stdin",
     "output_type": "stream",
     "text": [
      "Informe o número que deseja seu fatorial:  19\n"
     ]
    },
    {
     "name": "stdout",
     "output_type": "stream",
     "text": [
      "Informe números menores que 16 para calculo do fatorial\n"
     ]
    },
    {
     "name": "stdin",
     "output_type": "stream",
     "text": [
      "deseja continuar? (S/N):  s\n",
      "Informe o número que deseja seu fatorial:  5\n"
     ]
    },
    {
     "name": "stdout",
     "output_type": "stream",
     "text": [
      "Calculando do fatorial de 5!= 5x4x3x2x1= 120\n",
      "Informe números menores que 16 para calculo do fatorial\n"
     ]
    },
    {
     "name": "stdin",
     "output_type": "stream",
     "text": [
      "deseja continuar? (S/N):  n\n"
     ]
    },
    {
     "name": "stdout",
     "output_type": "stream",
     "text": [
      "Fim!!!\n"
     ]
    }
   ],
   "source": [
    "while True:\n",
    "       # print('Informe números menores que 16 para calculo do fatorial')\n",
    "        n = int(input('Informe o número que deseja seu fatorial: '))\n",
    "        if n > 0 and n < 16:\n",
    "            c = n\n",
    "            f = 1\n",
    "            print(f'Calculando do fatorial de {n}!= ',end='')\n",
    "            while c > 0:\n",
    "                print(f'{c}',end=\"\")\n",
    "                print('x' if c > 1 else '= ',end=\"\")\n",
    "                f = f * c\n",
    "                c -= 1\n",
    "            print(f'{f}')\n",
    "        print('Informe números menores que 16 para calculo do fatorial')\n",
    "        if input(\"deseja continuar? (S/N): \").upper() != \"S\":\n",
    "            print('Fim!!!')\n",
    "            break"
   ]
  },
  {
   "cell_type": "code",
   "execution_count": 22,
   "id": "9ba83c5a-7535-40c3-aa1d-35c7a2b1548b",
   "metadata": {},
   "outputs": [
    {
     "name": "stdin",
     "output_type": "stream",
     "text": [
      "Digite um numero:  5\n"
     ]
    },
    {
     "name": "stdout",
     "output_type": "stream",
     "text": [
      "O fatorial de 5 é 120\n"
     ]
    },
    {
     "name": "stdin",
     "output_type": "stream",
     "text": [
      "Deseja continuar? (S/N):  s\n",
      "Digite um numero:  6\n"
     ]
    },
    {
     "name": "stdout",
     "output_type": "stream",
     "text": [
      "O fatorial de 6 é 720\n"
     ]
    },
    {
     "name": "stdin",
     "output_type": "stream",
     "text": [
      "Deseja continuar? (S/N):  n\n"
     ]
    },
    {
     "name": "stdout",
     "output_type": "stream",
     "text": [
      "FIM!!!\n"
     ]
    }
   ],
   "source": [
    "while True:\n",
    "    numero = int(input(\"Digite um numero: \"))\n",
    "    if not 0 < numero < 16:\n",
    "        continue\n",
    "    fatorial = 1\n",
    "    for i in range(numero, 1, -1):\n",
    "        fatorial *= i\n",
    "    print(f\"O fatorial de {numero} é {fatorial}\")\n",
    "    if input(\"Deseja continuar? (S/N): \").upper() != \"S\":\n",
    "        print('FIM!!!')\n",
    "        break"
   ]
  },
  {
   "cell_type": "code",
   "execution_count": 29,
   "id": "cde547c5-9390-4c20-b311-2e10e86a061b",
   "metadata": {},
   "outputs": [],
   "source": [
    "# 21 - Faça um programa que peça um número inteiro e determine se ele é ou não um número primo. Um número primo é aquele que é\n",
    "# divisível somente por ele mesmo e por 1."
   ]
  },
  {
   "cell_type": "code",
   "execution_count": 33,
   "id": "d09b577d-ef25-4e80-a19b-186831bcf8fd",
   "metadata": {},
   "outputs": [
    {
     "name": "stdin",
     "output_type": "stream",
     "text": [
      "Digite um numero inteiro:  8\n"
     ]
    },
    {
     "name": "stdout",
     "output_type": "stream",
     "text": [
      "8 não é primo!\n"
     ]
    }
   ],
   "source": [
    "numero = int(input(\"Digite um numero inteiro: \"))\n",
    "primo = True\n",
    "for i in range(2, numero):\n",
    "    if numero % i == 0:\n",
    "        primo = False\n",
    "        print(f\"{numero} não é primo!\")\n",
    "        break\n",
    "if primo:\n",
    "    print(f\"{numero} é primo!\")"
   ]
  },
  {
   "cell_type": "code",
   "execution_count": 34,
   "id": "ee468be6-0339-419e-9ba6-bc16e91b714d",
   "metadata": {},
   "outputs": [],
   "source": [
    "# 22 - Altere o programa de cálculo dos números primos,informando, caso o número não seja primo, por quais números ele é divi-\n",
    "# sível."
   ]
  },
  {
   "cell_type": "code",
   "execution_count": 35,
   "id": "f268cfd7-a91f-4a62-a2b7-5adfdc3dc77b",
   "metadata": {},
   "outputs": [
    {
     "name": "stdin",
     "output_type": "stream",
     "text": [
      "Digite um numero inteiro:  8\n"
     ]
    },
    {
     "name": "stdout",
     "output_type": "stream",
     "text": [
      "8 não é primo! É divisível por 2.\n",
      "8 não é primo! É divisível por 4.\n"
     ]
    }
   ],
   "source": [
    "numero = int(input(\"Digite um numero inteiro: \"))\n",
    "primo = True\n",
    "for i in range(2, numero):\n",
    "    if numero % i == 0:\n",
    "        primo = False\n",
    "        print(f\"{numero} não é primo! É divisível por {i}.\")\n",
    "if primo:\n",
    "    print(f\"{numero} é primo!\")"
   ]
  },
  {
   "cell_type": "code",
   "execution_count": 4,
   "id": "f84be068-6e5b-481a-a622-9e5a9ffa3eca",
   "metadata": {},
   "outputs": [
    {
     "name": "stdin",
     "output_type": "stream",
     "text": [
      "Digite um numero inteiro:  5\n"
     ]
    },
    {
     "name": "stdout",
     "output_type": "stream",
     "text": [
      "O número 5 é primo, divisível somente por 1 e 5\n"
     ]
    }
   ],
   "source": [
    "list = []\n",
    "\n",
    "numero = int(input(\"Digite um numero inteiro: \"))\n",
    "\n",
    "for i in range(1, numero+1):\n",
    "    if numero % i == 0:\n",
    "        list.append(i)\n",
    "        \n",
    "if len(list) > 2:\n",
    "    print(f\"{numero} não é primo, divisivel por {list}\")\n",
    "\n",
    "else: \n",
    "    if len(list) <= 2:\n",
    "        print(f'O número {numero} é primo, divisível somente por 1 e {numero}')\n",
    "      "
   ]
  },
  {
   "cell_type": "code",
   "execution_count": 2,
   "id": "d689b034-4f6c-4abd-9b62-2123f69401ad",
   "metadata": {},
   "outputs": [],
   "source": [
    "# 23 - Faça um programa que mostre todos os primos entre 1 e N sendo N um número inteiro forneciodo pelo usuário. O programa\n",
    "# deverá mostrar também o número de divisões que ele executou para encontrar os números primos. Serão avaliados o funcionamento\n",
    "# o estilo e o número de testes (dicisões) executados."
   ]
  },
  {
   "cell_type": "code",
   "execution_count": 72,
   "id": "8ac58b7f-0fdd-4cc0-9c23-e7dbdb2431f3",
   "metadata": {},
   "outputs": [
    {
     "name": "stdin",
     "output_type": "stream",
     "text": [
      "Digite um numero inteiro:  33\n"
     ]
    },
    {
     "name": "stdout",
     "output_type": "stream",
     "text": [
      "33 não é primo e foram executadas 2 divisões para descobrir isso\n"
     ]
    }
   ],
   "source": [
    "numero = int(input(\"Digite um numero inteiro: \"))\n",
    "if numero == 1 or numero == 2:\n",
    "    print(\n",
    "        f\"{numero} é primo e foram executadas 0 divisões para descobrir isso\"\n",
    "    )\n",
    "elif numero % 2 == 0:\n",
    "    print(\n",
    "        f\"{numero} não é primo e foi executada uma divisão para descobrir isso\"\n",
    "    )\n",
    "else:\n",
    "    contador = 1\n",
    "    primo = True\n",
    "    for i in range(3, numero, 2):\n",
    "        contador += 1\n",
    "        if numero % i == 0:\n",
    "            primo = False\n",
    "            break\n",
    "    if primo:\n",
    "        print(\n",
    "            f\"{numero} é primo e foram executadas\"\n",
    "            f\" {contador} divisões para descobrir isso\"\n",
    "        )\n",
    "    else:\n",
    "        print(\n",
    "            f\"{numero} não é primo e foram executadas\"\n",
    "            f\" {contador} divisões para descobrir isso\"\n",
    "        )"
   ]
  },
  {
   "cell_type": "code",
   "execution_count": 5,
   "id": "da975aa7-fba6-49df-afb2-3857ed6b2c6c",
   "metadata": {},
   "outputs": [],
   "source": [
    "# 24 - Faça um programa que calcule e mostre a média aritmética de N notas."
   ]
  },
  {
   "cell_type": "code",
   "execution_count": 28,
   "id": "92a4eb8f-2c5d-42de-8867-4743b74e0380",
   "metadata": {
    "tags": []
   },
   "outputs": [
    {
     "name": "stdin",
     "output_type": "stream",
     "text": [
      "Informe as notas (ou zero para sair):  5\n",
      "Deseja continuar? (S/N) n\n"
     ]
    },
    {
     "name": "stdout",
     "output_type": "stream",
     "text": [
      "A média das notas é = 5.0\n",
      "Fim do programa!!!\n"
     ]
    }
   ],
   "source": [
    "contador = 0\n",
    "nota = []\n",
    "continuar = 'S'\n",
    "while continuar =='S':\n",
    "        notas = float(input('Informe as notas (ou zero para sair): '))\n",
    "        contador += 1\n",
    "        nota.append(notas)\n",
    "        continuar = input('Deseja continuar? (S/N)').upper()\n",
    "\n",
    "print(f'A média das notas é = {(sum(nota)/contador)}')         \n",
    "print('Fim do programa!!!')"
   ]
  },
  {
   "cell_type": "code",
   "execution_count": 44,
   "id": "7244529e-c07e-4e9b-b5c1-25cc2a97987f",
   "metadata": {},
   "outputs": [
    {
     "name": "stdin",
     "output_type": "stream",
     "text": [
      "Informe as notas (ou zero para sair):  6\n",
      "Informe as notas (ou zero para sair):  8\n",
      "Informe as notas (ou zero para sair):  5\n",
      "Informe as notas (ou zero para sair):  9\n",
      "Informe as notas (ou zero para sair):  0\n"
     ]
    },
    {
     "name": "stdout",
     "output_type": "stream",
     "text": [
      "A média das notas é = 7.0\n",
      "Fim do programa!!!\n"
     ]
    }
   ],
   "source": [
    "contador = 0\n",
    "nota = []\n",
    "try:\n",
    "    while True:\n",
    "        notas = float(input('Informe as notas (ou zero para sair): '))    \n",
    "        if notas == 0 :\n",
    "            break\n",
    "        if nota != 0:\n",
    "            contador += 1\n",
    "            nota.append(notas)\n",
    "    print(f'A média das notas é = {(sum(nota)/contador)}')         \n",
    "    print('Fim do programa!!!')\n",
    "except ZeroDivisionError:\n",
    "    print(\"Fim do programa!\")"
   ]
  },
  {
   "cell_type": "code",
   "execution_count": 41,
   "id": "161b0b23-443f-402c-9b30-346daf9b3953",
   "metadata": {},
   "outputs": [
    {
     "name": "stdin",
     "output_type": "stream",
     "text": [
      "Digite uma nota:  5\n",
      "Deseja continuar? (S/N):  s\n",
      "Digite uma nota:  5\n",
      "Deseja continuar? (S/N):  n\n"
     ]
    },
    {
     "name": "stdout",
     "output_type": "stream",
     "text": [
      "A média das notas é 5.00.\n"
     ]
    }
   ],
   "source": [
    "notas = 0\n",
    "contador = 0\n",
    "continuar = \"S\"\n",
    "while continuar == \"S\":\n",
    "    nota = float(input(\"Digite uma nota: \"))\n",
    "    notas += nota\n",
    "    contador += 1\n",
    "    continuar = input(\"Deseja continuar? (S/N): \").upper()\n",
    "\n",
    "print(f\"A média das notas é {notas/contador:.2f}.\")"
   ]
  },
  {
   "cell_type": "code",
   "execution_count": 18,
   "id": "e4fd41fc-1cb3-4d46-b598-14c80d5a237a",
   "metadata": {},
   "outputs": [],
   "source": [
    "# 25 - Faça um programa que peça para n pessoas a sua idade, ao final o programa deve verificar se a média de idade da turma\n",
    "# varia entre 0 e 25, 26 e 60 e maior que 60; e então dizer se a turma é jovem, adulta ou idosa, conforme a média calculada."
   ]
  },
  {
   "cell_type": "code",
   "execution_count": null,
   "id": "a9604881-0c10-4778-ae0e-32aeea41f8cf",
   "metadata": {},
   "outputs": [],
   "source": [
    "numero_de_pessoas = int(input(\"Digite o numero de pessoas: \"))\n",
    "media = 0\n",
    "\n",
    "# + 1 pois a contagem está iniciando em 1, e não em 0 (o padrão)\n",
    "for i in range(1, numero_de_pessoas + 1):\n",
    "    idade = int(input(f\"Digite a idade da pessoa {i}: \"))\n",
    "    media = ((media * (i - 1)) + idade) / i\n",
    "\n",
    "if media < 26:\n",
    "    print(\"A turma é jovem\")\n",
    "elif media < 60:\n",
    "    print(\"A turma é adulta\")\n",
    "else:\n",
    "    print(\"A turma é idosa\")\n"
   ]
  },
  {
   "cell_type": "code",
   "execution_count": 2,
   "id": "76399b75-d9e2-4f5f-ae81-6561da5d061e",
   "metadata": {},
   "outputs": [
    {
     "name": "stdin",
     "output_type": "stream",
     "text": [
      "Informe as idades (ou zero para sair):  23\n",
      "Informe as idades (ou zero para sair):  21\n",
      "Informe as idades (ou zero para sair):  3\n",
      "Informe as idades (ou zero para sair):  2\n",
      "Informe as idades (ou zero para sair):  56\n",
      "Informe as idades (ou zero para sair):  21\n",
      "Informe as idades (ou zero para sair):  0\n"
     ]
    },
    {
     "name": "stdout",
     "output_type": "stream",
     "text": [
      "A turma é jovem media de idade = 21.0 anos\n",
      "Fim do programa!!!\n"
     ]
    }
   ],
   "source": [
    "contador = 0\n",
    "idades = []\n",
    "try:\n",
    "    while True:\n",
    "        idade = float(input('Informe as idades (ou zero para sair): '))    \n",
    "        if idade == 0 :\n",
    "            break\n",
    "        if idade != 0:\n",
    "            contador += 1\n",
    "            idades.append(idade)\n",
    "    media = (sum(idades)/contador)\n",
    "    if media < 26:\n",
    "        print(f\"A turma é jovem media de idade = {media} anos\")\n",
    "    elif media < 60:\n",
    "        print(f\"A turma é adulta media de idade = {media} anos\")\n",
    "    else:\n",
    "        print(f\"A turma é idosa media de idade = {media} anos\")\n",
    "        \n",
    "    print('Fim do programa!!!')\n",
    "except ZeroDivisionError:\n",
    "    print(\"Fim do programa!\")\n"
   ]
  },
  {
   "cell_type": "code",
   "execution_count": null,
   "id": "ed38f83b-7581-40be-856e-0615c9488e78",
   "metadata": {},
   "outputs": [],
   "source": [
    "# 26 Numa eleição existem três candidatos. Faça um programa que peça o número total de eleitores. Peça para cada eleitor votar\n",
    "# e ao final mostrar o número de votos de cada candidato."
   ]
  },
  {
   "cell_type": "code",
   "execution_count": 16,
   "id": "f33a90e0-bf0b-4ead-8f49-254a4efa9f74",
   "metadata": {},
   "outputs": [
    {
     "name": "stdin",
     "output_type": "stream",
     "text": [
      "Informe a quantidade de eleitores:  5\n"
     ]
    },
    {
     "name": "stdout",
     "output_type": "stream",
     "text": [
      "\n",
      "        Os candidatos são:\n",
      "            candidato1 = 1\n",
      "            candidato2 = 2\n",
      "            candidato3 = 3\n",
      "            \n"
     ]
    },
    {
     "name": "stdin",
     "output_type": "stream",
     "text": [
      "Informe o número do canditado escolhido:  1\n",
      "Informe o número do canditado escolhido:  2\n",
      "Informe o número do canditado escolhido:  2\n",
      "Informe o número do canditado escolhido:  2\n",
      "Informe o número do canditado escolhido:  3\n"
     ]
    },
    {
     "name": "stdout",
     "output_type": "stream",
     "text": [
      "********************\n",
      "<built-in method center of str object at 0x0000022414A973B0>\n",
      "********************\n",
      "\n",
      "    O candidato1 recebeu 1 votos,\n",
      "    O candidato2 recebeu 3 votos,\n",
      "    O candidato3 recebeu 1 votos\n",
      "    \n",
      "O candidato2 foi o vencedor!!!\n"
     ]
    }
   ],
   "source": [
    "candidato1 = 0\n",
    "candidato2 = 0\n",
    "candidato3 = 0\n",
    "eleitores = int(input('Informe a quantidade de eleitores: '))\n",
    "print('''\n",
    "        Os candidatos são:\n",
    "            candidato1 = 1\n",
    "            candidato2 = 2\n",
    "            candidato3 = 3\n",
    "            ''')\n",
    "for i in range(0,eleitores):\n",
    "    voto = int(input('Informe o número do canditado escolhido: '))\n",
    "    if voto == 1:\n",
    "        candidato1 += 1\n",
    "    if voto == 2:\n",
    "        candidato2 += 1\n",
    "    if voto == 3:\n",
    "        candidato3 += 1\n",
    "print('*'*20)   \n",
    "print('\\033[1;31mFIM DA VOTAÇÃO!!!\\033[m')\n",
    "print('*'*20) \n",
    "print(f'''\n",
    "    O candidato1 recebeu { candidato1} votos,\n",
    "    O candidato2 recebeu { candidato2} votos,\n",
    "    O candidato3 recebeu { candidato3} votos\n",
    "    ''')\n",
    "if candidato1 > candidato2 and candidato1 > candidato3:\n",
    "    print('O candidato1 foi o vencedor!!!')\n",
    "    \n",
    "elif candidato2 > candidato1 and candidato2 > candidato3:\n",
    "    print('O candidato2 foi o vencedor!!!')\n",
    "    \n",
    "elif candidato3 > candidato1 and candidato3 > candidato2:\n",
    "    print('O candidato3 foi o vencedor!!!')\n",
    "else:\n",
    "    print('houve empate!!')"
   ]
  },
  {
   "cell_type": "code",
   "execution_count": null,
   "id": "6d7917b0-f1d4-4f99-8afc-458689492d33",
   "metadata": {},
   "outputs": [],
   "source": [
    "votos_candidato_1 = 0\n",
    "votos_candidato_2 = 0\n",
    "votos_candidato_3 = 0\n",
    "eleitores = int(input(\"Digite o numero de eleitores: \"))\n",
    "for i in range(eleitores):\n",
    "    voto = input(\n",
    "        \"Digite o numero (1/2/3) do candidato em quem o \"\n",
    "        f\"eleitor {i + 1} quer votar: \"\n",
    "    )\n",
    "    if voto == \"1\":\n",
    "        votos_candidato_1 += 1\n",
    "    if voto == \"2\":\n",
    "        votos_candidato_2 += 1\n",
    "    if voto == \"3\":\n",
    "        votos_candidato_3 += 1\n",
    "\n",
    "print(\n",
    "    \"Votação encerrada\"\n",
    "    f\"\\nCandidato 1: {votos_candidato_1} voto(s)\"\n",
    "    f\"\\nCandidato 2: {votos_candidato_2} voto(s)\"\n",
    "    f\"\\nCandidato 3: {votos_candidato_3} voto(s)\"\n",
    ")"
   ]
  },
  {
   "cell_type": "code",
   "execution_count": 19,
   "id": "d37b9339-c34e-4486-890e-be8dcbff1208",
   "metadata": {},
   "outputs": [
    {
     "name": "stdin",
     "output_type": "stream",
     "text": [
      "Informe a quantidade de eleitores:  10\n"
     ]
    },
    {
     "name": "stdout",
     "output_type": "stream",
     "text": [
      "\n",
      "        Os candidatos são:\n",
      "            candidato1 = 1\n",
      "            candidato2 = 2\n",
      "            candidato3 = 3\n",
      "            \n"
     ]
    },
    {
     "name": "stdin",
     "output_type": "stream",
     "text": [
      "Informe o número do canditado escolhido:  3\n",
      "Informe o número do canditado escolhido:  3\n",
      "Informe o número do canditado escolhido:  3\n",
      "Informe o número do canditado escolhido:  3\n",
      "Informe o número do canditado escolhido:  3\n",
      "Informe o número do canditado escolhido:  1\n",
      "Informe o número do canditado escolhido:  1\n",
      "Informe o número do canditado escolhido:  1\n",
      "Informe o número do canditado escolhido:  1\n",
      "Informe o número do canditado escolhido:  2\n"
     ]
    },
    {
     "name": "stdout",
     "output_type": "stream",
     "text": [
      "********************\n",
      "\u001b[1;31mFIM DA VOTAÇÃO!!!\u001b[m\n",
      "********************\n",
      "O candidato2 foi o vencedor!!!\n"
     ]
    }
   ],
   "source": [
    "# como fraudar uma eleição\n",
    "candidato1 = 0\n",
    "candidato2 = 0\n",
    "candidato3 = 0\n",
    "eleitores = int(input('Informe a quantidade de eleitores: '))\n",
    "print('''\n",
    "        Os candidatos são:\n",
    "            candidato1 = 1\n",
    "            candidato2 = 2\n",
    "            candidato3 = 3\n",
    "            ''')\n",
    "for i in range(0,eleitores):\n",
    "    voto = int(input('Informe o número do canditado escolhido: '))\n",
    "    if voto == 1:\n",
    "        candidato1 += 1\n",
    "        candidato2 += 2\n",
    "    if voto == 2:\n",
    "        candidato2 += 1\n",
    "    if voto == 3:\n",
    "        candidato3 += 1\n",
    "print('*'*20)   \n",
    "print('\\033[1;31mFIM DA VOTAÇÃO!!!\\033[m')\n",
    "print('*'*20)\n",
    "print(f'foram contabilizados {eleitores} votos')\n",
    "#print(f'''\n",
    "#    O candidato1 recebeu { candidato1} votos,\n",
    "#    O candidato2 recebeu { candidato2} votos,\n",
    "#    O candidato3 recebeu { candidato3} votos\n",
    "#    ''')\n",
    "if candidato1 > candidato2 and candidato1 > candidato3:\n",
    "    print('O candidato1 foi o vencedor!!!')\n",
    "    \n",
    "elif candidato2 > candidato1 and candidato2 > candidato3:\n",
    "    print('O candidato2 foi o vencedor!!!')\n",
    "    \n",
    "elif candidato3 > candidato1 and candidato3 > candidato2:\n",
    "    print('O candidato3 foi o vencedor!!!')\n",
    "else:\n",
    "    print('houve empate!!')"
   ]
  },
  {
   "cell_type": "code",
   "execution_count": null,
   "id": "87da7eb3-eb75-4497-861d-32c8cfb79e38",
   "metadata": {},
   "outputs": [],
   "source": [
    "# 27 - Faça um programa que calcule o número médio de alunos por turma. Para isto, peça a quantidade de turmas e a quantidade \n",
    "# de alunos para cada turma. As turmas não podem ter mais de 40 alunos."
   ]
  },
  {
   "cell_type": "code",
   "execution_count": 32,
   "id": "6aecf44e-dc4e-461a-8c14-e63cfa52e6d2",
   "metadata": {},
   "outputs": [
    {
     "name": "stdin",
     "output_type": "stream",
     "text": [
      "Informe quantas turmas existem:  4\n"
     ]
    },
    {
     "name": "stdout",
     "output_type": "stream",
     "text": [
      "A quantidade não deve ser maior que 40 alunos  por turma\n"
     ]
    },
    {
     "name": "stdin",
     "output_type": "stream",
     "text": [
      "Informe a quantidade de alunos a 1º turma 23\n",
      "Informe a quantidade de alunos a 2º turma 40\n",
      "Informe a quantidade de alunos a 3º turma 34\n",
      "Informe a quantidade de alunos a 4º turma 21\n"
     ]
    },
    {
     "name": "stdout",
     "output_type": "stream",
     "text": [
      "A media de alunos por turma é 19.50 alunos\n"
     ]
    }
   ],
   "source": [
    "turmas = int(input('Informe quantas turmas existem: '))\n",
    "alunos = []\n",
    "print('A quantidade não deve ser maior que 40 alunos  por turma')\n",
    "for i in range(turmas):   \n",
    "    qtda_alunos = int(input(f'Informe a quantidade de alunos a {i+1}º turma'))\n",
    "    if qtda_alunos <= 40:\n",
    "        alunos.append(qtda_alunos)\n",
    "    while qtda_alunos > 40 :\n",
    "        print('A quantidade não deve ser maior que 40 alunos  por turma')\n",
    "        qtda_alunos = int(input(f'Informe a quantidade de alunos a {i+1}º turma'))\n",
    "      \n",
    "print(f'A media de alunos por turma é {sum(alunos)/turmas:.2f} alunos')\n",
    "\n",
    "    "
   ]
  },
  {
   "cell_type": "code",
   "execution_count": 42,
   "id": "38869ee8-6638-4a69-920f-34a3afff071f",
   "metadata": {},
   "outputs": [
    {
     "name": "stdin",
     "output_type": "stream",
     "text": [
      "Digite quantas turmas tem:  3\n",
      "Digite quantos alunos tem na turma 1:  21\n",
      "Digite quantos alunos tem na turma 2:  22\n",
      "Digite quantos alunos tem na turma 3:  45\n",
      "Digite quantos alunos tem na turma 3:  23\n"
     ]
    },
    {
     "name": "stdout",
     "output_type": "stream",
     "text": [
      "A media de alunos por turma é 22.0\n"
     ]
    }
   ],
   "source": [
    "turmas = int(input(\"Digite quantas turmas tem: \"))\n",
    "media = 0\n",
    "for i in range(turmas):\n",
    "    while True:\n",
    "        alunos = int(input(f\"Digite quantos alunos tem na turma {i + 1}: \"))\n",
    "        if alunos <= 40:\n",
    "            break\n",
    "    media = ((media * i) + alunos) / (i + 1)\n",
    "print(f\"A media de alunos por turma é {media}\")"
   ]
  },
  {
   "cell_type": "code",
   "execution_count": 36,
   "id": "450b3c7d-9463-4306-95cc-f79ff447bf4a",
   "metadata": {},
   "outputs": [],
   "source": [
    "# 28 - Faça um programa que calcule o valor total investido por um colecionador em sua coleção de CDs e o valor médio \n",
    "# gasto em cada um deles. O usuário deverá informar a quantidade de CDs e o valor para em cada um."
   ]
  },
  {
   "cell_type": "code",
   "execution_count": 2,
   "id": "a0d3b679-c589-4745-8ba6-62e1f8e5ab03",
   "metadata": {},
   "outputs": [
    {
     "name": "stdin",
     "output_type": "stream",
     "text": [
      "Informe quantos CDs tem na coleção:  5\n",
      "Informe o custo de cada CD 1: R$  1\n",
      "Informe o custo de cada CD 2: R$  2\n",
      "Informe o custo de cada CD 3: R$  3\n",
      "Informe o custo de cada CD 4: R$  4\n",
      "Informe o custo de cada CD 5: R$  5\n"
     ]
    },
    {
     "name": "stdout",
     "output_type": "stream",
     "text": [
      "O valor investido foi = R$15.0\n",
      "O valor médio = R$ 3.0\n"
     ]
    }
   ],
   "source": [
    "cd = int(input('Informe quantos CDs tem na coleção: '))\n",
    "valor = 0\n",
    "for i in range(cd):\n",
    "    valor += float(input(f'Informe o custo de cada CD {i+1}: R$ '))\n",
    "print(f'O valor investido foi = R${valor}')\n",
    "print(f'O valor médio = R$ {valor/cd}')"
   ]
  },
  {
   "cell_type": "code",
   "execution_count": 3,
   "id": "105f6a89-6b60-4535-9fc7-dcaa14e22f7b",
   "metadata": {},
   "outputs": [
    {
     "name": "stdin",
     "output_type": "stream",
     "text": [
      "Digite a quantidade de CDs:  5\n",
      "Digite o preço do CD 1:  1\n",
      "Digite o preço do CD 2:  2\n",
      "Digite o preço do CD 3:  3\n",
      "Digite o preço do CD 4:  4\n",
      "Digite o preço do CD 5:  5\n"
     ]
    },
    {
     "name": "stdout",
     "output_type": "stream",
     "text": [
      "Preço total: R$15.00\n",
      "Média de custo por CD: R$3.00\n"
     ]
    }
   ],
   "source": [
    "cds = int(input(\"Digite a quantidade de CDs: \"))\n",
    "preco = 0\n",
    "for i in range(cds):\n",
    "    preco += float(input(f\"Digite o preço do CD {i+1}: \"))\n",
    "print(f\"Preço total: R${preco:.2f}\\nMédia de custo por CD: R${preco/cds:.2f}\")"
   ]
  },
  {
   "cell_type": "code",
   "execution_count": null,
   "id": "cf83bfbb-ef12-4ed0-b61d-713676b58ee5",
   "metadata": {},
   "outputs": [],
   "source": [
    "# 29 - O Sr. Manoel Joaquim possui uma grande loja de artigos de R$ 1,99, com cerca de 10 caixas. Para agilizar o \n",
    "# cálculo de quanto cada cliente deve pagar ele desenvolveu uma tabela que contém o número de itens que o cliente \n",
    "# comprou e ao lado o valor da conta.Desta forma a atendente do caixa precisa apenas contar quantos itens o cliente \n",
    "# está levando e olhar na tabela de preços. Você foi contratado para desenvolver o programa que monta esta tabela de \n",
    "# preços, que conterá os preços de 1 até 50 produtos, conforme o exemplo abaixo:\n",
    "\n",
    "#    Lojas Quase Dois - Tabela de preços\n",
    "#    1 - R$ 1.99\n",
    "#    2 - R$ 3.98\n",
    "#    ...\n",
    "#    50 - R$ 99.50\n"
   ]
  },
  {
   "cell_type": "code",
   "execution_count": 4,
   "id": "320b74ac-e47e-4241-ab71-8da97ca22799",
   "metadata": {},
   "outputs": [
    {
     "name": "stdout",
     "output_type": "stream",
     "text": [
      "Lojas Quase Dois - Tabela de preços\n",
      " 1 - R$  1.99\n",
      " 2 - R$  3.98\n",
      " 3 - R$  5.97\n",
      " 4 - R$  7.96\n",
      " 5 - R$  9.95\n",
      " 6 - R$ 11.94\n",
      " 7 - R$ 13.93\n",
      " 8 - R$ 15.92\n",
      " 9 - R$ 17.91\n"
     ]
    }
   ],
   "source": [
    "print(\"Lojas Quase Dois - Tabela de preços\")\n",
    "for i in range(1, 10):\n",
    "    print(f\"{i:2d} - R$ {1.99*i:5.2f}\")"
   ]
  },
  {
   "cell_type": "code",
   "execution_count": 8,
   "id": "0eb7a672-0a53-46f5-bc73-6bddddefa196",
   "metadata": {},
   "outputs": [
    {
     "name": "stdout",
     "output_type": "stream",
     "text": [
      "Lojas Quase Dois - TABELA DE PREÇOS\n",
      "1 = R$ 1.99\n",
      "2 = R$ 3.98\n",
      "3 = R$ 5.97\n",
      "4 = R$ 7.96\n",
      "Fim da Tabela!!\n"
     ]
    }
   ],
   "source": [
    "print('Lojas Quase Dois - TABELA DE PREÇOS')\n",
    "preco = 0\n",
    "for i in range(1,51):\n",
    "    preco += 1.99\n",
    "    print(f'{i} = R$ {preco:.2f}')\n",
    "print('Fim da Tabela!!')\n",
    "    "
   ]
  },
  {
   "cell_type": "code",
   "execution_count": 9,
   "id": "5f5cb92b-399a-4a05-aab0-11947208da24",
   "metadata": {},
   "outputs": [],
   "source": [
    "# 30 - O Sr. Manoel Joaquim acaba de adquirir uma panificadora e pretende implantar a metodologia da tabelinha, que já é um \n",
    "# sucesso na sua loja de 1,99. Você foi contratado para desenvolver o programa que monta a tabela de preços de pães, de \n",
    "# 1 até 50 pães, a partir do preço do pão informado pelo usuário, conforme o exemplo abaixo:\n",
    "#     Preço do pão: R$ 0.18\n",
    "#     Panificadora Pão de Ontem - Tabela de preços\n",
    "#     1 - R$ 0.18\n",
    "#     2 - R$ 0.36\n",
    "#     ...\n",
    "#     50 - R$ 9.00"
   ]
  },
  {
   "cell_type": "code",
   "execution_count": 15,
   "id": "f46ed6d4-f375-42e7-82b7-9afeee8468a6",
   "metadata": {},
   "outputs": [
    {
     "name": "stdout",
     "output_type": "stream",
     "text": [
      "Panificadora Pão de Ontem - TABELA DE PREÇOS\n"
     ]
    },
    {
     "name": "stdin",
     "output_type": "stream",
     "text": [
      "Preço do pão:  1.0\n"
     ]
    },
    {
     "name": "stdout",
     "output_type": "stream",
     "text": [
      "1 = R$ 1.00\n",
      "2 = R$ 2.00\n",
      "3 = R$ 3.00\n",
      "4 = R$ 4.00\n",
      "Fim da Tabela!!\n"
     ]
    }
   ],
   "source": [
    "print('Panificadora Pão de Ontem - TABELA DE PREÇOS')\n",
    "precos = 0\n",
    "preco = float(input(\"Preço do pão: \"))\n",
    "for i in range(1,51):\n",
    "    precos += preco\n",
    "    print(f'{i} = R$ {precos:.2f}')\n",
    "print('Fim da Tabela!!')"
   ]
  },
  {
   "cell_type": "code",
   "execution_count": 20,
   "id": "b1f457a2-95d3-4e74-917a-26cd053c441a",
   "metadata": {},
   "outputs": [
    {
     "name": "stdin",
     "output_type": "stream",
     "text": [
      "Preço do pão:  1.\n"
     ]
    },
    {
     "name": "stdout",
     "output_type": "stream",
     "text": [
      "Panificadora Pão de Ontem - Tabela de preços\n",
      " 1 - R$  1.00\n",
      " 2 - R$  2.00\n",
      " 3 - R$  3.00\n",
      " 4 - R$  4.00\n"
     ]
    }
   ],
   "source": [
    "preco = float(input(\"Preço do pão: \"))\n",
    "print(\"Panificadora Pão de Ontem - Tabela de preços\")\n",
    "for i in range(1, 51):\n",
    "    print(f\"{i:2d} - R$ {preco*i:5.2f}\")"
   ]
  },
  {
   "cell_type": "code",
   "execution_count": null,
   "id": "1835bb6e-ed2b-49bb-baf9-7ee99fcacb7f",
   "metadata": {},
   "outputs": [],
   "source": [
    "# 31 - O Sr. Manoel Joaquim expandiu seus negócios para além dos negócios de 1,99 e agora possui uma loja de conveniências.\n",
    "# Faça um programa que implemente uma caixa registradora rudimentar.O programa deverá receber um número desconhecido de valores\n",
    "# referentes aos preços das mercadorias. Um valor zero deve ser informado pelo operador para indicar o final da compra.\n",
    "# O programa deve então mostrar o total da compra e perguntar o valor em dinheiro que o cliente forneceu, para então calcular e\n",
    "# mostrar o valor do troco.Após esta operação, o programa deverá voltar ao ponto inicial, para registrar a próxima compra.\n",
    "# A saída deve ser conforme o exemplo abaixo: \n",
    "#    Lojas Tabajara \n",
    "#    Produto 1: R$ 2.20 \n",
    "#    Produto 2: R$ 5.80 \n",
    "#    Produto 3: R$ 0 \n",
    "#    Total: R$ 9.00 \n",
    "#    Dinheiro: R$ 20.00 \n",
    "#    Troco: R$ 11.00"
   ]
  },
  {
   "cell_type": "code",
   "execution_count": 17,
   "id": "cdc127dd-0634-4b78-9adb-ec8d384adeb3",
   "metadata": {},
   "outputs": [
    {
     "name": "stdin",
     "output_type": "stream",
     "text": [
      "Informe o preço da mercadoria :  30\n",
      "Informe a mercadoria:  tenis\n",
      "Informe o preço da mercadoria :  20\n",
      "Informe a mercadoria:  chinelo\n",
      "Informe o preço da mercadoria :  5.\n",
      "Informe a mercadoria:  balas\n",
      "Informe o preço da mercadoria :  10\n",
      "Informe a mercadoria:  pães\n",
      "Informe o preço da mercadoria :  0\n",
      "Deseja pagar em dinheiro ou cartão escolha (D/C):  d\n",
      "Informe o valor das cedulas:  100\n"
     ]
    },
    {
     "name": "stdout",
     "output_type": "stream",
     "text": [
      "\n",
      "        Lojas Tabajaras:\n",
      "        As compras foram:\n",
      "{'mercadoria': 'tenis', 'preco': 30.0}\n",
      "{'mercadoria': 'chinelo', 'preco': 20.0}\n",
      "{'mercadoria': 'balas', 'preco': 5.0}\n",
      "{'mercadoria': 'pães', 'preco': 10.0}\n",
      "\n",
      "    Total = 65.00\n",
      "    Dinheiro = 100.0\n",
      "    Troco = {35.0}\n"
     ]
    }
   ],
   "source": [
    "montante = []\n",
    "compras = {}\n",
    "tot_compras = list()\n",
    "\n",
    "while True:\n",
    "    preco = float(input('Informe o preço da mercadoria : '))\n",
    "    if preco == 0:\n",
    "        total = sum(montante) \n",
    "        pgto = input('Deseja pagar em dinheiro ou cartão escolha (D/C): ').upper()\n",
    "        if pgto == 'D':\n",
    "            valor = float(input('Informe o valor das cedulas: '))\n",
    "            troco = {valor - total}\n",
    "            break\n",
    "        elif pgto == 'C':\n",
    "            valor = 0\n",
    "            troco = 0\n",
    "            break\n",
    "    else:\n",
    "        compras['mercadoria']= input('Informe a mercadoria: ')  \n",
    "        compras['preco'] = preco\n",
    "        tot_compras.append(compras.copy())\n",
    "        montante.append(preco)\n",
    "print(f'''\n",
    "        Lojas Tabajaras:\n",
    "        As compras foram:''')\n",
    "for e in tot_compras:\n",
    "    print(e)\n",
    "print(f'''\n",
    "    Total = {total:.2f}\n",
    "    Dinheiro = {valor}\n",
    "    Troco = {troco}''')\n"
   ]
  },
  {
   "cell_type": "code",
   "execution_count": 15,
   "id": "b2558fe6-08cd-4eca-8d01-b9aa4525ed8b",
   "metadata": {},
   "outputs": [
    {
     "name": "stdout",
     "output_type": "stream",
     "text": [
      "Lojas Tabajara\n"
     ]
    },
    {
     "name": "stdin",
     "output_type": "stream",
     "text": [
      "Produto 1: R$  9\n",
      "Produto 2: R$  0\n"
     ]
    },
    {
     "name": "stdout",
     "output_type": "stream",
     "text": [
      "Total: R$ 9.00\n"
     ]
    },
    {
     "name": "stdin",
     "output_type": "stream",
     "text": [
      "Dinheiro: R$  10\n"
     ]
    },
    {
     "name": "stdout",
     "output_type": "stream",
     "text": [
      "Troco: 1.00\n"
     ]
    }
   ],
   "source": [
    "print(\"Lojas Tabajara\")\n",
    "total = 0\n",
    "produto = 0\n",
    "valor = 0\n",
    "\n",
    "while True:\n",
    "    produto += 1\n",
    "    valor = float(input(f\"Produto {produto}: R$ \"))\n",
    "    if valor == 0:\n",
    "        break\n",
    "    total += valor\n",
    "\n",
    "print(f\"Total: R$ {total:.2f}\")\n",
    "dinheiro = float(input(\"Dinheiro: R$ \"))\n",
    "print(f\"Troco: {dinheiro - total:.2f}\")"
   ]
  },
  {
   "cell_type": "code",
   "execution_count": 13,
   "id": "b09ecdc9-283e-4df0-ab22-487fdc86dc10",
   "metadata": {},
   "outputs": [
    {
     "name": "stdin",
     "output_type": "stream",
     "text": [
      "Informe o preço da mercadoria :  5.\n",
      "Informe a mercadoria:  meia\n",
      "Informe o preço da mercadoria :  15\n",
      "Informe a mercadoria:  lanche\n",
      "Informe o preço da mercadoria :  0\n",
      "Deseja pagar em dinheiro ou cartão escolha (D/C):  d\n",
      "Informe o valor das cedulas:R$  50\n"
     ]
    },
    {
     "name": "stdout",
     "output_type": "stream",
     "text": [
      "\n",
      "        Lojas Tabajaras:\n",
      "        As compras foram:\n"
     ]
    },
    {
     "ename": "TypeError",
     "evalue": "unsupported format string passed to set.__format__",
     "output_type": "error",
     "traceback": [
      "\u001b[1;31m---------------------------------------------------------------------------\u001b[0m",
      "\u001b[1;31mTypeError\u001b[0m                                 Traceback (most recent call last)",
      "\u001b[1;32m<ipython-input-13-1970defb5504>\u001b[0m in \u001b[0;36m<module>\u001b[1;34m\u001b[0m\n\u001b[0;32m     29\u001b[0m         \u001b[0mLojas\u001b[0m \u001b[0mTabajaras\u001b[0m\u001b[1;33m:\u001b[0m\u001b[1;33m\u001b[0m\u001b[1;33m\u001b[0m\u001b[0m\n\u001b[0;32m     30\u001b[0m         As compras foram:''')\n\u001b[1;32m---> 31\u001b[1;33m print(f'''\n\u001b[0m\u001b[0;32m     32\u001b[0m         \u001b[1;33m{\u001b[0m\u001b[0mtexto\u001b[0m\u001b[1;33m}\u001b[0m\u001b[1;33m\u001b[0m\u001b[1;33m\u001b[0m\u001b[0m\n\u001b[0;32m     33\u001b[0m         \u001b[0mTotal\u001b[0m \u001b[1;33m=\u001b[0m \u001b[1;33m{\u001b[0m\u001b[0mtotal\u001b[0m\u001b[1;33m:\u001b[0m\u001b[1;36m.2\u001b[0m\u001b[0mf\u001b[0m\u001b[1;33m}\u001b[0m\u001b[1;33m\u001b[0m\u001b[1;33m\u001b[0m\u001b[0m\n",
      "\u001b[1;31mTypeError\u001b[0m: unsupported format string passed to set.__format__"
     ]
    }
   ],
   "source": [
    "montante = []\n",
    "compras = {}\n",
    "tot_compras = list()\n",
    "texto = \"\"\n",
    "\n",
    "while True:\n",
    "    preco = float(input('Informe o preço da mercadoria : '))\n",
    "    if preco == 0:\n",
    "        total = sum(montante) \n",
    "        pgto = input('Deseja pagar em dinheiro ou cartão escolha (D/C): ').upper()\n",
    "        if pgto == 'D':\n",
    "            valor = float(input('Informe o valor das cedulas:R$ '))\n",
    "            troco = {valor - total}\n",
    "            break\n",
    "        elif pgto == 'C':\n",
    "            valor = 0\n",
    "            troco = 0\n",
    "            break\n",
    "    else:\n",
    "        compras['mercadoria']= input('Informe a mercadoria: ')  \n",
    "        compras['preco'] = preco\n",
    "        tot_compras.append(compras.copy())\n",
    "        montante.append(preco)\n",
    "        \n",
    "for compra in tot_compras:\n",
    "    texto += f'{compra[\"mercadoria\"]}: R$ {compra[\"preco\"]} \\n'\n",
    "\n",
    "print(f'''\n",
    "        Lojas Tabajaras:\n",
    "        As compras foram:''')\n",
    "print(f'''\n",
    "        {texto}\n",
    "        Total = {total:.2f}\n",
    "        Dinheiro = {valor}\n",
    "        Troco = {troco:.2f}''')\n",
    "\n",
    "\n"
   ]
  },
  {
   "cell_type": "code",
   "execution_count": null,
   "id": "8240a35f-ceef-46ce-8472-a46b65c973b2",
   "metadata": {},
   "outputs": [],
   "source": [
    "# 32 - Faça um programa que calcule o fatorial de um número inteiro fornecido pelo usuáruo . Ex: 5! = 5.4.3.2.1 = 120. A saída\n",
    "# deve ser conforme o ex. 5! = 5.4.3.2.1 = 120"
   ]
  },
  {
   "cell_type": "code",
   "execution_count": 23,
   "id": "47a2c9ad-f34f-4ec2-b1df-75fa3dc2f65b",
   "metadata": {},
   "outputs": [
    {
     "name": "stdin",
     "output_type": "stream",
     "text": [
      "Informe o número inteiro para obter o fatorial:  5\n"
     ]
    },
    {
     "name": "stdout",
     "output_type": "stream",
     "text": [
      "Calculand 5! = 5 . 4 . 3 . 2 . 1 = 120\n"
     ]
    }
   ],
   "source": [
    "num = int(input('Informe o número inteiro para obter o fatorial: ')) \n",
    "c = num\n",
    "fat=1\n",
    "print(f'Calculand {num}! = ', end=\"\")\n",
    "while c > 0:\n",
    "    print(f'{c}',end=\" \")\n",
    "    print('.' if c > 1 else '=',end=\" \")\n",
    "    fat = fat*c\n",
    "    c -= 1\n",
    "print(f'{fat}')"
   ]
  },
  {
   "cell_type": "code",
   "execution_count": null,
   "id": "c8c5b171-0f0b-4b69-96e7-5feca841c401",
   "metadata": {},
   "outputs": [],
   "source": [
    "# 33 - O Departamento Estadual de Meteorologia lhe contratou para desenvolver um programa que leia um conjunto \n",
    "# indeterminado de temperaturas, e informe ao final a menor e a maior temperaturas informadas, bem como a média das\n",
    "# temperaturas."
   ]
  },
  {
   "cell_type": "code",
   "execution_count": 28,
   "id": "b8f3f25b-f0ca-459a-b23c-ebd4ab40e47c",
   "metadata": {},
   "outputs": [
    {
     "name": "stdin",
     "output_type": "stream",
     "text": [
      "Informe a temperatura:  12.8\n",
      "Continua S para sim N para não:  s\n",
      "Informe a temperatura:  27.2\n",
      "Continua S para sim N para não:  s\n",
      "Informe a temperatura:  30.2\n",
      "Continua S para sim N para não:  s\n",
      "Informe a temperatura:  13.4\n",
      "Continua S para sim N para não:  s\n",
      "Informe a temperatura:  28.4\n",
      "Continua S para sim N para não:  n\n"
     ]
    },
    {
     "name": "stdout",
     "output_type": "stream",
     "text": [
      "A maior temperatura foi = 30.2graus e a menor temperatura = 12.8graus a média das temperarura = 22.4graus\n"
     ]
    }
   ],
   "source": [
    "continuar = 'S'\n",
    "maior = 0\n",
    "menor = 0\n",
    "media =0\n",
    "contador = 0\n",
    "while continuar == 'S':\n",
    "    temp = float(input('Informe a temperatura: '))\n",
    "    if maior == 0 and menor == 0:\n",
    "        maior = temp\n",
    "        menor = temp\n",
    "    if temp > maior:\n",
    "        maior = temp\n",
    "    if temp < menor:\n",
    "        menor = temp\n",
    "    contador += 1\n",
    "    media += temp\n",
    "    continuar = input('Continua S para sim N para não: ').upper().strip()\n",
    "print(f'A maior temperatura foi = {maior} graus e a menor temperatura = {menor} graus a média das temperarura = {media/contador} graus')\n",
    "        \n",
    "    "
   ]
  },
  {
   "cell_type": "code",
   "execution_count": 29,
   "id": "70fac1b9-6423-41e9-ace8-a96d69008132",
   "metadata": {},
   "outputs": [
    {
     "name": "stdin",
     "output_type": "stream",
     "text": [
      "Digite a temperatura em Kelvin. Negativa para parar:  89\n",
      "Digite a temperatura em Kelvin. Negativa para parar:  54\n",
      "Digite a temperatura em Kelvin. Negativa para parar:  23\n",
      "Digite a temperatura em Kelvin. Negativa para parar:  43\n",
      "Digite a temperatura em Kelvin. Negativa para parar:  0\n",
      "Digite a temperatura em Kelvin. Negativa para parar:  -1\n"
     ]
    },
    {
     "name": "stdout",
     "output_type": "stream",
     "text": [
      "A menor temperatura foi 0.0K\n",
      "A maior temperatura foi 89.0K\n",
      "A média das temperaturas foi 41.800K\n"
     ]
    }
   ],
   "source": [
    "from math import inf\n",
    "\n",
    "maior = -inf\n",
    "menor = inf\n",
    "soma = 0\n",
    "contador = 0\n",
    "while True:\n",
    "    temperatura = float(\n",
    "        input(\"Digite a temperatura em Kelvin. Negativa para parar: \")\n",
    "    )\n",
    "    if temperatura < 0:\n",
    "        break\n",
    "\n",
    "    contador += 1\n",
    "    soma += temperatura\n",
    "    if temperatura < menor:\n",
    "        menor = temperatura\n",
    "    if temperatura > maior:\n",
    "        maior = temperatura\n",
    "\n",
    "print(f\"A menor temperatura foi {menor}K\")\n",
    "print(f\"A maior temperatura foi {maior}K\")\n",
    "print(f\"A média das temperaturas foi {soma / contador:.3f}K\")"
   ]
  },
  {
   "cell_type": "code",
   "execution_count": null,
   "id": "6bc6af8e-de9e-4234-aded-b0d848f59f04",
   "metadata": {},
   "outputs": [],
   "source": []
  }
 ],
 "metadata": {
  "kernelspec": {
   "display_name": "Python 3",
   "language": "python",
   "name": "python3"
  },
  "language_info": {
   "codemirror_mode": {
    "name": "ipython",
    "version": 3
   },
   "file_extension": ".py",
   "mimetype": "text/x-python",
   "name": "python",
   "nbconvert_exporter": "python",
   "pygments_lexer": "ipython3",
   "version": "3.8.8"
  }
 },
 "nbformat": 4,
 "nbformat_minor": 5
}
