{
 "cells": [
  {
   "cell_type": "code",
   "execution_count": 1,
   "id": "b98f1d8f-db8a-49ff-b695-53f44d636e8f",
   "metadata": {},
   "outputs": [],
   "source": [
    "# 1 - faça um programa que peça uma nota, entre zero e dez. Mostre uma mensagem caso o valor seja invá\n",
    "# lido e continue pedindo até que o usuário informe um vaçor válido."
   ]
  },
  {
   "cell_type": "code",
   "execution_count": 4,
   "id": "d8af57f4-aa2d-4df6-95cb-3d5972a59b62",
   "metadata": {},
   "outputs": [
    {
     "name": "stdout",
     "output_type": "stream",
     "text": [
      " Informe uma nota de zero a dez, somente números\n"
     ]
    },
    {
     "name": "stdin",
     "output_type": "stream",
     "text": [
      " Digite o número:  23\n"
     ]
    },
    {
     "name": "stdout",
     "output_type": "stream",
     "text": [
      "*********************************************\n",
      "Inválido, por favor somente números entre zero e dez\n"
     ]
    },
    {
     "name": "stdin",
     "output_type": "stream",
     "text": [
      " Digite o número:  21\n"
     ]
    },
    {
     "name": "stdout",
     "output_type": "stream",
     "text": [
      "*********************************************\n",
      "Inválido, por favor somente números entre zero e dez\n"
     ]
    },
    {
     "name": "stdin",
     "output_type": "stream",
     "text": [
      " Digite o número:  2\n"
     ]
    },
    {
     "name": "stdout",
     "output_type": "stream",
     "text": [
      "*********************************************\n",
      "Opção válida o número digitado foi 2\n"
     ]
    }
   ],
   "source": [
    "print(' Informe uma nota de zero a dez, somente números')\n",
    "num = int(input(' Digite o número: '))\n",
    "print('*'*45)\n",
    "while num not in (0,1,2,3,4,5,6,7,8,9,10):\n",
    "    print('Inválido!!, por favor somente números entre zero e dez')\n",
    "    num = int(input(' Digite o número: '))\n",
    "    print('*'*45)\n",
    "print(f'Opção válida o número digitado foi {num}')"
   ]
  },
  {
   "cell_type": "code",
   "execution_count": null,
   "id": "69b8e20b-99b9-4cbc-8cc4-4d9911abad91",
   "metadata": {},
   "outputs": [],
   "source": [
    "# 2 - faça um programa que leia um nome de usuário e a sua senha e não aceite a senha igual ao nome do usuário, mostran-\n",
    "# do uma mensagem de erro e voltando a pedir as informações."
   ]
  },
  {
   "cell_type": "code",
   "execution_count": 11,
   "id": "5e18f3cf-6f6f-4fb8-944d-434b97bff92d",
   "metadata": {},
   "outputs": [
    {
     "name": "stdout",
     "output_type": "stream",
     "text": [
      "Informe seu nome e senha\n"
     ]
    },
    {
     "name": "stdin",
     "output_type": "stream",
     "text": [
      "Informe seu Nome:  ricARDO\n",
      "Informe a senha:  RICardo\n"
     ]
    },
    {
     "name": "stdout",
     "output_type": "stream",
     "text": [
      "Senha inválida tente outra\n"
     ]
    },
    {
     "name": "stdin",
     "output_type": "stream",
     "text": [
      "Informe seu Nome:  ricarDO\n",
      "Informe a senha:  RIcardo\n"
     ]
    },
    {
     "name": "stdout",
     "output_type": "stream",
     "text": [
      "Senha inválida tente outra\n"
     ]
    },
    {
     "name": "stdin",
     "output_type": "stream",
     "text": [
      "Informe seu Nome:  ricardo\n",
      "Informe a senha:  RICARDO\n"
     ]
    },
    {
     "name": "stdout",
     "output_type": "stream",
     "text": [
      "Senha inválida tente outra\n"
     ]
    },
    {
     "name": "stdin",
     "output_type": "stream",
     "text": [
      "Informe seu Nome:  Ricardo\n",
      "Informe a senha:  12Ricardo\n"
     ]
    },
    {
     "name": "stdout",
     "output_type": "stream",
     "text": [
      "Seu Nome é RICARDO e sua senha é 12RICARDO\n"
     ]
    }
   ],
   "source": [
    "print('Informe seu nome e senha')\n",
    "nome = input('Informe seu Nome: ').upper().strip()\n",
    "senha = input('Informe a senha: ').upper().strip()\n",
    "\n",
    "while senha == nome :\n",
    "    print('Senha inválida tente outra')\n",
    "    nome = input('Informe seu Nome: ').upper().strip()\n",
    "    senha = input('Informe a senha: ').upper().strip()\n",
    "    \n",
    "print(f'Seu Nome é {nome} e sua senha é {senha}')"
   ]
  },
  {
   "cell_type": "code",
   "execution_count": null,
   "id": "a800d747-5f5a-47bb-a5aa-33b1e414d680",
   "metadata": {
    "tags": []
   },
   "outputs": [],
   "source": [
    "# 3 - Faça um programa que leia e valide as seguintes informações:\n",
    "#   1. Nome: maior que 3 caracteres;\n",
    "#   2. Idade : entre 0 e 150;\n",
    "#   3. Salário : maior que zero;\n",
    "#   4. Sexo :'f' ou 'm'\n",
    "#   5. Estado Civil : 's','c','v','d';"
   ]
  }
 ],
 "metadata": {
  "kernelspec": {
   "display_name": "Python 3",
   "language": "python",
   "name": "python3"
  },
  "language_info": {
   "codemirror_mode": {
    "name": "ipython",
    "version": 3
   },
   "file_extension": ".py",
   "mimetype": "text/x-python",
   "name": "python",
   "nbconvert_exporter": "python",
   "pygments_lexer": "ipython3",
   "version": "3.8.8"
  }
 },
 "nbformat": 4,
 "nbformat_minor": 5
}
