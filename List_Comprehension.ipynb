{
 "cells": [
  {
   "cell_type": "code",
   "execution_count": 1,
   "id": "66531646-34db-4e2e-85aa-9c2aab84c6bc",
   "metadata": {},
   "outputs": [],
   "source": [
    "# aprendendo na usar list comprehen"
   ]
  },
  {
   "cell_type": "code",
   "execution_count": 4,
   "id": "7b7ae065-e10a-4fc6-958c-a80affcf6ccc",
   "metadata": {},
   "outputs": [
    {
     "name": "stdout",
     "output_type": "stream",
     "text": [
      "[0, 1, 2, 3, 4, 5, 6, 7, 8, 9]\n"
     ]
    }
   ],
   "source": [
    "x = list(range(0,10))\n",
    "print(x)"
   ]
  },
  {
   "cell_type": "code",
   "execution_count": 3,
   "id": "25ccff66-33ce-4a7f-8f36-345304e04131",
   "metadata": {},
   "outputs": [],
   "source": [
    "# vamos fazer uma iteração de números mas buscando somente os pares}"
   ]
  },
  {
   "cell_type": "code",
   "execution_count": 5,
   "id": "d1a1923f-e42c-47f7-968b-6e68daccf856",
   "metadata": {},
   "outputs": [
    {
     "name": "stdout",
     "output_type": "stream",
     "text": [
      "[0, 2, 4, 6, 8, 10, 12, 14, 16, 18, 20, 22, 24, 26, 28, 30, 32, 34, 36, 38, 40, 42, 44, 46, 48, 50, 52, 54, 56, 58, 60, 62, 64, 66, 68, 70, 72, 74, 76, 78, 80, 82, 84, 86, 88, 90, 92, 94, 96, 98, 100]\n"
     ]
    }
   ],
   "source": [
    "x = [i for i in range(0,101) if i % 2 == 0]\n",
    "print(x)"
   ]
  },
  {
   "cell_type": "code",
   "execution_count": 6,
   "id": "363e16fb-79fe-4c38-b43e-1e30f8dd699f",
   "metadata": {},
   "outputs": [
    {
     "name": "stdout",
     "output_type": "stream",
     "text": [
      "[0, 3, 6, 9, 12, 15, 18, 21, 24, 27, 30, 33, 36, 39, 42, 45, 48, 51, 54, 57, 60, 63, 66, 69, 72, 75, 78, 81, 84, 87, 90, 93, 96, 99]\n"
     ]
    }
   ],
   "source": [
    "x = [i for i in range(0,101) if i % 3 == 0]\n",
    "print(x)"
   ]
  },
  {
   "cell_type": "code",
   "execution_count": 7,
   "id": "6d980ca7-a8c5-47ae-bbac-a02e0492fcad",
   "metadata": {},
   "outputs": [
    {
     "name": "stdout",
     "output_type": "stream",
     "text": [
      "['Moacir', 'Ramom']\n"
     ]
    }
   ],
   "source": [
    "# tendo uma lista com vário nomes e criando uma somente com os nomes desejados\n",
    "nomes = ['Caio','Marcos','Joao','Paulo','Moacir','Ramom','Ricardo']\n",
    "nomes_novo = [i for i in nomes if i == 'Moacir' or i == 'Ramom']\n",
    "print(nomes_novo)"
   ]
  },
  {
   "cell_type": "code",
   "execution_count": 8,
   "id": "eb6fc3f1-a2ce-4cef-a0b3-dd724536e61e",
   "metadata": {},
   "outputs": [
    {
     "name": "stdout",
     "output_type": "stream",
     "text": [
      "['Caio', 'Marcos', 'Joao', 'Paulo', 'Moacir', 'Ramom', 'Ricardo']\n"
     ]
    }
   ],
   "source": [
    "nomes = ['Caio','Marcos','Joao','Paulo','Moacir','Ramom','Ricardo']\n",
    "nomes_novo = [i for i in nomes]\n",
    "print(nomes_novo)"
   ]
  },
  {
   "cell_type": "code",
   "execution_count": 10,
   "id": "7e1470e0-08b9-4680-ba20-63fba7d241e0",
   "metadata": {},
   "outputs": [
    {
     "name": "stdout",
     "output_type": "stream",
     "text": [
      "[2, 4, 6, 8, 10, 12, 14, 16, 18, 20]\n"
     ]
    }
   ],
   "source": [
    "# lista de números e multiplica-los por 2\n",
    "numeros = range(1,11)\n",
    "numeros_novos = [i *2 for i in numeros]\n",
    "print(numeros_novos)"
   ]
  },
  {
   "cell_type": "code",
   "execution_count": 11,
   "id": "bdd9bc83-2c9c-49ad-9f27-f56df8daa70c",
   "metadata": {},
   "outputs": [
    {
     "name": "stdout",
     "output_type": "stream",
     "text": [
      "{'Caio': 0, 'Marcos': 1, 'Joao': 2, 'Paulo': 3, 'Moacir': 4, 'Ramom': 5, 'Ricardo': 6}\n"
     ]
    }
   ],
   "source": [
    "# criando o dicionário em list comprehension\n",
    "nomes = ['Caio','Marcos','Joao','Paulo','Moacir','Ramom','Ricardo']\n",
    "n_novos = {k:i for i, k in enumerate(nomes) }\n",
    "print(n_novos)"
   ]
  },
  {
   "cell_type": "code",
   "execution_count": 12,
   "id": "d5203859-4e1c-4f07-a5e6-aca19d9c00b5",
   "metadata": {},
   "outputs": [
    {
     "name": "stdout",
     "output_type": "stream",
     "text": [
      "{'Paulo': 3, 'Moacir': 4, 'Ramom': 5, 'Ricardo': 6}\n"
     ]
    }
   ],
   "source": [
    "# Criando um dicionário igual\n",
    "dicionario = {'Caio': 0, 'Marcos': 1, 'Joao': 2, 'Paulo': 3, 'Moacir': 4, 'Ramom': 5, 'Ricardo': 6}\n",
    "n_dicionario = {k:i for k, i in dicionario.items()if i>2}\n",
    "print(n_dicionario)"
   ]
  },
  {
   "cell_type": "code",
   "execution_count": null,
   "id": "79bf0093-25da-4d06-9d90-82845f541c78",
   "metadata": {},
   "outputs": [],
   "source": []
  }
 ],
 "metadata": {
  "kernelspec": {
   "display_name": "Python 3",
   "language": "python",
   "name": "python3"
  },
  "language_info": {
   "codemirror_mode": {
    "name": "ipython",
    "version": 3
   },
   "file_extension": ".py",
   "mimetype": "text/x-python",
   "name": "python",
   "nbconvert_exporter": "python",
   "pygments_lexer": "ipython3",
   "version": "3.8.8"
  }
 },
 "nbformat": 4,
 "nbformat_minor": 5
}
