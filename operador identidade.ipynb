{
 "cells": [
  {
   "cell_type": "code",
   "execution_count": 1,
   "id": "a803480a-c044-49e0-b6d7-1d97b27b877d",
   "metadata": {},
   "outputs": [],
   "source": [
    "#entendendo os operadores identidad"
   ]
  },
  {
   "cell_type": "code",
   "execution_count": 9,
   "id": "b96dba05-7505-4987-b306-e4a735e2d5eb",
   "metadata": {},
   "outputs": [],
   "source": [
    "a = 'a,b,c'\n",
    "b = 'd, e, f'\n",
    "c = 'a,b,c'"
   ]
  },
  {
   "cell_type": "code",
   "execution_count": 17,
   "id": "33934049-5d92-41bd-8269-8779608de1eb",
   "metadata": {},
   "outputs": [
    {
     "data": {
      "text/plain": [
       "True"
      ]
     },
     "execution_count": 17,
     "metadata": {},
     "output_type": "execute_result"
    }
   ],
   "source": [
    "a in c"
   ]
  },
  {
   "cell_type": "code",
   "execution_count": 11,
   "id": "34321d03-a249-4640-94a1-3ee4d2db6b89",
   "metadata": {},
   "outputs": [
    {
     "data": {
      "text/plain": [
       "True"
      ]
     },
     "execution_count": 11,
     "metadata": {},
     "output_type": "execute_result"
    }
   ],
   "source": [
    "'a' in c"
   ]
  },
  {
   "cell_type": "code",
   "execution_count": 12,
   "id": "5f748834-c1ce-4c7f-a9a3-33812d65fac0",
   "metadata": {},
   "outputs": [
    {
     "data": {
      "text/plain": [
       "False"
      ]
     },
     "execution_count": 12,
     "metadata": {},
     "output_type": "execute_result"
    }
   ],
   "source": [
    "'a' in b"
   ]
  },
  {
   "cell_type": "code",
   "execution_count": 22,
   "id": "cf83469a-0da6-4cd4-be4d-5fdc3ab445ae",
   "metadata": {},
   "outputs": [
    {
     "data": {
      "text/plain": [
       "True"
      ]
     },
     "execution_count": 22,
     "metadata": {},
     "output_type": "execute_result"
    }
   ],
   "source": [
    "a is not b"
   ]
  },
  {
   "cell_type": "code",
   "execution_count": 23,
   "id": "7e81b77c-af82-45eb-ac58-75360fe1487c",
   "metadata": {},
   "outputs": [
    {
     "data": {
      "text/plain": [
       "False"
      ]
     },
     "execution_count": 23,
     "metadata": {},
     "output_type": "execute_result"
    }
   ],
   "source": [
    "'a' in {1:'a',2:'b',3:'c'}"
   ]
  },
  {
   "cell_type": "code",
   "execution_count": 24,
   "id": "95bc387a-9a72-4b82-9e46-4f14f60618d9",
   "metadata": {},
   "outputs": [
    {
     "data": {
      "text/plain": [
       "False"
      ]
     },
     "execution_count": 24,
     "metadata": {},
     "output_type": "execute_result"
    }
   ],
   "source": [
    "'a' in {1:'a',2:'b',3:'c'}.keys()"
   ]
  },
  {
   "cell_type": "code",
   "execution_count": 25,
   "id": "1abf6ac7-863a-492b-af35-67ea1ac5ee67",
   "metadata": {},
   "outputs": [
    {
     "data": {
      "text/plain": [
       "True"
      ]
     },
     "execution_count": 25,
     "metadata": {},
     "output_type": "execute_result"
    }
   ],
   "source": [
    "'a' in {1:'a',2:'b',3:'c'}.values()"
   ]
  },
  {
   "cell_type": "code",
   "execution_count": 26,
   "id": "93b24eb9-197f-454b-bba4-f988fae402c5",
   "metadata": {},
   "outputs": [
    {
     "data": {
      "text/plain": [
       "False"
      ]
     },
     "execution_count": 26,
     "metadata": {},
     "output_type": "execute_result"
    }
   ],
   "source": [
    "1 not in {1:'a',2:'b',3:'c'} #vai retornat false porque ele esta contido  na lista"
   ]
  },
  {
   "cell_type": "code",
   "execution_count": 27,
   "id": "067c1135-b716-45f3-8a6d-e4cf3a3f67c7",
   "metadata": {},
   "outputs": [
    {
     "data": {
      "text/plain": [
       "True"
      ]
     },
     "execution_count": 27,
     "metadata": {},
     "output_type": "execute_result"
    }
   ],
   "source": [
    "4 not in {1:'a',2:'b',3:'c'} #vai retornat true porque ele não esta contido  na lista"
   ]
  },
  {
   "cell_type": "code",
   "execution_count": null,
   "id": "ed04a13b-627c-43f8-b465-cd557fc9a4b4",
   "metadata": {},
   "outputs": [],
   "source": []
  },
  {
   "cell_type": "code",
   "execution_count": null,
   "id": "4015708b-8eae-4cbf-939a-3f37570115fd",
   "metadata": {},
   "outputs": [],
   "source": []
  }
 ],
 "metadata": {
  "kernelspec": {
   "display_name": "Python 3",
   "language": "python",
   "name": "python3"
  },
  "language_info": {
   "codemirror_mode": {
    "name": "ipython",
    "version": 3
   },
   "file_extension": ".py",
   "mimetype": "text/x-python",
   "name": "python",
   "nbconvert_exporter": "python",
   "pygments_lexer": "ipython3",
   "version": "3.8.8"
  }
 },
 "nbformat": 4,
 "nbformat_minor": 5
}
