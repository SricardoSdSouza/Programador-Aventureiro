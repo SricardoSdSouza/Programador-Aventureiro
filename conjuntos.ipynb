{
 "cells": [
  {
   "cell_type": "code",
   "execution_count": null,
   "id": "98301f6a-84eb-4706-a110-d048128cbe74",
   "metadata": {},
   "outputs": [],
   "source": [
    "#Estudnado conjuntos"
   ]
  },
  {
   "cell_type": "code",
   "execution_count": 2,
   "id": "db957e10-2bd5-4872-a5ba-3561c39fa4a9",
   "metadata": {},
   "outputs": [],
   "source": [
    "conjunto1 = {1,2,3,4}\n",
    "conjunto2 = {'a','b','c','d'}"
   ]
  },
  {
   "cell_type": "code",
   "execution_count": 3,
   "id": "5afdc7a3-8dd9-4cfe-a9fd-cf16e63760f1",
   "metadata": {},
   "outputs": [
    {
     "data": {
      "text/plain": [
       "{1, 2, 3, 4, 'a', 'b', 'c', 'd'}"
      ]
     },
     "execution_count": 3,
     "metadata": {},
     "output_type": "execute_result"
    }
   ],
   "source": [
    "conjunto1.union(conjunto2)"
   ]
  },
  {
   "cell_type": "code",
   "execution_count": 4,
   "id": "d4666380-d651-4223-8824-5becad27631b",
   "metadata": {},
   "outputs": [],
   "source": [
    "# para atribuir esta união a um conjunto declaramos outra variável\n",
    "conjunto3 = conjunto1.union(conjunto2)"
   ]
  },
  {
   "cell_type": "code",
   "execution_count": 5,
   "id": "2d073f0b-65e0-4974-bff5-b609ef55b664",
   "metadata": {},
   "outputs": [
    {
     "data": {
      "text/plain": [
       "{1, 2, 3, 4, 'a', 'b', 'c', 'd'}"
      ]
     },
     "execution_count": 5,
     "metadata": {},
     "output_type": "execute_result"
    }
   ],
   "source": [
    "conjunto3"
   ]
  },
  {
   "cell_type": "code",
   "execution_count": 6,
   "id": "55194a9b-2390-4a68-9e90-ef58cac494f8",
   "metadata": {},
   "outputs": [
    {
     "data": {
      "text/plain": [
       "{1, 2, 3, 4, 'a', 'b', 'c', 'd'}"
      ]
     },
     "execution_count": 6,
     "metadata": {},
     "output_type": "execute_result"
    }
   ],
   "source": [
    "# pode fazer a uniao usando a tela  |\n",
    "conjunto1|conjunto2"
   ]
  },
  {
   "cell_type": "code",
   "execution_count": 7,
   "id": "9d6c8833-66c6-4197-9945-7a918ade5d80",
   "metadata": {},
   "outputs": [],
   "source": [
    "# podemos ir adicionando ao conjunto\n",
    "conjunto4 = conjunto1|conjunto2|{4,5,6}|{'e','f'}|{(2+3j),(5+1j)}"
   ]
  },
  {
   "cell_type": "code",
   "execution_count": 8,
   "id": "85e3606e-95f2-463f-828e-4811d573a6a7",
   "metadata": {},
   "outputs": [
    {
     "data": {
      "text/plain": [
       "{(2+3j), (5+1j), 1, 2, 3, 4, 5, 6, 'a', 'b', 'c', 'd', 'e', 'f'}"
      ]
     },
     "execution_count": 8,
     "metadata": {},
     "output_type": "execute_result"
    }
   ],
   "source": [
    "conjunto4"
   ]
  },
  {
   "cell_type": "code",
   "execution_count": 9,
   "id": "61fe22ce-0cbf-4b17-8aa0-fff5393f287c",
   "metadata": {},
   "outputs": [],
   "source": [
    "# Fazendo interseção"
   ]
  },
  {
   "cell_type": "code",
   "execution_count": 14,
   "id": "2a714190-ee52-46c3-b3e7-afb593d592fa",
   "metadata": {},
   "outputs": [],
   "source": [
    "conjunto1 = {1,2,3,4}"
   ]
  },
  {
   "cell_type": "code",
   "execution_count": 13,
   "id": "5d2de6b6-79c4-4482-970a-8cf93d7d4649",
   "metadata": {
    "tags": []
   },
   "outputs": [],
   "source": [
    "conjunto5 = {1,3,5,7,9}"
   ]
  },
  {
   "cell_type": "code",
   "execution_count": 15,
   "id": "1aa4d24b-09f3-4edc-80da-c32532d141f4",
   "metadata": {},
   "outputs": [
    {
     "data": {
      "text/plain": [
       "{1, 3}"
      ]
     },
     "execution_count": 15,
     "metadata": {},
     "output_type": "execute_result"
    }
   ],
   "source": [
    "conjunto1.intersection(conjunto5)"
   ]
  },
  {
   "cell_type": "code",
   "execution_count": 16,
   "id": "d6eb495e-e174-42f4-98eb-bf966f931e0a",
   "metadata": {},
   "outputs": [
    {
     "data": {
      "text/plain": [
       "{1, 3}"
      ]
     },
     "execution_count": 16,
     "metadata": {},
     "output_type": "execute_result"
    }
   ],
   "source": [
    "# O simbolo que representa a intersecção é &\n",
    "conjunto1 & conjunto5"
   ]
  },
  {
   "cell_type": "code",
   "execution_count": 17,
   "id": "f54f3837-5f68-4039-b02d-3eb406900105",
   "metadata": {},
   "outputs": [],
   "source": [
    "conjunto6 = conjunto1 & conjunto5"
   ]
  },
  {
   "cell_type": "code",
   "execution_count": 18,
   "id": "c5b7bbce-a92c-46ef-b7de-ff35dbb76ae1",
   "metadata": {},
   "outputs": [],
   "source": [
    "# usando o intersection_update ele substitui o arquivo com os novos dados ex conjunto1.intersection-update(conjunto5)\n",
    "# o conjunto1 passaria a ter os dados {1,3}"
   ]
  },
  {
   "cell_type": "code",
   "execution_count": 19,
   "id": "d0d303fc-b9da-4e4a-8c8d-87ad655ed7bc",
   "metadata": {},
   "outputs": [],
   "source": [
    "# usando a diferença entre conjuntos"
   ]
  },
  {
   "cell_type": "code",
   "execution_count": 11,
   "id": "37c18753-8aed-4ea6-bbd7-2797960a8d39",
   "metadata": {},
   "outputs": [],
   "source": [
    "#criar um novo conjunto\n",
    "conjunto7 = {1,2,3,4,5,6,7,}\n",
    "conjunto8 = {1,3,5,7,9}"
   ]
  },
  {
   "cell_type": "code",
   "execution_count": 5,
   "id": "464a7275-d841-453f-8d8d-f4575e2806f2",
   "metadata": {},
   "outputs": [],
   "source": [
    "conjunto9 = conjunto7.difference(conjunto8)"
   ]
  },
  {
   "cell_type": "code",
   "execution_count": 7,
   "id": "9a83352c-9378-4afd-b40b-3b6ad605cfd5",
   "metadata": {},
   "outputs": [
    {
     "data": {
      "text/plain": [
       "{2, 4, 6}"
      ]
     },
     "execution_count": 7,
     "metadata": {},
     "output_type": "execute_result"
    }
   ],
   "source": [
    "conjunto9"
   ]
  },
  {
   "cell_type": "code",
   "execution_count": 8,
   "id": "9ad211af-9e13-4376-aad5-b36e223538b6",
   "metadata": {},
   "outputs": [],
   "source": [
    "# usando simbolo de menos tb faz esta diferença conjunto7 - conjunto8 daria o mesmo resultado"
   ]
  },
  {
   "cell_type": "code",
   "execution_count": 9,
   "id": "039146c8-9415-4c66-a54e-22bcd978978d",
   "metadata": {},
   "outputs": [],
   "source": [
    "# metodo da diferença simétrica\n",
    "# elementos exclusivo aos dois"
   ]
  },
  {
   "cell_type": "code",
   "execution_count": 15,
   "id": "44d43584-df56-4330-8d6e-7e3052decdf1",
   "metadata": {},
   "outputs": [],
   "source": [
    "conjunto7 = {1,2,3,4,5,6,7,}\n",
    "conjunto8 = {1,3,5,7,9}"
   ]
  },
  {
   "cell_type": "code",
   "execution_count": 18,
   "id": "e711bad4-cf7c-4be4-8629-e55061acf886",
   "metadata": {},
   "outputs": [
    {
     "data": {
      "text/plain": [
       "{2, 4, 6, 9}"
      ]
     },
     "execution_count": 18,
     "metadata": {},
     "output_type": "execute_result"
    }
   ],
   "source": [
    "conjunto7.symmetric_difference(conjunto8)"
   ]
  },
  {
   "cell_type": "code",
   "execution_count": null,
   "id": "44130f30-7452-4c82-b596-22d376569cec",
   "metadata": {},
   "outputs": [],
   "source": []
  }
 ],
 "metadata": {
  "kernelspec": {
   "display_name": "Python 3",
   "language": "python",
   "name": "python3"
  },
  "language_info": {
   "codemirror_mode": {
    "name": "ipython",
    "version": 3
   },
   "file_extension": ".py",
   "mimetype": "text/x-python",
   "name": "python",
   "nbconvert_exporter": "python",
   "pygments_lexer": "ipython3",
   "version": "3.8.8"
  }
 },
 "nbformat": 4,
 "nbformat_minor": 5
}
