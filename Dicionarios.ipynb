{
 "metadata": {
  "language_info": {
   "codemirror_mode": {
    "name": "ipython",
    "version": 3
   },
   "file_extension": ".py",
   "mimetype": "text/x-python",
   "name": "python",
   "nbconvert_exporter": "python",
   "pygments_lexer": "ipython3",
   "version": "3.8.8"
  },
  "orig_nbformat": 4,
  "kernelspec": {
   "name": "python3",
   "display_name": "Python 3.8.8 64-bit ('base': conda)"
  },
  "interpreter": {
   "hash": "fd2f97fa0c8e1faa3d138cfef791a5fadde45e0a0b4fd9978b7df301f5eb8928"
  }
 },
 "nbformat": 4,
 "nbformat_minor": 2,
 "cells": [
  {
   "cell_type": "code",
   "execution_count": 1,
   "metadata": {},
   "outputs": [
    {
     "output_type": "stream",
     "name": "stdout",
     "text": [
      "['a', 'b', 'c']\na\n{1: 'a', 2: 'b', 3: 'c'}\na\n"
     ]
    }
   ],
   "source": [
    "# dicionarios poden se criados com {}\n",
    "# a maior diferença entre lista e dicionario é que lista já tem o indíce o dicionário podemos atribuir a chave\n",
    "lista =['a','b','c']\n",
    "dicionario = {1:'a',2:'b',3:'c'}\n",
    "print(lista)\n",
    "print(lista[0])\n",
    "print(dicionario)\n",
    "print(dicionario[1])"
   ]
  },
  {
   "cell_type": "code",
   "execution_count": 2,
   "metadata": {},
   "outputs": [
    {
     "output_type": "stream",
     "name": "stdout",
     "text": [
      "['a', 'b', 'c']\nc\n{1: 'a', 2: 'b', 3: 'c'}\nc\n"
     ]
    }
   ],
   "source": [
    "lista =['a','b','c']\n",
    "dicionario = {1:'a',2:'b',3:'c'}\n",
    "print(lista)\n",
    "print(lista[2])\n",
    "print(dicionario)\n",
    "print(dicionario[3])"
   ]
  },
  {
   "cell_type": "code",
   "execution_count": 5,
   "metadata": {},
   "outputs": [
    {
     "output_type": "stream",
     "name": "stdout",
     "text": [
      "dict_keys([1, 2, 3])\ndict_values(['a', 'b', 'c'])\ndict_items([(1, 'a'), (2, 'b'), (3, 'c')])\n"
     ]
    }
   ],
   "source": [
    "#posso pedir as chaves do dicionario\n",
    "print(dicionario.keys())\n",
    "print(dicionario.values())\n",
    "print(dicionario.items())"
   ]
  },
  {
   "cell_type": "code",
   "execution_count": null,
   "metadata": {},
   "outputs": [],
   "source": []
  }
 ]
}