# Para criar dicionarios sua-se {}
dicionario = {}
