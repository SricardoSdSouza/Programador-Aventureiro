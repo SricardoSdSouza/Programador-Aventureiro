{
 "cells": [
  {
   "cell_type": "code",
   "execution_count": null,
   "id": "039b6775-caa5-42a0-8d0d-5e510f72d5f1",
   "metadata": {},
   "outputs": [],
   "source": [
    "# Fazendo comparações entre conjuntos"
   ]
  },
  {
   "cell_type": "code",
   "execution_count": 1,
   "id": "284b678d-91ba-48ed-b547-6746225f2869",
   "metadata": {},
   "outputs": [
    {
     "data": {
      "text/plain": [
       "False"
      ]
     },
     "execution_count": 1,
     "metadata": {},
     "output_type": "execute_result"
    }
   ],
   "source": [
    "conjunto1 = {1,2,3,4,5}\n",
    "conjunto2 = {1,3,5,7}\n",
    "#saber se o conjunto2 esta contido no conjunto1\n",
    "conjunto1.issubset(conjunto2)"
   ]
  },
  {
   "cell_type": "code",
   "execution_count": 2,
   "id": "013c12e8-acec-4b87-89ad-0bf32963fd43",
   "metadata": {},
   "outputs": [
    {
     "data": {
      "text/plain": [
       "True"
      ]
     },
     "execution_count": 2,
     "metadata": {},
     "output_type": "execute_result"
    }
   ],
   "source": [
    "# ja o conjunto {1,2,3,5,7} contem o conjunto2\n",
    "{1,3,5,7}.issubset(conjunto2)"
   ]
  },
  {
   "cell_type": "code",
   "execution_count": 3,
   "id": "72de4ab8-1c7a-469a-a684-e5f8ee1082f7",
   "metadata": {},
   "outputs": [
    {
     "data": {
      "text/plain": [
       "False"
      ]
     },
     "execution_count": 3,
     "metadata": {},
     "output_type": "execute_result"
    }
   ],
   "source": [
    "#Ja a instrução superset é para saber conjunto1 contem o conjunto2\n",
    "conjunto1.issuperset(conjunto2)"
   ]
  },
  {
   "cell_type": "code",
   "execution_count": 5,
   "id": "8c7f3403-0773-4a82-a34f-f6cd02df9d33",
   "metadata": {},
   "outputs": [
    {
     "data": {
      "text/plain": [
       "True"
      ]
     },
     "execution_count": 5,
     "metadata": {},
     "output_type": "execute_result"
    }
   ],
   "source": [
    "# a partir do conjunt1 consigo formar o conjunto2\n",
    "conj1 = {1,3,5,7}\n",
    "conj2 = {5,7}\n",
    "conj1.issuperset(conj2)"
   ]
  },
  {
   "cell_type": "code",
   "execution_count": 6,
   "id": "215696c9-4255-46c2-9e09-23e2656c600a",
   "metadata": {},
   "outputs": [
    {
     "data": {
      "text/plain": [
       "True"
      ]
     },
     "execution_count": 6,
     "metadata": {},
     "output_type": "execute_result"
    }
   ],
   "source": [
    "# compara se os elementos do conjunto1 não fazem interseção com o conjunto2, são distintos\n",
    "conj1 = {1,3,5,7}\n",
    "conj2 = {2,4,6,8}\n",
    "conj1.isdisjoint(conj2)"
   ]
  },
  {
   "cell_type": "code",
   "execution_count": 8,
   "id": "38018af4-4c94-4088-ab75-c6e60aa230e5",
   "metadata": {},
   "outputs": [
    {
     "data": {
      "text/plain": [
       "False"
      ]
     },
     "execution_count": 8,
     "metadata": {},
     "output_type": "execute_result"
    }
   ],
   "source": [
    "conj1 = {1,3,5,7}\n",
    "conj2 = {2,4,6,7,8}\n",
    "conj1.isdisjoint(conj2)"
   ]
  },
  {
   "cell_type": "code",
   "execution_count": null,
   "id": "5086e8bb-b1d5-4485-a063-5c84e384c980",
   "metadata": {
    "tags": []
   },
   "outputs": [],
   "source": []
  }
 ],
 "metadata": {
  "kernelspec": {
   "display_name": "Python 3",
   "language": "python",
   "name": "python3"
  },
  "language_info": {
   "codemirror_mode": {
    "name": "ipython",
    "version": 3
   },
   "file_extension": ".py",
   "mimetype": "text/x-python",
   "name": "python",
   "nbconvert_exporter": "python",
   "pygments_lexer": "ipython3",
   "version": "3.8.8"
  }
 },
 "nbformat": 4,
 "nbformat_minor": 5
}
