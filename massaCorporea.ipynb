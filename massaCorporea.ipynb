{
 "cells": [
  {
   "cell_type": "code",
   "execution_count": 7,
   "id": "b1951cf8-97c9-43a0-9447-ec6cd3adef8f",
   "metadata": {},
   "outputs": [],
   "source": [
    "peso = 90"
   ]
  },
  {
   "cell_type": "code",
   "execution_count": 8,
   "id": "9276bccd-f050-4708-8658-6aae3e525be4",
   "metadata": {},
   "outputs": [],
   "source": [
    "altura = 1.77"
   ]
  },
  {
   "cell_type": "code",
   "execution_count": 10,
   "id": "e95e7487-cfa5-4b55-9036-158bcc939ab2",
   "metadata": {},
   "outputs": [
    {
     "name": "stdout",
     "output_type": "stream",
     "text": [
      "90 1.77\n"
     ]
    }
   ],
   "source": [
    "print(peso,altura)"
   ]
  },
  {
   "cell_type": "code",
   "execution_count": 9,
   "id": "6cfd19c1-71f2-4c67-96d8-ac4bfa42be6e",
   "metadata": {},
   "outputs": [],
   "source": [
    "imc = peso/(altura * altura) #pode usar exponenciação altura **2"
   ]
  },
  {
   "cell_type": "code",
   "execution_count": 10,
   "id": "44ddae04-b19c-4d73-b1f2-91402d9110c0",
   "metadata": {},
   "outputs": [
    {
     "name": "stdout",
     "output_type": "stream",
     "text": [
      "28.727\n"
     ]
    }
   ],
   "source": [
    "print(f'{imc:.3f}')"
   ]
  },
  {
   "cell_type": "code",
   "execution_count": 17,
   "id": "06dbfeeb-6328-4ffe-995f-2b588408bceb",
   "metadata": {},
   "outputs": [
    {
     "data": {
      "text/plain": [
       "'2020'"
      ]
     },
     "execution_count": 17,
     "metadata": {},
     "output_type": "execute_result"
    }
   ],
   "source": [
    "\"20\"*2"
   ]
  },
  {
   "cell_type": "code",
   "execution_count": null,
   "id": "f9a593ee-126d-4d94-a87f-a6692acd4628",
   "metadata": {},
   "outputs": [],
   "source": []
  }
 ],
 "metadata": {
  "kernelspec": {
   "display_name": "Python 3",
   "language": "python",
   "name": "python3"
  },
  "language_info": {
   "codemirror_mode": {
    "name": "ipython",
    "version": 3
   },
   "file_extension": ".py",
   "mimetype": "text/x-python",
   "name": "python",
   "nbconvert_exporter": "python",
   "pygments_lexer": "ipython3",
   "version": "3.8.8"
  }
 },
 "nbformat": 4,
 "nbformat_minor": 5
}
