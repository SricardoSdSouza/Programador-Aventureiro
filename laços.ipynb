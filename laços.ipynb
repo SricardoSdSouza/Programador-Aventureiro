{
 "cells": [
  {
   "cell_type": "code",
   "execution_count": 4,
   "id": "68b83a7b-b6e3-4bfe-a8d1-7636fcaa1696",
   "metadata": {},
   "outputs": [
    {
     "name": "stdout",
     "output_type": "stream",
     "text": [
      "===1===\n",
      "1 x 1 = 1\n",
      "1 x 2 = 2\n",
      "===2===\n",
      "2 x 1 = 2\n",
      "2 x 2 = 4\n",
      "Agora pode estudar\n"
     ]
    }
   ],
   "source": [
    "# trabalhando com for\n",
    "# tabuada\n",
    "for i in range(1,11):\n",
    "    print(f'==={i}===')\n",
    "    for j in range(1,11):\n",
    "        mult = i * j\n",
    "        print(f'{i} x {j} = {mult}')\n",
    "print('Agora pode estudar')\n",
    "    "
   ]
  },
  {
   "cell_type": "code",
   "execution_count": null,
   "id": "b8388f2e-a7ae-49fa-9591-fa38dd81827e",
   "metadata": {},
   "outputs": [],
   "source": []
  }
 ],
 "metadata": {
  "kernelspec": {
   "display_name": "Python 3",
   "language": "python",
   "name": "python3"
  },
  "language_info": {
   "codemirror_mode": {
    "name": "ipython",
    "version": 3
   },
   "file_extension": ".py",
   "mimetype": "text/x-python",
   "name": "python",
   "nbconvert_exporter": "python",
   "pygments_lexer": "ipython3",
   "version": "3.8.8"
  }
 },
 "nbformat": 4,
 "nbformat_minor": 5
}
