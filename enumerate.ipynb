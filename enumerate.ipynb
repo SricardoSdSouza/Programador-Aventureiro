{
 "cells": [
  {
   "cell_type": "code",
   "execution_count": null,
   "id": "2cbc42b5-02c2-4dee-a083-9eceff2acd91",
   "metadata": {},
   "outputs": [],
   "source": [
    "# exemplos de uso do enumerate"
   ]
  },
  {
   "cell_type": "code",
   "execution_count": 1,
   "id": "0503d68d-2ca2-4089-98ee-775f7ea84002",
   "metadata": {},
   "outputs": [
    {
     "name": "stdout",
     "output_type": "stream",
     "text": [
      "a\n",
      "b\n",
      "c\n"
     ]
    }
   ],
   "source": [
    "for value in 'abc':\n",
    "    print(value)"
   ]
  },
  {
   "cell_type": "code",
   "execution_count": 2,
   "id": "6935b430-94b1-4ea3-9656-0a06d87cd27d",
   "metadata": {
    "tags": []
   },
   "outputs": [
    {
     "name": "stdout",
     "output_type": "stream",
     "text": [
      "(0, 'a')\n",
      "(1, 'b')\n",
      "(2, 'c')\n"
     ]
    }
   ],
   "source": [
    "for value in enumerate('abc'):\n",
    "    print(value)"
   ]
  },
  {
   "cell_type": "code",
   "execution_count": 3,
   "id": "e217fbc3-48bc-4aa0-ae91-684bddcc7dea",
   "metadata": {},
   "outputs": [
    {
     "name": "stdout",
     "output_type": "stream",
     "text": [
      "0 - a\n",
      "1 - b\n",
      "2 - c\n"
     ]
    }
   ],
   "source": [
    "for index, value in enumerate('abc'):\n",
    "    print(index, '-', value)"
   ]
  },
  {
   "cell_type": "code",
   "execution_count": 4,
   "id": "1d00e705-6d23-4f20-a396-9d7b34a7f8d6",
   "metadata": {},
   "outputs": [
    {
     "name": "stdout",
     "output_type": "stream",
     "text": [
      "0 - a\n",
      "1 - b\n",
      "2 - abc\n",
      "3 - 53.71\n",
      "4 - True\n",
      "5 - [1, 2, 3]\n"
     ]
    }
   ],
   "source": [
    "for index, value in enumerate(['a','b','abc',53.71,True,[1,2,3]]):\n",
    "    print(index,'-',value)"
   ]
  },
  {
   "cell_type": "code",
   "execution_count": 6,
   "id": "5313ac74-da35-492f-999e-68362597f958",
   "metadata": {
    "tags": []
   },
   "outputs": [
    {
     "name": "stdout",
     "output_type": "stream",
     "text": [
      "1\n",
      "2\n",
      "3\n",
      "4\n",
      "5\n",
      "6\n",
      "7\n",
      "8\n",
      "9\n"
     ]
    }
   ],
   "source": [
    "for i in range(1,10):\n",
    "    print(i)"
   ]
  },
  {
   "cell_type": "code",
   "execution_count": 7,
   "id": "a7f7729c-1743-4f38-a57b-65792e5c54a3",
   "metadata": {},
   "outputs": [
    {
     "name": "stdout",
     "output_type": "stream",
     "text": [
      "-250\n",
      "-200\n",
      "-150\n",
      "-100\n"
     ]
    }
   ],
   "source": [
    "for i in range(-250, -51, 50):\n",
    "    print(i)"
   ]
  },
  {
   "cell_type": "code",
   "execution_count": 9,
   "id": "544712ba-092a-4a35-ab39-730857b2555a",
   "metadata": {},
   "outputs": [
    {
     "name": "stdout",
     "output_type": "stream",
     "text": [
      "(0, 1)\n",
      "(1, 2)\n",
      "(2, [3, 4])\n",
      "(3, [5, 6])\n",
      "(4, [7])\n"
     ]
    }
   ],
   "source": [
    "for list in enumerate([1,2,[3,4],[5,6],[7]]):\n",
    "    print(list)"
   ]
  },
  {
   "cell_type": "code",
   "execution_count": 12,
   "id": "2b830fc8-32c4-4938-a5d8-1d26d2cb8d55",
   "metadata": {},
   "outputs": [
    {
     "name": "stdout",
     "output_type": "stream",
     "text": [
      "(0, 'a')\n",
      "(1, 'b')\n",
      "(2, 'c')\n",
      "(3, 'd')\n",
      "(4, 'e')\n",
      "(5, 'f')\n",
      "(6, 'g')\n",
      "(7, 'h')\n",
      "(8, 'i')\n",
      "(9, 'j')\n",
      "(10, 'k')\n",
      "(11, 'l')\n",
      "(12, 'm')\n",
      "(13, 'n')\n",
      "(14, 'o')\n",
      "(15, 'p')\n",
      "(16, 'q')\n",
      "(17, 'r')\n",
      "(18, 's')\n",
      "(19, 't')\n",
      "(20, 'u')\n",
      "(21, 'v')\n",
      "(22, 'w')\n",
      "(23, 'x')\n",
      "(24, 'y')\n",
      "(25, 'z')\n",
      "26\n"
     ]
    }
   ],
   "source": [
    "n=0\n",
    "for i in enumerate('abcdefghijklmnopqrstuvwxyz'):\n",
    "    print(i)\n",
    "    n+=1\n",
    "print(n)"
   ]
  },
  {
   "cell_type": "code",
   "execution_count": null,
   "id": "938cacb1-f47f-4096-8f2b-868cee1f063d",
   "metadata": {},
   "outputs": [],
   "source": []
  }
 ],
 "metadata": {
  "kernelspec": {
   "display_name": "Python 3",
   "language": "python",
   "name": "python3"
  },
  "language_info": {
   "codemirror_mode": {
    "name": "ipython",
    "version": 3
   },
   "file_extension": ".py",
   "mimetype": "text/x-python",
   "name": "python",
   "nbconvert_exporter": "python",
   "pygments_lexer": "ipython3",
   "version": "3.8.8"
  }
 },
 "nbformat": 4,
 "nbformat_minor": 5
}
