{
 "cells": [
  {
   "cell_type": "code",
   "execution_count": 1,
   "id": "03d3d0b3-583a-42ae-934b-d960b2644eda",
   "metadata": {},
   "outputs": [],
   "source": [
    "# Aprendendo o laço com o FOR"
   ]
  },
  {
   "cell_type": "code",
   "execution_count": 4,
   "id": "a5c7091a-84fb-47ca-80b8-9326b76937ad",
   "metadata": {},
   "outputs": [
    {
     "name": "stdout",
     "output_type": "stream",
     "text": [
      "1\n",
      "2\n",
      "3\n",
      "4\n",
      "a\n",
      "b\n",
      "c\n"
     ]
    }
   ],
   "source": [
    "lista = [1,2,3,4,'a','b','c']\n",
    "for x in lista:\n",
    "   # print(x,end=\" \")\n",
    "    print(x)"
   ]
  },
  {
   "cell_type": "code",
   "execution_count": 5,
   "id": "499838df-a295-40d9-9ee8-ec1bbca65769",
   "metadata": {},
   "outputs": [
    {
     "name": "stdout",
     "output_type": "stream",
     "text": [
      "1\n",
      "2\n",
      "3\n",
      "4\n",
      "a\n",
      "b\n",
      "c\n"
     ]
    },
    {
     "ename": "IndexError",
     "evalue": "list index out of range",
     "output_type": "error",
     "traceback": [
      "\u001b[1;31m---------------------------------------------------------------------------\u001b[0m",
      "\u001b[1;31mIndexError\u001b[0m                                Traceback (most recent call last)",
      "\u001b[1;32m<ipython-input-5-8839b84942a0>\u001b[0m in \u001b[0;36m<module>\u001b[1;34m\u001b[0m\n\u001b[0;32m      2\u001b[0m \u001b[0mlista\u001b[0m \u001b[1;33m=\u001b[0m \u001b[1;33m[\u001b[0m\u001b[1;36m1\u001b[0m\u001b[1;33m,\u001b[0m\u001b[1;36m2\u001b[0m\u001b[1;33m,\u001b[0m\u001b[1;36m3\u001b[0m\u001b[1;33m,\u001b[0m\u001b[1;36m4\u001b[0m\u001b[1;33m,\u001b[0m\u001b[1;34m'a'\u001b[0m\u001b[1;33m,\u001b[0m\u001b[1;34m'b'\u001b[0m\u001b[1;33m,\u001b[0m\u001b[1;34m'c'\u001b[0m\u001b[1;33m]\u001b[0m\u001b[1;33m\u001b[0m\u001b[1;33m\u001b[0m\u001b[0m\n\u001b[0;32m      3\u001b[0m \u001b[0melemento\u001b[0m \u001b[1;33m=\u001b[0m \u001b[1;32mNone\u001b[0m\u001b[1;33m\u001b[0m\u001b[1;33m\u001b[0m\u001b[0m\n\u001b[1;32m----> 4\u001b[1;33m \u001b[1;32mwhile\u001b[0m \u001b[0melemento\u001b[0m \u001b[1;33m!=\u001b[0m \u001b[0mlista\u001b[0m\u001b[1;33m[\u001b[0m\u001b[1;33m-\u001b[0m\u001b[1;36m1\u001b[0m\u001b[1;33m]\u001b[0m\u001b[1;33m:\u001b[0m\u001b[1;33m\u001b[0m\u001b[1;33m\u001b[0m\u001b[0m\n\u001b[0m\u001b[0;32m      5\u001b[0m     \u001b[0melemento\u001b[0m \u001b[1;33m=\u001b[0m \u001b[0mlista\u001b[0m\u001b[1;33m[\u001b[0m\u001b[1;36m0\u001b[0m\u001b[1;33m]\u001b[0m\u001b[1;33m\u001b[0m\u001b[1;33m\u001b[0m\u001b[0m\n\u001b[0;32m      6\u001b[0m     \u001b[0mlista\u001b[0m\u001b[1;33m.\u001b[0m\u001b[0mpop\u001b[0m\u001b[1;33m(\u001b[0m\u001b[1;36m0\u001b[0m\u001b[1;33m)\u001b[0m\u001b[1;33m\u001b[0m\u001b[1;33m\u001b[0m\u001b[0m\n",
      "\u001b[1;31mIndexError\u001b[0m: list index out of range"
     ]
    }
   ],
   "source": [
    "# se fosse fazer com o while seria asssim e daria o erro\n",
    "lista = [1,2,3,4,'a','b','c']\n",
    "elemento = None\n",
    "while elemento != lista[-1]:\n",
    "    elemento = lista[0] #colocando na variável o valor da lista\n",
    "    lista.pop(0) #removendo o ultimo elemento da lista\n",
    "    print(elemento)"
   ]
  },
  {
   "cell_type": "code",
   "execution_count": 6,
   "id": "29eb9587-5f60-482e-be15-598a17650ec0",
   "metadata": {},
   "outputs": [
    {
     "name": "stdout",
     "output_type": "stream",
     "text": [
      "Foram 1 vezes que rodou o for\n",
      "Foram 2 vezes que rodou o for\n",
      "Foram 3 vezes que rodou o for\n",
      "Foram 4 vezes que rodou o for\n",
      "Foram a vezes que rodou o for\n",
      "Foram b vezes que rodou o for\n",
      "Foram c vezes que rodou o for\n"
     ]
    }
   ],
   "source": [
    "# Mostra como percorre a lista com o for\n",
    "lista = [1,2,3,4,'a','b','c']\n",
    "for num in lista:\n",
    "    print(f'Foram {num} vezes que rodou o for')"
   ]
  },
  {
   "cell_type": "code",
   "execution_count": 7,
   "id": "065ce3d2-ade8-45d9-b20d-748480290a25",
   "metadata": {},
   "outputs": [
    {
     "name": "stdout",
     "output_type": "stream",
     "text": [
      "Foram 1 vezes que rodou a tupla\n",
      "Foram 2 vezes que rodou a tupla\n",
      "Foram 3 vezes que rodou a tupla\n",
      "Foram 4 vezes que rodou a tupla\n",
      "Foram a vezes que rodou a tupla\n",
      "Foram b vezes que rodou a tupla\n",
      "Foram c vezes que rodou a tupla\n"
     ]
    }
   ],
   "source": [
    "# Se fosse tuple daria da mesma forma\n",
    "tupla = 1,2,3,4,'a','b','c'\n",
    "for num in tupla:\n",
    "    print(f'Foram {num} vezes que rodou a tupla')"
   ]
  },
  {
   "cell_type": "code",
   "execution_count": 9,
   "id": "29d455e8-2314-4dfc-b5c3-7896083ddf93",
   "metadata": {},
   "outputs": [
    {
     "name": "stdout",
     "output_type": "stream",
     "text": [
      "1\n",
      "2\n",
      "3\n",
      "abc\n",
      "False\n"
     ]
    }
   ],
   "source": [
    "dicionario = {1:'a',2:'b',3:'c','abc': 100, False:(2 + 3j)}\n",
    "# retorna as chaves do dicionario\n",
    "for elem in dicionario:\n",
    "    print(elem)"
   ]
  },
  {
   "cell_type": "code",
   "execution_count": 11,
   "id": "f039c058-8ede-4d44-8742-c1edfbb0ac0f",
   "metadata": {},
   "outputs": [
    {
     "name": "stdout",
     "output_type": "stream",
     "text": [
      "a\n",
      "b\n",
      "c\n",
      "100\n",
      "(2+3j)\n"
     ]
    }
   ],
   "source": [
    "dicionario = {1:'a',2:'b',3:'c','abc': 100, False:(2 + 3j)}\n",
    "# retorna as valores do dicionario\n",
    "for elem in dicionario.values():\n",
    "    print(elem)"
   ]
  },
  {
   "cell_type": "code",
   "execution_count": 13,
   "id": "19472b06-bcca-4b3e-b23c-0a0fa19e0842",
   "metadata": {},
   "outputs": [
    {
     "name": "stdout",
     "output_type": "stream",
     "text": [
      "(1, 'a')\n",
      "(2, 'b')\n",
      "(3, 'c')\n",
      "('abc', 100)\n",
      "(False, (2+3j))\n"
     ]
    }
   ],
   "source": [
    "dicionario = {1:'a',2:'b',3:'c','abc': 100, False:(2 + 3j)}\n",
    "# retorna as valores e as chaves do dicionario\n",
    "for elem in dicionario.items():\n",
    "    print(elem)"
   ]
  },
  {
   "cell_type": "code",
   "execution_count": 14,
   "id": "e9c481fa-e961-4ed6-ac2d-9f113dfeba72",
   "metadata": {},
   "outputs": [
    {
     "name": "stdout",
     "output_type": "stream",
     "text": [
      "A chave é = 1, e o valor dela é = a\n",
      "A chave é = 2, e o valor dela é = b\n",
      "A chave é = 3, e o valor dela é = c\n",
      "A chave é = abc, e o valor dela é = 100\n",
      "A chave é = False, e o valor dela é = (2+3j)\n"
     ]
    }
   ],
   "source": [
    "# atribuindo a variáveis\n",
    "dicionario = {1:'a',2:'b',3:'c','abc': 100, False:(2 + 3j)}\n",
    "for key, value in dicionario.items():\n",
    "    print(f'A chave é = {key}, e o valor dela é = {value}')"
   ]
  },
  {
   "cell_type": "code",
   "execution_count": 17,
   "id": "cbfb3315-ae37-44b2-9ab2-a651c3238053",
   "metadata": {},
   "outputs": [
    {
     "name": "stdout",
     "output_type": "stream",
     "text": [
      "Curso de Python"
     ]
    }
   ],
   "source": [
    "for string in 'Curso de Python':\n",
    "    #print(string)\n",
    "    print(string, end=\"\")"
   ]
  },
  {
   "cell_type": "code",
   "execution_count": 18,
   "id": "09631967-6df1-4a21-a11f-6aaeabd01bf8",
   "metadata": {},
   "outputs": [
    {
     "name": "stdout",
     "output_type": "stream",
     "text": [
      "1\n",
      "2\n",
      "3\n",
      "4 \n",
      "Fim do programa!!!\n"
     ]
    }
   ],
   "source": [
    "for elem in [1,2,3]:\n",
    "    print(elem)\n",
    "else:\n",
    "    print(4,'\\nFim do programa!!!')"
   ]
  },
  {
   "cell_type": "code",
   "execution_count": 19,
   "id": "dca9a214-c9e8-4536-aad2-cdbefcf41150",
   "metadata": {},
   "outputs": [
    {
     "name": "stdout",
     "output_type": "stream",
     "text": [
      "1\n",
      "2\n",
      "3\n",
      "4\n",
      "5\n",
      "6\n",
      "7\n",
      "8\n",
      "9\n"
     ]
    }
   ],
   "source": [
    "for i in [1,2,3,4,5,6,7,8,9]:\n",
    "    print(i)"
   ]
  },
  {
   "cell_type": "code",
   "execution_count": null,
   "id": "0b1fac8f-77c2-4e37-b4c7-91a7d324ee10",
   "metadata": {},
   "outputs": [],
   "source": []
  }
 ],
 "metadata": {
  "kernelspec": {
   "display_name": "Python 3",
   "language": "python",
   "name": "python3"
  },
  "language_info": {
   "codemirror_mode": {
    "name": "ipython",
    "version": 3
   },
   "file_extension": ".py",
   "mimetype": "text/x-python",
   "name": "python",
   "nbconvert_exporter": "python",
   "pygments_lexer": "ipython3",
   "version": "3.8.8"
  }
 },
 "nbformat": 4,
 "nbformat_minor": 5
}
