{
 "cells": [
  {
   "cell_type": "code",
   "execution_count": null,
   "source": [
    "# Aprendendo o laço com o FOR"
   ],
   "outputs": [],
   "metadata": {
    "dotnet_interactive": {
     "language": "csharp"
    }
   }
  },
  {
   "cell_type": "code",
   "execution_count": null,
   "source": [
    "lista = [1,2,3,4,'a','b','c']\n",
    "for x in lista:\n",
    "   # print(x,end=\" \")\n",
    "    print(x)"
   ],
   "outputs": [
    {
     "output_type": "stream",
     "name": "stdout",
     "text": [
      "1\n",
      "2\n",
      "3\n",
      "4\n",
      "a\n",
      "b\n",
      "c\n"
     ]
    }
   ],
   "metadata": {
    "dotnet_interactive": {
     "language": "csharp"
    }
   }
  },
  {
   "cell_type": "code",
   "execution_count": null,
   "source": [
    "# se fosse fazer com o while seria asssim e daria o erro\n",
    "lista = [1,2,3,4,'a','b','c']\n",
    "elemento = None\n",
    "while elemento != lista[-1]:\n",
    "    elemento = lista[0] #colocando na variável o valor da lista\n",
    "    lista.pop(0) #removendo o ultimo elemento da lista\n",
    "    print(elemento)"
   ],
   "outputs": [
    {
     "output_type": "stream",
     "name": "stdout",
     "text": [
      "1\n",
      "2\n",
      "3\n",
      "4\n",
      "a\n",
      "b\n",
      "c\n"
     ]
    },
    {
     "output_type": "error",
     "ename": "IndexError",
     "evalue": "list index out of range",
     "traceback": [
      "\u001b[1;31m---------------------------------------------------------------------------\u001b[0m",
      "\u001b[1;31mIndexError\u001b[0m                                Traceback (most recent call last)",
      "\u001b[1;32m<ipython-input-5-8839b84942a0>\u001b[0m in \u001b[0;36m<module>\u001b[1;34m\u001b[0m\n\u001b[0;32m      2\u001b[0m \u001b[0mlista\u001b[0m \u001b[1;33m=\u001b[0m \u001b[1;33m[\u001b[0m\u001b[1;36m1\u001b[0m\u001b[1;33m,\u001b[0m\u001b[1;36m2\u001b[0m\u001b[1;33m,\u001b[0m\u001b[1;36m3\u001b[0m\u001b[1;33m,\u001b[0m\u001b[1;36m4\u001b[0m\u001b[1;33m,\u001b[0m\u001b[1;34m'a'\u001b[0m\u001b[1;33m,\u001b[0m\u001b[1;34m'b'\u001b[0m\u001b[1;33m,\u001b[0m\u001b[1;34m'c'\u001b[0m\u001b[1;33m]\u001b[0m\u001b[1;33m\u001b[0m\u001b[1;33m\u001b[0m\u001b[0m\n\u001b[0;32m      3\u001b[0m \u001b[0melemento\u001b[0m \u001b[1;33m=\u001b[0m \u001b[1;32mNone\u001b[0m\u001b[1;33m\u001b[0m\u001b[1;33m\u001b[0m\u001b[0m\n\u001b[1;32m----> 4\u001b[1;33m \u001b[1;32mwhile\u001b[0m \u001b[0melemento\u001b[0m \u001b[1;33m!=\u001b[0m \u001b[0mlista\u001b[0m\u001b[1;33m[\u001b[0m\u001b[1;33m-\u001b[0m\u001b[1;36m1\u001b[0m\u001b[1;33m]\u001b[0m\u001b[1;33m:\u001b[0m\u001b[1;33m\u001b[0m\u001b[1;33m\u001b[0m\u001b[0m\n\u001b[0m\u001b[0;32m      5\u001b[0m     \u001b[0melemento\u001b[0m \u001b[1;33m=\u001b[0m \u001b[0mlista\u001b[0m\u001b[1;33m[\u001b[0m\u001b[1;36m0\u001b[0m\u001b[1;33m]\u001b[0m\u001b[1;33m\u001b[0m\u001b[1;33m\u001b[0m\u001b[0m\n\u001b[0;32m      6\u001b[0m     \u001b[0mlista\u001b[0m\u001b[1;33m.\u001b[0m\u001b[0mpop\u001b[0m\u001b[1;33m(\u001b[0m\u001b[1;36m0\u001b[0m\u001b[1;33m)\u001b[0m\u001b[1;33m\u001b[0m\u001b[1;33m\u001b[0m\u001b[0m\n",
      "\u001b[1;31mIndexError\u001b[0m: list index out of range"
     ]
    }
   ],
   "metadata": {
    "dotnet_interactive": {
     "language": "csharp"
    }
   }
  },
  {
   "cell_type": "code",
   "execution_count": null,
   "source": [
    "# Mostra como percorre a lista com o for\n",
    "lista = [1,2,3,4,'a','b','c']\n",
    "for num in lista:\n",
    "    print(f'Foram {num} vezes que rodou o for')"
   ],
   "outputs": [
    {
     "output_type": "stream",
     "name": "stdout",
     "text": [
      "Foram 1 vezes que rodou o for\n",
      "Foram 2 vezes que rodou o for\n",
      "Foram 3 vezes que rodou o for\n",
      "Foram 4 vezes que rodou o for\n",
      "Foram a vezes que rodou o for\n",
      "Foram b vezes que rodou o for\n",
      "Foram c vezes que rodou o for\n"
     ]
    }
   ],
   "metadata": {
    "dotnet_interactive": {
     "language": "csharp"
    }
   }
  },
  {
   "cell_type": "code",
   "execution_count": null,
   "source": [
    "# Se fosse tuple daria da mesma forma\n",
    "tupla = 1,2,3,4,'a','b','c'\n",
    "for num in tupla:\n",
    "    print(f'Foram {num} vezes que rodou a tupla')"
   ],
   "outputs": [
    {
     "output_type": "stream",
     "name": "stdout",
     "text": [
      "Foram 1 vezes que rodou a tupla\n",
      "Foram 2 vezes que rodou a tupla\n",
      "Foram 3 vezes que rodou a tupla\n",
      "Foram 4 vezes que rodou a tupla\n",
      "Foram a vezes que rodou a tupla\n",
      "Foram b vezes que rodou a tupla\n",
      "Foram c vezes que rodou a tupla\n"
     ]
    }
   ],
   "metadata": {
    "dotnet_interactive": {
     "language": "csharp"
    }
   }
  },
  {
   "cell_type": "code",
   "execution_count": null,
   "source": [
    "dicionario = {1:'a',2:'b',3:'c','abc': 100, False:(2 + 3j)}\n",
    "# retorna as chaves do dicionario\n",
    "for elem in dicionario:\n",
    "    print(elem)"
   ],
   "outputs": [
    {
     "output_type": "stream",
     "name": "stdout",
     "text": [
      "1\n",
      "2\n",
      "3\n",
      "abc\n",
      "False\n"
     ]
    }
   ],
   "metadata": {
    "dotnet_interactive": {
     "language": "csharp"
    }
   }
  },
  {
   "cell_type": "code",
   "execution_count": null,
   "source": [
    "dicionario = {1:'a',2:'b',3:'c','abc': 100, False:(2 + 3j)}\n",
    "# retorna as valores do dicionario\n",
    "for elem in dicionario.values():\n",
    "    print(elem)"
   ],
   "outputs": [
    {
     "output_type": "stream",
     "name": "stdout",
     "text": [
      "a\n",
      "b\n",
      "c\n",
      "100\n",
      "(2+3j)\n"
     ]
    }
   ],
   "metadata": {
    "dotnet_interactive": {
     "language": "csharp"
    }
   }
  },
  {
   "cell_type": "code",
   "execution_count": null,
   "source": [
    "dicionario = {1:'a',2:'b',3:'c','abc': 100, False:(2 + 3j)}\n",
    "# retorna as valores e as chaves do dicionario\n",
    "for elem in dicionario.items():\n",
    "    print(elem)"
   ],
   "outputs": [
    {
     "output_type": "stream",
     "name": "stdout",
     "text": [
      "(1, 'a')\n",
      "(2, 'b')\n",
      "(3, 'c')\n",
      "('abc', 100)\n",
      "(False, (2+3j))\n"
     ]
    }
   ],
   "metadata": {
    "dotnet_interactive": {
     "language": "csharp"
    }
   }
  },
  {
   "cell_type": "code",
   "execution_count": null,
   "source": [
    "# atribuindo a variáveis\n",
    "dicionario = {1:'a',2:'b',3:'c','abc': 100, False:(2 + 3j)}\n",
    "for key, value in dicionario.items():\n",
    "    print(f'A chave é = {key}, e o valor dela é = {value}')"
   ],
   "outputs": [
    {
     "output_type": "stream",
     "name": "stdout",
     "text": [
      "A chave é = 1, e o valor dela é = a\n",
      "A chave é = 2, e o valor dela é = b\n",
      "A chave é = 3, e o valor dela é = c\n",
      "A chave é = abc, e o valor dela é = 100\n",
      "A chave é = False, e o valor dela é = (2+3j)\n"
     ]
    }
   ],
   "metadata": {
    "dotnet_interactive": {
     "language": "csharp"
    }
   }
  },
  {
   "cell_type": "code",
   "execution_count": null,
   "source": [
    "for string in 'Curso de Python':\n",
    "    #print(string)\n",
    "    print(string, end=\"\")"
   ],
   "outputs": [
    {
     "output_type": "stream",
     "name": "stdout",
     "text": [
      "Curso de Python"
     ]
    }
   ],
   "metadata": {
    "dotnet_interactive": {
     "language": "csharp"
    }
   }
  },
  {
   "cell_type": "code",
   "execution_count": null,
   "source": [
    "for elem in [1,2,3]:\n",
    "    print(elem)\n",
    "else:\n",
    "    print(4,'\\nFim do programa!!!')"
   ],
   "outputs": [
    {
     "output_type": "stream",
     "name": "stdout",
     "text": [
      "1\n",
      "2\n",
      "3\n",
      "4 \n",
      "Fim do programa!!!\n"
     ]
    }
   ],
   "metadata": {
    "dotnet_interactive": {
     "language": "csharp"
    }
   }
  },
  {
   "cell_type": "code",
   "execution_count": null,
   "source": [
    "for i in [1,2,3,4,5,6,7,8,9]:\n",
    "    print(i)"
   ],
   "outputs": [
    {
     "output_type": "stream",
     "name": "stdout",
     "text": [
      "1\n",
      "2\n",
      "3\n",
      "4\n",
      "5\n",
      "6\n",
      "7\n",
      "8\n",
      "9\n"
     ]
    }
   ],
   "metadata": {
    "dotnet_interactive": {
     "language": "csharp"
    }
   }
  },
  {
   "cell_type": "code",
   "execution_count": null,
   "source": [
    "j = 0\r\n",
    "for i in [1,2,3,4,5,6,7,8,9]:\r\n",
    "    j += 1\r\n",
    "    print(i)\r\n",
    "\r\n",
    "print(f'Foram feitas {j} interações no for')"
   ],
   "outputs": [],
   "metadata": {
    "dotnet_interactive": {
     "language": "csharp"
    }
   }
  },
  {
   "cell_type": "code",
   "execution_count": null,
   "source": [],
   "outputs": [
    {
     "output_type": "error",
     "ename": "Error",
     "evalue": "Error executing cell: Error: Unable to find appropriate .NET SDK.",
     "traceback": [
      "Error executing cell: Error: Unable to find appropriate .NET SDK."
     ]
    }
   ],
   "metadata": {
    "dotnet_interactive": {
     "language": "csharp"
    }
   }
  }
 ],
 "metadata": {
  "kernelspec": {
   "display_name": ".NET (C#)",
   "language": "C#",
   "name": ".net-csharp"
  },
  "language_info": {
   "file_extension": ".cs",
   "mimetype": "text/x-csharp",
   "name": "C#",
   "pygments_lexer": "csharp",
   "version": "9.0"
  }
 },
 "nbformat": 4,
 "nbformat_minor": 5
}